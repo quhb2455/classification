{
 "cells": [
  {
   "cell_type": "markdown",
   "id": "f48074dc",
   "metadata": {},
   "source": [
    "## 1단계\n",
    "- /data/train/aug 폴더 만들기\n",
    "\n",
    "\n",
    "## 2단계\n",
    "- /data/train/aug 폴더 아래에 class + state 조합 별로 aug할 데이터 폴더 만들기\n",
    "- aug에 사용할 이미지 리스트 만들기\n",
    "\n",
    "\n",
    "## 3단계\n",
    "- 만들어진 경로에 aug 진행\n",
    "\n",
    "\n",
    "## 4단계\n",
    "- 생성된 이미지들을 train_df 에 추가하기\n",
    "- 이미지 읽는 것을 쉽게 하기 위해서 경로까지 file_name에 포함\n",
    "\n",
    "\n",
    "## 기준\n",
    "- 'good'을 제외한 모든 class에 대해서 aug 진행\n",
    "- 각 class에 대하여 최대 5배까지 aug 진행\n",
    "- flip, rotation, mixup 쓰면 좋을 듯\n",
    "    - mixup은 cv2에서 제공하는 cv2.addWeighted 쓰면됨\n",
    "    - mixup은 alpha 값과 beta값은 label 마다 다른 값 할당\n",
    "    - mixup은 'good' + @ 로 진행\n",
    "- https://pyy0715.github.io/Albumentation/ 참고하여 custom aug 만들어보기\n",
    "\n",
    "\n",
    "## 데이터 버전 관리\n",
    "- v1\n",
    "    - aug + mix\n",
    "- v2\n",
    "    - aug + mix 데이터 개수 증가\n",
    "    - 'good' state 추가\n",
    "- v3 \n",
    "    - mixup만 적용한 aug => 성능 안좋음\n",
    "- v4\n",
    "    - v2 에서 갯수를 더 증가시킴\n",
    "    - aug_times = 20, good_img_aug_times=2, mixup_times=10\n",
    "- v5\n",
    "    - v4 에서 aug갯수만 더 증가시킴\n",
    "    - aug_times = 35, good_img_aug_times=2, mixup_times=10\n",
    "- v6\n",
    "    - v5에서 다른 aug도 적용함\n",
    "        - Cutout, CoarseDropout 추가\n",
    "    - mixup 빼고 적용해보기 => training때 적용함 => mixup 학습 경과보고 결정하기\n",
    "        - 학습 중 mixup 성능 지림, 그래도 일단 모르니 mixup_times=10으로 진행\n",
    "    - A.OneOf([A.Affine(mode=1), A.GridDistortion()], p=1) => 를 A.OneOf 적용 X\n",
    "    - aug_times = 45, good_img_aug_times=2, mixup_times=10\n",
    "    - => 성능 안좋음, 새로 추가한 aug 때문인듯"
   ]
  },
  {
   "cell_type": "code",
   "execution_count": 2,
   "id": "49fa09d3",
   "metadata": {},
   "outputs": [],
   "source": [
    "import cv2\n",
    "import os\n",
    "import albumentations as A\n",
    "import numpy as np\n",
    "import pandas as pd\n",
    "import matplotlib.pyplot as plt\n",
    "import random\n",
    "from tqdm import tqdm\n",
    "from easydict import EasyDict\n",
    "from glob import glob"
   ]
  },
  {
   "cell_type": "markdown",
   "id": "09e15a7b",
   "metadata": {},
   "source": [
    "### 1단계"
   ]
  },
  {
   "cell_type": "code",
   "execution_count": 3,
   "id": "41c392bb",
   "metadata": {},
   "outputs": [],
   "source": [
    "root_path = '../data/train'\n",
    "train_df_path = '../data/train_df.csv'\n",
    "\n",
    "aug_df_path = '../data/aug_v6_train_df.csv'\n",
    "aug_img_path = os.path.join(root_path, 'aug_v6')\n",
    "\n",
    "os.makedirs(aug_img_path, exist_ok=True)\n",
    "\n",
    "use_good = True\n",
    "only_mixup = False\n",
    "\n",
    "aug_times = 45\n",
    "good_img_aug_times = 2\n",
    "mixup_times = 10\n",
    "\n",
    "train_df = pd.read_csv(train_df_path)"
   ]
  },
  {
   "cell_type": "markdown",
   "id": "b4f500f0",
   "metadata": {},
   "source": [
    "### 2단계"
   ]
  },
  {
   "cell_type": "code",
   "execution_count": 4,
   "id": "14d9f967",
   "metadata": {},
   "outputs": [],
   "source": [
    "label_list = list(train_df['class'].unique())\n",
    "state_list = [list(train_df['state'][train_df['class']==label].unique()) for label in label_list]\n",
    "\n",
    "good_imgs = {}\n",
    "label_comb_img = {}\n",
    "for idx, label in enumerate(label_list) :\n",
    "    label_comb_img[label] = {}\n",
    "    for state in state_list[idx] :            \n",
    "        \n",
    "        # good 을 제외한 나머지에 대해서 진행\n",
    "        if not use_good :\n",
    "\n",
    "            if state != \"good\" :\n",
    "                # label 별 folder 생성\n",
    "                folder_name = os.path.join(aug_img_path, label+\"-\"+state)\n",
    "                os.makedirs(folder_name, exist_ok=True)\n",
    "\n",
    "                # label별 image list 가져오기\n",
    "                label_comb_img[label][state] = list(train_df['file_name'][train_df['class']==label][train_df['state']==state])\n",
    "            else : \n",
    "                # label 별 good img들을 가져옴\n",
    "                good_imgs[label] = list(train_df['file_name'][train_df['class']==label][train_df['state']==state])\n",
    "        \n",
    "        else :\n",
    "            # label 별 folder 생성\n",
    "            folder_name = os.path.join(aug_img_path, label+\"-\"+state)\n",
    "            os.makedirs(folder_name, exist_ok=True)\n",
    "\n",
    "            # label별 image list 가져오기\n",
    "            label_comb_img[label][state] = list(train_df['file_name'][train_df['class']==label][train_df['state']==state])\n",
    "            \n",
    "            # label 별 good img들을 가져옴\n",
    "            if state == \"good\" :\n",
    "                good_imgs[label] = list(train_df['file_name'][train_df['class']==label][train_df['state']==state])"
   ]
  },
  {
   "cell_type": "markdown",
   "id": "137157d7",
   "metadata": {},
   "source": [
    "### 3단계"
   ]
  },
  {
   "cell_type": "code",
   "execution_count": 4,
   "id": "e14e5a1f",
   "metadata": {},
   "outputs": [
    {
     "name": "stderr",
     "output_type": "stream",
     "text": [
      "C:\\Users\\sub\\.conda\\envs\\torch-1.11\\lib\\site-packages\\albumentations\\augmentations\\transforms.py:689: FutureWarning: This class has been deprecated. Please use CoarseDropout\n",
      "  warnings.warn(\n",
      "  0%|                                                                                           | 0/15 [00:00<?, ?it/s]"
     ]
    },
    {
     "name": "stdout",
     "output_type": "stream",
     "text": [
      "Processing : transistor-good\n",
      "Processing : transistor-bent_lead\n",
      "Processing : transistor-damaged_case\n",
      "Processing : transistor-misplaced\n",
      "Processing : transistor-cut_lead\n"
     ]
    },
    {
     "name": "stderr",
     "output_type": "stream",
     "text": [
      "\r",
      "  7%|█████▌                                                                             | 1/15 [01:11<16:34, 71.06s/it]"
     ]
    },
    {
     "name": "stdout",
     "output_type": "stream",
     "text": [
      "Processing : capsule-good\n",
      "Processing : capsule-squeeze\n",
      "Processing : capsule-crack\n",
      "Processing : capsule-poke\n",
      "Processing : capsule-faulty_imprint\n",
      "Processing : capsule-scratch\n"
     ]
    },
    {
     "name": "stderr",
     "output_type": "stream",
     "text": [
      "\r",
      " 13%|██████████▉                                                                       | 2/15 [03:36<24:52, 114.78s/it]"
     ]
    },
    {
     "name": "stdout",
     "output_type": "stream",
     "text": [
      "Processing : wood-good\n",
      "Processing : wood-combined\n",
      "Processing : wood-scratch\n",
      "Processing : wood-color\n",
      "Processing : wood-hole\n",
      "Processing : wood-liquid\n"
     ]
    },
    {
     "name": "stderr",
     "output_type": "stream",
     "text": [
      "\r",
      " 20%|████████████████▍                                                                 | 3/15 [05:15<21:29, 107.42s/it]"
     ]
    },
    {
     "name": "stdout",
     "output_type": "stream",
     "text": [
      "Processing : bottle-good\n",
      "Processing : bottle-contamination\n",
      "Processing : bottle-broken_large\n",
      "Processing : bottle-broken_small\n"
     ]
    },
    {
     "name": "stderr",
     "output_type": "stream",
     "text": [
      "\r",
      " 27%|██████████████████████▏                                                            | 4/15 [06:18<16:28, 89.87s/it]"
     ]
    },
    {
     "name": "stdout",
     "output_type": "stream",
     "text": [
      "Processing : screw-good\n",
      "Processing : screw-thread_side\n",
      "Processing : screw-manipulated_front\n",
      "Processing : screw-thread_top\n",
      "Processing : screw-scratch_neck\n",
      "Processing : screw-scratch_head\n"
     ]
    },
    {
     "name": "stderr",
     "output_type": "stream",
     "text": [
      "\r",
      " 33%|███████████████████████████▎                                                      | 5/15 [08:35<17:51, 107.16s/it]"
     ]
    },
    {
     "name": "stdout",
     "output_type": "stream",
     "text": [
      "Processing : cable-bent_wire\n",
      "Processing : cable-good\n",
      "Processing : cable-missing_cable\n",
      "Processing : cable-cut_outer_insulation\n",
      "Processing : cable-cut_inner_insulation\n",
      "Processing : cable-missing_wire\n",
      "Processing : cable-combined\n",
      "Processing : cable-cable_swap\n",
      "Processing : cable-poke_insulation\n"
     ]
    },
    {
     "name": "stderr",
     "output_type": "stream",
     "text": [
      "\r",
      " 40%|████████████████████████████████▊                                                 | 6/15 [10:53<17:38, 117.66s/it]"
     ]
    },
    {
     "name": "stdout",
     "output_type": "stream",
     "text": [
      "Processing : carpet-hole\n",
      "Processing : carpet-good\n",
      "Processing : carpet-metal_contamination\n",
      "Processing : carpet-thread\n",
      "Processing : carpet-color\n",
      "Processing : carpet-cut\n"
     ]
    },
    {
     "name": "stderr",
     "output_type": "stream",
     "text": [
      "\r",
      " 47%|██████████████████████████████████████▎                                           | 7/15 [13:19<16:54, 126.87s/it]"
     ]
    },
    {
     "name": "stdout",
     "output_type": "stream",
     "text": [
      "Processing : hazelnut-good\n",
      "Processing : hazelnut-crack\n",
      "Processing : hazelnut-cut\n",
      "Processing : hazelnut-hole\n",
      "Processing : hazelnut-print\n"
     ]
    },
    {
     "name": "stderr",
     "output_type": "stream",
     "text": [
      "\r",
      " 53%|███████████████████████████████████████████▋                                      | 8/15 [15:22<14:39, 125.60s/it]"
     ]
    },
    {
     "name": "stdout",
     "output_type": "stream",
     "text": [
      "Processing : pill-pill_type\n",
      "Processing : pill-good\n",
      "Processing : pill-scratch\n",
      "Processing : pill-crack\n",
      "Processing : pill-color\n",
      "Processing : pill-contamination\n",
      "Processing : pill-faulty_imprint\n",
      "Processing : pill-combined\n"
     ]
    },
    {
     "name": "stderr",
     "output_type": "stream",
     "text": [
      "\r",
      " 60%|█████████████████████████████████████████████████▏                                | 9/15 [17:30<12:38, 126.34s/it]"
     ]
    },
    {
     "name": "stdout",
     "output_type": "stream",
     "text": [
      "Processing : metal_nut-scratch\n",
      "Processing : metal_nut-good\n",
      "Processing : metal_nut-flip\n",
      "Processing : metal_nut-color\n",
      "Processing : metal_nut-bent\n"
     ]
    },
    {
     "name": "stderr",
     "output_type": "stream",
     "text": [
      "\r",
      " 67%|██████████████████████████████████████████████████████                           | 10/15 [18:42<09:07, 109.44s/it]"
     ]
    },
    {
     "name": "stdout",
     "output_type": "stream",
     "text": [
      "Processing : zipper-fabric_border\n",
      "Processing : zipper-good\n",
      "Processing : zipper-split_teeth\n",
      "Processing : zipper-rough\n",
      "Processing : zipper-fabric_interior\n",
      "Processing : zipper-squeezed_teeth\n",
      "Processing : zipper-combined\n",
      "Processing : zipper-broken_teeth\n"
     ]
    },
    {
     "name": "stderr",
     "output_type": "stream",
     "text": [
      "\r",
      " 73%|███████████████████████████████████████████████████████████▍                     | 11/15 [20:51<07:41, 115.39s/it]"
     ]
    },
    {
     "name": "stdout",
     "output_type": "stream",
     "text": [
      "Processing : leather-good\n",
      "Processing : leather-fold\n",
      "Processing : leather-cut\n",
      "Processing : leather-glue\n",
      "Processing : leather-poke\n",
      "Processing : leather-color\n"
     ]
    },
    {
     "name": "stderr",
     "output_type": "stream",
     "text": [
      "\r",
      " 80%|████████████████████████████████████████████████████████████████▊                | 12/15 [23:11<06:09, 123.07s/it]"
     ]
    },
    {
     "name": "stdout",
     "output_type": "stream",
     "text": [
      "Processing : toothbrush-good\n",
      "Processing : toothbrush-defective\n"
     ]
    },
    {
     "name": "stderr",
     "output_type": "stream",
     "text": [
      "\r",
      " 87%|███████████████████████████████████████████████████████████████████████           | 13/15 [23:52<03:16, 98.26s/it]"
     ]
    },
    {
     "name": "stdout",
     "output_type": "stream",
     "text": [
      "Processing : tile-good\n",
      "Processing : tile-glue_strip\n",
      "Processing : tile-gray_stroke\n",
      "Processing : tile-oil\n",
      "Processing : tile-crack\n",
      "Processing : tile-rough\n"
     ]
    },
    {
     "name": "stderr",
     "output_type": "stream",
     "text": [
      "\r",
      " 93%|████████████████████████████████████████████████████████████████████████████▌     | 14/15 [25:22<01:35, 95.67s/it]"
     ]
    },
    {
     "name": "stdout",
     "output_type": "stream",
     "text": [
      "Processing : grid-good\n",
      "Processing : grid-broken\n",
      "Processing : grid-glue\n",
      "Processing : grid-bent\n",
      "Processing : grid-thread\n",
      "Processing : grid-metal_contamination\n"
     ]
    },
    {
     "name": "stderr",
     "output_type": "stream",
     "text": [
      "100%|█████████████████████████████████████████████████████████████████████████████████| 15/15 [26:43<00:00, 106.88s/it]\n"
     ]
    }
   ],
   "source": [
    "aug_transforms = A.Compose([\n",
    "    A.OneOf([\n",
    "        A.Rotate(),\n",
    "        A.HorizontalFlip(),\n",
    "        A.VerticalFlip()\n",
    "    ], p=1),\n",
    "    \n",
    "#     A.OneOf([\n",
    "    A.Affine(mode=1, p=0.7),\n",
    "    A.GridDistortion(p=0.7),\n",
    "#     ], p=1)\n",
    "    \n",
    "    A.OneOf([\n",
    "        A.Cutout(num_holes=150, max_h_size=20, max_w_size=20),\n",
    "        A.CoarseDropout(max_holes=160, min_holes=140, \n",
    "                    max_height=30, max_width=30,\n",
    "                   min_height=15, min_width=15)\n",
    "    ], p=1)\n",
    "    \n",
    "])\n",
    "\n",
    "mixup_opt = {\n",
    "    \"bottle\":{\n",
    "        \"alpha\" : 0.6,\n",
    "        \"beta\" : 0.4,\n",
    "        },\n",
    "    \"cable\":{\n",
    "        \"alpha\" : 0.2,\n",
    "        \"beta\" : 0.8,\n",
    "        },\n",
    "    \"capsule\":{\n",
    "        \"alpha\" : 0.4,\n",
    "        \"beta\" : 0.6,\n",
    "        },\n",
    "    \"carpet\":{\n",
    "        \"alpha\" : 0.3,\n",
    "        \"beta\" : 0.7,\n",
    "        },\n",
    "    \"grid\":{\n",
    "        \"alpha\" : 0.3,\n",
    "        \"beta\" : 0.7,\n",
    "        },\n",
    "    \"hazelnut\":{\n",
    "        \"alpha\" : 0.7,\n",
    "        \"beta\" : 0.3,\n",
    "        },\n",
    "    \"leather\":{\n",
    "        \"alpha\" : 0.6,\n",
    "        \"beta\" : 0.4,\n",
    "        },\n",
    "    \"metal_nut\":{\n",
    "        \"alpha\" : 0.2,\n",
    "        \"beta\" : 0.8,\n",
    "        },\n",
    "    \"pill\":{\n",
    "        \"alpha\" : 0.2,\n",
    "        \"beta\" : 0.8,\n",
    "        },\n",
    "    \"screw\":{\n",
    "        \"alpha\" : 0.4,\n",
    "        \"beta\" : 0.6,\n",
    "        },\n",
    "    \"tile\":{\n",
    "        \"alpha\" : 0.5,\n",
    "        \"beta\" : 0.5,\n",
    "        },\n",
    "    \"toothbrush\":{\n",
    "        \"alpha\" : 0.3,\n",
    "        \"beta\" : 0.7,\n",
    "        },\n",
    "    \"wood\" : {\n",
    "        \"alpha\" : 0.6,\n",
    "        \"beta\" : 0.4,\n",
    "        },\n",
    "    \"transistor\":{\n",
    "        \"alpha\" : 0.3,\n",
    "        \"beta\" : 0.7,\n",
    "        },\n",
    "    \"zipper\":{\n",
    "        \"alpha\" : 0.3,\n",
    "        \"beta\" : 0.7,\n",
    "        }\n",
    "}\n",
    "    \n",
    "\n",
    "def mixup(ori_img, img, opt) :\n",
    "    \n",
    "    if only_mixup :\n",
    "        if opt[\"alpha\"] > opt[\"beta\"] :\n",
    "            alpha = np.random.uniform(low=opt[\"alpha\"] - 0.05, high=opt[\"alpha\"] + 0.15)\n",
    "            beta = 1 - opt[\"alpha\"]\n",
    "            \n",
    "        elif opt[\"alpha\"] <= opt[\"beta\"] :\n",
    "            beta = np.random.uniform(low=opt[\"beta\"] - 0.05, high=opt[\"beta\"] + 0.15)\n",
    "            alpha = 1 - opt[\"beta\"]\n",
    "    \n",
    "    return cv2.addWeighted(ori_img, opt[\"alpha\"], img, opt[\"beta\"], 1)\n",
    "\n",
    "\n",
    "for label, state_img in tqdm(label_comb_img.items()) :\n",
    "    for state, img_list in state_img.items() :\n",
    "        cnt = len(img_list)\n",
    "        print(\"Processing : \" + label + \"-\" + state)\n",
    "        \n",
    "        for img_name in img_list :\n",
    "            img_path = os.path.join(root_path, img_name)\n",
    "            img = cv2.imread(img_path)\n",
    "            \n",
    "            if use_good and state == \"good\" :\n",
    "                for cnt in range(good_img_aug_times) :\n",
    "                    img_aug = aug_transforms(image=img)['image']\n",
    "                    cv2.imwrite(os.path.join(aug_img_path, label+\"-\"+state, \"aug_\"+str(cnt)+\"_\"+img_name), img_aug)\n",
    "                continue\n",
    "            \n",
    "            if not only_mixup :\n",
    "                for cnt in range(aug_times) :\n",
    "                    # Spatial augmentation\n",
    "                    img_aug = aug_transforms(image=img)['image']\n",
    "                    cv2.imwrite(os.path.join(aug_img_path, label+\"-\"+state, \"aug_\"+str(cnt)+\"_\"+img_name), img_aug)\n",
    "                \n",
    "                for cnt in range(mixup_times) :\n",
    "                    ori_img = cv2.imread(os.path.join(root_path, random.choice(good_imgs[label])))\n",
    "\n",
    "                    # Mixup\n",
    "                    img_mixup = mixup(ori_img, img, mixup_opt[label])\n",
    "                    cv2.imwrite(os.path.join(aug_img_path, label+\"-\"+state, \"mixup_\"+str(cnt)+\"_\"+img_name), img_mixup)\n",
    "            \n",
    "            if only_mixup :\n",
    "                for cnt in range(mixup_times) :\n",
    "                    ori_img = cv2.imread(os.path.join(root_path, random.choice(good_imgs[label])))\n",
    "\n",
    "                    # Mixup\n",
    "                    img_mixup = mixup(ori_img, img, mixup_opt[label])\n",
    "                    cv2.imwrite(os.path.join(aug_img_path, label+\"-\"+state, \"mixup_\"+str(cnt)+\"_\"+img_name), img_mixup)"
   ]
  },
  {
   "cell_type": "markdown",
   "id": "6e95c7bb",
   "metadata": {},
   "source": [
    "### 4단계"
   ]
  },
  {
   "cell_type": "code",
   "execution_count": 5,
   "id": "48cdec2a",
   "metadata": {},
   "outputs": [],
   "source": [
    "train_df = pd.read_csv(train_df_path)\n",
    "\n",
    "train_df['file_name'] = list(map(lambda y :os.path.join(root_path, y), train_df['file_name']))\n",
    "\n",
    "aug_labels = glob(os.path.join(aug_img_path, \"*\"))\n",
    "for aug_path in aug_labels :\n",
    "    label = aug_path.split(\"\\\\\")[-1]\n",
    "    class_name = label.split(\"-\")[0]\n",
    "    state = label.split(\"-\")[-1]\n",
    "        \n",
    "    file_list = glob(os.path.join(aug_path,\"*\"))\n",
    "#     file_list = list(map(lambda y :os.path.join(aug_path, y), os.listdir(aug_path)))\n",
    "    label_list = [label] * len(file_list)\n",
    "    class_list = [class_name] * len(file_list)\n",
    "    state_list = [state] * len(file_list)\n",
    "    \n",
    "    aug_df = pd.DataFrame({'index' : [i + len(train_df) for i in range(len(file_list))],\n",
    "                           'file_name' : file_list,\n",
    "                           'class' : class_list,\n",
    "                           'state' : state_list,\n",
    "                           'label' : label_list\n",
    "                          })\n",
    "    train_df = pd.concat([train_df, aug_df])\n",
    "    \n",
    "train_df = train_df.reset_index(drop=True)\n",
    "train_df.to_csv(aug_df_path, mode='w')"
   ]
  },
  {
   "cell_type": "code",
   "execution_count": null,
   "id": "c5563390",
   "metadata": {},
   "outputs": [],
   "source": []
  }
 ],
 "metadata": {
  "kernelspec": {
   "display_name": "Python 3 (ipykernel)",
   "language": "python",
   "name": "python3"
  },
  "language_info": {
   "codemirror_mode": {
    "name": "ipython",
    "version": 3
   },
   "file_extension": ".py",
   "mimetype": "text/x-python",
   "name": "python",
   "nbconvert_exporter": "python",
   "pygments_lexer": "ipython3",
   "version": "3.8.13"
  }
 },
 "nbformat": 4,
 "nbformat_minor": 5
}

{
 "cells": [
  {
   "cell_type": "code",
   "execution_count": 1,
   "id": "dffd3a77",
   "metadata": {},
   "outputs": [],
   "source": [
    "import numpy as np\n",
    "import pandas as pd\n",
    "import matplotlib.pyplot as plt\n",
    "import cv2\n",
    "\n",
    "from tqdm import tqdm\n",
    "from glob import glob\n",
    "import os\n",
    "import json \n",
    "import timm\n",
    "import torch\n",
    "from torch import nn\n",
    "from torchvision import models\n",
    "from torch.utils.data import Dataset, DataLoader\n",
    "from sklearn.metrics import f1_score\n",
    "from sklearn.model_selection import train_test_split, StratifiedKFold\n",
    "import albumentations as A"
   ]
  },
  {
   "cell_type": "code",
   "execution_count": 2,
   "id": "ee34a5f0",
   "metadata": {},
   "outputs": [
    {
     "data": {
      "text/plain": [
       "{'Apple___Apple_scab': 0,\n",
       " 'Apple___Black_rot': 1,\n",
       " 'Apple___Cedar_apple_rust': 2,\n",
       " 'Apple___healthy': 3,\n",
       " 'Blueberry___healthy': 4,\n",
       " 'Cherry_(including_sour)___healthy': 5,\n",
       " 'Cherry_(including_sour)___Powdery_mildew': 6,\n",
       " 'Corn_(maize)___Cercospora_leaf_spot Gray_leaf_spot': 7,\n",
       " 'Corn_(maize)___Common_rust_': 8,\n",
       " 'Corn_(maize)___healthy': 9,\n",
       " 'Corn_(maize)___Northern_Leaf_Blight': 10,\n",
       " 'Grape___Black_rot': 11,\n",
       " 'Grape___Esca_(Black_Measles)': 12,\n",
       " 'Grape___healthy': 13,\n",
       " 'Grape___Leaf_blight_(Isariopsis_Leaf_Spot)': 14,\n",
       " 'Orange___Haunglongbing_(Citrus_greening)': 15,\n",
       " 'Peach___Bacterial_spot': 16,\n",
       " 'Peach___healthy': 17,\n",
       " 'Pepper,_bell___Bacterial_spot': 18,\n",
       " 'Pepper,_bell___healthy': 19,\n",
       " 'Potato___Early_blight': 20,\n",
       " 'Potato___healthy': 21,\n",
       " 'Potato___Late_blight': 22,\n",
       " 'Raspberry___healthy': 23,\n",
       " 'Soybean___healthy': 24,\n",
       " 'Squash___Powdery_mildew': 25,\n",
       " 'Strawberry___healthy': 26,\n",
       " 'Strawberry___Leaf_scorch': 27,\n",
       " 'Tomato___Bacterial_spot': 28,\n",
       " 'Tomato___Early_blight': 29,\n",
       " 'Tomato___healthy': 30,\n",
       " 'Tomato___Late_blight': 31,\n",
       " 'Tomato___Leaf_Mold': 32,\n",
       " 'Tomato___Septoria_leaf_spot': 33,\n",
       " 'Tomato___Spider_mites Two-spotted_spider_mite': 34,\n",
       " 'Tomato___Target_Spot': 35,\n",
       " 'Tomato___Tomato_mosaic_virus': 36,\n",
       " 'Tomato___Tomato_Yellow_Leaf_Curl_Virus': 37}"
      ]
     },
     "metadata": {},
     "output_type": "display_data"
    },
    {
     "data": {
      "text/plain": [
       "{0: 'Apple___Apple_scab',\n",
       " 1: 'Apple___Black_rot',\n",
       " 2: 'Apple___Cedar_apple_rust',\n",
       " 3: 'Apple___healthy',\n",
       " 4: 'Blueberry___healthy',\n",
       " 5: 'Cherry_(including_sour)___healthy',\n",
       " 6: 'Cherry_(including_sour)___Powdery_mildew',\n",
       " 7: 'Corn_(maize)___Cercospora_leaf_spot Gray_leaf_spot',\n",
       " 8: 'Corn_(maize)___Common_rust_',\n",
       " 9: 'Corn_(maize)___healthy',\n",
       " 10: 'Corn_(maize)___Northern_Leaf_Blight',\n",
       " 11: 'Grape___Black_rot',\n",
       " 12: 'Grape___Esca_(Black_Measles)',\n",
       " 13: 'Grape___healthy',\n",
       " 14: 'Grape___Leaf_blight_(Isariopsis_Leaf_Spot)',\n",
       " 15: 'Orange___Haunglongbing_(Citrus_greening)',\n",
       " 16: 'Peach___Bacterial_spot',\n",
       " 17: 'Peach___healthy',\n",
       " 18: 'Pepper,_bell___Bacterial_spot',\n",
       " 19: 'Pepper,_bell___healthy',\n",
       " 20: 'Potato___Early_blight',\n",
       " 21: 'Potato___healthy',\n",
       " 22: 'Potato___Late_blight',\n",
       " 23: 'Raspberry___healthy',\n",
       " 24: 'Soybean___healthy',\n",
       " 25: 'Squash___Powdery_mildew',\n",
       " 26: 'Strawberry___healthy',\n",
       " 27: 'Strawberry___Leaf_scorch',\n",
       " 28: 'Tomato___Bacterial_spot',\n",
       " 29: 'Tomato___Early_blight',\n",
       " 30: 'Tomato___healthy',\n",
       " 31: 'Tomato___Late_blight',\n",
       " 32: 'Tomato___Leaf_Mold',\n",
       " 33: 'Tomato___Septoria_leaf_spot',\n",
       " 34: 'Tomato___Spider_mites Two-spotted_spider_mite',\n",
       " 35: 'Tomato___Target_Spot',\n",
       " 36: 'Tomato___Tomato_mosaic_virus',\n",
       " 37: 'Tomato___Tomato_Yellow_Leaf_Curl_Virus'}"
      ]
     },
     "metadata": {},
     "output_type": "display_data"
    }
   ],
   "source": [
    "village_data = os.listdir('./data/public/PlantVillage')\n",
    "label_encoder = {}\n",
    "for idx, data_name in enumerate(village_data) :\n",
    "    label_encoder[idx] = data_name\n",
    "\n",
    "label_decoder = {val:key for key, val in label_encoder.items()}\n",
    "display(label_decoder)\n",
    "display(label_encoder)"
   ]
  },
  {
   "cell_type": "markdown",
   "id": "265e3bf8",
   "metadata": {},
   "source": [
    "# Meas std 계산 => 성능하락\n",
    "=================\n",
    "#### 20k\n",
    "- mean : tensor([0.5528, 0.5525, 0.5522])\n",
    "- std : tensor([0.1163, 0.1164, 0.1171])\n",
    "\n",
    "=================\n",
    "#### 50k\n",
    "- mean : tensor([0.5577, 0.5577, 0.5576])\n",
    "- std : tensor([0.1586, 0.1584, 0.1586])"
   ]
  },
  {
   "cell_type": "code",
   "execution_count": 3,
   "id": "09bb8ed3",
   "metadata": {},
   "outputs": [],
   "source": [
    "# class SamplingDataset(Dataset) :\n",
    "#     def __init__(self, files) :\n",
    "#         super(SamplingDataset, self).__init__()\n",
    "#         self.files = files\n",
    "        \n",
    "#     def __len__(self) :\n",
    "#         return len(self.files)\n",
    "    \n",
    "#     def __getitem__(self, idx) :\n",
    "#         file_path = self.files[idx]\n",
    "\n",
    "#         img = cv2.imread(file_path)\n",
    "#         img = cv2.cvtColor(img, cv2.COLOR_BGR2RGB)\n",
    "\n",
    "        \n",
    "#         return torch.tensor(img, dtype=torch.float), torch.tensor(img, dtype=torch.float)"
   ]
  },
  {
   "cell_type": "code",
   "execution_count": 4,
   "id": "1b464ce0",
   "metadata": {},
   "outputs": [],
   "source": [
    "# class Mean_Std() :\n",
    "#     def __init__ (self, dataloader, img_output_pos=0) :\n",
    "#         self.mean, self.std = self.get_val(dataloader, pos=img_output_pos)\n",
    "        \n",
    "#     def get_val(self, dataloader, pos=0) :\n",
    "#         RGB_CHANNEL = 3\n",
    "#         img_mean = torch.zeros(3)\n",
    "#         img_std = torch.zeros(3)\n",
    "#         for output in tqdm(dataloader) :\n",
    "#             for i in range(RGB_CHANNEL):\n",
    "#                 if not pos is None :\n",
    "#                     img_mean[i] += output[pos][:, i, :, :].mean()\n",
    "#                     img_std[i] += output[pos][:, i, :, :].std()\n",
    "#                 else : \n",
    "#                     img_mean[i] += output[:, i, :, :].mean()\n",
    "#                     img_std[i] += output[:, i, :, :].std()\n",
    "# #         return img_mean.div(len(dataloader)), img_std.div(len(dataloader))\n",
    "#         return img_mean.div(len(dataloader)) /255.0, img_std.div(len(dataloader)) /255.0"
   ]
  },
  {
   "cell_type": "code",
   "execution_count": 5,
   "id": "ea8c44be",
   "metadata": {},
   "outputs": [],
   "source": [
    "# transforms = A.Compose([\n",
    "# #     A.Resize(224, 224),\n",
    "# #     A.RandomCrop(180, 180),\n",
    "# #     A.OneOf([\n",
    "# #         A.HorizontalFlip(p=1),\n",
    "# #         A.RandomRotate90(p=1),\n",
    "# #         A.VerticalFlip(p=1)\n",
    "# #     ],p=1),\n",
    "# ])\n",
    "\n",
    "# train = glob('./data/public/PlantVillage/*/*.JPG')\n",
    "# print(\"total : \", len(train))\n",
    "# label_list = [label_decoder[img_path.split('\\\\')[-2]] for img_path in train]\n",
    "\n",
    "# sample_dataset = SamplingDataset(train)\n",
    "# dataloader = DataLoader(sample_dataset, batch_size=32, shuffle=True)\n",
    "\n",
    "# M_S = Mean_Std(dataloader, 0)\n",
    "# MM = M_S.mean\n",
    "# SS = M_S.std\n",
    "\n",
    "# print(MM)\n",
    "# print(SS)"
   ]
  },
  {
   "cell_type": "code",
   "execution_count": 6,
   "id": "f49e88a2",
   "metadata": {},
   "outputs": [],
   "source": [
    "def rand_bbox(size, lam):\n",
    "    W = size[2]\n",
    "    H = size[3]\n",
    "    cut_rat = np.sqrt(1. - lam)\n",
    "    cut_w = np.int(W * cut_rat)\n",
    "    cut_h = np.int(H * cut_rat)\n",
    " \n",
    "    # uniform\n",
    "    cx = np.random.randint(W)\n",
    "    cy = np.random.randint(H)\n",
    "\n",
    "    bbx1 = np.clip(cx - cut_w // 2, 0, W)\n",
    "    bby1 = np.clip(cy - cut_h // 2, 0, H)\n",
    "    bbx2 = np.clip(cx + cut_w // 2, 0, W)\n",
    "    bby2 = np.clip(cy + cut_h // 2, 0, H)\n",
    "\n",
    "    return bbx1, bby1, bbx2, bby2"
   ]
  },
  {
   "cell_type": "code",
   "execution_count": 7,
   "id": "fb7ed91e",
   "metadata": {},
   "outputs": [],
   "source": [
    "import timm\n",
    "\n",
    "class DeiT(nn.Module):\n",
    "    def __init__(self, model_name, n_classes):\n",
    "        super(DeiT, self).__init__()\n",
    "        self.model = timm.create_model(model_name, num_classes=n_classes, pretrained=True)\n",
    "    \n",
    "    def forward(self, inputs):\n",
    "        output = self.model(inputs)\n",
    "        return output\n",
    "    \n",
    "class EffiV2S(nn.Module):\n",
    "    def __init__(self, model_name, n_classes):\n",
    "        super(EffiV2S, self).__init__()\n",
    "        self.model = timm.create_model(model_name, num_classes=n_classes, pretrained=True)\n",
    "    \n",
    "    def forward(self, inputs):\n",
    "        output = self.model(inputs)\n",
    "        return output"
   ]
  },
  {
   "cell_type": "code",
   "execution_count": 8,
   "id": "0c47fc1f",
   "metadata": {},
   "outputs": [],
   "source": [
    "def accuracy_function(real, pred):    \n",
    "    real = real.cpu()\n",
    "    pred = torch.argmax(pred, dim=1).cpu()\n",
    "    score = f1_score(real, pred, average='macro')\n",
    "    return score\n",
    "\n",
    "def train_step(batch_item, training):\n",
    "    img = batch_item[0].to(device)\n",
    "    label = batch_item[1].to(device)\n",
    "\n",
    "    lam = np.random.beta(1.0, 1.0)\n",
    "    \n",
    "    if training is True:\n",
    "        model.train()\n",
    "        optimizer.zero_grad()\n",
    "        with torch.cuda.amp.autocast():\n",
    "            # add - cutmix\n",
    "            rand_index = torch.randperm(img.size()[0])\n",
    "            target_a = label\n",
    "            target_b = label[rand_index]\n",
    "            bbx1, bby1, bbx2, bby2 = rand_bbox(img.size(), lam)\n",
    "            img[:, :, bbx1:bbx2, bby1:bby2] = img[rand_index, :, bbx1:bbx2, bby1:bby2]\n",
    "            lam = 1 - ((bbx2 - bbx1) * (bby2 - bby1) / (img.size()[-1] * img.size()[-2]))\n",
    "            \n",
    "            output = model(img)\n",
    "            loss = criterion(output, target_a) * lam + criterion(output, target_b) * (1. - lam)\n",
    "            \n",
    "#             output = model(img, csv_feature)\n",
    "#             loss = criterion(output, label)\n",
    "        loss.backward()\n",
    "        optimizer.step()\n",
    "        score = accuracy_function(label, output)\n",
    "        return loss, score\n",
    "    else:\n",
    "        model.eval()\n",
    "        with torch.no_grad():\n",
    "            output = model(img)\n",
    "            loss = criterion(output, label)\n",
    "        score = accuracy_function(label, output)\n",
    "        return loss, score"
   ]
  },
  {
   "cell_type": "code",
   "execution_count": 9,
   "id": "f049a972",
   "metadata": {},
   "outputs": [],
   "source": [
    "device = torch.device(\"cuda:0\")#(\"cpu\")\n",
    "batch_size = 16\n",
    "n_classes = 38\n",
    "model_name = 'efficientnetv2_rw_s'\n",
    "learning_rate = 1e-4\n",
    "epochs = 20\n",
    "save_path = './model/public_vill_50k_pretrain_efficientnetv2S.pt'"
   ]
  },
  {
   "cell_type": "code",
   "execution_count": 10,
   "id": "db389700",
   "metadata": {},
   "outputs": [],
   "source": [
    "class VillageDataset(Dataset) :\n",
    "    def __init__(self, files, transform, mode='train') :\n",
    "        super(VillageDataset, self).__init__()\n",
    "        self.files = files\n",
    "        self.transform = transform\n",
    "        self.mode = mode\n",
    "        \n",
    "    def __len__(self) :\n",
    "        return len(self.files)\n",
    "    \n",
    "    def __getitem__(self, idx) :\n",
    "        file_path = self.files[idx]\n",
    "        \n",
    "        label = label_decoder[file_path.split('\\\\')[-2]]\n",
    "        \n",
    "        img = cv2.imread(file_path)\n",
    "        img = cv2.cvtColor(img, cv2.COLOR_BGR2RGB)\n",
    "        img = self.transform(image=img)['image']\n",
    "        img = img.transpose(2, 0, 1)\n",
    "        \n",
    "#         return torch.tensor(img, dtype=torch.float32), torch.tensor(label, dtype=torch.long)\n",
    "        return torch.tensor(img, dtype=torch.float32) / 255.0, torch.tensor(label, dtype=torch.long)"
   ]
  },
  {
   "cell_type": "code",
   "execution_count": 11,
   "id": "b603f934",
   "metadata": {},
   "outputs": [
    {
     "name": "stdout",
     "output_type": "stream",
     "text": [
      "total :  54304\n",
      "train :  43443\n",
      "val :  10861\n"
     ]
    }
   ],
   "source": [
    "train_transforms = A.Compose([\n",
    "                A.Resize(288, 288),\n",
    "                A.OneOf([\n",
    "                    A.Rotate(),\n",
    "                    A.HorizontalFlip(),\n",
    "                    A.VerticalFlip()\n",
    "                ], p=1)\n",
    "            ])\n",
    "\n",
    "val_transforms = A.Compose([\n",
    "    A.Resize(288, 288)\n",
    "])\n",
    "\n",
    "train = glob('./data/public/PlantVillage/*/*.JPG')\n",
    "print(\"total : \", len(train))\n",
    "label_list = [label_decoder[img_path.split('\\\\')[-2]] for img_path in train]\n",
    "\n",
    "train, val = train_test_split(train, test_size=0.2, shuffle=True, stratify=label_list)\n",
    "print(\"train : \", len(train))\n",
    "print(\"val : \", len(val))\n",
    "\n",
    "train_dataset = VillageDataset(train, train_transforms)\n",
    "val_dataset = VillageDataset(val, val_transforms)\n",
    "\n",
    "train_loader = DataLoader(train_dataset, batch_size=batch_size, shuffle=True)\n",
    "val_loader = DataLoader(val_dataset, batch_size=batch_size, shuffle=False)"
   ]
  },
  {
   "cell_type": "code",
   "execution_count": 12,
   "id": "475a6ddd",
   "metadata": {},
   "outputs": [],
   "source": [
    "model = EffiV2S(model_name, n_classes)\n",
    "model = model.to(device)\n",
    "optimizer = torch.optim.Adam(model.parameters(), lr=learning_rate)\n",
    "criterion = nn.CrossEntropyLoss()"
   ]
  },
  {
   "cell_type": "code",
   "execution_count": 13,
   "id": "5235ac97",
   "metadata": {},
   "outputs": [
    {
     "name": "stderr",
     "output_type": "stream",
     "text": [
      "2716it [14:01,  3.23it/s, Epoch=1, Loss=0.530942, Mean Loss=1.183911, Mean F-1=0.621989]\n",
      "679it [01:29,  7.58it/s, Epoch=1, Val Loss=0.083525, Mean Val Loss=0.070497, Mean Val F-1=0.978425]\n",
      "2716it [14:05,  3.21it/s, Epoch=2, Loss=2.470865, Mean Loss=0.770495, Mean F-1=0.711967]\n",
      "679it [01:31,  7.44it/s, Epoch=2, Val Loss=0.044201, Mean Val Loss=0.030087, Mean Val F-1=0.988169]\n",
      "2716it [14:23,  3.14it/s, Epoch=3, Loss=1.895427, Mean Loss=0.687319, Mean F-1=0.730174]\n",
      "679it [01:40,  6.76it/s, Epoch=3, Val Loss=0.041594, Mean Val Loss=0.024179, Mean Val F-1=0.992870]\n",
      "2716it [15:10,  2.98it/s, Epoch=4, Loss=1.702116, Mean Loss=0.647484, Mean F-1=0.740465]\n",
      "679it [01:52,  6.05it/s, Epoch=4, Val Loss=0.007659, Mean Val Loss=0.013330, Mean Val F-1=0.995614]\n",
      "2716it [15:34,  2.91it/s, Epoch=5, Loss=1.274506, Mean Loss=0.618538, Mean F-1=0.754422]\n",
      "679it [02:04,  5.47it/s, Epoch=5, Val Loss=0.009502, Mean Val Loss=0.011915, Mean Val F-1=0.993357]\n"
     ]
    },
    {
     "name": "stdout",
     "output_type": "stream",
     "text": [
      "Early Stopping Step : [1 / 3]\n"
     ]
    },
    {
     "name": "stderr",
     "output_type": "stream",
     "text": [
      "2716it [16:20,  2.77it/s, Epoch=6, Loss=1.489624, Mean Loss=0.606256, Mean F-1=0.756928]\n",
      "679it [02:16,  4.98it/s, Epoch=6, Val Loss=0.021634, Mean Val Loss=0.015595, Mean Val F-1=0.992534]\n"
     ]
    },
    {
     "name": "stdout",
     "output_type": "stream",
     "text": [
      "Early Stopping Step : [2 / 3]\n"
     ]
    },
    {
     "name": "stderr",
     "output_type": "stream",
     "text": [
      "2716it [17:23,  2.60it/s, Epoch=7, Loss=0.984335, Mean Loss=0.596656, Mean F-1=0.743181]\n",
      "679it [02:33,  4.41it/s, Epoch=7, Val Loss=0.012324, Mean Val Loss=0.049594, Mean Val F-1=0.972365]"
     ]
    },
    {
     "name": "stdout",
     "output_type": "stream",
     "text": [
      "Early Stopping Step : [3 / 3]\n",
      "== Early Stop ==\n"
     ]
    },
    {
     "name": "stderr",
     "output_type": "stream",
     "text": [
      "\n"
     ]
    }
   ],
   "source": [
    "loss_plot, val_loss_plot = [], []\n",
    "metric_plot, val_metric_plot = [], []\n",
    "\n",
    "early_stopping = 0\n",
    "for epoch in range(epochs):\n",
    "    total_loss, total_val_loss = 0, 0\n",
    "    total_acc, total_val_acc = 0, 0\n",
    "\n",
    "    tqdm_dataset = tqdm(enumerate(train_loader))\n",
    "    training = True\n",
    "    for batch, batch_item in tqdm_dataset:\n",
    "        batch_loss, batch_acc = train_step(batch_item, training)\n",
    "        total_loss += batch_loss\n",
    "        total_acc += batch_acc\n",
    "\n",
    "        tqdm_dataset.set_postfix({\n",
    "            'Epoch': epoch + 1,\n",
    "            'Loss': '{:06f}'.format(batch_loss.item()),\n",
    "            'Mean Loss' : '{:06f}'.format(total_loss/(batch+1)),\n",
    "            'Mean F-1' : '{:06f}'.format(total_acc/(batch+1))\n",
    "        })\n",
    "    loss_plot.append(total_loss/(batch+1))\n",
    "    metric_plot.append(total_acc/(batch+1))\n",
    "\n",
    "    tqdm_dataset = tqdm(enumerate(val_loader))\n",
    "    training = False\n",
    "    for batch, batch_item in tqdm_dataset:\n",
    "        batch_loss, batch_acc = train_step(batch_item, training)\n",
    "        total_val_loss += batch_loss\n",
    "        total_val_acc += batch_acc\n",
    "\n",
    "        tqdm_dataset.set_postfix({\n",
    "            'Epoch': epoch + 1,\n",
    "            'Val Loss': '{:06f}'.format(batch_loss.item()),\n",
    "            'Mean Val Loss' : '{:06f}'.format(total_val_loss/(batch+1)),\n",
    "            'Mean Val F-1' : '{:06f}'.format(total_val_acc/(batch+1))\n",
    "        })\n",
    "    val_loss_plot.append(total_val_loss/(batch+1))\n",
    "    val_metric_plot.append(total_val_acc/(batch+1))\n",
    "    \n",
    "    if np.max(val_metric_plot) == val_metric_plot[-1]:\n",
    "        torch.save(model.state_dict(), f'{save_path}')\n",
    "        early_stopping = 0\n",
    "    \n",
    "    elif np.max(val_metric_plot) > val_metric_plot[-1]: \n",
    "        early_stopping += 1\n",
    "        print(f\"Early Stopping Step : [{early_stopping} / 3]\")\n",
    "    \n",
    "    if early_stopping == 3 :\n",
    "        print(\"== Early Stop ==\")\n",
    "        break"
   ]
  },
  {
   "cell_type": "code",
   "execution_count": 14,
   "id": "d36ec51e",
   "metadata": {},
   "outputs": [
    {
     "data": {
      "image/png": "[encoded data removed]",
      "text/plain": [
       "<Figure size 720x504 with 1 Axes>"
      ]
     },
     "metadata": {
      "needs_background": "light"
     },
     "output_type": "display_data"
    }
   ],
   "source": [
    "plt.figure(figsize=(10,7))\n",
    "plt.grid()\n",
    "plt.plot(loss_plot, label='train_loss')\n",
    "plt.plot(val_loss_plot, label='val_loss')\n",
    "plt.xlabel('epoch')\n",
    "plt.ylabel('loss')\n",
    "plt.title('loss', fontsize=25)\n",
    "plt.legend()\n",
    "plt.show()"
   ]
  },
  {
   "cell_type": "code",
   "execution_count": 15,
   "id": "201a2c78",
   "metadata": {},
   "outputs": [
    {
     "data": {
      "image/png": "[encoded data removed]",
      "text/plain": [
       "<Figure size 720x504 with 1 Axes>"
      ]
     },
     "metadata": {
      "needs_background": "light"
     },
     "output_type": "display_data"
    }
   ],
   "source": [
    "plt.figure(figsize=(10, 7))\n",
    "plt.grid()\n",
    "plt.plot(metric_plot, label='train_metric')\n",
    "plt.plot(val_metric_plot, label='val_metric')\n",
    "plt.xlabel('epoch')\n",
    "plt.ylabel('metric')\n",
    "plt.title(\"F-1\", fontsize=25)\n",
    "plt.legend()\n",
    "plt.show()"
   ]
  },
  {
   "cell_type": "code",
   "execution_count": null,
   "id": "2422ceed",
   "metadata": {},
   "outputs": [],
   "source": []
  }
 ],
 "metadata": {
  "kernelspec": {
   "display_name": "Python 3",
   "language": "python",
   "name": "python3"
  },
  "language_info": {
   "codemirror_mode": {
    "name": "ipython",
    "version": 3
   },
   "file_extension": ".py",
   "mimetype": "text/x-python",
   "name": "python",
   "nbconvert_exporter": "python",
   "pygments_lexer": "ipython3",
   "version": "3.6.13"
  }
 },
 "nbformat": 4,
 "nbformat_minor": 5
}

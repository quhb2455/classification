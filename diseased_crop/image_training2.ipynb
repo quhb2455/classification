{
 "cells": [
  {
   "cell_type": "code",
   "execution_count": 1,
   "id": "ccf3b76f",
   "metadata": {},
   "outputs": [],
   "source": [
    "import numpy as np\n",
    "import pandas as pd\n",
    "import matplotlib.pyplot as plt\n",
    "import cv2\n",
    "\n",
    "from tqdm import tqdm\n",
    "from glob import glob\n",
    "import os\n",
    "import json \n",
    "import timm\n",
    "import torch\n",
    "from torch import nn\n",
    "from torchvision import models\n",
    "from torch.utils.data import Dataset\n",
    "from torch.optim.lr_scheduler import CosineAnnealingLR\n",
    "from torch.optim import AdamW\n",
    "\n",
    "from sklearn.metrics import f1_score\n",
    "from sklearn.model_selection import train_test_split, StratifiedKFold\n",
    "import albumentations as A"
   ]
  },
  {
   "cell_type": "code",
   "execution_count": 2,
   "id": "9e92aaaa",
   "metadata": {},
   "outputs": [],
   "source": [
    "# 변수 설명 csv 파일 참조\n",
    "crop = {'1':'딸기','2':'토마토','3':'파프리카','4':'오이','5':'고추','6':'시설포도'}\n",
    "disease = {'1':{'a1':'딸기잿빛곰팡이병','a2':'딸기흰가루병','b1':'냉해피해','b6':'다량원소결핍 (N)','b7':'다량원소결핍 (P)','b8':'다량원소결핍 (K)'},\n",
    "           '2':{'a5':'토마토흰가루병','a6':'토마토잿빛곰팡이병','b2':'열과','b3':'칼슘결핍','b6':'다량원소결핍 (N)','b7':'다량원소결핍 (P)','b8':'다량원소결핍 (K)'},\n",
    "           '3':{'a9':'파프리카흰가루병','a10':'파프리카잘록병','b3':'칼슘결핍','b6':'다량원소결핍 (N)','b7':'다량원소결핍 (P)','b8':'다량원소결핍 (K)'},\n",
    "           '4':{'a3':'오이노균병','a4':'오이흰가루병','b1':'냉해피해','b6':'다량원소결핍 (N)','b7':'다량원소결핍 (P)','b8':'다량원소결핍 (K)'},\n",
    "           '5':{'a7':'고추탄저병','a8':'고추흰가루병','b3':'칼슘결핍','b6':'다량원소결핍 (N)','b7':'다량원소결핍 (P)','b8':'다량원소결핍 (K)'},\n",
    "           '6':{'a11':'시설포도탄저병','a12':'시설포도노균병','b4':'일소피해','b5':'축과병'}}\n",
    "risk = {'1':'초기','2':'중기','3':'말기'}"
   ]
  },
  {
   "cell_type": "code",
   "execution_count": 3,
   "id": "348f7b5c",
   "metadata": {},
   "outputs": [
    {
     "data": {
      "text/plain": [
       "[('1_00_0', '딸기_정상'),\n",
       " ('1_a1_1', '딸기_딸기잿빛곰팡이병_초기'),\n",
       " ('1_a1_2', '딸기_딸기잿빛곰팡이병_중기'),\n",
       " ('1_a1_3', '딸기_딸기잿빛곰팡이병_말기'),\n",
       " ('1_a2_1', '딸기_딸기흰가루병_초기'),\n",
       " ('1_a2_2', '딸기_딸기흰가루병_중기'),\n",
       " ('1_a2_3', '딸기_딸기흰가루병_말기'),\n",
       " ('1_b1_1', '딸기_냉해피해_초기'),\n",
       " ('1_b1_2', '딸기_냉해피해_중기'),\n",
       " ('1_b1_3', '딸기_냉해피해_말기')]"
      ]
     },
     "execution_count": 3,
     "metadata": {},
     "output_type": "execute_result"
    }
   ],
   "source": [
    "label_description = {}\n",
    "for key, value in disease.items():\n",
    "    label_description[f'{key}_00_0'] = f'{crop[key]}_정상'\n",
    "    for disease_code in value:\n",
    "        for risk_code in risk:\n",
    "            label = f'{key}_{disease_code}_{risk_code}'\n",
    "            label_description[label] = f'{crop[key]}_{disease[key][disease_code]}_{risk[risk_code]}'\n",
    "list(label_description.items())[:10]"
   ]
  },
  {
   "cell_type": "code",
   "execution_count": 4,
   "id": "01329cf7",
   "metadata": {},
   "outputs": [
    {
     "name": "stderr",
     "output_type": "stream",
     "text": [
      "100%|██████████████████████████████████████████████████████████████████████████| 5767/5767 [00:00<00:00, 961198.14it/s]\n"
     ]
    },
    {
     "data": {
      "text/plain": [
       "{0: '1_00_0',\n",
       " 1: '2_00_0',\n",
       " 2: '2_a5_2',\n",
       " 3: '3_00_0',\n",
       " 4: '3_a9_1',\n",
       " 5: '3_a9_2',\n",
       " 6: '3_a9_3',\n",
       " 7: '3_b3_1',\n",
       " 8: '3_b6_1',\n",
       " 9: '3_b7_1',\n",
       " 10: '3_b8_1',\n",
       " 11: '4_00_0',\n",
       " 12: '5_00_0',\n",
       " 13: '5_a7_2',\n",
       " 14: '5_b6_1',\n",
       " 15: '5_b7_1',\n",
       " 16: '5_b8_1',\n",
       " 17: '6_00_0',\n",
       " 18: '6_a11_1',\n",
       " 19: '6_a11_2',\n",
       " 20: '6_a12_1',\n",
       " 21: '6_a12_2',\n",
       " 22: '6_b4_1',\n",
       " 23: '6_b4_3',\n",
       " 24: '6_b5_1'}"
      ]
     },
     "metadata": {},
     "output_type": "display_data"
    },
    {
     "data": {
      "text/plain": [
       "{'1_00_0': 0,\n",
       " '2_00_0': 1,\n",
       " '2_a5_2': 2,\n",
       " '3_00_0': 3,\n",
       " '3_a9_1': 4,\n",
       " '3_a9_2': 5,\n",
       " '3_a9_3': 6,\n",
       " '3_b3_1': 7,\n",
       " '3_b6_1': 8,\n",
       " '3_b7_1': 9,\n",
       " '3_b8_1': 10,\n",
       " '4_00_0': 11,\n",
       " '5_00_0': 12,\n",
       " '5_a7_2': 13,\n",
       " '5_b6_1': 14,\n",
       " '5_b7_1': 15,\n",
       " '5_b8_1': 16,\n",
       " '6_00_0': 17,\n",
       " '6_a11_1': 18,\n",
       " '6_a11_2': 19,\n",
       " '6_a12_1': 20,\n",
       " '6_a12_2': 21,\n",
       " '6_b4_1': 22,\n",
       " '6_b4_3': 23,\n",
       " '6_b5_1': 24}"
      ]
     },
     "metadata": {},
     "output_type": "display_data"
    }
   ],
   "source": [
    "# ============= add\n",
    "labels = pd.read_csv('./data/train.csv')\n",
    "\n",
    "train_label_encoder = {}\n",
    "label_cnt = 0\n",
    "previous_label = '0_00_0'\n",
    "for i, label in enumerate(tqdm(sorted(labels['label']))) :\n",
    "    crop_val = label.split('_')[0] # crop\n",
    "    disease_val = label.split('_')[1] # disease\n",
    "    risk_val = label.split('_')[2] # risk\n",
    "    \n",
    "    tmp_label = f'{crop_val}_{disease_val}_{risk_val}'\n",
    "    if previous_label != tmp_label :\n",
    "        train_label_encoder[tmp_label] = label_cnt\n",
    "        previous_label = tmp_label\n",
    "        label_cnt += 1\n",
    "        \n",
    "train_label_decoder = {val : key for key, val in train_label_encoder.items()}\n",
    "display(train_label_decoder)\n",
    "display(train_label_encoder)"
   ]
  },
  {
   "cell_type": "markdown",
   "id": "ff092b6e",
   "metadata": {},
   "source": [
    "# Dataset 구현"
   ]
  },
  {
   "cell_type": "code",
   "execution_count": 5,
   "id": "d898274c",
   "metadata": {},
   "outputs": [],
   "source": [
    "class CustomDataset(Dataset):\n",
    "    def __init__(self, files, transforms, mode='train'):\n",
    "        self.mode = mode\n",
    "        self.files = files\n",
    "        self.label_encoder = train_label_encoder #label_encoder\n",
    "        self.transforms = transforms\n",
    "        \n",
    "    def __len__(self):\n",
    "        return len(self.files)\n",
    "    \n",
    "    def __getitem__(self, i):\n",
    "        file = self.files[i]\n",
    "        file_name = file.split('\\\\')[-1]\n",
    "        \n",
    "        \n",
    "        # image\n",
    "        image_path = f'{file}/{file_name}.jpg'\n",
    "        img = cv2.imread(image_path)\n",
    "        img = cv2.cvtColor(img, cv2.COLOR_BGR2RGB)\n",
    "#         img = cv2.resize(img, dsize=(224, 224), interpolation=cv2.INTER_AREA)\n",
    "#         img = img.astype(np.float32)/255\n",
    "        img = self.transforms(image=img)[\"image\"]\n",
    "        img = img.transpose(2,0,1)\n",
    "        \n",
    "        if self.mode == 'train':\n",
    "            json_path = f'{file}/{file_name}.json'\n",
    "            with open(json_path, 'r') as f:\n",
    "                json_file = json.load(f)\n",
    "            \n",
    "            crop = json_file['annotations']['crop']\n",
    "            disease = json_file['annotations']['disease']\n",
    "            risk = json_file['annotations']['risk']\n",
    "            label = f'{crop}_{disease}_{risk}'\n",
    "            \n",
    "            return {\n",
    "#                 'img' : torch.tensor(img, dtype=torch.float32),\n",
    "                'img' : torch.tensor(img, dtype=torch.float32) / 255.0,\n",
    "                'label' : torch.tensor(self.label_encoder[label], dtype=torch.long)\n",
    "            }\n",
    "        else:\n",
    "            return {\n",
    "                'img' : torch.tensor(img, dtype=torch.float32)/ 255.0\n",
    "#                 'img' : torch.tensor(img, dtype=torch.float32)\n",
    "            }"
   ]
  },
  {
   "cell_type": "markdown",
   "id": "45dc213d",
   "metadata": {},
   "source": [
    "# Model 선언"
   ]
  },
  {
   "cell_type": "code",
   "execution_count": 6,
   "id": "b5253ab1",
   "metadata": {},
   "outputs": [],
   "source": [
    "import timm\n",
    "import torch.nn as nn\n",
    "\n",
    "class ViT(nn.Module):\n",
    "    def __init__(self):\n",
    "        super(ViT, self).__init__()\n",
    "        self.model = timm.create_model('vit_small_patch16_224', num_classes=25, pretrained=True)\n",
    "        \n",
    "    def forward(self, inputs):\n",
    "        output = self.model(inputs)\n",
    "        return output\n",
    "    \n",
    "    \n",
    "    \n",
    "    \n",
    "class pretrained_DeiT(nn.Module):\n",
    "    def __init__(self):\n",
    "        super(pretrained_DeiT, self).__init__()\n",
    "        self.model = timm.create_model('deit_small_patch16_224', num_classes=38, pretrained=False)\n",
    "\n",
    "    def forward(self, inputs):\n",
    "        output = self.model(inputs)\n",
    "        return output\n",
    "    \n",
    "class Deit(nn.Module) :\n",
    "    def __init__(self, model_path, test=False) :\n",
    "        super(Deit, self).__init__()\n",
    "        self.pre_model = pretrained_DeiT()\n",
    "        if test == False :\n",
    "            self.pre_model.load_state_dict(torch.load(model_path, map_location=device))\n",
    "        \n",
    "        self.fc = nn.Linear(38, 25)\n",
    "        \n",
    "    def forward(self, x) :\n",
    "        x = self.pre_model(x)\n",
    "        x = self.fc(x)\n",
    "        return x\n",
    "    \n",
    "    \n",
    "\n",
    "    \n",
    "class pretrained_EffiV2S(nn.Module):\n",
    "    def __init__(self):\n",
    "        super(pretrained_EffiV2S, self).__init__()\n",
    "        self.model = timm.create_model('efficientnetv2_rw_s', num_classes=38, pretrained=False)\n",
    "    \n",
    "    def forward(self, inputs):\n",
    "        output = self.model(inputs)\n",
    "        return output\n",
    "\n",
    "class EffiV2S(nn.Module) :\n",
    "    def __init__(self, model_path, test=False) :\n",
    "        super(EffiV2S, self).__init__()\n",
    "        self.pre_model = pretrained_EffiV2S()\n",
    "        if test == False :\n",
    "            self.pre_model.load_state_dict(torch.load(model_path, map_location=device))\n",
    "        \n",
    "        self.fc = nn.Linear(38, 25)\n",
    "        \n",
    "    def forward(self, x) :\n",
    "        x = self.pre_model(x)\n",
    "        x = self.fc(x)\n",
    "        return x    "
   ]
  },
  {
   "cell_type": "markdown",
   "id": "86dce17d",
   "metadata": {},
   "source": [
    "# Hyperparmeter 선언"
   ]
  },
  {
   "cell_type": "code",
   "execution_count": 7,
   "id": "b8f16bb0",
   "metadata": {},
   "outputs": [],
   "source": [
    "device = torch.device(\"cuda:0\")#(\"cpu\")\n",
    "batch_size = 16\n",
    "class_n = len(train_label_encoder)\n",
    "learning_rate = 1e-4\n",
    "epochs = 25\n",
    "model_path = './model/public_vill_50k_pretrain_Deit_S16patch224_25E.pt'\n",
    "save_path = 'public_vill_50k_pretrain_Deit_S16patch224_25E.pt'\n",
    "fold_n = 4\n",
    "early_stopping_cnt = 4"
   ]
  },
  {
   "cell_type": "markdown",
   "id": "2f15d77e",
   "metadata": {},
   "source": [
    "# Image Transform"
   ]
  },
  {
   "cell_type": "code",
   "execution_count": 8,
   "id": "ecfb147c",
   "metadata": {},
   "outputs": [],
   "source": [
    "# train_transforms = A.Compose([\n",
    "#                 A.Resize(224 ,224),\n",
    "#                 A.OneOf([\n",
    "#                     A.Rotate(),\n",
    "#                     A.HorizontalFlip(),\n",
    "#                     A.VerticalFlip()\n",
    "#                 ], p=1)\n",
    "#             ])\n",
    "\n",
    "# val_transforms = A.Compose([\n",
    "#     A.Resize(224,224)\n",
    "# ])\n",
    "train_transforms = A.Compose([\n",
    "                A.Resize(224 ,224),\n",
    "                A.OneOf([\n",
    "                    A.Rotate(),\n",
    "                    A.HorizontalFlip(),\n",
    "                    A.VerticalFlip()\n",
    "                ], p=1)\n",
    "            ])\n",
    "\n",
    "val_transforms = A.Compose([\n",
    "    A.Resize(224, 224)\n",
    "])"
   ]
  },
  {
   "cell_type": "markdown",
   "id": "e7145bc3",
   "metadata": {},
   "source": [
    "# CutMix"
   ]
  },
  {
   "cell_type": "code",
   "execution_count": 9,
   "id": "b724f2dd",
   "metadata": {},
   "outputs": [],
   "source": [
    "def rand_bbox(size, lam):\n",
    "    W = size[2]\n",
    "    H = size[3]\n",
    "    cut_rat = np.sqrt(1. - lam)\n",
    "    cut_w = np.int(W * cut_rat)\n",
    "    cut_h = np.int(H * cut_rat)\n",
    " \n",
    "    # uniform\n",
    "    cx = np.random.randint(W)\n",
    "    cy = np.random.randint(H)\n",
    "\n",
    "    bbx1 = np.clip(cx - cut_w // 2, 0, W)\n",
    "    bby1 = np.clip(cy - cut_h // 2, 0, H)\n",
    "    bbx2 = np.clip(cx + cut_w // 2, 0, W)\n",
    "    bby2 = np.clip(cy + cut_h // 2, 0, H)\n",
    "\n",
    "    return bbx1, bby1, bbx2, bby2"
   ]
  },
  {
   "cell_type": "markdown",
   "id": "f6b9f12d",
   "metadata": {},
   "source": [
    "# Training"
   ]
  },
  {
   "cell_type": "code",
   "execution_count": 10,
   "id": "c3c1aaab",
   "metadata": {},
   "outputs": [],
   "source": [
    "def accuracy_function(real, pred):    \n",
    "    real = real.cpu()\n",
    "    pred = torch.argmax(pred, dim=1).cpu()\n",
    "    score = f1_score(real, pred, average='macro')\n",
    "    return score\n",
    "\n",
    "def train_step(batch_item, training):\n",
    "    img = batch_item['img'].to(device)\n",
    "    label = batch_item['label'].to(device)\n",
    "    \n",
    "    lam = np.random.beta(1.0, 1.0)\n",
    "    \n",
    "    if training is True:\n",
    "        model.train()\n",
    "        optimizer.zero_grad()\n",
    "        with torch.cuda.amp.autocast():\n",
    "            # add - cutmix\n",
    "            rand_index = torch.randperm(img.size()[0])\n",
    "            target_a = label\n",
    "            target_b = label[rand_index]\n",
    "            bbx1, bby1, bbx2, bby2 = rand_bbox(img.size(), lam)\n",
    "            img[:, :, bbx1:bbx2, bby1:bby2] = img[rand_index, :, bbx1:bbx2, bby1:bby2]\n",
    "            lam = 1 - ((bbx2 - bbx1) * (bby2 - bby1) / (img.size()[-1] * img.size()[-2]))\n",
    "            \n",
    "            output = model(img)\n",
    "            loss = criterion(output, target_a) * lam + criterion(output, target_b) * (1. - lam)\n",
    "            \n",
    "#             output = model(img, csv_feature)\n",
    "#             loss = criterion(output, label)\n",
    "        loss.backward()\n",
    "        optimizer.step()\n",
    "        score = accuracy_function(label, output)\n",
    "        return loss, score\n",
    "    else:\n",
    "        model.eval()\n",
    "        with torch.no_grad():\n",
    "            output = model(img)\n",
    "            loss = criterion(output, label)\n",
    "        score = accuracy_function(label, output)\n",
    "        return loss, score"
   ]
  },
  {
   "cell_type": "markdown",
   "id": "8f664a3a",
   "metadata": {},
   "source": [
    "# Model, Loss, Optim"
   ]
  },
  {
   "cell_type": "code",
   "execution_count": 11,
   "id": "6195cd78",
   "metadata": {},
   "outputs": [],
   "source": [
    "# model = ViT()\n",
    "model = Deit(model_path)\n",
    "# model = EffiV2S(model_path)\n",
    "model = model.to(device)\n",
    "optimizer = torch.optim.Adam(model.parameters(), lr=learning_rate)\n",
    "\n",
    "# optimizer = AdamW(model.parameters(), lr=learning_rate)\n",
    "# scheduler = CosineAnnealingLR(optimizer, T_max=5, eta_min=1e-5)\n",
    "\n",
    "criterion = nn.CrossEntropyLoss()\n",
    "\n"
   ]
  },
  {
   "cell_type": "markdown",
   "id": "23ecd81d",
   "metadata": {},
   "source": [
    "# Label"
   ]
  },
  {
   "cell_type": "code",
   "execution_count": 12,
   "id": "7104b88b",
   "metadata": {},
   "outputs": [
    {
     "name": "stderr",
     "output_type": "stream",
     "text": [
      "100%|█████████████████████████████████████████████████████████████████████████████| 5767/5767 [00:19<00:00, 291.84it/s]\n"
     ]
    }
   ],
   "source": [
    "json_path = glob('./data/train/*/*.json')\n",
    "\n",
    "labels = []\n",
    "for path in tqdm(json_path) :\n",
    "    json_file = json.load(open(path, 'r'))\n",
    "    \n",
    "    crop = json_file['annotations']['crop']\n",
    "    disease = json_file['annotations']['disease']\n",
    "    risk = json_file['annotations']['risk']\n",
    "    \n",
    "    label = f'{crop}_{disease}_{risk}'\n",
    "    labels.append(train_label_encoder[label])"
   ]
  },
  {
   "cell_type": "code",
   "execution_count": 13,
   "id": "9fc9dcbd",
   "metadata": {},
   "outputs": [],
   "source": [
    "data_list = glob('./data/train/*')\n",
    "label_list = labels\n",
    "\n",
    "kfold = StratifiedKFold(n_splits=fold_n, random_state=13, shuffle=True)"
   ]
  },
  {
   "cell_type": "code",
   "execution_count": 14,
   "id": "28abf800",
   "metadata": {
    "scrolled": false
   },
   "outputs": [
    {
     "name": "stdout",
     "output_type": "stream",
     "text": [
      "\n",
      "\n",
      "\n",
      "===== k_fold : 1 / 4 =====\n"
     ]
    },
    {
     "name": "stderr",
     "output_type": "stream",
     "text": [
      "271it [01:10,  3.83it/s, Epoch=1, Loss=1.797857, Mean Loss=1.625625, Mean F-1=0.400644]\n",
      "91it [00:16,  5.54it/s, Epoch=1, Val Loss=0.951808, Mean Val Loss=0.541606, Mean Val F-1=0.676932]\n",
      "271it [01:11,  3.79it/s, Epoch=2, Loss=0.738932, Mean Loss=1.036873, Mean F-1=0.564145]\n",
      "91it [00:16,  5.45it/s, Epoch=2, Val Loss=0.667667, Mean Val Loss=0.331746, Mean Val F-1=0.771896]\n",
      "271it [01:11,  3.79it/s, Epoch=3, Loss=0.816275, Mean Loss=0.870355, Mean F-1=0.601045]\n",
      "91it [00:17,  5.27it/s, Epoch=3, Val Loss=0.214773, Mean Val Loss=0.224626, Mean Val F-1=0.829795]\n",
      "271it [01:12,  3.71it/s, Epoch=4, Loss=1.004081, Mean Loss=0.773452, Mean F-1=0.653456]\n",
      "91it [00:17,  5.27it/s, Epoch=4, Val Loss=0.119250, Mean Val Loss=0.191395, Mean Val F-1=0.847021]\n",
      "271it [01:13,  3.69it/s, Epoch=5, Loss=0.588264, Mean Loss=0.737813, Mean F-1=0.677830]\n",
      "91it [00:18,  4.81it/s, Epoch=5, Val Loss=0.086757, Mean Val Loss=0.198032, Mean Val F-1=0.834874]\n"
     ]
    },
    {
     "name": "stdout",
     "output_type": "stream",
     "text": [
      "Early Stopping Step : [1 / 4]\n"
     ]
    },
    {
     "name": "stderr",
     "output_type": "stream",
     "text": [
      "271it [01:15,  3.59it/s, Epoch=6, Loss=0.738112, Mean Loss=0.707081, Mean F-1=0.671566]\n",
      "91it [00:17,  5.15it/s, Epoch=6, Val Loss=0.470200, Mean Val Loss=0.165172, Mean Val F-1=0.874551]\n",
      "271it [01:14,  3.63it/s, Epoch=7, Loss=1.040160, Mean Loss=0.688261, Mean F-1=0.686446]\n",
      "91it [00:17,  5.20it/s, Epoch=7, Val Loss=0.026160, Mean Val Loss=0.154560, Mean Val F-1=0.863884]\n"
     ]
    },
    {
     "name": "stdout",
     "output_type": "stream",
     "text": [
      "Early Stopping Step : [1 / 4]\n"
     ]
    },
    {
     "name": "stderr",
     "output_type": "stream",
     "text": [
      "271it [01:15,  3.57it/s, Epoch=8, Loss=0.632869, Mean Loss=0.671605, Mean F-1=0.708846]\n",
      "91it [00:18,  4.82it/s, Epoch=8, Val Loss=0.129308, Mean Val Loss=0.158260, Mean Val F-1=0.880163]\n",
      "271it [01:18,  3.46it/s, Epoch=9, Loss=0.517651, Mean Loss=0.641481, Mean F-1=0.736561]\n",
      "91it [00:19,  4.74it/s, Epoch=9, Val Loss=0.028022, Mean Val Loss=0.141096, Mean Val F-1=0.886365]\n",
      "271it [01:20,  3.39it/s, Epoch=10, Loss=0.330526, Mean Loss=0.628228, Mean F-1=0.725036]\n",
      "91it [00:18,  4.88it/s, Epoch=10, Val Loss=0.055315, Mean Val Loss=0.139992, Mean Val F-1=0.888429]\n",
      "271it [01:19,  3.42it/s, Epoch=11, Loss=0.622490, Mean Loss=0.602991, Mean F-1=0.790535]\n",
      "91it [00:18,  4.93it/s, Epoch=11, Val Loss=0.064140, Mean Val Loss=0.137953, Mean Val F-1=0.893526]\n",
      "271it [01:20,  3.37it/s, Epoch=12, Loss=0.752517, Mean Loss=0.611048, Mean F-1=0.771512]\n",
      "91it [00:18,  4.96it/s, Epoch=12, Val Loss=0.057582, Mean Val Loss=0.124718, Mean Val F-1=0.888550]\n"
     ]
    },
    {
     "name": "stdout",
     "output_type": "stream",
     "text": [
      "Early Stopping Step : [1 / 4]\n"
     ]
    },
    {
     "name": "stderr",
     "output_type": "stream",
     "text": [
      "271it [01:21,  3.31it/s, Epoch=13, Loss=0.479411, Mean Loss=0.599178, Mean F-1=0.762003]\n",
      "91it [00:19,  4.60it/s, Epoch=13, Val Loss=0.035974, Mean Val Loss=0.126841, Mean Val F-1=0.900468]\n",
      "271it [01:24,  3.22it/s, Epoch=14, Loss=0.221675, Mean Loss=0.586546, Mean F-1=0.759397]\n",
      "91it [00:19,  4.63it/s, Epoch=14, Val Loss=0.374732, Mean Val Loss=0.153114, Mean Val F-1=0.879009]\n"
     ]
    },
    {
     "name": "stdout",
     "output_type": "stream",
     "text": [
      "Early Stopping Step : [1 / 4]\n"
     ]
    },
    {
     "name": "stderr",
     "output_type": "stream",
     "text": [
      "271it [01:23,  3.25it/s, Epoch=15, Loss=0.780602, Mean Loss=0.587255, Mean F-1=0.763460]\n",
      "91it [00:21,  4.31it/s, Epoch=15, Val Loss=0.579096, Mean Val Loss=0.137113, Mean Val F-1=0.899223]\n"
     ]
    },
    {
     "name": "stdout",
     "output_type": "stream",
     "text": [
      "Early Stopping Step : [2 / 4]\n"
     ]
    },
    {
     "name": "stderr",
     "output_type": "stream",
     "text": [
      "271it [01:26,  3.12it/s, Epoch=16, Loss=0.283748, Mean Loss=0.576399, Mean F-1=0.791297]\n",
      "91it [00:20,  4.34it/s, Epoch=16, Val Loss=0.231493, Mean Val Loss=0.132427, Mean Val F-1=0.902159]\n",
      "271it [01:27,  3.08it/s, Epoch=17, Loss=1.059636, Mean Loss=0.555388, Mean F-1=0.811405]\n",
      "91it [00:20,  4.37it/s, Epoch=17, Val Loss=0.072380, Mean Val Loss=0.118225, Mean Val F-1=0.916476]\n",
      "271it [01:32,  2.93it/s, Epoch=18, Loss=0.298975, Mean Loss=0.595821, Mean F-1=0.766253]\n",
      "91it [00:21,  4.32it/s, Epoch=18, Val Loss=0.594132, Mean Val Loss=0.166899, Mean Val F-1=0.879238]\n"
     ]
    },
    {
     "name": "stdout",
     "output_type": "stream",
     "text": [
      "Early Stopping Step : [1 / 4]\n"
     ]
    },
    {
     "name": "stderr",
     "output_type": "stream",
     "text": [
      "271it [01:40,  2.71it/s, Epoch=19, Loss=0.621965, Mean Loss=0.549252, Mean F-1=0.799751]\n",
      "91it [00:24,  3.68it/s, Epoch=19, Val Loss=0.156733, Mean Val Loss=0.129411, Mean Val F-1=0.912090]\n"
     ]
    },
    {
     "name": "stdout",
     "output_type": "stream",
     "text": [
      "Early Stopping Step : [2 / 4]\n"
     ]
    },
    {
     "name": "stderr",
     "output_type": "stream",
     "text": [
      "271it [01:34,  2.87it/s, Epoch=20, Loss=0.627090, Mean Loss=0.556805, Mean F-1=0.780864]\n",
      "91it [00:23,  3.95it/s, Epoch=20, Val Loss=0.012108, Mean Val Loss=0.164865, Mean Val F-1=0.886488]\n"
     ]
    },
    {
     "name": "stdout",
     "output_type": "stream",
     "text": [
      "Early Stopping Step : [3 / 4]\n"
     ]
    },
    {
     "name": "stderr",
     "output_type": "stream",
     "text": [
      "271it [01:36,  2.80it/s, Epoch=21, Loss=0.546061, Mean Loss=0.579334, Mean F-1=0.742895]\n",
      "91it [00:23,  3.93it/s, Epoch=21, Val Loss=0.280471, Mean Val Loss=0.117711, Mean Val F-1=0.906162]\n"
     ]
    },
    {
     "name": "stdout",
     "output_type": "stream",
     "text": [
      "Early Stopping Step : [4 / 4]\n",
      "== Early Stop ==\n",
      "\n",
      "\n",
      "\n",
      "===== k_fold : 2 / 4 =====\n"
     ]
    },
    {
     "name": "stderr",
     "output_type": "stream",
     "text": [
      "271it [01:10,  3.83it/s, Epoch=1, Loss=1.531899, Mean Loss=1.644949, Mean F-1=0.370998]\n",
      "91it [00:16,  5.60it/s, Epoch=1, Val Loss=0.291813, Mean Val Loss=0.590363, Mean Val F-1=0.630960]\n",
      "271it [01:10,  3.82it/s, Epoch=2, Loss=1.005122, Mean Loss=1.039560, Mean F-1=0.560874]\n",
      "91it [00:16,  5.56it/s, Epoch=2, Val Loss=0.078723, Mean Val Loss=0.319513, Mean Val F-1=0.742048]\n",
      "271it [01:11,  3.78it/s, Epoch=3, Loss=0.839689, Mean Loss=0.864129, Mean F-1=0.611000]\n",
      "91it [00:16,  5.59it/s, Epoch=3, Val Loss=0.040547, Mean Val Loss=0.253436, Mean Val F-1=0.807284]\n",
      "271it [01:12,  3.76it/s, Epoch=4, Loss=0.438864, Mean Loss=0.796199, Mean F-1=0.652169]\n",
      "91it [00:16,  5.37it/s, Epoch=4, Val Loss=0.020838, Mean Val Loss=0.203387, Mean Val F-1=0.835638]\n",
      "271it [01:12,  3.76it/s, Epoch=5, Loss=0.831865, Mean Loss=0.764781, Mean F-1=0.654547]\n",
      "91it [00:16,  5.39it/s, Epoch=5, Val Loss=1.185516, Mean Val Loss=0.237261, Mean Val F-1=0.825828]\n"
     ]
    },
    {
     "name": "stdout",
     "output_type": "stream",
     "text": [
      "Early Stopping Step : [1 / 4]\n"
     ]
    },
    {
     "name": "stderr",
     "output_type": "stream",
     "text": [
      "271it [01:14,  3.65it/s, Epoch=6, Loss=0.720003, Mean Loss=0.718693, Mean F-1=0.675878]\n",
      "91it [00:17,  5.29it/s, Epoch=6, Val Loss=0.008650, Mean Val Loss=0.221135, Mean Val F-1=0.827163]\n"
     ]
    },
    {
     "name": "stdout",
     "output_type": "stream",
     "text": [
      "Early Stopping Step : [2 / 4]\n"
     ]
    },
    {
     "name": "stderr",
     "output_type": "stream",
     "text": [
      "271it [01:13,  3.67it/s, Epoch=7, Loss=1.005918, Mean Loss=0.669254, Mean F-1=0.734169]\n",
      "91it [00:17,  5.09it/s, Epoch=7, Val Loss=0.012773, Mean Val Loss=0.186676, Mean Val F-1=0.842175]\n",
      "271it [01:13,  3.70it/s, Epoch=8, Loss=0.470051, Mean Loss=0.658027, Mean F-1=0.707320]\n",
      "91it [00:17,  5.13it/s, Epoch=8, Val Loss=0.021722, Mean Val Loss=0.180850, Mean Val F-1=0.841452]\n"
     ]
    },
    {
     "name": "stdout",
     "output_type": "stream",
     "text": [
      "Early Stopping Step : [1 / 4]\n"
     ]
    },
    {
     "name": "stderr",
     "output_type": "stream",
     "text": [
      "271it [01:16,  3.53it/s, Epoch=9, Loss=0.052262, Mean Loss=0.654865, Mean F-1=0.707900]\n",
      "91it [00:17,  5.06it/s, Epoch=9, Val Loss=0.009903, Mean Val Loss=0.141853, Mean Val F-1=0.880825]\n",
      "271it [01:17,  3.49it/s, Epoch=10, Loss=0.027946, Mean Loss=0.629253, Mean F-1=0.729968]\n",
      "91it [00:18,  4.99it/s, Epoch=10, Val Loss=0.010681, Mean Val Loss=0.188487, Mean Val F-1=0.831650]\n"
     ]
    },
    {
     "name": "stdout",
     "output_type": "stream",
     "text": [
      "Early Stopping Step : [1 / 4]\n"
     ]
    },
    {
     "name": "stderr",
     "output_type": "stream",
     "text": [
      "271it [01:17,  3.50it/s, Epoch=11, Loss=0.556071, Mean Loss=0.639241, Mean F-1=0.714244]\n",
      "91it [00:18,  4.88it/s, Epoch=11, Val Loss=0.017722, Mean Val Loss=0.162060, Mean Val F-1=0.858674]\n"
     ]
    },
    {
     "name": "stdout",
     "output_type": "stream",
     "text": [
      "Early Stopping Step : [2 / 4]\n"
     ]
    },
    {
     "name": "stderr",
     "output_type": "stream",
     "text": [
      "271it [01:19,  3.39it/s, Epoch=12, Loss=0.287932, Mean Loss=0.611162, Mean F-1=0.749839]\n",
      "91it [00:19,  4.79it/s, Epoch=12, Val Loss=0.005647, Mean Val Loss=0.141733, Mean Val F-1=0.882641]\n",
      "271it [01:20,  3.36it/s, Epoch=13, Loss=0.224384, Mean Loss=0.582599, Mean F-1=0.760900]\n",
      "91it [00:20,  4.54it/s, Epoch=13, Val Loss=0.005887, Mean Val Loss=0.127808, Mean Val F-1=0.900367]\n",
      "271it [01:22,  3.29it/s, Epoch=14, Loss=0.255586, Mean Loss=0.583207, Mean F-1=0.754874]\n",
      "91it [00:19,  4.62it/s, Epoch=14, Val Loss=0.004859, Mean Val Loss=0.110095, Mean Val F-1=0.904295]\n",
      "271it [01:23,  3.25it/s, Epoch=15, Loss=0.820655, Mean Loss=0.592763, Mean F-1=0.756658]\n",
      "91it [00:20,  4.49it/s, Epoch=15, Val Loss=0.010043, Mean Val Loss=0.116827, Mean Val F-1=0.894428]\n"
     ]
    },
    {
     "name": "stdout",
     "output_type": "stream",
     "text": [
      "Early Stopping Step : [1 / 4]\n"
     ]
    },
    {
     "name": "stderr",
     "output_type": "stream",
     "text": [
      "271it [01:24,  3.21it/s, Epoch=16, Loss=0.865114, Mean Loss=0.605653, Mean F-1=0.761969]\n",
      "91it [00:21,  4.30it/s, Epoch=16, Val Loss=0.009290, Mean Val Loss=0.150352, Mean Val F-1=0.866062]\n"
     ]
    },
    {
     "name": "stdout",
     "output_type": "stream",
     "text": [
      "Early Stopping Step : [2 / 4]\n"
     ]
    },
    {
     "name": "stderr",
     "output_type": "stream",
     "text": [
      "271it [01:26,  3.14it/s, Epoch=17, Loss=0.990178, Mean Loss=0.603409, Mean F-1=0.751852]\n",
      "91it [00:20,  4.37it/s, Epoch=17, Val Loss=0.009934, Mean Val Loss=0.134230, Mean Val F-1=0.894461]\n"
     ]
    },
    {
     "name": "stdout",
     "output_type": "stream",
     "text": [
      "Early Stopping Step : [3 / 4]\n"
     ]
    },
    {
     "name": "stderr",
     "output_type": "stream",
     "text": [
      "271it [01:26,  3.12it/s, Epoch=18, Loss=0.057814, Mean Loss=0.576610, Mean F-1=0.760307]\n",
      "91it [00:21,  4.33it/s, Epoch=18, Val Loss=0.016287, Mean Val Loss=0.138460, Mean Val F-1=0.894534]\n"
     ]
    },
    {
     "name": "stdout",
     "output_type": "stream",
     "text": [
      "Early Stopping Step : [4 / 4]\n",
      "== Early Stop ==\n",
      "\n",
      "\n",
      "\n",
      "===== k_fold : 3 / 4 =====\n"
     ]
    },
    {
     "name": "stderr",
     "output_type": "stream",
     "text": [
      "271it [01:09,  3.87it/s, Epoch=1, Loss=0.929201, Mean Loss=1.570542, Mean F-1=0.395334]\n",
      "91it [00:16,  5.62it/s, Epoch=1, Val Loss=0.029547, Mean Val Loss=0.561123, Mean Val F-1=0.687670]\n",
      "271it [01:08,  3.97it/s, Epoch=2, Loss=1.060948, Mean Loss=1.015681, Mean F-1=0.557912]\n",
      "91it [00:16,  5.65it/s, Epoch=2, Val Loss=0.009147, Mean Val Loss=0.333420, Mean Val F-1=0.788767]\n",
      "271it [01:09,  3.90it/s, Epoch=3, Loss=0.833544, Mean Loss=0.867810, Mean F-1=0.622426]\n",
      "91it [00:16,  5.65it/s, Epoch=3, Val Loss=0.006231, Mean Val Loss=0.277016, Mean Val F-1=0.796131]\n",
      "271it [01:09,  3.91it/s, Epoch=4, Loss=0.294217, Mean Loss=0.792439, Mean F-1=0.653496]\n",
      "91it [00:16,  5.58it/s, Epoch=4, Val Loss=0.002866, Mean Val Loss=0.229514, Mean Val F-1=0.822835]\n",
      "271it [01:08,  3.93it/s, Epoch=5, Loss=0.806675, Mean Loss=0.741566, Mean F-1=0.683412]\n",
      "91it [00:16,  5.53it/s, Epoch=5, Val Loss=0.002191, Mean Val Loss=0.191122, Mean Val F-1=0.851342]\n",
      "271it [01:11,  3.78it/s, Epoch=6, Loss=0.747616, Mean Loss=0.702662, Mean F-1=0.687376]\n",
      "91it [00:17,  5.34it/s, Epoch=6, Val Loss=0.003228, Mean Val Loss=0.182125, Mean Val F-1=0.853443]\n",
      "271it [01:10,  3.82it/s, Epoch=7, Loss=0.733040, Mean Loss=0.653658, Mean F-1=0.724593]\n",
      "91it [00:17,  5.15it/s, Epoch=7, Val Loss=0.001344, Mean Val Loss=0.184121, Mean Val F-1=0.854797]\n",
      "271it [01:11,  3.79it/s, Epoch=8, Loss=0.599631, Mean Loss=0.641338, Mean F-1=0.728747]\n",
      "91it [00:17,  5.31it/s, Epoch=8, Val Loss=0.001442, Mean Val Loss=0.187020, Mean Val F-1=0.855153]\n",
      "271it [01:13,  3.69it/s, Epoch=9, Loss=0.293463, Mean Loss=0.635345, Mean F-1=0.738954]\n",
      "91it [00:17,  5.22it/s, Epoch=9, Val Loss=0.001672, Mean Val Loss=0.201233, Mean Val F-1=0.839818]\n"
     ]
    },
    {
     "name": "stdout",
     "output_type": "stream",
     "text": [
      "Early Stopping Step : [1 / 4]\n"
     ]
    },
    {
     "name": "stderr",
     "output_type": "stream",
     "text": [
      "271it [01:12,  3.73it/s, Epoch=10, Loss=0.450654, Mean Loss=0.607599, Mean F-1=0.754944]\n",
      "91it [00:17,  5.13it/s, Epoch=10, Val Loss=0.001459, Mean Val Loss=0.172201, Mean Val F-1=0.874545]\n",
      "271it [01:14,  3.64it/s, Epoch=11, Loss=0.877805, Mean Loss=0.608723, Mean F-1=0.733023]\n",
      "91it [00:17,  5.07it/s, Epoch=11, Val Loss=0.001913, Mean Val Loss=0.155763, Mean Val F-1=0.879675]\n",
      "271it [01:16,  3.57it/s, Epoch=12, Loss=0.558441, Mean Loss=0.583773, Mean F-1=0.753996]\n",
      "91it [00:18,  5.00it/s, Epoch=12, Val Loss=0.001405, Mean Val Loss=0.156714, Mean Val F-1=0.878425]\n"
     ]
    },
    {
     "name": "stdout",
     "output_type": "stream",
     "text": [
      "Early Stopping Step : [1 / 4]\n"
     ]
    },
    {
     "name": "stderr",
     "output_type": "stream",
     "text": [
      "271it [01:18,  3.47it/s, Epoch=13, Loss=0.709469, Mean Loss=0.583833, Mean F-1=0.761725]\n",
      "91it [00:18,  4.83it/s, Epoch=13, Val Loss=0.001713, Mean Val Loss=0.158481, Mean Val F-1=0.887458]\n",
      "271it [01:19,  3.42it/s, Epoch=14, Loss=0.508031, Mean Loss=0.584393, Mean F-1=0.758301]\n",
      "91it [00:19,  4.74it/s, Epoch=14, Val Loss=0.001367, Mean Val Loss=0.158158, Mean Val F-1=0.894705]\n",
      "271it [01:20,  3.37it/s, Epoch=15, Loss=0.003941, Mean Loss=0.565333, Mean F-1=0.787143]\n",
      "91it [00:19,  4.69it/s, Epoch=15, Val Loss=0.001691, Mean Val Loss=0.137549, Mean Val F-1=0.892653]\n"
     ]
    },
    {
     "name": "stdout",
     "output_type": "stream",
     "text": [
      "Early Stopping Step : [1 / 4]\n"
     ]
    },
    {
     "name": "stderr",
     "output_type": "stream",
     "text": [
      "271it [01:21,  3.31it/s, Epoch=16, Loss=0.865973, Mean Loss=0.589433, Mean F-1=0.750664]\n",
      "91it [00:19,  4.60it/s, Epoch=16, Val Loss=0.001344, Mean Val Loss=0.188306, Mean Val F-1=0.869164]\n"
     ]
    },
    {
     "name": "stdout",
     "output_type": "stream",
     "text": [
      "Early Stopping Step : [2 / 4]\n"
     ]
    },
    {
     "name": "stderr",
     "output_type": "stream",
     "text": [
      "271it [01:23,  3.25it/s, Epoch=17, Loss=0.464901, Mean Loss=0.583104, Mean F-1=0.750936]\n",
      "91it [00:20,  4.36it/s, Epoch=17, Val Loss=0.004385, Mean Val Loss=0.143470, Mean Val F-1=0.893673]\n"
     ]
    },
    {
     "name": "stdout",
     "output_type": "stream",
     "text": [
      "Early Stopping Step : [3 / 4]\n"
     ]
    },
    {
     "name": "stderr",
     "output_type": "stream",
     "text": [
      "271it [01:25,  3.17it/s, Epoch=18, Loss=0.501731, Mean Loss=0.573256, Mean F-1=0.787429]\n",
      "91it [00:20,  4.36it/s, Epoch=18, Val Loss=0.002191, Mean Val Loss=0.188377, Mean Val F-1=0.862129]\n"
     ]
    },
    {
     "name": "stdout",
     "output_type": "stream",
     "text": [
      "Early Stopping Step : [4 / 4]\n",
      "== Early Stop ==\n",
      "\n",
      "\n",
      "\n",
      "===== k_fold : 4 / 4 =====\n"
     ]
    },
    {
     "name": "stderr",
     "output_type": "stream",
     "text": [
      "271it [01:11,  3.82it/s, Epoch=1, Loss=1.162092, Mean Loss=1.582753, Mean F-1=0.410839]\n",
      "91it [00:16,  5.45it/s, Epoch=1, Val Loss=1.329205, Mean Val Loss=0.514310, Mean Val F-1=0.723813]\n",
      "271it [01:08,  3.94it/s, Epoch=2, Loss=1.191694, Mean Loss=1.042981, Mean F-1=0.560245]\n",
      "91it [00:16,  5.55it/s, Epoch=2, Val Loss=1.193519, Mean Val Loss=0.328305, Mean Val F-1=0.776915]\n",
      "271it [01:08,  3.95it/s, Epoch=3, Loss=0.428276, Mean Loss=0.859109, Mean F-1=0.618464]\n",
      "91it [00:16,  5.62it/s, Epoch=3, Val Loss=0.707091, Mean Val Loss=0.254368, Mean Val F-1=0.810794]\n",
      "271it [01:09,  3.88it/s, Epoch=4, Loss=1.036132, Mean Loss=0.777014, Mean F-1=0.650164]\n",
      "91it [00:16,  5.51it/s, Epoch=4, Val Loss=0.375552, Mean Val Loss=0.239863, Mean Val F-1=0.827846]\n",
      "271it [01:09,  3.91it/s, Epoch=5, Loss=0.426308, Mean Loss=0.737125, Mean F-1=0.679118]\n",
      "91it [00:16,  5.45it/s, Epoch=5, Val Loss=0.175385, Mean Val Loss=0.205361, Mean Val F-1=0.835530]\n",
      "271it [01:09,  3.90it/s, Epoch=6, Loss=0.665915, Mean Loss=0.707333, Mean F-1=0.692622]\n",
      "91it [00:16,  5.43it/s, Epoch=6, Val Loss=0.035644, Mean Val Loss=0.177084, Mean Val F-1=0.836331]\n",
      "271it [01:11,  3.82it/s, Epoch=7, Loss=0.862014, Mean Loss=0.666691, Mean F-1=0.701664]\n",
      "91it [00:16,  5.40it/s, Epoch=7, Val Loss=0.439607, Mean Val Loss=0.166522, Mean Val F-1=0.862433]\n",
      "271it [01:11,  3.80it/s, Epoch=8, Loss=0.557126, Mean Loss=0.642030, Mean F-1=0.741016]\n",
      "91it [00:16,  5.38it/s, Epoch=8, Val Loss=0.014893, Mean Val Loss=0.197016, Mean Val F-1=0.847704]\n"
     ]
    },
    {
     "name": "stdout",
     "output_type": "stream",
     "text": [
      "Early Stopping Step : [1 / 4]\n"
     ]
    },
    {
     "name": "stderr",
     "output_type": "stream",
     "text": [
      "271it [01:12,  3.72it/s, Epoch=9, Loss=0.758671, Mean Loss=0.660582, Mean F-1=0.702485]\n",
      "91it [00:17,  5.21it/s, Epoch=9, Val Loss=0.038631, Mean Val Loss=0.180208, Mean Val F-1=0.873781]\n",
      "271it [01:13,  3.69it/s, Epoch=10, Loss=0.373087, Mean Loss=0.627417, Mean F-1=0.753878]\n",
      "91it [00:17,  5.20it/s, Epoch=10, Val Loss=0.261834, Mean Val Loss=0.150440, Mean Val F-1=0.873125]\n"
     ]
    },
    {
     "name": "stdout",
     "output_type": "stream",
     "text": [
      "Early Stopping Step : [1 / 4]\n"
     ]
    },
    {
     "name": "stderr",
     "output_type": "stream",
     "text": [
      "271it [01:14,  3.62it/s, Epoch=11, Loss=0.578890, Mean Loss=0.616474, Mean F-1=0.715118]\n",
      "91it [00:18,  5.03it/s, Epoch=11, Val Loss=0.012650, Mean Val Loss=0.144112, Mean Val F-1=0.874024]\n",
      "271it [01:15,  3.59it/s, Epoch=12, Loss=0.402704, Mean Loss=0.610725, Mean F-1=0.753879]\n",
      "91it [00:18,  4.96it/s, Epoch=12, Val Loss=0.016455, Mean Val Loss=0.144372, Mean Val F-1=0.893723]\n",
      "271it [01:17,  3.50it/s, Epoch=13, Loss=0.255445, Mean Loss=0.589996, Mean F-1=0.759538]\n",
      "91it [00:18,  4.88it/s, Epoch=13, Val Loss=0.038744, Mean Val Loss=0.127796, Mean Val F-1=0.893982]\n",
      "271it [01:19,  3.41it/s, Epoch=14, Loss=0.747567, Mean Loss=0.596260, Mean F-1=0.745017]\n",
      "91it [00:18,  4.95it/s, Epoch=14, Val Loss=0.018171, Mean Val Loss=0.148105, Mean Val F-1=0.884789]\n"
     ]
    },
    {
     "name": "stdout",
     "output_type": "stream",
     "text": [
      "Early Stopping Step : [1 / 4]\n"
     ]
    },
    {
     "name": "stderr",
     "output_type": "stream",
     "text": [
      "271it [01:20,  3.36it/s, Epoch=15, Loss=0.518505, Mean Loss=0.572390, Mean F-1=0.776884]\n",
      "91it [00:19,  4.67it/s, Epoch=15, Val Loss=0.035544, Mean Val Loss=0.147941, Mean Val F-1=0.888475]\n"
     ]
    },
    {
     "name": "stdout",
     "output_type": "stream",
     "text": [
      "Early Stopping Step : [2 / 4]\n"
     ]
    },
    {
     "name": "stderr",
     "output_type": "stream",
     "text": [
      "271it [01:21,  3.33it/s, Epoch=16, Loss=0.775253, Mean Loss=0.585662, Mean F-1=0.752729]\n",
      "91it [00:19,  4.61it/s, Epoch=16, Val Loss=0.019362, Mean Val Loss=0.116792, Mean Val F-1=0.897527]\n",
      "271it [01:22,  3.28it/s, Epoch=17, Loss=0.980752, Mean Loss=0.600603, Mean F-1=0.755051]\n",
      "91it [00:20,  4.49it/s, Epoch=17, Val Loss=0.009857, Mean Val Loss=0.117880, Mean Val F-1=0.908246]\n",
      "271it [01:24,  3.20it/s, Epoch=18, Loss=0.592314, Mean Loss=0.553994, Mean F-1=0.783165]\n",
      "91it [00:22,  4.00it/s, Epoch=18, Val Loss=0.017392, Mean Val Loss=0.126054, Mean Val F-1=0.891256]\n"
     ]
    },
    {
     "name": "stdout",
     "output_type": "stream",
     "text": [
      "Early Stopping Step : [1 / 4]\n"
     ]
    },
    {
     "name": "stderr",
     "output_type": "stream",
     "text": [
      "271it [01:26,  3.13it/s, Epoch=19, Loss=0.355534, Mean Loss=0.566544, Mean F-1=0.780408]\n",
      "91it [00:18,  4.87it/s, Epoch=19, Val Loss=0.023541, Mean Val Loss=0.131502, Mean Val F-1=0.881507]\n"
     ]
    },
    {
     "name": "stdout",
     "output_type": "stream",
     "text": [
      "Early Stopping Step : [2 / 4]\n"
     ]
    },
    {
     "name": "stderr",
     "output_type": "stream",
     "text": [
      "271it [01:05,  4.11it/s, Epoch=20, Loss=0.101069, Mean Loss=0.552842, Mean F-1=0.795765]\n",
      "91it [00:16,  5.52it/s, Epoch=20, Val Loss=0.097641, Mean Val Loss=0.141667, Mean Val F-1=0.900756]\n"
     ]
    },
    {
     "name": "stdout",
     "output_type": "stream",
     "text": [
      "Early Stopping Step : [3 / 4]\n"
     ]
    },
    {
     "name": "stderr",
     "output_type": "stream",
     "text": [
      "271it [01:07,  4.04it/s, Epoch=21, Loss=0.544972, Mean Loss=0.559343, Mean F-1=0.777585]\n",
      "91it [00:17,  5.14it/s, Epoch=21, Val Loss=0.064292, Mean Val Loss=0.159981, Mean Val F-1=0.879415]"
     ]
    },
    {
     "name": "stdout",
     "output_type": "stream",
     "text": [
      "Early Stopping Step : [4 / 4]\n",
      "== Early Stop ==\n"
     ]
    },
    {
     "name": "stderr",
     "output_type": "stream",
     "text": [
      "\n"
     ]
    }
   ],
   "source": [
    "for k, (fold_train, fold_val) in enumerate(kfold.split(data_list, label_list), 1) :\n",
    "#     model = EffiV2S(model_path)\n",
    "    model = Deit(model_path)\n",
    "    model = model.to(device)\n",
    "    optimizer = torch.optim.Adam(model.parameters(), lr=learning_rate)\n",
    "#     scheduler = CosineAnnealingLR(optimizer, T_max=5, eta_min=1e-5)\n",
    "    criterion = nn.CrossEntropyLoss()\n",
    "    \n",
    "    train_data_list = []\n",
    "    val_data_list = []\n",
    "    \n",
    "    for k_train in fold_train :\n",
    "        train_data_list.append(data_list[k_train])\n",
    "    \n",
    "    for k_val in fold_val :\n",
    "        val_data_list.append(data_list[k_val])\n",
    "    \n",
    "    print(f\"\\n\\n\\n===== k_fold : {k} / {fold_n} =====\")\n",
    "    train_dataset = CustomDataset(train_data_list, train_transforms)\n",
    "    val_dataset = CustomDataset(val_data_list, val_transforms)\n",
    "    \n",
    "    train_dataloader = torch.utils.data.DataLoader(train_dataset, batch_size=batch_size, shuffle=True)\n",
    "    val_dataloader = torch.utils.data.DataLoader(val_dataset, batch_size=batch_size, shuffle=False)\n",
    "    \n",
    "    loss_plot, val_loss_plot = [], []\n",
    "    metric_plot, val_metric_plot = [], []\n",
    "    \n",
    "    early_stopping = 0\n",
    "    for epoch in range(epochs):\n",
    "        total_loss, total_val_loss = 0, 0\n",
    "        total_acc, total_val_acc = 0, 0\n",
    "\n",
    "        tqdm_dataset = tqdm(enumerate(train_dataloader))\n",
    "        training = True\n",
    "        for batch, batch_item in tqdm_dataset:\n",
    "            batch_loss, batch_acc = train_step(batch_item, training)\n",
    "            total_loss += batch_loss\n",
    "            total_acc += batch_acc\n",
    "\n",
    "            tqdm_dataset.set_postfix({\n",
    "                'Epoch': epoch + 1,\n",
    "                'Loss': '{:06f}'.format(batch_loss.item()),\n",
    "                'Mean Loss' : '{:06f}'.format(total_loss/(batch+1)),\n",
    "                'Mean F-1' : '{:06f}'.format(total_acc/(batch+1))\n",
    "            })\n",
    "        loss_plot.append(total_loss/(batch+1))\n",
    "        metric_plot.append(total_acc/(batch+1))\n",
    "\n",
    "        tqdm_dataset = tqdm(enumerate(val_dataloader))\n",
    "        training = False\n",
    "        for batch, batch_item in tqdm_dataset:\n",
    "            batch_loss, batch_acc = train_step(batch_item, training)\n",
    "            total_val_loss += batch_loss\n",
    "            total_val_acc += batch_acc\n",
    "\n",
    "            tqdm_dataset.set_postfix({\n",
    "                'Epoch': epoch + 1,\n",
    "                'Val Loss': '{:06f}'.format(batch_loss.item()),\n",
    "                'Mean Val Loss' : '{:06f}'.format(total_val_loss/(batch+1)),\n",
    "                'Mean Val F-1' : '{:06f}'.format(total_val_acc/(batch+1))\n",
    "            })\n",
    "        val_loss_plot.append(total_val_loss/(batch+1))\n",
    "        val_metric_plot.append(total_val_acc/(batch+1))\n",
    "        \n",
    "        # scheduler\n",
    "#         scheduler.step()\n",
    "        \n",
    "        if np.max(val_metric_plot) == val_metric_plot[-1]:\n",
    "            torch.save(model.state_dict(), f'{k}_{save_path}')\n",
    "            early_stopping = 0\n",
    "    \n",
    "        elif np.max(val_metric_plot) > val_metric_plot[-1]: \n",
    "            early_stopping += 1\n",
    "            print(f\"Early Stopping Step : [{early_stopping} / 4]\")\n",
    "\n",
    "        if early_stopping == early_stopping_cnt :\n",
    "            print(\"== Early Stop ==\")\n",
    "            break"
   ]
  },
  {
   "cell_type": "code",
   "execution_count": 15,
   "id": "5528526c",
   "metadata": {},
   "outputs": [
    {
     "data": {
      "image/png": "[encoded data removed]",
      "text/plain": [
       "<Figure size 720x504 with 1 Axes>"
      ]
     },
     "metadata": {
      "needs_background": "light"
     },
     "output_type": "display_data"
    }
   ],
   "source": [
    "plt.figure(figsize=(10,7))\n",
    "plt.grid()\n",
    "plt.plot(loss_plot, label='train_loss')\n",
    "plt.plot(val_loss_plot, label='val_loss')\n",
    "plt.xlabel('epoch')\n",
    "plt.ylabel('loss')\n",
    "plt.title('loss', fontsize=25)\n",
    "plt.legend()\n",
    "plt.show()"
   ]
  },
  {
   "cell_type": "code",
   "execution_count": 16,
   "id": "31873a79",
   "metadata": {},
   "outputs": [
    {
     "data": {
      "image/png": "[encoded data removed]",
      "text/plain": [
       "<Figure size 720x504 with 1 Axes>"
      ]
     },
     "metadata": {
      "needs_background": "light"
     },
     "output_type": "display_data"
    }
   ],
   "source": [
    "plt.figure(figsize=(10, 7))\n",
    "plt.grid()\n",
    "plt.plot(metric_plot, label='train_metric')\n",
    "plt.plot(val_metric_plot, label='val_metric')\n",
    "plt.xlabel('epoch')\n",
    "plt.ylabel('metric')\n",
    "plt.title(\"F-1\", fontsize=25)\n",
    "plt.legend()\n",
    "plt.show()"
   ]
  },
  {
   "cell_type": "markdown",
   "id": "4ca2267f",
   "metadata": {},
   "source": [
    "# test Dataset 정의"
   ]
  },
  {
   "cell_type": "code",
   "execution_count": 13,
   "id": "a606d669",
   "metadata": {},
   "outputs": [],
   "source": [
    "val_transforms = A.Compose([\n",
    "    A.Resize(224,224)\n",
    "])\n",
    "\n",
    "test = sorted(glob('data/test/*'))\n",
    "test_dataset = CustomDataset(test, val_transforms, mode = 'test')\n",
    "test_dataloader = torch.utils.data.DataLoader(test_dataset, batch_size=batch_size, shuffle=False)"
   ]
  },
  {
   "cell_type": "code",
   "execution_count": 14,
   "id": "df2b66b8",
   "metadata": {},
   "outputs": [],
   "source": [
    "import torch.nn.functional as F\n",
    "\n",
    "def softvoting(models, img, n_classes=25) :\n",
    "\n",
    "    predicts = torch.zeros(img.size(0), n_classes)\n",
    "    with torch.no_grad() :\n",
    "        for model in models :\n",
    "            output = model(img)\n",
    "            output = F.softmax(output.cpu(), dim=1)\n",
    "            predicts += output\n",
    "\n",
    "    # 둘다 값은 똑같이 나옴.\n",
    "    # pred_avg = predicts / len(models)\n",
    "    # answer = pred_avg.argmax(dim=-1)\n",
    "    # _, answer2 = torch.max(pred_avg, 1)\n",
    "\n",
    "    return predicts.detach().cpu() / len(models)"
   ]
  },
  {
   "cell_type": "code",
   "execution_count": 15,
   "id": "d30f0686",
   "metadata": {
    "scrolled": true
   },
   "outputs": [
    {
     "name": "stderr",
     "output_type": "stream",
     "text": [
      "3245it [13:46,  3.92it/s]\n"
     ]
    }
   ],
   "source": [
    "def predict(dataset, models) :\n",
    "    tqdm_dataset = tqdm(enumerate(dataset))\n",
    "    results = []\n",
    "    for batch, batch_item in tqdm_dataset :\n",
    "        img = batch_item['img'].to(device)\n",
    "#         print(img.shape)\n",
    "        predictions = softvoting(models, img)\n",
    "        batch_result = [int(torch.argmax(prediction)) for prediction in predictions]\n",
    "#         print(batch_result)\n",
    "#         for prediction in predictions :\n",
    "            \n",
    "#         results.append(int(torch.argmax(predictions[0])))\n",
    "#             output = model(img)\n",
    "#         output = torch.tensor(torch.argmax(output, dim=1), dtype=torch.int32).cpu().numpy()\n",
    "        results.extend(batch_result)\n",
    "    return results\n",
    "\n",
    "kfold_models_path = glob('./model/k_fold_50k_pretrained_deit/*.pt')\n",
    "models = []\n",
    "for kfold_model_path in kfold_models_path :\n",
    "    model = Deit(model_path)\n",
    "    model.load_state_dict(torch.load(kfold_model_path, map_location=device))\n",
    "    model.to(device).eval()\n",
    "    models.append(model)\n",
    "\n",
    "    \n",
    "preds = predict(test_dataloader, models)\n",
    "\n",
    "\n"
   ]
  },
  {
   "cell_type": "code",
   "execution_count": 16,
   "id": "013b4d4b",
   "metadata": {},
   "outputs": [],
   "source": [
    "preds_cp = preds"
   ]
  },
  {
   "cell_type": "markdown",
   "id": "73beb987",
   "metadata": {},
   "source": [
    "# Submission 만들기"
   ]
  },
  {
   "cell_type": "code",
   "execution_count": 17,
   "id": "ca9cafd8",
   "metadata": {},
   "outputs": [],
   "source": [
    "preds_cp = np.array([train_label_decoder[int(val)] for val in preds_cp])\n",
    "submission_csv = pd.read_csv('./data/sample_submission.csv')\n",
    "submission_csv['label'] = preds_cp\n",
    "submission_csv.to_csv('./data/k_public_vill_50k_pretrain_Deit_S16patch224_25E.csv', index=False)\n"
   ]
  },
  {
   "cell_type": "code",
   "execution_count": null,
   "id": "b44412f5",
   "metadata": {},
   "outputs": [],
   "source": [
    "\n",
    "optimizer = torch.optim.Adam(model.parameters(), lr=learning_rate)\n",
    "criterion = nn.CrossEntropyLoss()"
   ]
  }
 ],
 "metadata": {
  "kernelspec": {
   "display_name": "Python 3",
   "language": "python",
   "name": "python3"
  },
  "language_info": {
   "codemirror_mode": {
    "name": "ipython",
    "version": 3
   },
   "file_extension": ".py",
   "mimetype": "text/x-python",
   "name": "python",
   "nbconvert_exporter": "python",
   "pygments_lexer": "ipython3",
   "version": "3.6.13"
  }
 },
 "nbformat": 4,
 "nbformat_minor": 5
}

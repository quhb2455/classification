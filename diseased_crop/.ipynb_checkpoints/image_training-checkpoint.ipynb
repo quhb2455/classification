{
 "cells": [
  {
   "cell_type": "code",
   "execution_count": 1,
   "id": "9a685c1c",
   "metadata": {},
   "outputs": [],
   "source": [
    "import numpy as np\n",
    "import pandas as pd\n",
    "import matplotlib.pyplot as plt\n",
    "import cv2\n",
    "\n",
    "from tqdm import tqdm\n",
    "from glob import glob\n",
    "import os\n",
    "import json \n",
    "import timm\n",
    "import torch\n",
    "from torch import nn\n",
    "from torchvision import models\n",
    "from torch.utils.data import Dataset\n",
    "from sklearn.metrics import f1_score\n",
    "from sklearn.model_selection import train_test_split, StratifiedKFold\n",
    "import albumentations as A"
   ]
  },
  {
   "cell_type": "code",
   "execution_count": 2,
   "id": "15123e92",
   "metadata": {},
   "outputs": [],
   "source": [
    "# 변수 설명 csv 파일 참조\n",
    "crop = {'1':'딸기','2':'토마토','3':'파프리카','4':'오이','5':'고추','6':'시설포도'}\n",
    "disease = {'1':{'a1':'딸기잿빛곰팡이병','a2':'딸기흰가루병','b1':'냉해피해','b6':'다량원소결핍 (N)','b7':'다량원소결핍 (P)','b8':'다량원소결핍 (K)'},\n",
    "           '2':{'a5':'토마토흰가루병','a6':'토마토잿빛곰팡이병','b2':'열과','b3':'칼슘결핍','b6':'다량원소결핍 (N)','b7':'다량원소결핍 (P)','b8':'다량원소결핍 (K)'},\n",
    "           '3':{'a9':'파프리카흰가루병','a10':'파프리카잘록병','b3':'칼슘결핍','b6':'다량원소결핍 (N)','b7':'다량원소결핍 (P)','b8':'다량원소결핍 (K)'},\n",
    "           '4':{'a3':'오이노균병','a4':'오이흰가루병','b1':'냉해피해','b6':'다량원소결핍 (N)','b7':'다량원소결핍 (P)','b8':'다량원소결핍 (K)'},\n",
    "           '5':{'a7':'고추탄저병','a8':'고추흰가루병','b3':'칼슘결핍','b6':'다량원소결핍 (N)','b7':'다량원소결핍 (P)','b8':'다량원소결핍 (K)'},\n",
    "           '6':{'a11':'시설포도탄저병','a12':'시설포도노균병','b4':'일소피해','b5':'축과병'}}\n",
    "risk = {'1':'초기','2':'중기','3':'말기'}"
   ]
  },
  {
   "cell_type": "code",
   "execution_count": 3,
   "id": "b38ae641",
   "metadata": {},
   "outputs": [
    {
     "data": {
      "text/plain": [
       "[('1_00_0', '딸기_정상'),\n",
       " ('1_a1_1', '딸기_딸기잿빛곰팡이병_초기'),\n",
       " ('1_a1_2', '딸기_딸기잿빛곰팡이병_중기'),\n",
       " ('1_a1_3', '딸기_딸기잿빛곰팡이병_말기'),\n",
       " ('1_a2_1', '딸기_딸기흰가루병_초기'),\n",
       " ('1_a2_2', '딸기_딸기흰가루병_중기'),\n",
       " ('1_a2_3', '딸기_딸기흰가루병_말기'),\n",
       " ('1_b1_1', '딸기_냉해피해_초기'),\n",
       " ('1_b1_2', '딸기_냉해피해_중기'),\n",
       " ('1_b1_3', '딸기_냉해피해_말기')]"
      ]
     },
     "execution_count": 3,
     "metadata": {},
     "output_type": "execute_result"
    }
   ],
   "source": [
    "label_description = {}\n",
    "for key, value in disease.items():\n",
    "    label_description[f'{key}_00_0'] = f'{crop[key]}_정상'\n",
    "    for disease_code in value:\n",
    "        for risk_code in risk:\n",
    "            label = f'{key}_{disease_code}_{risk_code}'\n",
    "            label_description[label] = f'{crop[key]}_{disease[key][disease_code]}_{risk[risk_code]}'\n",
    "list(label_description.items())[:10]"
   ]
  },
  {
   "cell_type": "code",
   "execution_count": 4,
   "id": "f1bfa6e0",
   "metadata": {},
   "outputs": [
    {
     "name": "stderr",
     "output_type": "stream",
     "text": [
      "100%|██████████████████████████████████████████████████████████████████████████| 5767/5767 [00:00<00:00, 961198.14it/s]\n"
     ]
    },
    {
     "data": {
      "text/plain": [
       "{0: '1_00_0',\n",
       " 1: '2_00_0',\n",
       " 2: '2_a5_2',\n",
       " 3: '3_00_0',\n",
       " 4: '3_a9_1',\n",
       " 5: '3_a9_2',\n",
       " 6: '3_a9_3',\n",
       " 7: '3_b3_1',\n",
       " 8: '3_b6_1',\n",
       " 9: '3_b7_1',\n",
       " 10: '3_b8_1',\n",
       " 11: '4_00_0',\n",
       " 12: '5_00_0',\n",
       " 13: '5_a7_2',\n",
       " 14: '5_b6_1',\n",
       " 15: '5_b7_1',\n",
       " 16: '5_b8_1',\n",
       " 17: '6_00_0',\n",
       " 18: '6_a11_1',\n",
       " 19: '6_a11_2',\n",
       " 20: '6_a12_1',\n",
       " 21: '6_a12_2',\n",
       " 22: '6_b4_1',\n",
       " 23: '6_b4_3',\n",
       " 24: '6_b5_1'}"
      ]
     },
     "metadata": {},
     "output_type": "display_data"
    },
    {
     "data": {
      "text/plain": [
       "{'1_00_0': 0,\n",
       " '2_00_0': 1,\n",
       " '2_a5_2': 2,\n",
       " '3_00_0': 3,\n",
       " '3_a9_1': 4,\n",
       " '3_a9_2': 5,\n",
       " '3_a9_3': 6,\n",
       " '3_b3_1': 7,\n",
       " '3_b6_1': 8,\n",
       " '3_b7_1': 9,\n",
       " '3_b8_1': 10,\n",
       " '4_00_0': 11,\n",
       " '5_00_0': 12,\n",
       " '5_a7_2': 13,\n",
       " '5_b6_1': 14,\n",
       " '5_b7_1': 15,\n",
       " '5_b8_1': 16,\n",
       " '6_00_0': 17,\n",
       " '6_a11_1': 18,\n",
       " '6_a11_2': 19,\n",
       " '6_a12_1': 20,\n",
       " '6_a12_2': 21,\n",
       " '6_b4_1': 22,\n",
       " '6_b4_3': 23,\n",
       " '6_b5_1': 24}"
      ]
     },
     "metadata": {},
     "output_type": "display_data"
    }
   ],
   "source": [
    "# ============= add\n",
    "labels = pd.read_csv('./data/train.csv')\n",
    "\n",
    "train_label_encoder = {}\n",
    "label_cnt = 0\n",
    "previous_label = '0_00_0'\n",
    "for i, label in enumerate(tqdm(sorted(labels['label']))) :\n",
    "    crop_val = label.split('_')[0] # crop\n",
    "    disease_val = label.split('_')[1] # disease\n",
    "    risk_val = label.split('_')[2] # risk\n",
    "    \n",
    "    tmp_label = f'{crop_val}_{disease_val}_{risk_val}'\n",
    "    if previous_label != tmp_label :\n",
    "        train_label_encoder[tmp_label] = label_cnt\n",
    "        previous_label = tmp_label\n",
    "        label_cnt += 1\n",
    "        \n",
    "train_label_decoder = {val : key for key, val in train_label_encoder.items()}\n",
    "display(train_label_decoder)\n",
    "display(train_label_encoder)"
   ]
  },
  {
   "cell_type": "markdown",
   "id": "403d05ab",
   "metadata": {},
   "source": [
    "# Dataset 구현"
   ]
  },
  {
   "cell_type": "code",
   "execution_count": 5,
   "id": "d11135f2",
   "metadata": {},
   "outputs": [],
   "source": [
    "class CustomDataset(Dataset):\n",
    "    def __init__(self, files, transforms, mode='train'):\n",
    "        self.mode = mode\n",
    "        self.files = files\n",
    "        self.label_encoder = train_label_encoder #label_encoder\n",
    "        self.transforms = transforms\n",
    "        \n",
    "    def __len__(self):\n",
    "        return len(self.files)\n",
    "    \n",
    "    def __getitem__(self, i):\n",
    "        file = self.files[i]\n",
    "        file_name = file.split('\\\\')[-1]\n",
    "        \n",
    "        \n",
    "        # image\n",
    "        image_path = f'{file}/{file_name}.jpg'\n",
    "        img = cv2.imread(image_path)\n",
    "        img = cv2.cvtColor(img, cv2.COLOR_BGR2RGB)\n",
    "#         img = cv2.resize(img, dsize=(224, 224), interpolation=cv2.INTER_AREA)\n",
    "#         img = img.astype(np.float32)/255\n",
    "        img = self.transforms(image=img)[\"image\"]\n",
    "        img = img.transpose(2,0,1)\n",
    "        \n",
    "        if self.mode == 'train':\n",
    "            json_path = f'{file}/{file_name}.json'\n",
    "            with open(json_path, 'r') as f:\n",
    "                json_file = json.load(f)\n",
    "            \n",
    "            crop = json_file['annotations']['crop']\n",
    "            disease = json_file['annotations']['disease']\n",
    "            risk = json_file['annotations']['risk']\n",
    "            label = f'{crop}_{disease}_{risk}'\n",
    "            \n",
    "            return {\n",
    "                'img' : torch.tensor(img, dtype=torch.float32) / 255.0,\n",
    "                'label' : torch.tensor(self.label_encoder[label], dtype=torch.long)\n",
    "            }\n",
    "        else:\n",
    "            return {\n",
    "                'img' : torch.tensor(img, dtype=torch.float32)/ 255.0,\n",
    "                'csv_feature' : torch.tensor(csv_feature, dtype=torch.float32)\n",
    "            }"
   ]
  },
  {
   "cell_type": "markdown",
   "id": "92ef89ad",
   "metadata": {},
   "source": [
    "# Model 선언"
   ]
  },
  {
   "cell_type": "code",
   "execution_count": 6,
   "id": "a8ed2375",
   "metadata": {},
   "outputs": [],
   "source": [
    "import timm\n",
    "\n",
    "class ViT(nn.Module):\n",
    "    def __init__(self):\n",
    "        super(ViT, self).__init__()\n",
    "        self.model = timm.create_model('deit_small_patch16_224', num_classes=25, pretrained=True)\n",
    "    \n",
    "    def forward(self, inputs):\n",
    "        output = self.model(inputs)\n",
    "        return output"
   ]
  },
  {
   "cell_type": "markdown",
   "id": "998a812f",
   "metadata": {},
   "source": [
    "# Hyperparmeter 선언"
   ]
  },
  {
   "cell_type": "code",
   "execution_count": 7,
   "id": "ce671a4f",
   "metadata": {},
   "outputs": [],
   "source": [
    "device = torch.device(\"cuda:0\")#(\"cpu\")\n",
    "batch_size = 16\n",
    "class_n = len(train_label_encoder)\n",
    "learning_rate = 1e-4\n",
    "embedding_dim = 512\n",
    "epochs = 20\n",
    "vision_pretrain = True\n",
    "save_path = 'kfold_vit.pt'\n",
    "fold_n = 3"
   ]
  },
  {
   "cell_type": "markdown",
   "id": "261edba7",
   "metadata": {},
   "source": [
    "# Image Transform"
   ]
  },
  {
   "cell_type": "code",
   "execution_count": 8,
   "id": "0d912c6d",
   "metadata": {},
   "outputs": [],
   "source": [
    "train_transforms = A.Compose([\n",
    "                A.Resize(224 ,224),\n",
    "                A.OneOf([\n",
    "                    A.Rotate(),\n",
    "                    A.HorizontalFlip(),\n",
    "                    A.VerticalFlip()\n",
    "                ], p=1)\n",
    "            ])\n",
    "\n",
    "val_transforms = A.Compose([\n",
    "    A.Resize(224,224)\n",
    "])"
   ]
  },
  {
   "cell_type": "markdown",
   "id": "141ca141",
   "metadata": {},
   "source": [
    "# CutMix"
   ]
  },
  {
   "cell_type": "code",
   "execution_count": 9,
   "id": "28f64783",
   "metadata": {},
   "outputs": [],
   "source": [
    "def rand_bbox(size, lam):\n",
    "    W = size[2]\n",
    "    H = size[3]\n",
    "    cut_rat = np.sqrt(1. - lam)\n",
    "    cut_w = np.int(W * cut_rat)\n",
    "    cut_h = np.int(H * cut_rat)\n",
    " \n",
    "    # uniform\n",
    "    cx = np.random.randint(W)\n",
    "    cy = np.random.randint(H)\n",
    "\n",
    "    bbx1 = np.clip(cx - cut_w // 2, 0, W)\n",
    "    bby1 = np.clip(cy - cut_h // 2, 0, H)\n",
    "    bbx2 = np.clip(cx + cut_w // 2, 0, W)\n",
    "    bby2 = np.clip(cy + cut_h // 2, 0, H)\n",
    "\n",
    "    return bbx1, bby1, bbx2, bby2"
   ]
  },
  {
   "cell_type": "markdown",
   "id": "d4dde5f5",
   "metadata": {},
   "source": [
    "# Training"
   ]
  },
  {
   "cell_type": "code",
   "execution_count": 10,
   "id": "a073f9eb",
   "metadata": {},
   "outputs": [],
   "source": [
    "def accuracy_function(real, pred):    \n",
    "    real = real.cpu()\n",
    "    pred = torch.argmax(pred, dim=1).cpu()\n",
    "    score = f1_score(real, pred, average='macro')\n",
    "    return score\n",
    "\n",
    "def train_step(batch_item, training):\n",
    "    img = batch_item['img'].to(device)\n",
    "    label = batch_item['label'].to(device)\n",
    "    \n",
    "    lam = np.random.beta(1.0, 1.0)\n",
    "    \n",
    "    if training is True:\n",
    "        model.train()\n",
    "        optimizer.zero_grad()\n",
    "        with torch.cuda.amp.autocast():\n",
    "            # add - cutmix\n",
    "            rand_index = torch.randperm(img.size()[0])\n",
    "            target_a = label\n",
    "            target_b = label[rand_index]\n",
    "            bbx1, bby1, bbx2, bby2 = rand_bbox(img.size(), lam)\n",
    "            img[:, :, bbx1:bbx2, bby1:bby2] = img[rand_index, :, bbx1:bbx2, bby1:bby2]\n",
    "            lam = 1 - ((bbx2 - bbx1) * (bby2 - bby1) / (img.size()[-1] * img.size()[-2]))\n",
    "            \n",
    "            output = model(img)\n",
    "            loss = criterion(output, target_a) * lam + criterion(output, target_b) * (1. - lam)\n",
    "            \n",
    "#             output = model(img, csv_feature)\n",
    "#             loss = criterion(output, label)\n",
    "        loss.backward()\n",
    "        optimizer.step()\n",
    "        score = accuracy_function(label, output)\n",
    "        return loss, score\n",
    "    else:\n",
    "        model.eval()\n",
    "        with torch.no_grad():\n",
    "            output = model(img)\n",
    "            loss = criterion(output, label)\n",
    "        score = accuracy_function(label, output)\n",
    "        return loss, score"
   ]
  },
  {
   "cell_type": "markdown",
   "id": "97734351",
   "metadata": {},
   "source": [
    "# Loss, Optim"
   ]
  },
  {
   "cell_type": "code",
   "execution_count": 11,
   "id": "344fb0ee",
   "metadata": {},
   "outputs": [],
   "source": [
    "model = ViT()\n",
    "model = model.to(device)\n",
    "optimizer = torch.optim.Adam(model.parameters(), lr=learning_rate)\n",
    "criterion = nn.CrossEntropyLoss()"
   ]
  },
  {
   "cell_type": "markdown",
   "id": "57a4cb61",
   "metadata": {},
   "source": [
    "# Label"
   ]
  },
  {
   "cell_type": "code",
   "execution_count": 12,
   "id": "d7df91cb",
   "metadata": {},
   "outputs": [
    {
     "name": "stderr",
     "output_type": "stream",
     "text": [
      "100%|████████████████████████████████████████████████████████████████████████████| 5767/5767 [00:01<00:00, 4083.66it/s]\n"
     ]
    }
   ],
   "source": [
    "json_path = glob('./data/train/*/*.json')\n",
    "\n",
    "labels = []\n",
    "for path in tqdm(json_path) :\n",
    "    json_file = json.load(open(path, 'r'))\n",
    "    \n",
    "    crop = json_file['annotations']['crop']\n",
    "    disease = json_file['annotations']['disease']\n",
    "    risk = json_file['annotations']['risk']\n",
    "    \n",
    "    label = f'{crop}_{disease}_{risk}'\n",
    "    labels.append(train_label_encoder[label])"
   ]
  },
  {
   "cell_type": "code",
   "execution_count": 13,
   "id": "eca1debd",
   "metadata": {},
   "outputs": [],
   "source": [
    "data_list = glob('./data/train/*')\n",
    "label_list = labels\n",
    "\n",
    "kfold = StratifiedKFold(n_splits=4, random_state=13, shuffle=True)"
   ]
  },
  {
   "cell_type": "code",
   "execution_count": 14,
   "id": "5e445a11",
   "metadata": {},
   "outputs": [
    {
     "name": "stdout",
     "output_type": "stream",
     "text": [
      "\n",
      "\n",
      "\n",
      "===== k_fold : 1 / 5 =====\n"
     ]
    },
    {
     "name": "stderr",
     "output_type": "stream",
     "text": [
      "271it [00:44,  6.03it/s, Epoch=1, Loss=0.783355, Mean Loss=1.555314, Mean F-1=0.393514]\n",
      "91it [00:11,  8.03it/s, Epoch=1, Val Loss=0.990784, Mean Val Loss=0.499899, Mean Val F-1=0.685576]\n",
      "271it [00:45,  6.02it/s, Epoch=2, Loss=0.882115, Mean Loss=1.026167, Mean F-1=0.546119]\n",
      "91it [00:11,  7.83it/s, Epoch=2, Val Loss=0.195025, Mean Val Loss=0.306329, Mean Val F-1=0.816577]\n",
      "271it [00:47,  5.69it/s, Epoch=3, Loss=1.128675, Mean Loss=0.851288, Mean F-1=0.635139]\n",
      "91it [00:12,  7.34it/s, Epoch=3, Val Loss=0.141489, Mean Val Loss=0.203728, Mean Val F-1=0.834897]\n",
      "271it [00:48,  5.55it/s, Epoch=4, Loss=0.248737, Mean Loss=0.788483, Mean F-1=0.643838]\n",
      "91it [00:12,  7.16it/s, Epoch=4, Val Loss=0.236910, Mean Val Loss=0.182283, Mean Val F-1=0.850597]\n",
      "271it [00:49,  5.45it/s, Epoch=5, Loss=0.900728, Mean Loss=0.752014, Mean F-1=0.679291]\n",
      "91it [00:13,  6.81it/s, Epoch=5, Val Loss=0.181925, Mean Val Loss=0.175031, Mean Val F-1=0.853718]\n",
      "271it [00:51,  5.31it/s, Epoch=6, Loss=0.407564, Mean Loss=0.716682, Mean F-1=0.672175]\n",
      "91it [00:14,  6.19it/s, Epoch=6, Val Loss=0.035757, Mean Val Loss=0.144697, Mean Val F-1=0.873765]\n",
      "271it [00:53,  5.10it/s, Epoch=7, Loss=0.380186, Mean Loss=0.684081, Mean F-1=0.709242]\n",
      "91it [00:13,  6.76it/s, Epoch=7, Val Loss=0.193141, Mean Val Loss=0.136617, Mean Val F-1=0.895878]\n",
      "271it [00:50,  5.33it/s, Epoch=8, Loss=0.323135, Mean Loss=0.663463, Mean F-1=0.715024]\n",
      "91it [00:12,  7.03it/s, Epoch=8, Val Loss=0.334399, Mean Val Loss=0.181453, Mean Val F-1=0.855138]\n",
      "271it [00:52,  5.17it/s, Epoch=9, Loss=0.956611, Mean Loss=0.656464, Mean F-1=0.702671]\n",
      "91it [00:15,  5.86it/s, Epoch=9, Val Loss=0.065151, Mean Val Loss=0.140044, Mean Val F-1=0.884689]\n",
      "271it [00:54,  4.98it/s, Epoch=10, Loss=0.635003, Mean Loss=0.626047, Mean F-1=0.717864]\n",
      "91it [00:13,  6.56it/s, Epoch=10, Val Loss=0.102879, Mean Val Loss=0.150518, Mean Val F-1=0.871643]\n",
      "271it [00:53,  5.07it/s, Epoch=11, Loss=0.422197, Mean Loss=0.610436, Mean F-1=0.756149]\n",
      "91it [00:15,  6.05it/s, Epoch=11, Val Loss=0.265457, Mean Val Loss=0.156659, Mean Val F-1=0.885247]\n",
      "271it [00:54,  4.96it/s, Epoch=12, Loss=0.485559, Mean Loss=0.618062, Mean F-1=0.755336]\n",
      "91it [00:16,  5.67it/s, Epoch=12, Val Loss=0.124188, Mean Val Loss=0.148305, Mean Val F-1=0.886126]\n",
      "271it [01:13,  3.69it/s, Epoch=13, Loss=0.460121, Mean Loss=0.606642, Mean F-1=0.720287]\n",
      "91it [00:18,  4.95it/s, Epoch=13, Val Loss=0.131065, Mean Val Loss=0.141551, Mean Val F-1=0.882627]\n",
      "271it [01:16,  3.56it/s, Epoch=14, Loss=0.468458, Mean Loss=0.615887, Mean F-1=0.754833]\n",
      "91it [00:19,  4.69it/s, Epoch=14, Val Loss=0.067675, Mean Val Loss=0.124192, Mean Val F-1=0.896549]\n",
      "271it [01:17,  3.50it/s, Epoch=15, Loss=0.988696, Mean Loss=0.579074, Mean F-1=0.786713]\n",
      "91it [00:19,  4.78it/s, Epoch=15, Val Loss=0.252590, Mean Val Loss=0.127099, Mean Val F-1=0.910281]\n",
      "271it [01:17,  3.51it/s, Epoch=16, Loss=0.323405, Mean Loss=0.580171, Mean F-1=0.761360]\n",
      "91it [00:19,  4.69it/s, Epoch=16, Val Loss=0.570126, Mean Val Loss=0.135171, Mean Val F-1=0.912019]\n",
      "271it [01:19,  3.42it/s, Epoch=17, Loss=0.427445, Mean Loss=0.588599, Mean F-1=0.753849]\n",
      "91it [00:19,  4.58it/s, Epoch=17, Val Loss=0.214789, Mean Val Loss=0.117202, Mean Val F-1=0.917580]\n",
      "271it [01:19,  3.40it/s, Epoch=18, Loss=0.351698, Mean Loss=0.584735, Mean F-1=0.762620]\n",
      "91it [00:20,  4.35it/s, Epoch=18, Val Loss=0.531143, Mean Val Loss=0.167353, Mean Val F-1=0.883422]\n",
      "271it [01:25,  3.18it/s, Epoch=19, Loss=0.701413, Mean Loss=0.574126, Mean F-1=0.775562]\n",
      "91it [00:20,  4.35it/s, Epoch=19, Val Loss=0.036623, Mean Val Loss=0.179820, Mean Val F-1=0.863967]\n",
      "271it [01:26,  3.13it/s, Epoch=20, Loss=0.971768, Mean Loss=0.556688, Mean F-1=0.791862]\n",
      "91it [00:21,  4.28it/s, Epoch=20, Val Loss=0.382443, Mean Val Loss=0.120370, Mean Val F-1=0.899298]\n"
     ]
    },
    {
     "name": "stdout",
     "output_type": "stream",
     "text": [
      "\n",
      "\n",
      "\n",
      "===== k_fold : 2 / 5 =====\n"
     ]
    },
    {
     "name": "stderr",
     "output_type": "stream",
     "text": [
      "271it [01:11,  3.81it/s, Epoch=1, Loss=1.014112, Mean Loss=1.489644, Mean F-1=0.432736]\n",
      "91it [00:16,  5.42it/s, Epoch=1, Val Loss=0.056821, Mean Val Loss=0.453930, Mean Val F-1=0.690241]\n",
      "271it [01:09,  3.92it/s, Epoch=2, Loss=1.100026, Mean Loss=0.990206, Mean F-1=0.557154]\n",
      "91it [00:16,  5.41it/s, Epoch=2, Val Loss=0.038702, Mean Val Loss=0.322274, Mean Val F-1=0.751129]\n",
      "271it [01:11,  3.77it/s, Epoch=3, Loss=0.709482, Mean Loss=0.862065, Mean F-1=0.605652]\n",
      "91it [00:16,  5.39it/s, Epoch=3, Val Loss=0.020567, Mean Val Loss=0.228591, Mean Val F-1=0.792195]\n",
      "271it [01:10,  3.84it/s, Epoch=4, Loss=0.692506, Mean Loss=0.756124, Mean F-1=0.661559]\n",
      "91it [00:17,  5.19it/s, Epoch=4, Val Loss=0.014186, Mean Val Loss=0.191512, Mean Val F-1=0.826152]\n",
      "271it [01:10,  3.83it/s, Epoch=5, Loss=0.735779, Mean Loss=0.755708, Mean F-1=0.665787]\n",
      "91it [00:17,  5.09it/s, Epoch=5, Val Loss=0.010479, Mean Val Loss=0.176980, Mean Val F-1=0.845643]\n",
      "271it [01:11,  3.79it/s, Epoch=6, Loss=0.402106, Mean Loss=0.690964, Mean F-1=0.675960]\n",
      "91it [00:17,  5.23it/s, Epoch=6, Val Loss=0.019150, Mean Val Loss=0.160242, Mean Val F-1=0.861722]\n",
      "271it [01:10,  3.83it/s, Epoch=7, Loss=1.134494, Mean Loss=0.693317, Mean F-1=0.701062]\n",
      "91it [00:17,  5.07it/s, Epoch=7, Val Loss=0.006711, Mean Val Loss=0.139853, Mean Val F-1=0.867479]\n",
      "271it [01:11,  3.80it/s, Epoch=8, Loss=0.155882, Mean Loss=0.667457, Mean F-1=0.724956]\n",
      "91it [00:17,  5.07it/s, Epoch=8, Val Loss=0.007436, Mean Val Loss=0.133147, Mean Val F-1=0.883851]\n",
      "271it [01:13,  3.69it/s, Epoch=9, Loss=0.697535, Mean Loss=0.643922, Mean F-1=0.724975]\n",
      "91it [00:18,  4.99it/s, Epoch=9, Val Loss=0.003706, Mean Val Loss=0.120759, Mean Val F-1=0.887909]\n",
      "271it [01:15,  3.61it/s, Epoch=10, Loss=0.889479, Mean Loss=0.629002, Mean F-1=0.746625]\n",
      "91it [00:17,  5.13it/s, Epoch=10, Val Loss=0.010878, Mean Val Loss=0.147277, Mean Val F-1=0.864324]\n",
      "271it [01:13,  3.69it/s, Epoch=11, Loss=0.620679, Mean Loss=0.623926, Mean F-1=0.740121]\n",
      "91it [00:18,  5.04it/s, Epoch=11, Val Loss=0.006154, Mean Val Loss=0.127749, Mean Val F-1=0.877339]\n",
      "271it [01:14,  3.62it/s, Epoch=12, Loss=0.660926, Mean Loss=0.623167, Mean F-1=0.754062]\n",
      "91it [00:18,  5.05it/s, Epoch=12, Val Loss=0.005843, Mean Val Loss=0.141829, Mean Val F-1=0.879950]\n",
      "271it [01:14,  3.66it/s, Epoch=13, Loss=1.034044, Mean Loss=0.578575, Mean F-1=0.777158]\n",
      "91it [00:17,  5.09it/s, Epoch=13, Val Loss=0.003297, Mean Val Loss=0.133527, Mean Val F-1=0.885063]\n",
      "271it [01:16,  3.56it/s, Epoch=14, Loss=0.551825, Mean Loss=0.586995, Mean F-1=0.748192]\n",
      "91it [00:18,  4.91it/s, Epoch=14, Val Loss=0.005974, Mean Val Loss=0.139670, Mean Val F-1=0.876487]\n",
      "271it [01:16,  3.53it/s, Epoch=15, Loss=0.704387, Mean Loss=0.570899, Mean F-1=0.734175]\n",
      "91it [00:18,  4.84it/s, Epoch=15, Val Loss=0.010581, Mean Val Loss=0.156076, Mean Val F-1=0.872860]\n",
      "271it [01:17,  3.49it/s, Epoch=16, Loss=0.432645, Mean Loss=0.577089, Mean F-1=0.773303]\n",
      "91it [00:19,  4.78it/s, Epoch=16, Val Loss=0.019308, Mean Val Loss=0.156839, Mean Val F-1=0.858891]\n",
      "271it [01:19,  3.39it/s, Epoch=17, Loss=0.536116, Mean Loss=0.590045, Mean F-1=0.746665]\n",
      "91it [00:19,  4.70it/s, Epoch=17, Val Loss=0.007871, Mean Val Loss=0.160678, Mean Val F-1=0.870339]\n",
      "271it [01:20,  3.38it/s, Epoch=18, Loss=0.758473, Mean Loss=0.581410, Mean F-1=0.746430]\n",
      "91it [00:19,  4.69it/s, Epoch=18, Val Loss=0.002746, Mean Val Loss=0.133500, Mean Val F-1=0.881186]\n",
      "271it [01:21,  3.31it/s, Epoch=19, Loss=0.555727, Mean Loss=0.558825, Mean F-1=0.793937]\n",
      "91it [00:19,  4.61it/s, Epoch=19, Val Loss=0.007116, Mean Val Loss=0.148401, Mean Val F-1=0.882413]\n",
      "271it [01:23,  3.23it/s, Epoch=20, Loss=0.348285, Mean Loss=0.569820, Mean F-1=0.768274]\n",
      "91it [00:20,  4.43it/s, Epoch=20, Val Loss=0.009375, Mean Val Loss=0.173015, Mean Val F-1=0.864724]\n"
     ]
    },
    {
     "name": "stdout",
     "output_type": "stream",
     "text": [
      "\n",
      "\n",
      "\n",
      "===== k_fold : 3 / 5 =====\n"
     ]
    },
    {
     "name": "stderr",
     "output_type": "stream",
     "text": [
      "271it [01:08,  3.94it/s, Epoch=1, Loss=0.669771, Mean Loss=1.416518, Mean F-1=0.432783]\n",
      "91it [00:16,  5.52it/s, Epoch=1, Val Loss=0.018199, Mean Val Loss=0.444657, Mean Val F-1=0.688503]\n",
      "271it [01:08,  3.98it/s, Epoch=2, Loss=0.330525, Mean Loss=0.963973, Mean F-1=0.595831]\n",
      "91it [00:16,  5.48it/s, Epoch=2, Val Loss=0.012216, Mean Val Loss=0.306092, Mean Val F-1=0.776938]\n",
      "271it [01:07,  4.03it/s, Epoch=3, Loss=0.655925, Mean Loss=0.831394, Mean F-1=0.644776]\n",
      "91it [00:16,  5.59it/s, Epoch=3, Val Loss=0.011023, Mean Val Loss=0.242859, Mean Val F-1=0.800454]\n",
      "271it [01:08,  3.96it/s, Epoch=4, Loss=0.098560, Mean Loss=0.754971, Mean F-1=0.656345]\n",
      "91it [00:16,  5.49it/s, Epoch=4, Val Loss=0.005347, Mean Val Loss=0.193038, Mean Val F-1=0.843717]\n",
      "271it [01:11,  3.81it/s, Epoch=5, Loss=0.329008, Mean Loss=0.724780, Mean F-1=0.664652]\n",
      "91it [00:16,  5.53it/s, Epoch=5, Val Loss=0.008073, Mean Val Loss=0.251450, Mean Val F-1=0.800272]\n",
      "271it [01:08,  3.96it/s, Epoch=6, Loss=1.074177, Mean Loss=0.714647, Mean F-1=0.678125]\n",
      "91it [00:16,  5.41it/s, Epoch=6, Val Loss=0.002948, Mean Val Loss=0.187375, Mean Val F-1=0.840975]\n",
      "271it [01:04,  4.19it/s, Epoch=7, Loss=0.438313, Mean Loss=0.669500, Mean F-1=0.696081]\n",
      "91it [00:17,  5.35it/s, Epoch=7, Val Loss=0.007333, Mean Val Loss=0.163791, Mean Val F-1=0.856686]\n",
      "271it [01:12,  3.73it/s, Epoch=8, Loss=1.186912, Mean Loss=0.643160, Mean F-1=0.720223]\n",
      "91it [00:17,  5.25it/s, Epoch=8, Val Loss=0.002511, Mean Val Loss=0.191339, Mean Val F-1=0.855380]\n",
      "271it [01:10,  3.84it/s, Epoch=9, Loss=0.632063, Mean Loss=0.646926, Mean F-1=0.716613]\n",
      "91it [00:17,  5.21it/s, Epoch=9, Val Loss=0.003208, Mean Val Loss=0.176215, Mean Val F-1=0.848547]\n",
      "271it [01:12,  3.73it/s, Epoch=10, Loss=0.217829, Mean Loss=0.631510, Mean F-1=0.747406]\n",
      "91it [00:17,  5.15it/s, Epoch=10, Val Loss=0.022159, Mean Val Loss=0.157539, Mean Val F-1=0.878468]\n",
      "271it [01:14,  3.64it/s, Epoch=11, Loss=1.485402, Mean Loss=0.642431, Mean F-1=0.717176]\n",
      "91it [00:17,  5.06it/s, Epoch=11, Val Loss=0.002647, Mean Val Loss=0.174540, Mean Val F-1=0.860105]\n",
      "271it [01:14,  3.64it/s, Epoch=12, Loss=0.977468, Mean Loss=0.642328, Mean F-1=0.711784]\n",
      "91it [00:18,  4.96it/s, Epoch=12, Val Loss=0.003660, Mean Val Loss=0.160122, Mean Val F-1=0.887997]\n",
      "271it [01:15,  3.57it/s, Epoch=13, Loss=0.027174, Mean Loss=0.584420, Mean F-1=0.765010]\n",
      "91it [00:18,  4.93it/s, Epoch=13, Val Loss=0.002747, Mean Val Loss=0.173819, Mean Val F-1=0.858027]\n",
      "271it [01:16,  3.54it/s, Epoch=14, Loss=0.535351, Mean Loss=0.587791, Mean F-1=0.787241]\n",
      "91it [00:18,  4.82it/s, Epoch=14, Val Loss=0.006217, Mean Val Loss=0.130874, Mean Val F-1=0.879376]\n",
      "271it [01:18,  3.46it/s, Epoch=15, Loss=0.251588, Mean Loss=0.591896, Mean F-1=0.725310]\n",
      "91it [00:19,  4.73it/s, Epoch=15, Val Loss=0.002476, Mean Val Loss=0.164428, Mean Val F-1=0.874239]\n",
      "271it [01:19,  3.39it/s, Epoch=16, Loss=0.498610, Mean Loss=0.593668, Mean F-1=0.773984]\n",
      "91it [00:19,  4.70it/s, Epoch=16, Val Loss=0.010024, Mean Val Loss=0.174519, Mean Val F-1=0.872850]\n",
      "271it [01:20,  3.35it/s, Epoch=17, Loss=0.292182, Mean Loss=0.576122, Mean F-1=0.779588]\n",
      "91it [00:19,  4.66it/s, Epoch=17, Val Loss=0.003799, Mean Val Loss=0.187570, Mean Val F-1=0.858081]\n",
      "271it [01:22,  3.27it/s, Epoch=18, Loss=0.481996, Mean Loss=0.595345, Mean F-1=0.760399]\n",
      "91it [00:21,  4.22it/s, Epoch=18, Val Loss=0.002575, Mean Val Loss=0.158867, Mean Val F-1=0.881332]\n",
      "271it [01:27,  3.11it/s, Epoch=19, Loss=0.570665, Mean Loss=0.566173, Mean F-1=0.779551]\n",
      "91it [00:20,  4.38it/s, Epoch=19, Val Loss=0.001669, Mean Val Loss=0.195954, Mean Val F-1=0.862751]\n",
      "271it [01:25,  3.16it/s, Epoch=20, Loss=0.831653, Mean Loss=0.577279, Mean F-1=0.759650]\n",
      "91it [00:20,  4.40it/s, Epoch=20, Val Loss=0.002454, Mean Val Loss=0.170218, Mean Val F-1=0.870665]\n"
     ]
    },
    {
     "name": "stdout",
     "output_type": "stream",
     "text": [
      "\n",
      "\n",
      "\n",
      "===== k_fold : 4 / 5 =====\n"
     ]
    },
    {
     "name": "stderr",
     "output_type": "stream",
     "text": [
      "271it [01:02,  4.34it/s, Epoch=1, Loss=0.451461, Mean Loss=1.417940, Mean F-1=0.439264]\n",
      "91it [00:16,  5.37it/s, Epoch=1, Val Loss=0.854995, Mean Val Loss=0.416639, Mean Val F-1=0.708824]\n",
      "271it [01:06,  4.08it/s, Epoch=2, Loss=0.882926, Mean Loss=0.958822, Mean F-1=0.583037]\n",
      "91it [00:16,  5.52it/s, Epoch=2, Val Loss=0.537625, Mean Val Loss=0.279681, Mean Val F-1=0.784435]\n",
      "271it [01:07,  4.04it/s, Epoch=3, Loss=1.005290, Mean Loss=0.838302, Mean F-1=0.630783]\n",
      "91it [00:16,  5.43it/s, Epoch=3, Val Loss=0.375699, Mean Val Loss=0.201755, Mean Val F-1=0.832146]\n",
      "271it [01:08,  3.98it/s, Epoch=4, Loss=0.658146, Mean Loss=0.775315, Mean F-1=0.637435]\n",
      "91it [00:17,  5.27it/s, Epoch=4, Val Loss=0.074886, Mean Val Loss=0.221010, Mean Val F-1=0.819137]\n",
      "271it [01:07,  3.99it/s, Epoch=5, Loss=0.352205, Mean Loss=0.734860, Mean F-1=0.670154]\n",
      "91it [00:17,  5.19it/s, Epoch=5, Val Loss=0.047051, Mean Val Loss=0.227399, Mean Val F-1=0.816865]\n",
      "271it [01:03,  4.24it/s, Epoch=6, Loss=0.648560, Mean Loss=0.665803, Mean F-1=0.732142]\n",
      "91it [00:15,  5.69it/s, Epoch=6, Val Loss=0.238523, Mean Val Loss=0.162277, Mean Val F-1=0.878935]\n",
      "271it [01:05,  4.11it/s, Epoch=7, Loss=0.569962, Mean Loss=0.671548, Mean F-1=0.715647]\n",
      "91it [00:16,  5.40it/s, Epoch=7, Val Loss=1.731414, Mean Val Loss=0.166027, Mean Val F-1=0.876353]\n",
      "271it [01:07,  4.01it/s, Epoch=8, Loss=0.233746, Mean Loss=0.663523, Mean F-1=0.705894]\n",
      "91it [00:15,  5.72it/s, Epoch=8, Val Loss=0.166439, Mean Val Loss=0.170855, Mean Val F-1=0.866783]\n",
      "271it [01:14,  3.66it/s, Epoch=9, Loss=0.882711, Mean Loss=0.649424, Mean F-1=0.700761]\n",
      "91it [00:17,  5.22it/s, Epoch=9, Val Loss=0.077852, Mean Val Loss=0.147582, Mean Val F-1=0.894338]\n",
      "271it [01:10,  3.86it/s, Epoch=10, Loss=0.556648, Mean Loss=0.630426, Mean F-1=0.726217]\n",
      "91it [00:17,  5.12it/s, Epoch=10, Val Loss=0.111292, Mean Val Loss=0.150613, Mean Val F-1=0.890716]\n",
      "271it [01:11,  3.81it/s, Epoch=11, Loss=0.707466, Mean Loss=0.618584, Mean F-1=0.728323]\n",
      "91it [00:18,  5.06it/s, Epoch=11, Val Loss=0.020411, Mean Val Loss=0.146443, Mean Val F-1=0.886463]\n",
      "271it [01:12,  3.74it/s, Epoch=12, Loss=1.127677, Mean Loss=0.621670, Mean F-1=0.753025]\n",
      "91it [00:19,  4.77it/s, Epoch=12, Val Loss=0.018038, Mean Val Loss=0.137503, Mean Val F-1=0.900669]\n",
      "271it [01:14,  3.64it/s, Epoch=13, Loss=0.871218, Mean Loss=0.599952, Mean F-1=0.745962]\n",
      "91it [00:19,  4.75it/s, Epoch=13, Val Loss=0.020171, Mean Val Loss=0.105863, Mean Val F-1=0.924956]\n",
      "271it [01:15,  3.57it/s, Epoch=14, Loss=0.615254, Mean Loss=0.627208, Mean F-1=0.711987]\n",
      "91it [00:19,  4.63it/s, Epoch=14, Val Loss=0.044566, Mean Val Loss=0.128079, Mean Val F-1=0.905100]\n",
      "271it [01:17,  3.51it/s, Epoch=15, Loss=0.463195, Mean Loss=0.596900, Mean F-1=0.739620]\n",
      "91it [00:19,  4.68it/s, Epoch=15, Val Loss=0.020352, Mean Val Loss=0.144398, Mean Val F-1=0.893232]\n",
      "271it [01:19,  3.39it/s, Epoch=16, Loss=0.270129, Mean Loss=0.581429, Mean F-1=0.744618]\n",
      "91it [00:19,  4.57it/s, Epoch=16, Val Loss=0.070542, Mean Val Loss=0.143592, Mean Val F-1=0.900057]\n",
      "271it [01:19,  3.39it/s, Epoch=17, Loss=0.452587, Mean Loss=0.590916, Mean F-1=0.721886]\n",
      "91it [00:18,  4.81it/s, Epoch=17, Val Loss=0.007954, Mean Val Loss=0.100006, Mean Val F-1=0.917573]\n",
      "271it [01:19,  3.42it/s, Epoch=18, Loss=0.602275, Mean Loss=0.582909, Mean F-1=0.763508]\n",
      "91it [00:19,  4.61it/s, Epoch=18, Val Loss=0.015705, Mean Val Loss=0.128637, Mean Val F-1=0.900561]\n",
      "271it [01:21,  3.34it/s, Epoch=19, Loss=0.553754, Mean Loss=0.582243, Mean F-1=0.733582]\n",
      "91it [00:20,  4.53it/s, Epoch=19, Val Loss=0.022043, Mean Val Loss=0.140696, Mean Val F-1=0.894419]\n",
      "271it [01:21,  3.34it/s, Epoch=20, Loss=0.623451, Mean Loss=0.569275, Mean F-1=0.782613]\n",
      "91it [00:20,  4.49it/s, Epoch=20, Val Loss=0.125406, Mean Val Loss=0.137935, Mean Val F-1=0.912919]\n"
     ]
    }
   ],
   "source": [
    "for k, (fold_train, fold_val) in enumerate(kfold.split(data_list, label_list), 1) :\n",
    "    model = ViT()\n",
    "    model = model.to(device)\n",
    "    optimizer = torch.optim.Adam(model.parameters(), lr=learning_rate)\n",
    "    criterion = nn.CrossEntropyLoss()\n",
    "    \n",
    "    train_data_list = []\n",
    "    val_data_list = []\n",
    "    \n",
    "    for k_train in fold_train :\n",
    "        train_data_list.append(data_list[k_train])\n",
    "    \n",
    "    for k_val in fold_val :\n",
    "        val_data_list.append(data_list[k_val])\n",
    "    \n",
    "    print(f\"\\n\\n\\n===== k_fold : {k} / 5 =====\")\n",
    "    train_dataset = CustomDataset(train_data_list, train_transforms)\n",
    "    val_dataset = CustomDataset(val_data_list, val_transforms)\n",
    "    \n",
    "    train_dataloader = torch.utils.data.DataLoader(train_dataset, batch_size=batch_size, shuffle=True)\n",
    "    val_dataloader = torch.utils.data.DataLoader(val_dataset, batch_size=batch_size, shuffle=False)\n",
    "    \n",
    "    loss_plot, val_loss_plot = [], []\n",
    "    metric_plot, val_metric_plot = [], []\n",
    "\n",
    "    for epoch in range(epochs):\n",
    "        total_loss, total_val_loss = 0, 0\n",
    "        total_acc, total_val_acc = 0, 0\n",
    "\n",
    "        tqdm_dataset = tqdm(enumerate(train_dataloader))\n",
    "        training = True\n",
    "        for batch, batch_item in tqdm_dataset:\n",
    "            batch_loss, batch_acc = train_step(batch_item, training)\n",
    "            total_loss += batch_loss\n",
    "            total_acc += batch_acc\n",
    "\n",
    "            tqdm_dataset.set_postfix({\n",
    "                'Epoch': epoch + 1,\n",
    "                'Loss': '{:06f}'.format(batch_loss.item()),\n",
    "                'Mean Loss' : '{:06f}'.format(total_loss/(batch+1)),\n",
    "                'Mean F-1' : '{:06f}'.format(total_acc/(batch+1))\n",
    "            })\n",
    "        loss_plot.append(total_loss/(batch+1))\n",
    "        metric_plot.append(total_acc/(batch+1))\n",
    "\n",
    "        tqdm_dataset = tqdm(enumerate(val_dataloader))\n",
    "        training = False\n",
    "        for batch, batch_item in tqdm_dataset:\n",
    "            batch_loss, batch_acc = train_step(batch_item, training)\n",
    "            total_val_loss += batch_loss\n",
    "            total_val_acc += batch_acc\n",
    "\n",
    "            tqdm_dataset.set_postfix({\n",
    "                'Epoch': epoch + 1,\n",
    "                'Val Loss': '{:06f}'.format(batch_loss.item()),\n",
    "                'Mean Val Loss' : '{:06f}'.format(total_val_loss/(batch+1)),\n",
    "                'Mean Val F-1' : '{:06f}'.format(total_val_acc/(batch+1))\n",
    "            })\n",
    "        val_loss_plot.append(total_val_loss/(batch+1))\n",
    "        val_metric_plot.append(total_val_acc/(batch+1))\n",
    "\n",
    "        if np.max(val_metric_plot) == val_metric_plot[-1]:\n",
    "            torch.save(model.state_dict(), f'{k}_{save_path}')"
   ]
  },
  {
   "cell_type": "code",
   "execution_count": 15,
   "id": "0db67bed",
   "metadata": {},
   "outputs": [
    {
     "data": {
      "image/png": "[encoded data removed]",
      "text/plain": [
       "<Figure size 720x504 with 1 Axes>"
      ]
     },
     "metadata": {
      "needs_background": "light"
     },
     "output_type": "display_data"
    }
   ],
   "source": [
    "plt.figure(figsize=(10,7))\n",
    "plt.grid()\n",
    "plt.plot(loss_plot, label='train_loss')\n",
    "plt.plot(val_loss_plot, label='val_loss')\n",
    "plt.xlabel('epoch')\n",
    "plt.ylabel('loss')\n",
    "plt.title('loss', fontsize=25)\n",
    "plt.legend()\n",
    "plt.show()"
   ]
  },
  {
   "cell_type": "code",
   "execution_count": 16,
   "id": "9bc5988e",
   "metadata": {},
   "outputs": [
    {
     "data": {
      "image/png": "[encoded data removed]",
      "text/plain": [
       "<Figure size 720x504 with 1 Axes>"
      ]
     },
     "metadata": {
      "needs_background": "light"
     },
     "output_type": "display_data"
    }
   ],
   "source": [
    "plt.figure(figsize=(10, 7))\n",
    "plt.grid()\n",
    "plt.plot(metric_plot, label='train_metric')\n",
    "plt.plot(val_metric_plot, label='val_metric')\n",
    "plt.xlabel('epoch')\n",
    "plt.ylabel('metric')\n",
    "plt.title(\"F-1\", fontsize=25)\n",
    "plt.legend()\n",
    "plt.show()"
   ]
  },
  {
   "cell_type": "code",
   "execution_count": null,
   "id": "abb4ecc1",
   "metadata": {},
   "outputs": [],
   "source": [
    "def softvoting(models, img, n_classes=7) :\n",
    "\n",
    "    predicts = torch.zeros(img.size(0), n_classes)\n",
    "    for model in models :\n",
    "        output = model(img)\n",
    "        output = F.softmax(output.cpu(), dim=1)\n",
    "        predicts += output\n",
    "\n",
    "    # 둘다 값은 똑같이 나옴.\n",
    "    # pred_avg = predicts / len(models)\n",
    "    # answer = pred_avg.argmax(dim=-1)\n",
    "    # _, answer2 = torch.max(pred_avg, 1)\n",
    "\n",
    "    return predicts.detach().cpu() / len(models)"
   ]
  },
  {
   "cell_type": "code",
   "execution_count": null,
   "id": "4455e267",
   "metadata": {},
   "outputs": [],
   "source": [
    "def predict(dataset) :\n",
    "    model.eval()\n",
    "    tqdm_dataset = tqdm(enumerate(dataset))\n",
    "    results = []\n",
    "    \n",
    "    for batch, batch_item in tqdm_dataset :\n",
    "        img = batch_item['img'].to(device)\n",
    "        seq = batch_item['csv_feature'].to(device)\n",
    "        \n",
    "        with torch.no_grad() :\n",
    "            output = model(img)\n",
    "        output = torch.tensor(torch.argmax(output, dim=1), dtype=torch.int32).cpu().numpy()\n",
    "        results.extend(output)\n",
    "    return results\n",
    "\n",
    "model = ViT()\n",
    "model.load_state_dict(torch.load(save_path, map_location=device))\n",
    "model.to(device)\n",
    "\n",
    "predictions = softvoting(models, img)\n",
    "results.append(int(torch.argmax(predictions[0])))\n",
    "\n",
    "preds = predict(test_dataloader)"
   ]
  }
 ],
 "metadata": {
  "kernelspec": {
   "display_name": "Python 3",
   "language": "python",
   "name": "python3"
  },
  "language_info": {
   "codemirror_mode": {
    "name": "ipython",
    "version": 3
   },
   "file_extension": ".py",
   "mimetype": "text/x-python",
   "name": "python",
   "nbconvert_exporter": "python",
   "pygments_lexer": "ipython3",
   "version": "3.6.13"
  }
 },
 "nbformat": 4,
 "nbformat_minor": 5
}

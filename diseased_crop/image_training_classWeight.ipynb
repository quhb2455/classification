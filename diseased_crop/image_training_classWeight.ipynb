{
 "cells": [
  {
   "cell_type": "code",
   "execution_count": 1,
   "id": "563b113e",
   "metadata": {},
   "outputs": [],
   "source": [
    "import numpy as np\n",
    "import pandas as pd\n",
    "import matplotlib.pyplot as plt\n",
    "import cv2\n",
    "\n",
    "from tqdm import tqdm\n",
    "from glob import glob\n",
    "import os\n",
    "import json \n",
    "import timm\n",
    "import torch\n",
    "from torch import nn\n",
    "from torchvision import models\n",
    "from torch.utils.data import Dataset\n",
    "from sklearn.metrics import f1_score\n",
    "from sklearn.model_selection import train_test_split, StratifiedKFold\n",
    "import albumentations as A"
   ]
  },
  {
   "cell_type": "code",
   "execution_count": 2,
   "id": "8bb19e2b",
   "metadata": {},
   "outputs": [],
   "source": [
    "# 변수 설명 csv 파일 참조\n",
    "crop = {'1':'딸기','2':'토마토','3':'파프리카','4':'오이','5':'고추','6':'시설포도'}\n",
    "disease = {'1':{'a1':'딸기잿빛곰팡이병','a2':'딸기흰가루병','b1':'냉해피해','b6':'다량원소결핍 (N)','b7':'다량원소결핍 (P)','b8':'다량원소결핍 (K)'},\n",
    "           '2':{'a5':'토마토흰가루병','a6':'토마토잿빛곰팡이병','b2':'열과','b3':'칼슘결핍','b6':'다량원소결핍 (N)','b7':'다량원소결핍 (P)','b8':'다량원소결핍 (K)'},\n",
    "           '3':{'a9':'파프리카흰가루병','a10':'파프리카잘록병','b3':'칼슘결핍','b6':'다량원소결핍 (N)','b7':'다량원소결핍 (P)','b8':'다량원소결핍 (K)'},\n",
    "           '4':{'a3':'오이노균병','a4':'오이흰가루병','b1':'냉해피해','b6':'다량원소결핍 (N)','b7':'다량원소결핍 (P)','b8':'다량원소결핍 (K)'},\n",
    "           '5':{'a7':'고추탄저병','a8':'고추흰가루병','b3':'칼슘결핍','b6':'다량원소결핍 (N)','b7':'다량원소결핍 (P)','b8':'다량원소결핍 (K)'},\n",
    "           '6':{'a11':'시설포도탄저병','a12':'시설포도노균병','b4':'일소피해','b5':'축과병'}}\n",
    "risk = {'1':'초기','2':'중기','3':'말기'}"
   ]
  },
  {
   "cell_type": "code",
   "execution_count": 3,
   "id": "5feba5fd",
   "metadata": {},
   "outputs": [
    {
     "data": {
      "text/plain": [
       "[('1_00_0', '딸기_정상'),\n",
       " ('1_a1_1', '딸기_딸기잿빛곰팡이병_초기'),\n",
       " ('1_a1_2', '딸기_딸기잿빛곰팡이병_중기'),\n",
       " ('1_a1_3', '딸기_딸기잿빛곰팡이병_말기'),\n",
       " ('1_a2_1', '딸기_딸기흰가루병_초기'),\n",
       " ('1_a2_2', '딸기_딸기흰가루병_중기'),\n",
       " ('1_a2_3', '딸기_딸기흰가루병_말기'),\n",
       " ('1_b1_1', '딸기_냉해피해_초기'),\n",
       " ('1_b1_2', '딸기_냉해피해_중기'),\n",
       " ('1_b1_3', '딸기_냉해피해_말기')]"
      ]
     },
     "execution_count": 3,
     "metadata": {},
     "output_type": "execute_result"
    }
   ],
   "source": [
    "label_description = {}\n",
    "for key, value in disease.items():\n",
    "    label_description[f'{key}_00_0'] = f'{crop[key]}_정상'\n",
    "    for disease_code in value:\n",
    "        for risk_code in risk:\n",
    "            label = f'{key}_{disease_code}_{risk_code}'\n",
    "            label_description[label] = f'{crop[key]}_{disease[key][disease_code]}_{risk[risk_code]}'\n",
    "list(label_description.items())[:10]"
   ]
  },
  {
   "cell_type": "code",
   "execution_count": 4,
   "id": "c88f6be1",
   "metadata": {},
   "outputs": [
    {
     "name": "stderr",
     "output_type": "stream",
     "text": [
      "100%|██████████████████████████████████████████████████████████████████████████| 5767/5767 [00:00<00:00, 720776.88it/s]\n"
     ]
    },
    {
     "data": {
      "text/plain": [
       "{0: '1_00_0',\n",
       " 1: '2_00_0',\n",
       " 2: '2_a5_2',\n",
       " 3: '3_00_0',\n",
       " 4: '3_a9_1',\n",
       " 5: '3_a9_2',\n",
       " 6: '3_a9_3',\n",
       " 7: '3_b3_1',\n",
       " 8: '3_b6_1',\n",
       " 9: '3_b7_1',\n",
       " 10: '3_b8_1',\n",
       " 11: '4_00_0',\n",
       " 12: '5_00_0',\n",
       " 13: '5_a7_2',\n",
       " 14: '5_b6_1',\n",
       " 15: '5_b7_1',\n",
       " 16: '5_b8_1',\n",
       " 17: '6_00_0',\n",
       " 18: '6_a11_1',\n",
       " 19: '6_a11_2',\n",
       " 20: '6_a12_1',\n",
       " 21: '6_a12_2',\n",
       " 22: '6_b4_1',\n",
       " 23: '6_b4_3',\n",
       " 24: '6_b5_1'}"
      ]
     },
     "metadata": {},
     "output_type": "display_data"
    },
    {
     "data": {
      "text/plain": [
       "{'1_00_0': 0,\n",
       " '2_00_0': 1,\n",
       " '2_a5_2': 2,\n",
       " '3_00_0': 3,\n",
       " '3_a9_1': 4,\n",
       " '3_a9_2': 5,\n",
       " '3_a9_3': 6,\n",
       " '3_b3_1': 7,\n",
       " '3_b6_1': 8,\n",
       " '3_b7_1': 9,\n",
       " '3_b8_1': 10,\n",
       " '4_00_0': 11,\n",
       " '5_00_0': 12,\n",
       " '5_a7_2': 13,\n",
       " '5_b6_1': 14,\n",
       " '5_b7_1': 15,\n",
       " '5_b8_1': 16,\n",
       " '6_00_0': 17,\n",
       " '6_a11_1': 18,\n",
       " '6_a11_2': 19,\n",
       " '6_a12_1': 20,\n",
       " '6_a12_2': 21,\n",
       " '6_b4_1': 22,\n",
       " '6_b4_3': 23,\n",
       " '6_b5_1': 24}"
      ]
     },
     "metadata": {},
     "output_type": "display_data"
    }
   ],
   "source": [
    "# ============= add\n",
    "labels = pd.read_csv('./data/train.csv')\n",
    "\n",
    "train_label_encoder = {}\n",
    "label_cnt = 0\n",
    "previous_label = '0_00_0'\n",
    "for i, label in enumerate(tqdm(sorted(labels['label']))) :\n",
    "    crop_val = label.split('_')[0] # crop\n",
    "    disease_val = label.split('_')[1] # disease\n",
    "    risk_val = label.split('_')[2] # risk\n",
    "    \n",
    "    tmp_label = f'{crop_val}_{disease_val}_{risk_val}'\n",
    "    if previous_label != tmp_label :\n",
    "        train_label_encoder[tmp_label] = label_cnt\n",
    "        previous_label = tmp_label\n",
    "        label_cnt += 1\n",
    "        \n",
    "train_label_decoder = {val : key for key, val in train_label_encoder.items()}\n",
    "display(train_label_decoder)\n",
    "display(train_label_encoder)"
   ]
  },
  {
   "cell_type": "code",
   "execution_count": 21,
   "id": "9956f340",
   "metadata": {},
   "outputs": [],
   "source": [
    "class CustomDataset(Dataset):\n",
    "    def __init__(self, files, transforms, mode='train'):\n",
    "        self.mode = mode\n",
    "        self.files = files\n",
    "        self.label_encoder = train_label_encoder #label_encoder\n",
    "        self.transforms = transforms\n",
    "        \n",
    "    def __len__(self):\n",
    "        return len(self.files)\n",
    "    \n",
    "    def __getitem__(self, i):\n",
    "        file = self.files[i]\n",
    "        file_name = file.split('\\\\')[-1]\n",
    "        \n",
    "        \n",
    "        # image\n",
    "        image_path = f'{file}/{file_name}.jpg'\n",
    "        img = cv2.imread(image_path)\n",
    "        img = cv2.cvtColor(img, cv2.COLOR_BGR2RGB)\n",
    "#         img = cv2.resize(img, dsize=(224, 224), interpolation=cv2.INTER_AREA)\n",
    "#         img = img.astype(np.float32)/255\n",
    "        img = self.transforms(image=img)[\"image\"]\n",
    "        img = img.transpose(2,0,1)\n",
    "        \n",
    "        if self.mode == 'train':\n",
    "            json_path = f'{file}/{file_name}.json'\n",
    "            with open(json_path, 'r') as f:\n",
    "                json_file = json.load(f)\n",
    "            \n",
    "            crop = json_file['annotations']['crop']\n",
    "            disease = json_file['annotations']['disease']\n",
    "            risk = json_file['annotations']['risk']\n",
    "            label = f'{crop}_{disease}_{risk}'\n",
    "            \n",
    "            return {\n",
    "                'img' : torch.tensor(img, dtype=torch.float32) / 255.0,\n",
    "                'label' : torch.tensor(self.label_encoder[label], dtype=torch.long)\n",
    "            }\n",
    "        else:\n",
    "            return {\n",
    "                'img' : torch.tensor(img, dtype=torch.float32)/ 255.0\n",
    "            }"
   ]
  },
  {
   "cell_type": "code",
   "execution_count": 6,
   "id": "ebbf4a38",
   "metadata": {},
   "outputs": [],
   "source": [
    "import timm\n",
    "\n",
    "class ViT(nn.Module):\n",
    "    def __init__(self):\n",
    "        super(ViT, self).__init__()\n",
    "        self.model = timm.create_model('deit_small_patch16_224', num_classes=25, pretrained=True)\n",
    "    \n",
    "    def forward(self, inputs):\n",
    "        output = self.model(inputs)\n",
    "        return output"
   ]
  },
  {
   "cell_type": "code",
   "execution_count": 7,
   "id": "ffaaf7d9",
   "metadata": {},
   "outputs": [],
   "source": [
    "device = torch.device(\"cuda:0\")#(\"cpu\")\n",
    "batch_size = 16\n",
    "class_n = len(train_label_encoder)\n",
    "learning_rate = 1e-4\n",
    "embedding_dim = 512\n",
    "epochs = 20\n",
    "vision_pretrain = True\n",
    "save_path = 'kfold_ClassWeight_Deit.pt'\n",
    "fold_n = 3"
   ]
  },
  {
   "cell_type": "code",
   "execution_count": 8,
   "id": "ff52bc11",
   "metadata": {},
   "outputs": [],
   "source": [
    "train_transforms = A.Compose([\n",
    "                A.Resize(224 ,224),\n",
    "                A.OneOf([\n",
    "                    A.Rotate(),\n",
    "                    A.HorizontalFlip(),\n",
    "                    A.VerticalFlip()\n",
    "                ], p=1)\n",
    "            ])\n",
    "\n",
    "val_transforms = A.Compose([\n",
    "    A.Resize(224,224)\n",
    "])"
   ]
  },
  {
   "cell_type": "code",
   "execution_count": 9,
   "id": "92f3110f",
   "metadata": {},
   "outputs": [],
   "source": [
    "def rand_bbox(size, lam):\n",
    "    W = size[2]\n",
    "    H = size[3]\n",
    "    cut_rat = np.sqrt(1. - lam)\n",
    "    cut_w = np.int(W * cut_rat)\n",
    "    cut_h = np.int(H * cut_rat)\n",
    " \n",
    "    # uniform\n",
    "    cx = np.random.randint(W)\n",
    "    cy = np.random.randint(H)\n",
    "\n",
    "    bbx1 = np.clip(cx - cut_w // 2, 0, W)\n",
    "    bby1 = np.clip(cy - cut_h // 2, 0, H)\n",
    "    bbx2 = np.clip(cx + cut_w // 2, 0, W)\n",
    "    bby2 = np.clip(cy + cut_h // 2, 0, H)\n",
    "\n",
    "    return bbx1, bby1, bbx2, bby2"
   ]
  },
  {
   "cell_type": "code",
   "execution_count": 10,
   "id": "d9a467d0",
   "metadata": {},
   "outputs": [],
   "source": [
    "def accuracy_function(real, pred):    \n",
    "    real = real.cpu()\n",
    "    pred = torch.argmax(pred, dim=1).cpu()\n",
    "    score = f1_score(real, pred, average='macro')\n",
    "    return score\n",
    "\n",
    "def train_step(batch_item, training):\n",
    "    img = batch_item['img'].to(device)\n",
    "    label = batch_item['label'].to(device)\n",
    "    \n",
    "    lam = np.random.beta(1.0, 1.0)\n",
    "    \n",
    "    if training is True:\n",
    "        model.train()\n",
    "        optimizer.zero_grad()\n",
    "        with torch.cuda.amp.autocast():\n",
    "            # add - cutmix\n",
    "            rand_index = torch.randperm(img.size()[0])\n",
    "            target_a = label\n",
    "            target_b = label[rand_index]\n",
    "            bbx1, bby1, bbx2, bby2 = rand_bbox(img.size(), lam)\n",
    "            img[:, :, bbx1:bbx2, bby1:bby2] = img[rand_index, :, bbx1:bbx2, bby1:bby2]\n",
    "            lam = 1 - ((bbx2 - bbx1) * (bby2 - bby1) / (img.size()[-1] * img.size()[-2]))\n",
    "            \n",
    "            output = model(img)\n",
    "            loss = criterion(output, target_a) * lam + criterion(output, target_b) * (1. - lam)\n",
    "            \n",
    "#             output = model(img, csv_feature)\n",
    "#             loss = criterion(output, label)\n",
    "        loss.backward()\n",
    "        optimizer.step()\n",
    "        score = accuracy_function(label, output)\n",
    "        return loss, score\n",
    "    else:\n",
    "        model.eval()\n",
    "        with torch.no_grad():\n",
    "            output = model(img)\n",
    "            loss = criterion(output, label)\n",
    "        score = accuracy_function(label, output)\n",
    "        return loss, score"
   ]
  },
  {
   "cell_type": "code",
   "execution_count": 11,
   "id": "da2d78bf",
   "metadata": {},
   "outputs": [],
   "source": [
    "model = ViT()\n",
    "model = model.to(device)\n",
    "optimizer = torch.optim.Adam(model.parameters(), lr=learning_rate)\n",
    "criterion = nn.CrossEntropyLoss()"
   ]
  },
  {
   "cell_type": "markdown",
   "id": "6f76a880",
   "metadata": {},
   "source": [
    "# Class Weight"
   ]
  },
  {
   "cell_type": "code",
   "execution_count": 12,
   "id": "8c30b056",
   "metadata": {},
   "outputs": [
    {
     "name": "stderr",
     "output_type": "stream",
     "text": [
      "100%|██████████████████████████████████████████████████████████████████████████| 5767/5767 [00:00<00:00, 640858.18it/s]\n",
      "100%|██████████████████████████████████████████████████████████████████████████| 5767/5767 [00:00<00:00, 576714.30it/s]"
     ]
    },
    {
     "name": "stdout",
     "output_type": "stream",
     "text": [
      "가장 작은 class 개수 :  12\n",
      "가장 큰 class 개수 :  1177\n"
     ]
    },
    {
     "name": "stderr",
     "output_type": "stream",
     "text": [
      "\n"
     ]
    }
   ],
   "source": [
    "labels = pd.read_csv('./data/train.csv')\n",
    "\n",
    "train_label_encoder = {}\n",
    "label_cnt = 0\n",
    "previous_label = '0_00_0'\n",
    "for i, label in enumerate(tqdm(sorted(labels['label']))) :\n",
    "    crop_val = label.split('_')[0] # crop\n",
    "    disease_val = label.split('_')[1] # disease\n",
    "    risk_val = label.split('_')[2] # risk\n",
    "    \n",
    "    tmp_label = f'{crop_val}_{disease_val}_{risk_val}'\n",
    "    if previous_label != tmp_label :\n",
    "        train_label_encoder[tmp_label] = label_cnt\n",
    "        previous_label = tmp_label\n",
    "        label_cnt += 1\n",
    "        \n",
    "train_label_decoder = {val : key for key, val in train_label_encoder.items()}\n",
    "label_cnt = {k:0 for k, v in train_label_encoder.items()}\n",
    "\n",
    "labels = pd.read_csv('./data/train.csv')\n",
    "\n",
    "previous_label = '0_00_0'\n",
    "for i, label in enumerate(tqdm(sorted(labels['label']))) :\n",
    "    crop_val = label.split('_')[0] # crop\n",
    "    disease_val = label.split('_')[1] # disease\n",
    "    risk_val = label.split('_')[2] # risk\n",
    "    \n",
    "    tmp_label = f'{crop_val}_{disease_val}_{risk_val}'\n",
    "    label_cnt[tmp_label] += 1\n",
    "\n",
    "print(\"가장 작은 class 개수 : \",min(label_cnt.values()))\n",
    "print(\"가장 큰 class 개수 : \", max(label_cnt.values()))\n",
    "min_val = min(label_cnt.values())\n",
    "max_val = max(label_cnt.values())\n",
    "class_weight = [round(max_val/v, 3)for v in label_cnt.values()]\n"
   ]
  },
  {
   "cell_type": "code",
   "execution_count": 13,
   "id": "7a2673ce",
   "metadata": {},
   "outputs": [
    {
     "data": {
      "text/plain": [
       "tensor([ 1.4530,  8.2310,  6.2280,  1.0000,  7.6430, 10.6040, 28.0240,  7.0900,\n",
       "         8.2890,  7.5450,  7.6930,  1.2840, 17.0580, 11.8890,  7.9530,  7.4030,\n",
       "         7.4970,  1.4210, 29.4250, 98.0830, 90.5380, 40.5860, 65.3890, 84.0710,\n",
       "        56.0480])"
      ]
     },
     "execution_count": 13,
     "metadata": {},
     "output_type": "execute_result"
    }
   ],
   "source": [
    "class_weight = torch.tensor(class_weight)\n",
    "class_weight"
   ]
  },
  {
   "cell_type": "code",
   "execution_count": 14,
   "id": "db09f0b7",
   "metadata": {},
   "outputs": [
    {
     "name": "stderr",
     "output_type": "stream",
     "text": [
      "100%|████████████████████████████████████████████████████████████████████████████| 5767/5767 [00:02<00:00, 2879.25it/s]\n"
     ]
    }
   ],
   "source": [
    "json_path = glob('./data/train/*/*.json')\n",
    "\n",
    "labels = []\n",
    "for path in tqdm(json_path) :\n",
    "    json_file = json.load(open(path, 'r'))\n",
    "    \n",
    "    crop = json_file['annotations']['crop']\n",
    "    disease = json_file['annotations']['disease']\n",
    "    risk = json_file['annotations']['risk']\n",
    "    \n",
    "    label = f'{crop}_{disease}_{risk}'\n",
    "    labels.append(train_label_encoder[label])"
   ]
  },
  {
   "cell_type": "code",
   "execution_count": 15,
   "id": "82798a1b",
   "metadata": {},
   "outputs": [],
   "source": [
    "data_list = glob('./data/train/*')\n",
    "label_list = labels\n",
    "\n",
    "kfold = StratifiedKFold(n_splits=4, random_state=13, shuffle=True)"
   ]
  },
  {
   "cell_type": "code",
   "execution_count": 17,
   "id": "f1d6780d",
   "metadata": {},
   "outputs": [
    {
     "name": "stdout",
     "output_type": "stream",
     "text": [
      "\n",
      "\n",
      "\n",
      "===== k_fold : 1 / 5 =====\n"
     ]
    },
    {
     "name": "stderr",
     "output_type": "stream",
     "text": [
      "271it [01:07,  4.01it/s, Epoch=1, Loss=1.300834, Mean Loss=2.425506, Mean F-1=0.219848]\n",
      "91it [00:16,  5.47it/s, Epoch=1, Val Loss=1.324697, Mean Val Loss=1.131607, Mean Val F-1=0.533270]\n",
      "271it [01:05,  4.14it/s, Epoch=2, Loss=0.812437, Mean Loss=1.471890, Mean F-1=0.448148]\n",
      "91it [00:17,  5.33it/s, Epoch=2, Val Loss=3.183519, Mean Val Loss=0.723756, Mean Val F-1=0.696872]\n",
      "271it [01:08,  3.98it/s, Epoch=3, Loss=0.555836, Mean Loss=1.167667, Mean F-1=0.524584]\n",
      "91it [00:16,  5.43it/s, Epoch=3, Val Loss=0.283476, Mean Val Loss=0.570253, Mean Val F-1=0.715841]\n",
      "271it [01:05,  4.14it/s, Epoch=4, Loss=0.298535, Mean Loss=0.994184, Mean F-1=0.555682]\n",
      "91it [00:16,  5.50it/s, Epoch=4, Val Loss=0.405901, Mean Val Loss=0.429031, Mean Val F-1=0.824870]\n",
      "271it [01:05,  4.14it/s, Epoch=5, Loss=1.497446, Mean Loss=0.951122, Mean F-1=0.547458]\n",
      "91it [00:16,  5.48it/s, Epoch=5, Val Loss=0.374036, Mean Val Loss=0.413010, Mean Val F-1=0.802288]\n",
      "271it [01:06,  4.09it/s, Epoch=6, Loss=0.276576, Mean Loss=0.857492, Mean F-1=0.585581]\n",
      "91it [00:16,  5.53it/s, Epoch=6, Val Loss=0.757403, Mean Val Loss=0.308718, Mean Val F-1=0.841190]\n",
      "271it [01:06,  4.10it/s, Epoch=7, Loss=0.365282, Mean Loss=0.803740, Mean F-1=0.599402]\n",
      "91it [00:16,  5.36it/s, Epoch=7, Val Loss=1.310208, Mean Val Loss=0.336657, Mean Val F-1=0.823073]\n",
      "271it [01:07,  4.01it/s, Epoch=8, Loss=0.425583, Mean Loss=0.777973, Mean F-1=0.598366]\n",
      "91it [00:17,  5.33it/s, Epoch=8, Val Loss=0.088281, Mean Val Loss=0.401016, Mean Val F-1=0.838351]\n",
      "271it [01:06,  4.06it/s, Epoch=9, Loss=0.600619, Mean Loss=0.747507, Mean F-1=0.636737]\n",
      "91it [00:17,  5.13it/s, Epoch=9, Val Loss=0.024271, Mean Val Loss=0.354477, Mean Val F-1=0.827561]\n",
      "271it [01:09,  3.92it/s, Epoch=10, Loss=0.222143, Mean Loss=0.668832, Mean F-1=0.647960]\n",
      "91it [00:17,  5.06it/s, Epoch=10, Val Loss=0.063646, Mean Val Loss=0.296186, Mean Val F-1=0.847234]\n",
      "271it [01:09,  3.88it/s, Epoch=11, Loss=1.462820, Mean Loss=0.723618, Mean F-1=0.618689]\n",
      "91it [00:16,  5.38it/s, Epoch=11, Val Loss=0.038522, Mean Val Loss=0.336691, Mean Val F-1=0.849582]\n",
      "271it [01:09,  3.89it/s, Epoch=12, Loss=0.672100, Mean Loss=0.653466, Mean F-1=0.624662]\n",
      "91it [00:16,  5.36it/s, Epoch=12, Val Loss=0.081831, Mean Val Loss=0.287108, Mean Val F-1=0.873836]\n",
      "271it [01:11,  3.77it/s, Epoch=13, Loss=0.432600, Mean Loss=0.673025, Mean F-1=0.624526]\n",
      "91it [00:17,  5.25it/s, Epoch=13, Val Loss=0.183045, Mean Val Loss=0.298387, Mean Val F-1=0.884273]\n",
      "271it [01:09,  3.89it/s, Epoch=14, Loss=0.433392, Mean Loss=0.645984, Mean F-1=0.664385]\n",
      "91it [00:17,  5.17it/s, Epoch=14, Val Loss=0.081258, Mean Val Loss=0.259632, Mean Val F-1=0.896762]\n",
      "271it [01:11,  3.79it/s, Epoch=15, Loss=0.317927, Mean Loss=0.624447, Mean F-1=0.651264]\n",
      "91it [00:17,  5.28it/s, Epoch=15, Val Loss=0.099895, Mean Val Loss=0.290113, Mean Val F-1=0.889595]\n",
      "271it [01:09,  3.88it/s, Epoch=16, Loss=0.349555, Mean Loss=0.602771, Mean F-1=0.653479]\n",
      "91it [00:17,  5.26it/s, Epoch=16, Val Loss=0.069990, Mean Val Loss=0.298530, Mean Val F-1=0.870416]\n",
      "271it [01:10,  3.85it/s, Epoch=17, Loss=0.553921, Mean Loss=0.555709, Mean F-1=0.685712]\n",
      "91it [00:17,  5.22it/s, Epoch=17, Val Loss=0.304752, Mean Val Loss=0.319307, Mean Val F-1=0.885074]\n",
      "271it [01:11,  3.80it/s, Epoch=18, Loss=0.404706, Mean Loss=0.574925, Mean F-1=0.661757]\n",
      "91it [00:17,  5.15it/s, Epoch=18, Val Loss=0.237186, Mean Val Loss=0.249884, Mean Val F-1=0.882700]\n",
      "271it [01:10,  3.86it/s, Epoch=19, Loss=0.459700, Mean Loss=0.580950, Mean F-1=0.671310]\n",
      "91it [00:17,  5.18it/s, Epoch=19, Val Loss=0.175227, Mean Val Loss=0.276688, Mean Val F-1=0.885588]\n",
      "271it [01:11,  3.81it/s, Epoch=20, Loss=0.440260, Mean Loss=0.620882, Mean F-1=0.647682]\n",
      "91it [00:18,  5.05it/s, Epoch=20, Val Loss=0.751767, Mean Val Loss=0.660650, Mean Val F-1=0.765805]\n"
     ]
    },
    {
     "name": "stdout",
     "output_type": "stream",
     "text": [
      "\n",
      "\n",
      "\n",
      "===== k_fold : 2 / 5 =====\n"
     ]
    },
    {
     "name": "stderr",
     "output_type": "stream",
     "text": [
      "271it [01:07,  4.04it/s, Epoch=1, Loss=2.858402, Mean Loss=2.683761, Mean F-1=0.179871]\n",
      "91it [00:16,  5.65it/s, Epoch=1, Val Loss=0.704431, Mean Val Loss=1.310960, Mean Val F-1=0.552737]\n",
      "271it [01:07,  3.99it/s, Epoch=2, Loss=2.085343, Mean Loss=1.600035, Mean F-1=0.428503]\n",
      "91it [00:15,  5.73it/s, Epoch=2, Val Loss=0.361162, Mean Val Loss=0.808809, Mean Val F-1=0.670456]\n",
      "271it [01:06,  4.06it/s, Epoch=3, Loss=0.635228, Mean Loss=1.213927, Mean F-1=0.510188]\n",
      "91it [00:15,  5.69it/s, Epoch=3, Val Loss=0.070803, Mean Val Loss=0.658914, Mean Val F-1=0.703533]\n",
      "271it [01:07,  4.03it/s, Epoch=4, Loss=0.952751, Mean Loss=1.079630, Mean F-1=0.521893]\n",
      "91it [00:16,  5.68it/s, Epoch=4, Val Loss=0.082599, Mean Val Loss=0.561736, Mean Val F-1=0.755892]\n",
      "271it [01:06,  4.05it/s, Epoch=5, Loss=0.207917, Mean Loss=0.990756, Mean F-1=0.557458]\n",
      "91it [00:16,  5.59it/s, Epoch=5, Val Loss=0.069844, Mean Val Loss=0.394532, Mean Val F-1=0.823322]\n",
      "271it [01:06,  4.07it/s, Epoch=6, Loss=0.524983, Mean Loss=0.876739, Mean F-1=0.562570]\n",
      "91it [00:16,  5.66it/s, Epoch=6, Val Loss=0.031609, Mean Val Loss=0.402810, Mean Val F-1=0.766031]\n",
      "271it [01:06,  4.06it/s, Epoch=7, Loss=1.197535, Mean Loss=0.828356, Mean F-1=0.607995]\n",
      "91it [00:16,  5.57it/s, Epoch=7, Val Loss=0.028885, Mean Val Loss=0.394374, Mean Val F-1=0.793254]\n",
      "271it [01:06,  4.05it/s, Epoch=8, Loss=0.864640, Mean Loss=0.832786, Mean F-1=0.595589]\n",
      "91it [00:16,  5.64it/s, Epoch=8, Val Loss=0.016104, Mean Val Loss=0.341334, Mean Val F-1=0.810604]\n",
      "271it [01:06,  4.08it/s, Epoch=9, Loss=0.449704, Mean Loss=0.742734, Mean F-1=0.620331]\n",
      "91it [00:16,  5.67it/s, Epoch=9, Val Loss=0.026155, Mean Val Loss=0.257073, Mean Val F-1=0.862084]\n",
      "271it [01:07,  4.04it/s, Epoch=10, Loss=0.461102, Mean Loss=0.753865, Mean F-1=0.639835]\n",
      "91it [00:16,  5.59it/s, Epoch=10, Val Loss=0.025982, Mean Val Loss=0.272723, Mean Val F-1=0.857350]\n",
      "271it [01:07,  4.00it/s, Epoch=11, Loss=1.077036, Mean Loss=0.676037, Mean F-1=0.646331]\n",
      "91it [00:16,  5.56it/s, Epoch=11, Val Loss=0.031190, Mean Val Loss=0.332808, Mean Val F-1=0.813940]\n",
      "271it [01:07,  4.02it/s, Epoch=12, Loss=0.663475, Mean Loss=0.690181, Mean F-1=0.650876]\n",
      "91it [00:16,  5.51it/s, Epoch=12, Val Loss=0.023026, Mean Val Loss=0.341575, Mean Val F-1=0.813063]\n",
      "271it [01:07,  3.99it/s, Epoch=13, Loss=0.163791, Mean Loss=0.634931, Mean F-1=0.671324]\n",
      "91it [00:16,  5.52it/s, Epoch=13, Val Loss=0.026911, Mean Val Loss=0.367213, Mean Val F-1=0.814440]\n",
      "271it [01:08,  3.96it/s, Epoch=14, Loss=0.038009, Mean Loss=0.605045, Mean F-1=0.669702]\n",
      "91it [00:16,  5.38it/s, Epoch=14, Val Loss=0.019307, Mean Val Loss=0.284126, Mean Val F-1=0.872515]\n",
      "271it [01:10,  3.84it/s, Epoch=15, Loss=0.997461, Mean Loss=0.673765, Mean F-1=0.647869]\n",
      "91it [00:16,  5.44it/s, Epoch=15, Val Loss=0.023861, Mean Val Loss=0.415006, Mean Val F-1=0.807144]\n",
      "271it [01:08,  3.94it/s, Epoch=16, Loss=0.637403, Mean Loss=0.617797, Mean F-1=0.657456]\n",
      "91it [00:16,  5.37it/s, Epoch=16, Val Loss=0.046690, Mean Val Loss=0.347680, Mean Val F-1=0.812484]\n",
      "271it [01:10,  3.82it/s, Epoch=17, Loss=0.620252, Mean Loss=0.620673, Mean F-1=0.644543]\n",
      "91it [00:16,  5.40it/s, Epoch=17, Val Loss=0.020131, Mean Val Loss=0.272515, Mean Val F-1=0.894129]\n",
      "271it [01:05,  4.13it/s, Epoch=18, Loss=0.446905, Mean Loss=0.576547, Mean F-1=0.688547]\n",
      "91it [00:16,  5.37it/s, Epoch=18, Val Loss=0.009682, Mean Val Loss=0.305864, Mean Val F-1=0.869275]\n",
      "271it [01:08,  3.96it/s, Epoch=19, Loss=0.106573, Mean Loss=0.593406, Mean F-1=0.678759]\n",
      "91it [00:17,  5.10it/s, Epoch=19, Val Loss=0.026197, Mean Val Loss=0.376603, Mean Val F-1=0.812667]\n",
      "271it [01:11,  3.79it/s, Epoch=20, Loss=0.207483, Mean Loss=0.567549, Mean F-1=0.670940]\n",
      "91it [00:16,  5.38it/s, Epoch=20, Val Loss=0.075076, Mean Val Loss=0.271173, Mean Val F-1=0.867369]\n"
     ]
    },
    {
     "name": "stdout",
     "output_type": "stream",
     "text": [
      "\n",
      "\n",
      "\n",
      "===== k_fold : 3 / 5 =====\n"
     ]
    },
    {
     "name": "stderr",
     "output_type": "stream",
     "text": [
      "271it [01:08,  3.97it/s, Epoch=1, Loss=1.091067, Mean Loss=2.521501, Mean F-1=0.221303]\n",
      "91it [00:16,  5.59it/s, Epoch=1, Val Loss=0.248231, Mean Val Loss=1.331029, Mean Val F-1=0.505492]\n",
      "271it [01:08,  3.95it/s, Epoch=2, Loss=1.024247, Mean Loss=1.613702, Mean F-1=0.420490]\n",
      "91it [00:16,  5.44it/s, Epoch=2, Val Loss=0.076259, Mean Val Loss=0.917623, Mean Val F-1=0.664358]\n",
      "271it [01:08,  3.98it/s, Epoch=3, Loss=1.869999, Mean Loss=1.250176, Mean F-1=0.495623]\n",
      "91it [00:16,  5.53it/s, Epoch=3, Val Loss=0.022980, Mean Val Loss=0.594899, Mean Val F-1=0.725091]\n",
      "271it [01:08,  3.98it/s, Epoch=4, Loss=1.228548, Mean Loss=1.047724, Mean F-1=0.531181]\n",
      "91it [00:16,  5.54it/s, Epoch=4, Val Loss=0.031328, Mean Val Loss=0.529920, Mean Val F-1=0.730791]\n",
      "271it [01:08,  3.96it/s, Epoch=5, Loss=0.628529, Mean Loss=0.911866, Mean F-1=0.571500]\n",
      "91it [00:16,  5.60it/s, Epoch=5, Val Loss=0.022199, Mean Val Loss=0.499613, Mean Val F-1=0.786470]\n",
      "271it [01:07,  4.02it/s, Epoch=6, Loss=0.433816, Mean Loss=0.902259, Mean F-1=0.574318]\n",
      "91it [00:16,  5.55it/s, Epoch=6, Val Loss=0.036581, Mean Val Loss=0.610545, Mean Val F-1=0.653415]\n",
      "271it [01:08,  3.97it/s, Epoch=7, Loss=0.509441, Mean Loss=0.911998, Mean F-1=0.582020]\n",
      "91it [00:16,  5.52it/s, Epoch=7, Val Loss=0.022610, Mean Val Loss=0.431962, Mean Val F-1=0.820714]\n",
      "271it [01:08,  3.94it/s, Epoch=8, Loss=0.586520, Mean Loss=0.752282, Mean F-1=0.621256]\n",
      "91it [00:16,  5.55it/s, Epoch=8, Val Loss=0.027969, Mean Val Loss=0.431316, Mean Val F-1=0.819499]\n",
      "271it [01:07,  4.00it/s, Epoch=9, Loss=0.094215, Mean Loss=0.747285, Mean F-1=0.612534]\n",
      "91it [00:16,  5.51it/s, Epoch=9, Val Loss=0.064076, Mean Val Loss=0.357369, Mean Val F-1=0.819251]\n",
      "271it [01:07,  3.99it/s, Epoch=10, Loss=0.893435, Mean Loss=0.690393, Mean F-1=0.646234]\n",
      "91it [00:16,  5.61it/s, Epoch=10, Val Loss=0.019466, Mean Val Loss=0.370883, Mean Val F-1=0.843120]\n",
      "271it [01:08,  3.95it/s, Epoch=11, Loss=0.486271, Mean Loss=0.675124, Mean F-1=0.636897]\n",
      "91it [00:17,  5.33it/s, Epoch=11, Val Loss=0.013182, Mean Val Loss=0.387006, Mean Val F-1=0.853511]\n",
      "271it [01:09,  3.91it/s, Epoch=12, Loss=0.597076, Mean Loss=0.722832, Mean F-1=0.633367]\n",
      "91it [00:16,  5.48it/s, Epoch=12, Val Loss=0.022967, Mean Val Loss=0.416543, Mean Val F-1=0.832206]\n",
      "271it [01:08,  3.94it/s, Epoch=13, Loss=0.799084, Mean Loss=0.641811, Mean F-1=0.652611]\n",
      "91it [00:16,  5.48it/s, Epoch=13, Val Loss=0.031479, Mean Val Loss=0.353537, Mean Val F-1=0.846965]\n",
      "271it [01:01,  4.44it/s, Epoch=14, Loss=0.277714, Mean Loss=0.620001, Mean F-1=0.670214]\n",
      "91it [00:17,  5.34it/s, Epoch=14, Val Loss=0.011951, Mean Val Loss=0.465893, Mean Val F-1=0.829155]\n",
      "271it [01:08,  3.97it/s, Epoch=15, Loss=0.360075, Mean Loss=0.603376, Mean F-1=0.668322]\n",
      "91it [00:15,  5.70it/s, Epoch=15, Val Loss=0.007638, Mean Val Loss=0.372596, Mean Val F-1=0.841660]\n",
      "271it [01:09,  3.92it/s, Epoch=16, Loss=1.995715, Mean Loss=0.618556, Mean F-1=0.657964]\n",
      "91it [00:16,  5.52it/s, Epoch=16, Val Loss=0.040466, Mean Val Loss=0.322418, Mean Val F-1=0.874212]\n",
      "271it [01:10,  3.85it/s, Epoch=17, Loss=0.442933, Mean Loss=0.576054, Mean F-1=0.678908]\n",
      "91it [00:16,  5.57it/s, Epoch=17, Val Loss=0.015627, Mean Val Loss=0.613884, Mean Val F-1=0.799062]\n",
      "271it [01:10,  3.85it/s, Epoch=18, Loss=0.453282, Mean Loss=0.631786, Mean F-1=0.653786]\n",
      "91it [00:17,  5.21it/s, Epoch=18, Val Loss=0.045810, Mean Val Loss=0.415477, Mean Val F-1=0.853190]\n",
      "271it [01:05,  4.16it/s, Epoch=19, Loss=0.477676, Mean Loss=0.579572, Mean F-1=0.690290]\n",
      "91it [00:16,  5.63it/s, Epoch=19, Val Loss=0.012795, Mean Val Loss=0.331536, Mean Val F-1=0.890443]\n",
      "271it [01:06,  4.07it/s, Epoch=20, Loss=0.348046, Mean Loss=0.591728, Mean F-1=0.652598]\n",
      "91it [00:17,  5.20it/s, Epoch=20, Val Loss=0.026536, Mean Val Loss=0.401297, Mean Val F-1=0.852661]\n"
     ]
    },
    {
     "name": "stdout",
     "output_type": "stream",
     "text": [
      "\n",
      "\n",
      "\n",
      "===== k_fold : 4 / 5 =====\n"
     ]
    },
    {
     "name": "stderr",
     "output_type": "stream",
     "text": [
      "271it [01:06,  4.09it/s, Epoch=1, Loss=1.124498, Mean Loss=2.465199, Mean F-1=0.210789]\n",
      "91it [00:15,  5.78it/s, Epoch=1, Val Loss=0.295043, Mean Val Loss=1.160399, Mean Val F-1=0.506602]\n",
      "271it [01:10,  3.84it/s, Epoch=2, Loss=0.973943, Mean Loss=1.585186, Mean F-1=0.397897]\n",
      "91it [00:17,  5.32it/s, Epoch=2, Val Loss=0.623834, Mean Val Loss=0.711435, Mean Val F-1=0.630744]\n",
      "271it [01:06,  4.07it/s, Epoch=3, Loss=2.089341, Mean Loss=1.216650, Mean F-1=0.486604]\n",
      "91it [00:17,  5.31it/s, Epoch=3, Val Loss=0.505128, Mean Val Loss=0.645372, Mean Val F-1=0.705093]\n",
      "271it [01:06,  4.07it/s, Epoch=4, Loss=0.627108, Mean Loss=1.079440, Mean F-1=0.551515]\n",
      "91it [00:16,  5.39it/s, Epoch=4, Val Loss=0.448250, Mean Val Loss=0.407854, Mean Val F-1=0.780976]\n",
      "271it [01:07,  4.04it/s, Epoch=5, Loss=0.195487, Mean Loss=0.945123, Mean F-1=0.577750]\n",
      "91it [00:16,  5.46it/s, Epoch=5, Val Loss=0.154619, Mean Val Loss=0.379575, Mean Val F-1=0.831853]\n",
      "271it [01:08,  3.95it/s, Epoch=6, Loss=0.640367, Mean Loss=0.915295, Mean F-1=0.562317]\n",
      "91it [00:16,  5.56it/s, Epoch=6, Val Loss=0.099037, Mean Val Loss=0.377414, Mean Val F-1=0.792043]\n",
      "271it [01:08,  3.97it/s, Epoch=7, Loss=0.851270, Mean Loss=0.863770, Mean F-1=0.574858]\n",
      "91it [00:16,  5.37it/s, Epoch=7, Val Loss=0.088618, Mean Val Loss=0.292218, Mean Val F-1=0.857795]\n",
      "271it [01:08,  3.93it/s, Epoch=8, Loss=0.295822, Mean Loss=0.854322, Mean F-1=0.589272]\n",
      "91it [00:17,  5.24it/s, Epoch=8, Val Loss=0.048569, Mean Val Loss=0.306294, Mean Val F-1=0.865728]\n",
      "271it [01:08,  3.95it/s, Epoch=9, Loss=0.768325, Mean Loss=0.759873, Mean F-1=0.611769]\n",
      "91it [00:17,  5.23it/s, Epoch=9, Val Loss=0.124226, Mean Val Loss=0.383719, Mean Val F-1=0.773211]\n",
      "271it [01:09,  3.88it/s, Epoch=10, Loss=0.335504, Mean Loss=0.763555, Mean F-1=0.616737]\n",
      "91it [00:17,  5.26it/s, Epoch=10, Val Loss=0.007710, Mean Val Loss=0.285637, Mean Val F-1=0.836439]\n",
      "271it [01:08,  3.96it/s, Epoch=11, Loss=0.405560, Mean Loss=0.753688, Mean F-1=0.611878]\n",
      "91it [00:16,  5.63it/s, Epoch=11, Val Loss=0.025049, Mean Val Loss=0.303416, Mean Val F-1=0.828963]\n",
      "271it [01:08,  3.97it/s, Epoch=12, Loss=0.679538, Mean Loss=0.675124, Mean F-1=0.636419]\n",
      "91it [00:16,  5.54it/s, Epoch=12, Val Loss=0.018135, Mean Val Loss=0.308768, Mean Val F-1=0.832793]\n",
      "271it [01:08,  3.95it/s, Epoch=13, Loss=0.322264, Mean Loss=0.662503, Mean F-1=0.638931]\n",
      "91it [00:16,  5.49it/s, Epoch=13, Val Loss=0.030230, Mean Val Loss=0.231832, Mean Val F-1=0.898349]\n",
      "271it [01:07,  4.03it/s, Epoch=14, Loss=0.501676, Mean Loss=0.638539, Mean F-1=0.653713]\n",
      "91it [00:16,  5.46it/s, Epoch=14, Val Loss=0.039264, Mean Val Loss=0.251834, Mean Val F-1=0.896338]\n",
      "271it [01:00,  4.45it/s, Epoch=15, Loss=0.191551, Mean Loss=0.621364, Mean F-1=0.649349]\n",
      "91it [00:12,  7.11it/s, Epoch=15, Val Loss=0.008903, Mean Val Loss=0.252809, Mean Val F-1=0.831629]\n",
      "271it [00:49,  5.46it/s, Epoch=16, Loss=0.161190, Mean Loss=0.592841, Mean F-1=0.667364]\n",
      "91it [00:12,  7.12it/s, Epoch=16, Val Loss=0.040603, Mean Val Loss=0.265876, Mean Val F-1=0.859226]\n",
      "271it [00:49,  5.44it/s, Epoch=17, Loss=0.409117, Mean Loss=0.628798, Mean F-1=0.639455]\n",
      "91it [00:12,  7.11it/s, Epoch=17, Val Loss=0.016171, Mean Val Loss=0.298541, Mean Val F-1=0.800291]\n",
      "271it [00:49,  5.48it/s, Epoch=18, Loss=0.302665, Mean Loss=0.706247, Mean F-1=0.632057]\n",
      "91it [00:12,  7.11it/s, Epoch=18, Val Loss=0.016504, Mean Val Loss=0.327936, Mean Val F-1=0.850289]\n",
      "271it [00:49,  5.45it/s, Epoch=19, Loss=0.279857, Mean Loss=0.584467, Mean F-1=0.658579]\n",
      "91it [00:13,  7.00it/s, Epoch=19, Val Loss=0.011282, Mean Val Loss=0.264986, Mean Val F-1=0.875096]\n",
      "271it [00:50,  5.37it/s, Epoch=20, Loss=0.241967, Mean Loss=0.597201, Mean F-1=0.672545]\n",
      "91it [00:13,  6.95it/s, Epoch=20, Val Loss=0.026552, Mean Val Loss=0.219801, Mean Val F-1=0.879962]\n"
     ]
    }
   ],
   "source": [
    "for k, (fold_train, fold_val) in enumerate(kfold.split(data_list, label_list), 1) :\n",
    "    model = ViT()\n",
    "    model = model.to(device)\n",
    "    optimizer = torch.optim.Adam(model.parameters(), lr=learning_rate)\n",
    "    criterion = nn.CrossEntropyLoss(weight=class_weight.to(device=device, dtype=torch.float))\n",
    "    \n",
    "    train_data_list = []\n",
    "    val_data_list = []\n",
    "    \n",
    "    for k_train in fold_train :\n",
    "        train_data_list.append(data_list[k_train])\n",
    "    \n",
    "    for k_val in fold_val :\n",
    "        val_data_list.append(data_list[k_val])\n",
    "    \n",
    "    print(f\"\\n\\n\\n===== k_fold : {k} / 5 =====\")\n",
    "    train_dataset = CustomDataset(train_data_list, train_transforms)\n",
    "    val_dataset = CustomDataset(val_data_list, val_transforms)\n",
    "    \n",
    "    train_dataloader = torch.utils.data.DataLoader(train_dataset, batch_size=batch_size, shuffle=True)\n",
    "    val_dataloader = torch.utils.data.DataLoader(val_dataset, batch_size=batch_size, shuffle=False)\n",
    "    \n",
    "    loss_plot, val_loss_plot = [], []\n",
    "    metric_plot, val_metric_plot = [], []\n",
    "\n",
    "    for epoch in range(epochs):\n",
    "        total_loss, total_val_loss = 0, 0\n",
    "        total_acc, total_val_acc = 0, 0\n",
    "\n",
    "        tqdm_dataset = tqdm(enumerate(train_dataloader))\n",
    "        training = True\n",
    "        for batch, batch_item in tqdm_dataset:\n",
    "            batch_loss, batch_acc = train_step(batch_item, training)\n",
    "            total_loss += batch_loss\n",
    "            total_acc += batch_acc\n",
    "\n",
    "            tqdm_dataset.set_postfix({\n",
    "                'Epoch': epoch + 1,\n",
    "                'Loss': '{:06f}'.format(batch_loss.item()),\n",
    "                'Mean Loss' : '{:06f}'.format(total_loss/(batch+1)),\n",
    "                'Mean F-1' : '{:06f}'.format(total_acc/(batch+1))\n",
    "            })\n",
    "        loss_plot.append(total_loss/(batch+1))\n",
    "        metric_plot.append(total_acc/(batch+1))\n",
    "\n",
    "        tqdm_dataset = tqdm(enumerate(val_dataloader))\n",
    "        training = False\n",
    "        for batch, batch_item in tqdm_dataset:\n",
    "            batch_loss, batch_acc = train_step(batch_item, training)\n",
    "            total_val_loss += batch_loss\n",
    "            total_val_acc += batch_acc\n",
    "\n",
    "            tqdm_dataset.set_postfix({\n",
    "                'Epoch': epoch + 1,\n",
    "                'Val Loss': '{:06f}'.format(batch_loss.item()),\n",
    "                'Mean Val Loss' : '{:06f}'.format(total_val_loss/(batch+1)),\n",
    "                'Mean Val F-1' : '{:06f}'.format(total_val_acc/(batch+1))\n",
    "            })\n",
    "        val_loss_plot.append(total_val_loss/(batch+1))\n",
    "        val_metric_plot.append(total_val_acc/(batch+1))\n",
    "\n",
    "        if np.max(val_metric_plot) == val_metric_plot[-1]:\n",
    "            torch.save(model.state_dict(), f'{k}_{save_path}')"
   ]
  },
  {
   "cell_type": "code",
   "execution_count": 18,
   "id": "8fc0680d",
   "metadata": {},
   "outputs": [
    {
     "data": {
      "image/png": "[encoded data removed]",
      "text/plain": [
       "<Figure size 720x504 with 1 Axes>"
      ]
     },
     "metadata": {
      "needs_background": "light"
     },
     "output_type": "display_data"
    }
   ],
   "source": [
    "plt.figure(figsize=(10,7))\n",
    "plt.grid()\n",
    "plt.plot(loss_plot, label='train_loss')\n",
    "plt.plot(val_loss_plot, label='val_loss')\n",
    "plt.xlabel('epoch')\n",
    "plt.ylabel('loss')\n",
    "plt.title('loss', fontsize=25)\n",
    "plt.legend()\n",
    "plt.show()"
   ]
  },
  {
   "cell_type": "code",
   "execution_count": 19,
   "id": "1df545e6",
   "metadata": {},
   "outputs": [
    {
     "data": {
      "image/png": "[encoded data removed]",
      "text/plain": [
       "<Figure size 720x504 with 1 Axes>"
      ]
     },
     "metadata": {
      "needs_background": "light"
     },
     "output_type": "display_data"
    }
   ],
   "source": [
    "plt.figure(figsize=(10, 7))\n",
    "plt.grid()\n",
    "plt.plot(metric_plot, label='train_metric')\n",
    "plt.plot(val_metric_plot, label='val_metric')\n",
    "plt.xlabel('epoch')\n",
    "plt.ylabel('metric')\n",
    "plt.title(\"F-1\", fontsize=25)\n",
    "plt.legend()\n",
    "plt.show()"
   ]
  },
  {
   "cell_type": "markdown",
   "id": "7b4848e4",
   "metadata": {},
   "source": [
    "# Test Dataset 정의"
   ]
  },
  {
   "cell_type": "code",
   "execution_count": 27,
   "id": "0a034fd9",
   "metadata": {},
   "outputs": [],
   "source": [
    "val_transforms = A.Compose([\n",
    "    A.Resize(224,224)\n",
    "])\n",
    "\n",
    "test = sorted(glob('data/test/*'))\n",
    "test_dataset = CustomDataset(test, val_transforms, mode = 'test')\n",
    "test_dataloader = torch.utils.data.DataLoader(test_dataset, batch_size=batch_size, shuffle=False)"
   ]
  },
  {
   "cell_type": "code",
   "execution_count": 28,
   "id": "2daa1fc4",
   "metadata": {},
   "outputs": [],
   "source": [
    "import torch.nn.functional as F\n",
    "\n",
    "def softvoting(models, img, n_classes=25) :\n",
    "\n",
    "    predicts = torch.zeros(img.size(0), n_classes)\n",
    "    with torch.no_grad() :\n",
    "        for model in models :\n",
    "            output = model(img)\n",
    "            output = F.softmax(output.cpu(), dim=1)\n",
    "            predicts += output\n",
    "\n",
    "    # 둘다 값은 똑같이 나옴.\n",
    "    # pred_avg = predicts / len(models)\n",
    "    # answer = pred_avg.argmax(dim=-1)\n",
    "    # _, answer2 = torch.max(pred_avg, 1)\n",
    "\n",
    "    return predicts.detach().cpu() / len(models)"
   ]
  },
  {
   "cell_type": "code",
   "execution_count": 29,
   "id": "3c56d905",
   "metadata": {},
   "outputs": [
    {
     "name": "stderr",
     "output_type": "stream",
     "text": [
      "3245it [20:49,  2.60it/s]\n"
     ]
    }
   ],
   "source": [
    "def predict(dataset, models) :\n",
    "    tqdm_dataset = tqdm(enumerate(dataset))\n",
    "    results = []\n",
    "    for batch, batch_item in tqdm_dataset :\n",
    "        img = batch_item['img'].to(device)\n",
    "\n",
    "        predictions = softvoting(models, img)\n",
    "        batch_result = [int(torch.argmax(prediction)) for prediction in predictions]\n",
    "\n",
    "        results.extend(batch_result)\n",
    "    return results\n",
    "\n",
    "models_path = glob('./*_kfold_vit.pt')\n",
    "models = []\n",
    "for model_path in models_path :\n",
    "    model = ViT()\n",
    "    model.load_state_dict(torch.load(model_path, map_location=device))\n",
    "    model.to(device).eval()\n",
    "    models.append(model)\n",
    "\n",
    "    \n",
    "preds = predict(test_dataloader, models)\n",
    "\n",
    "\n"
   ]
  },
  {
   "cell_type": "code",
   "execution_count": 30,
   "id": "50096236",
   "metadata": {},
   "outputs": [],
   "source": [
    "preds_cp = preds"
   ]
  },
  {
   "cell_type": "code",
   "execution_count": 31,
   "id": "784d1861",
   "metadata": {
    "scrolled": false
   },
   "outputs": [],
   "source": [
    "preds_cp = np.array([train_label_decoder[int(val)] for val in preds_cp])\n",
    "submission_csv = pd.read_csv('./data/sample_submission.csv')\n",
    "submission_csv['label'] = preds_cp\n",
    "submission_csv.to_csv('./data/kfold_ClassWeight_Deit.csv', index=False)\n"
   ]
  },
  {
   "cell_type": "code",
   "execution_count": null,
   "id": "6b5c2cb9",
   "metadata": {},
   "outputs": [],
   "source": []
  }
 ],
 "metadata": {
  "kernelspec": {
   "display_name": "Python 3 (ipykernel)",
   "language": "python",
   "name": "python3"
  },
  "language_info": {
   "codemirror_mode": {
    "name": "ipython",
    "version": 3
   },
   "file_extension": ".py",
   "mimetype": "text/x-python",
   "name": "python",
   "nbconvert_exporter": "python",
   "pygments_lexer": "ipython3",
   "version": "3.8.12"
  }
 },
 "nbformat": 4,
 "nbformat_minor": 5
}

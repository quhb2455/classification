{
 "cells": [
  {
   "cell_type": "code",
   "execution_count": 99,
   "id": "ab1fa91d",
   "metadata": {},
   "outputs": [],
   "source": [
    "import numpy as np\n",
    "import pandas as pd\n",
    "from tqdm import tqdm\n",
    "import json \n",
    "import cv2\n",
    "from easydict import EasyDict\n",
    "\n",
    "from glob import glob\n",
    "import os\n",
    "\n",
    "import timm\n",
    "import torch\n",
    "from torch import nn as nn\n",
    "from torchvision import models\n",
    "from torch.utils.data import Dataset, DataLoader\n",
    "from sklearn.metrics import f1_score\n",
    "from sklearn.model_selection import train_test_split, StratifiedKFold\n",
    "import albumentations as A\n"
   ]
  },
  {
   "cell_type": "markdown",
   "id": "490dfa4b",
   "metadata": {},
   "source": [
    "# Label Preprocessing"
   ]
  },
  {
   "cell_type": "code",
   "execution_count": 100,
   "id": "1437e9a8",
   "metadata": {
    "scrolled": true
   },
   "outputs": [],
   "source": [
    "def label_preprocessing(path) :\n",
    "    public_dataset_folder = os.listdir(path)\n",
    "\n",
    "    label_encoder = {}\n",
    "    for idx, data_name in enumerate(public_dataset_folder) :\n",
    "        label_encoder[idx] = data_name\n",
    "\n",
    "    label_decoder = {val:key for key, val in label_encoder.items()}\n",
    "    return label_encoder, label_decoder"
   ]
  },
  {
   "cell_type": "markdown",
   "id": "42416bc5",
   "metadata": {},
   "source": [
    "# Transform"
   ]
  },
  {
   "cell_type": "code",
   "execution_count": 101,
   "id": "5755a347",
   "metadata": {},
   "outputs": [],
   "source": [
    "def transform(size=224):\n",
    "    train_transforms = A.Compose([\n",
    "                A.Resize(size ,size),\n",
    "                A.OneOf([\n",
    "                    A.Rotate(),\n",
    "                    A.HorizontalFlip(),\n",
    "                    A.VerticalFlip()\n",
    "                ], p=1)\n",
    "            ])\n",
    "\n",
    "    val_transforms = A.Compose([\n",
    "        A.Resize(size,size)\n",
    "    ])\n",
    "    \n",
    "    return train_transforms, val_transforms"
   ]
  },
  {
   "cell_type": "markdown",
   "id": "1fba3dc6",
   "metadata": {},
   "source": [
    "# Data split"
   ]
  },
  {
   "cell_type": "code",
   "execution_count": 102,
   "id": "fc0a3a46",
   "metadata": {},
   "outputs": [],
   "source": [
    "def data_split(path, label_decoder, test_size=0.2) : \n",
    "    imgs = glob(os.path.join(path, '*/*.jpg'))\n",
    "    label_list = [label_decoder[img_path.split('\\\\')[-2]] for img_path in imgs]\n",
    "    \n",
    "    return train_test_split(imgs, test_size=test_size, shuffle=True, stratify=label_list)"
   ]
  },
  {
   "cell_type": "markdown",
   "id": "2483861e",
   "metadata": {},
   "source": [
    "# Custom Dataset 정의"
   ]
  },
  {
   "cell_type": "code",
   "execution_count": 103,
   "id": "dd98ede1",
   "metadata": {},
   "outputs": [],
   "source": [
    "class VillageDataset(Dataset) :\n",
    "    def __init__(self, files, label_decoder, transform) :\n",
    "        super(VillageDataset, self).__init__()\n",
    "        self.files = files\n",
    "        self.label_decoder = label_decoder\n",
    "        self.transform = transform\n",
    "        \n",
    "    def __len__(self) :\n",
    "        return len(self.files)\n",
    "    \n",
    "    def __getitem__(self, idx) :\n",
    "        file_path = self.files[idx]\n",
    "        \n",
    "        label = self.label_decoder[file_path.split('\\\\')[-2]]\n",
    "        \n",
    "        img = cv2.imread(file_path)\n",
    "        img = cv2.cvtColor(img, cv2.COLOR_BGR2RGB)\n",
    "        \n",
    "        img = self.transform(image=img)['image']\n",
    "        img = img.transpose(2, 0, 1)\n",
    "        \n",
    "        return torch.tensor(img, dtype=torch.float32), torch.tensor(label, dtype=torch.long)"
   ]
  },
  {
   "cell_type": "markdown",
   "id": "3d361569",
   "metadata": {},
   "source": [
    "# Cutmix"
   ]
  },
  {
   "cell_type": "code",
   "execution_count": 115,
   "id": "1dc6e57b",
   "metadata": {},
   "outputs": [],
   "source": [
    "def rand_bbox(size, lam):\n",
    "    W = size[2]\n",
    "    H = size[3]\n",
    "    cut_rat = np.sqrt(1. - lam)\n",
    "    cut_w = int(W * cut_rat)\n",
    "    cut_h = int(H * cut_rat)\n",
    " \n",
    "    # uniform\n",
    "    cx = np.random.randint(W)\n",
    "    cy = np.random.randint(H)\n",
    "\n",
    "    bbx1 = np.clip(cx - cut_w // 2, 0, W)\n",
    "    bby1 = np.clip(cy - cut_h // 2, 0, H)\n",
    "    bbx2 = np.clip(cx + cut_w // 2, 0, W)\n",
    "    bby2 = np.clip(cy + cut_h // 2, 0, H)\n",
    "\n",
    "    return bbx1, bby1, bbx2, bby2"
   ]
  },
  {
   "cell_type": "markdown",
   "id": "e6108f8f",
   "metadata": {},
   "source": [
    "# Model"
   ]
  },
  {
   "cell_type": "code",
   "execution_count": 105,
   "id": "ef454888",
   "metadata": {},
   "outputs": [],
   "source": [
    "class CNN(nn.Module) :\n",
    "    def __init__(self, model_name, n_classes=38) :\n",
    "        super(CNN, self).__init__()\n",
    "        self.model = timm.create_model(model_name, num_classes=n_classes, pretrained=True)\n",
    "    \n",
    "    def forward(self, x) :\n",
    "        x = self.model(x)\n",
    "        return x\n",
    "    \n",
    "def training_setting(opt) : \n",
    "    model = CNN(opt.model_name, opt.n_classes)\n",
    "    model = model.to(opt.device)\n",
    "    optimizer = torch.optim.Adam(model.parameters(), lr=opt.learning_rate)\n",
    "    criterion = nn.CrossEntropyLoss()\n",
    "    \n",
    "    return model, optimizer, criterion"
   ]
  },
  {
   "cell_type": "markdown",
   "id": "61a1b20b",
   "metadata": {},
   "source": [
    "# Training"
   ]
  },
  {
   "cell_type": "code",
   "execution_count": 125,
   "id": "94944960",
   "metadata": {},
   "outputs": [],
   "source": [
    "def accuracy_function(real, pred):    \n",
    "    real = real.cpu()\n",
    "    pred = torch.argmax(pred, dim=1).cpu()\n",
    "    score = f1_score(real, pred, average='macro')\n",
    "    return score\n",
    "\n",
    "def run(train_loader, valid_loader, opt) :\n",
    "    print(\"optin : \",opt)\n",
    "    model, optimizer, criterion = training_setting(opt)\n",
    "    for epoch in range(opt.epochs) : \n",
    "\n",
    "        # training\n",
    "        tqdm_train = tqdm(train_loader)\n",
    "        train_loss, train_macro_f1 = 0, 0\n",
    "        for batch, batch_item in enumerate(tqdm_train) :\n",
    "            model.train()\n",
    "            img = batch_item[0].to(opt.device)\n",
    "            label = batch_item[1].to(opt.device)\n",
    "            \n",
    "            lam = np.random.beta(1.0, 1.0)\n",
    "                        \n",
    "            optimizer.zero_grad()\n",
    "            with torch.cuda.amp.autocast():\n",
    "                # add - cutmix\n",
    "                rand_index = torch.randperm(img.size()[0])\n",
    "                target_a = label\n",
    "                target_b = label[rand_index]\n",
    "                bbx1, bby1, bbx2, bby2 = rand_bbox(img.size(), lam)\n",
    "                img[:, :, bbx1:bbx2, bby1:bby2] = img[rand_index, :, bbx1:bbx2, bby1:bby2]\n",
    "                lam = 1 - ((bbx2 - bbx1) * (bby2 - bby1) / (img.size()[-1] * img.size()[-2]))\n",
    "\n",
    "                output = model(img)\n",
    "                loss = criterion(output, target_a) * lam + criterion(output, target_b) * (1. - lam)\n",
    "\n",
    "            loss.backward()\n",
    "            optimizer.step()\n",
    "            score = accuracy_function(label, output)\n",
    "            \n",
    "            train_loss = (train_loss + loss.item()) / (batch + 1)\n",
    "            train_macro_f1 = (train_macro_f1 + score) / (batch + 1)\n",
    "            \n",
    "            tqdm_train.set_postfix({\"Epoch\" : epoch,\n",
    "                                    \"train_loss\" : train_loss,\n",
    "                                    \"train_f1\" : train_macro_f1})\n",
    "            \n",
    "#             print(f\"Traing Epoch : [{epoch}/{opt.epochs}] loss : {train_loss}  f1 : {train_macro_f1}\",end='\\r')\n",
    "            \n",
    "#         print(f\"Traing Epoch : [{epoch}/{opt.epochs}] loss : {train_loss}  f1 : {train_macro_f1}\")\n",
    "        \n",
    "        # validation\n",
    "        tqdm_valid = tqdm(valid_loader)\n",
    "        valid_loss, valid_macro_f1 = 0, 0\n",
    "        for batch, batch_item in enumerate(tqdm_valid) :\n",
    "            img = batch_item[0].to(opt.device)\n",
    "            label = batch_item[1].to(opt.device)\n",
    "            \n",
    "            model.eval()\n",
    "            with torch.no_grad():\n",
    "                output = model(img)\n",
    "                loss = criterion(output, label)\n",
    "            score = accuracy_function(label, output)\n",
    "            \n",
    "            valid_loss = (valid_loss + loss.item()) / (batch + 1)\n",
    "            valid_macro_f1 = (valid_macro_f1 + score) / (batch + 1)\n",
    "            \n",
    "            tqdm_valid.set_postfix({\"Epoch\" : epoch,\n",
    "                                    \"valid_loss\" : valid_loss,\n",
    "                                    \"valid_f1\" : valid_macro_f1})\n",
    "            \n",
    "#             print(f\"Valid Epoch : [{epoch}/{opt.epochs}] loss : {valid_loss}  f1 : {valid_macro_f1}\",end='\\r')\n",
    "            \n",
    "#         print(f\"Valid Epoch : [{epoch}/{opt.epochs}] loss : {valid_loss}  f1 : {valid_macro_f1}\")\n",
    "        "
   ]
  },
  {
   "cell_type": "code",
   "execution_count": 126,
   "id": "1bb8cbd4",
   "metadata": {},
   "outputs": [],
   "source": [
    "opt = {\"public_dataset_path\" : \"./data/public\",\n",
    "       \"save_path\" : \"./pretrain\"\n",
    "        \"batch_size\" : 16,\n",
    "        \"model_name\" : 'deit_small_patch16_224',\n",
    "        \"n_classes\" : 38,\n",
    "        \"learning_rate\" : 1e-4,\n",
    "        \"device\" : \"cpu\",\n",
    "        \"epochs\" : 15}\n",
    "opt = EasyDict(opt)\n",
    "\n",
    "label_encoder, label_decoder = label_preprocessing(public_dataset_path)\n",
    "train_transforms, valid_transforms = transform()\n",
    "\n",
    "train, valid = data_split(public_dataset_path, label_decoder)\n",
    "# display(len(train))\n",
    "\n",
    "train_dataset = VillageDataset(train, label_decoder, train_transforms)\n",
    "valid_dataset = VillageDataset(train, label_decoder, valid_transforms)\n",
    "\n",
    "train_loader = DataLoader(train_dataset, batch_size=batch_size, shuffle=True)\n",
    "valid_loader = DataLoader(valid_dataset, batch_size=batch_size, shuffle=False)"
   ]
  },
  {
   "cell_type": "code",
   "execution_count": null,
   "id": "bfba9024",
   "metadata": {
    "scrolled": true
   },
   "outputs": [
    {
     "name": "stdout",
     "output_type": "stream",
     "text": [
      "optin :  {'public_dataset_path': '../data/public', 'batch_size': 16, 'model_name': 'deit_small_patch16_224', 'n_classes': 38, 'learning_rate': 0.0001, 'device': 'cpu', 'epochs': 15}\n"
     ]
    },
    {
     "name": "stderr",
     "output_type": "stream",
     "text": [
      "  1%|▏                               | 19/2716 [00:32<1:18:10,  1.74s/it, Epoch=0, train_loss=0.194, train_f1=0.000781]"
     ]
    }
   ],
   "source": [
    "run(train_loader, valid_loader, opt)"
   ]
  },
  {
   "cell_type": "code",
   "execution_count": null,
   "id": "b791168f",
   "metadata": {},
   "outputs": [],
   "source": []
  },
  {
   "cell_type": "code",
   "execution_count": null,
   "id": "a065d8cc",
   "metadata": {},
   "outputs": [],
   "source": []
  }
 ],
 "metadata": {
  "kernelspec": {
   "display_name": "Python 3",
   "language": "python",
   "name": "python3"
  },
  "language_info": {
   "codemirror_mode": {
    "name": "ipython",
    "version": 3
   },
   "file_extension": ".py",
   "mimetype": "text/x-python",
   "name": "python",
   "nbconvert_exporter": "python",
   "pygments_lexer": "ipython3",
   "version": "3.6.13"
  }
 },
 "nbformat": 4,
 "nbformat_minor": 5
}

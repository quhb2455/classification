{
 "cells": [
  {
   "cell_type": "code",
   "execution_count": 1,
   "id": "ccf3b76f",
   "metadata": {},
   "outputs": [],
   "source": [
    "import numpy as np\n",
    "import pandas as pd\n",
    "import matplotlib.pyplot as plt\n",
    "import cv2\n",
    "\n",
    "from tqdm import tqdm\n",
    "from glob import glob\n",
    "import os\n",
    "import json \n",
    "import timm\n",
    "import torch\n",
    "from torch import nn\n",
    "from torchvision import models\n",
    "from torch.utils.data import Dataset\n",
    "from torch.optim.lr_scheduler import CosineAnnealingLR\n",
    "from torch.optim import AdamW\n",
    "\n",
    "from sklearn.metrics import f1_score\n",
    "from sklearn.model_selection import train_test_split, StratifiedKFold\n",
    "import albumentations as A"
   ]
  },
  {
   "cell_type": "code",
   "execution_count": 2,
   "id": "9e92aaaa",
   "metadata": {},
   "outputs": [],
   "source": [
    "# 변수 설명 csv 파일 참조\n",
    "crop = {'1':'딸기','2':'토마토','3':'파프리카','4':'오이','5':'고추','6':'시설포도'}\n",
    "disease = {'1':{'a1':'딸기잿빛곰팡이병','a2':'딸기흰가루병','b1':'냉해피해','b6':'다량원소결핍 (N)','b7':'다량원소결핍 (P)','b8':'다량원소결핍 (K)'},\n",
    "           '2':{'a5':'토마토흰가루병','a6':'토마토잿빛곰팡이병','b2':'열과','b3':'칼슘결핍','b6':'다량원소결핍 (N)','b7':'다량원소결핍 (P)','b8':'다량원소결핍 (K)'},\n",
    "           '3':{'a9':'파프리카흰가루병','a10':'파프리카잘록병','b3':'칼슘결핍','b6':'다량원소결핍 (N)','b7':'다량원소결핍 (P)','b8':'다량원소결핍 (K)'},\n",
    "           '4':{'a3':'오이노균병','a4':'오이흰가루병','b1':'냉해피해','b6':'다량원소결핍 (N)','b7':'다량원소결핍 (P)','b8':'다량원소결핍 (K)'},\n",
    "           '5':{'a7':'고추탄저병','a8':'고추흰가루병','b3':'칼슘결핍','b6':'다량원소결핍 (N)','b7':'다량원소결핍 (P)','b8':'다량원소결핍 (K)'},\n",
    "           '6':{'a11':'시설포도탄저병','a12':'시설포도노균병','b4':'일소피해','b5':'축과병'}}\n",
    "risk = {'1':'초기','2':'중기','3':'말기'}"
   ]
  },
  {
   "cell_type": "code",
   "execution_count": 3,
   "id": "348f7b5c",
   "metadata": {},
   "outputs": [
    {
     "data": {
      "text/plain": [
       "[('1_00_0', '딸기_정상'),\n",
       " ('1_a1_1', '딸기_딸기잿빛곰팡이병_초기'),\n",
       " ('1_a1_2', '딸기_딸기잿빛곰팡이병_중기'),\n",
       " ('1_a1_3', '딸기_딸기잿빛곰팡이병_말기'),\n",
       " ('1_a2_1', '딸기_딸기흰가루병_초기'),\n",
       " ('1_a2_2', '딸기_딸기흰가루병_중기'),\n",
       " ('1_a2_3', '딸기_딸기흰가루병_말기'),\n",
       " ('1_b1_1', '딸기_냉해피해_초기'),\n",
       " ('1_b1_2', '딸기_냉해피해_중기'),\n",
       " ('1_b1_3', '딸기_냉해피해_말기')]"
      ]
     },
     "execution_count": 3,
     "metadata": {},
     "output_type": "execute_result"
    }
   ],
   "source": [
    "label_description = {}\n",
    "for key, value in disease.items():\n",
    "    label_description[f'{key}_00_0'] = f'{crop[key]}_정상'\n",
    "    for disease_code in value:\n",
    "        for risk_code in risk:\n",
    "            label = f'{key}_{disease_code}_{risk_code}'\n",
    "            label_description[label] = f'{crop[key]}_{disease[key][disease_code]}_{risk[risk_code]}'\n",
    "list(label_description.items())[:10]"
   ]
  },
  {
   "cell_type": "code",
   "execution_count": 4,
   "id": "01329cf7",
   "metadata": {},
   "outputs": [
    {
     "name": "stderr",
     "output_type": "stream",
     "text": [
      "100%|██████████████████████████████████████████████████████████████████████████| 5767/5767 [00:00<00:00, 961159.94it/s]\n"
     ]
    },
    {
     "data": {
      "text/plain": [
       "{0: '1_00_0',\n",
       " 1: '2_00_0',\n",
       " 2: '2_a5_2',\n",
       " 3: '3_00_0',\n",
       " 4: '3_a9_1',\n",
       " 5: '3_a9_2',\n",
       " 6: '3_a9_3',\n",
       " 7: '3_b3_1',\n",
       " 8: '3_b6_1',\n",
       " 9: '3_b7_1',\n",
       " 10: '3_b8_1',\n",
       " 11: '4_00_0',\n",
       " 12: '5_00_0',\n",
       " 13: '5_a7_2',\n",
       " 14: '5_b6_1',\n",
       " 15: '5_b7_1',\n",
       " 16: '5_b8_1',\n",
       " 17: '6_00_0',\n",
       " 18: '6_a11_1',\n",
       " 19: '6_a11_2',\n",
       " 20: '6_a12_1',\n",
       " 21: '6_a12_2',\n",
       " 22: '6_b4_1',\n",
       " 23: '6_b4_3',\n",
       " 24: '6_b5_1'}"
      ]
     },
     "metadata": {},
     "output_type": "display_data"
    },
    {
     "data": {
      "text/plain": [
       "{'1_00_0': 0,\n",
       " '2_00_0': 1,\n",
       " '2_a5_2': 2,\n",
       " '3_00_0': 3,\n",
       " '3_a9_1': 4,\n",
       " '3_a9_2': 5,\n",
       " '3_a9_3': 6,\n",
       " '3_b3_1': 7,\n",
       " '3_b6_1': 8,\n",
       " '3_b7_1': 9,\n",
       " '3_b8_1': 10,\n",
       " '4_00_0': 11,\n",
       " '5_00_0': 12,\n",
       " '5_a7_2': 13,\n",
       " '5_b6_1': 14,\n",
       " '5_b7_1': 15,\n",
       " '5_b8_1': 16,\n",
       " '6_00_0': 17,\n",
       " '6_a11_1': 18,\n",
       " '6_a11_2': 19,\n",
       " '6_a12_1': 20,\n",
       " '6_a12_2': 21,\n",
       " '6_b4_1': 22,\n",
       " '6_b4_3': 23,\n",
       " '6_b5_1': 24}"
      ]
     },
     "metadata": {},
     "output_type": "display_data"
    }
   ],
   "source": [
    "# ============= add\n",
    "labels = pd.read_csv('./data/train.csv')\n",
    "\n",
    "train_label_encoder = {}\n",
    "label_cnt = 0\n",
    "previous_label = '0_00_0'\n",
    "for i, label in enumerate(tqdm(sorted(labels['label']))) :\n",
    "    crop_val = label.split('_')[0] # crop\n",
    "    disease_val = label.split('_')[1] # disease\n",
    "    risk_val = label.split('_')[2] # risk\n",
    "    \n",
    "    tmp_label = f'{crop_val}_{disease_val}_{risk_val}'\n",
    "    if previous_label != tmp_label :\n",
    "        train_label_encoder[tmp_label] = label_cnt\n",
    "        previous_label = tmp_label\n",
    "        label_cnt += 1\n",
    "        \n",
    "train_label_decoder = {val : key for key, val in train_label_encoder.items()}\n",
    "display(train_label_decoder)\n",
    "display(train_label_encoder)"
   ]
  },
  {
   "cell_type": "markdown",
   "id": "ff092b6e",
   "metadata": {},
   "source": [
    "# Dataset 구현"
   ]
  },
  {
   "cell_type": "code",
   "execution_count": 5,
   "id": "d898274c",
   "metadata": {},
   "outputs": [],
   "source": [
    "class CustomDataset(Dataset):\n",
    "    def __init__(self, files, transforms, mode='train'):\n",
    "        self.mode = mode\n",
    "        self.files = files\n",
    "        self.label_encoder = train_label_encoder #label_encoder\n",
    "        self.transforms = transforms\n",
    "        \n",
    "    def __len__(self):\n",
    "        return len(self.files)\n",
    "    \n",
    "    def __getitem__(self, i):\n",
    "        file = self.files[i]\n",
    "        file_name = file.split('\\\\')[-1]\n",
    "        \n",
    "        \n",
    "        # image\n",
    "        image_path = f'{file}/{file_name}.jpg'\n",
    "        img = cv2.imread(image_path)\n",
    "        img = cv2.cvtColor(img, cv2.COLOR_BGR2RGB)\n",
    "#         img = cv2.resize(img, dsize=(224, 224), interpolation=cv2.INTER_AREA)\n",
    "#         img = img.astype(np.float32)/255\n",
    "        img = self.transforms(image=img)[\"image\"]\n",
    "        img = img.transpose(2,0,1)\n",
    "        \n",
    "        if self.mode == 'train':\n",
    "            json_path = f'{file}/{file_name}.json'\n",
    "            with open(json_path, 'r') as f:\n",
    "                json_file = json.load(f)\n",
    "            \n",
    "            crop = json_file['annotations']['crop']\n",
    "            disease = json_file['annotations']['disease']\n",
    "            risk = json_file['annotations']['risk']\n",
    "            label = f'{crop}_{disease}_{risk}'\n",
    "            \n",
    "            return {\n",
    "#                 'img' : torch.tensor(img, dtype=torch.float32),\n",
    "                'img' : torch.tensor(img, dtype=torch.float32) / 255.0,\n",
    "                'label' : torch.tensor(self.label_encoder[label], dtype=torch.long)\n",
    "            }\n",
    "        else:\n",
    "            return {\n",
    "                'img' : torch.tensor(img, dtype=torch.float32)/ 255.0\n",
    "#                 'img' : torch.tensor(img, dtype=torch.float32)\n",
    "            }"
   ]
  },
  {
   "cell_type": "markdown",
   "id": "45dc213d",
   "metadata": {},
   "source": [
    "# Model 선언"
   ]
  },
  {
   "cell_type": "code",
   "execution_count": 6,
   "id": "b5253ab1",
   "metadata": {},
   "outputs": [],
   "source": [
    "import timm\n",
    "import torch.nn as nn\n",
    "\n",
    "class ViT(nn.Module):\n",
    "    def __init__(self):\n",
    "        super(ViT, self).__init__()\n",
    "        self.model = timm.create_model('vit_small_patch16_224', num_classes=25, pretrained=True)\n",
    "        \n",
    "    def forward(self, inputs):\n",
    "        output = self.model(inputs)\n",
    "        return output\n",
    "    \n",
    "    \n",
    "    \n",
    "class pretrained_DeiT(nn.Module):\n",
    "    def __init__(self):\n",
    "        super(pretrained_DeiT, self).__init__()\n",
    "        self.model = timm.create_model('deit_small_patch16_224', num_classes=15, pretrained=False)\n",
    "\n",
    "    def forward(self, inputs):\n",
    "        output = self.model(inputs)\n",
    "        return output\n",
    "\n",
    "class pretrained_EffiV2S(nn.Module):\n",
    "    def __init__(self):\n",
    "        super(pretrained_EffiV2S, self).__init__()\n",
    "        self.model = timm.create_model('efficientnetv2_rw_s', num_classes=38, pretrained=False)\n",
    "    \n",
    "    def forward(self, inputs):\n",
    "        output = self.model(inputs)\n",
    "        return output\n",
    "\n",
    "    \n",
    "    \n",
    "class Deit(nn.Module) :\n",
    "    def __init__(self, model_path, test=False) :\n",
    "        super(Deit, self).__init__()\n",
    "        self.pre_model = pretrained_DeiT()\n",
    "        if test == False :\n",
    "            self.pre_model.load_state_dict(torch.load(model_path, map_location=device))\n",
    "        \n",
    "        self.fc = nn.Linear(15, 25)\n",
    "        \n",
    "    def forward(self, x) :\n",
    "        x = self.pre_model(x)\n",
    "        x = self.fc(x)\n",
    "        return x\n",
    "    \n",
    "class EffiV2S(nn.Module) :\n",
    "    def __init__(self, model_path, test=False) :\n",
    "        super(EffiV2S, self).__init__()\n",
    "        self.pre_model = pretrained_EffiV2S()\n",
    "        if test == False :\n",
    "            self.pre_model.load_state_dict(torch.load(model_path, map_location=device))\n",
    "        \n",
    "        self.fc = nn.Linear(38, 25)\n",
    "        \n",
    "    def forward(self, x) :\n",
    "        x = self.pre_model(x)\n",
    "        x = self.fc(x)\n",
    "        return x    "
   ]
  },
  {
   "cell_type": "markdown",
   "id": "86dce17d",
   "metadata": {},
   "source": [
    "# Hyperparmeter 선언"
   ]
  },
  {
   "cell_type": "code",
   "execution_count": 7,
   "id": "b8f16bb0",
   "metadata": {},
   "outputs": [],
   "source": [
    "device = torch.device(\"cuda:0\")#(\"cpu\")\n",
    "batch_size = 16\n",
    "class_n = len(train_label_encoder)\n",
    "learning_rate = 1e-4\n",
    "epochs = 25\n",
    "model_path = './model/public_vill_50k_pretrain_efficientnetv2S.pt'\n",
    "save_path = 'public_vill_50k_pretrain_efficientnetv2S.pt'\n",
    "fold_n = 4\n",
    "early_stopping_cnt = 4"
   ]
  },
  {
   "cell_type": "markdown",
   "id": "2f15d77e",
   "metadata": {},
   "source": [
    "# Image Transform"
   ]
  },
  {
   "cell_type": "code",
   "execution_count": 8,
   "id": "ecfb147c",
   "metadata": {},
   "outputs": [],
   "source": [
    "# train_transforms = A.Compose([\n",
    "#                 A.Resize(224 ,224),\n",
    "#                 A.OneOf([\n",
    "#                     A.Rotate(),\n",
    "#                     A.HorizontalFlip(),\n",
    "#                     A.VerticalFlip()\n",
    "#                 ], p=1)\n",
    "#             ])\n",
    "\n",
    "# val_transforms = A.Compose([\n",
    "#     A.Resize(224,224)\n",
    "# ])\n",
    "train_transforms = A.Compose([\n",
    "                A.Resize(288 ,288),\n",
    "                A.OneOf([\n",
    "                    A.Rotate(),\n",
    "                    A.HorizontalFlip(),\n",
    "                    A.VerticalFlip()\n",
    "                ], p=1)\n",
    "            ])\n",
    "\n",
    "val_transforms = A.Compose([\n",
    "    A.Resize(288, 288)\n",
    "])"
   ]
  },
  {
   "cell_type": "markdown",
   "id": "e7145bc3",
   "metadata": {},
   "source": [
    "# CutMix"
   ]
  },
  {
   "cell_type": "code",
   "execution_count": 9,
   "id": "b724f2dd",
   "metadata": {},
   "outputs": [],
   "source": [
    "def rand_bbox(size, lam):\n",
    "    W = size[2]\n",
    "    H = size[3]\n",
    "    cut_rat = np.sqrt(1. - lam)\n",
    "    cut_w = np.int(W * cut_rat)\n",
    "    cut_h = np.int(H * cut_rat)\n",
    " \n",
    "    # uniform\n",
    "    cx = np.random.randint(W)\n",
    "    cy = np.random.randint(H)\n",
    "\n",
    "    bbx1 = np.clip(cx - cut_w // 2, 0, W)\n",
    "    bby1 = np.clip(cy - cut_h // 2, 0, H)\n",
    "    bbx2 = np.clip(cx + cut_w // 2, 0, W)\n",
    "    bby2 = np.clip(cy + cut_h // 2, 0, H)\n",
    "\n",
    "    return bbx1, bby1, bbx2, bby2"
   ]
  },
  {
   "cell_type": "markdown",
   "id": "f6b9f12d",
   "metadata": {},
   "source": [
    "# Training"
   ]
  },
  {
   "cell_type": "code",
   "execution_count": 10,
   "id": "c3c1aaab",
   "metadata": {},
   "outputs": [],
   "source": [
    "def accuracy_function(real, pred):    \n",
    "    real = real.cpu()\n",
    "    pred = torch.argmax(pred, dim=1).cpu()\n",
    "    score = f1_score(real, pred, average='macro')\n",
    "    return score\n",
    "\n",
    "def train_step(batch_item, training):\n",
    "    img = batch_item['img'].to(device)\n",
    "    label = batch_item['label'].to(device)\n",
    "    \n",
    "    lam = np.random.beta(1.0, 1.0)\n",
    "    \n",
    "    if training is True:\n",
    "        model.train()\n",
    "        optimizer.zero_grad()\n",
    "        with torch.cuda.amp.autocast():\n",
    "            # add - cutmix\n",
    "            rand_index = torch.randperm(img.size()[0])\n",
    "            target_a = label\n",
    "            target_b = label[rand_index]\n",
    "            bbx1, bby1, bbx2, bby2 = rand_bbox(img.size(), lam)\n",
    "            img[:, :, bbx1:bbx2, bby1:bby2] = img[rand_index, :, bbx1:bbx2, bby1:bby2]\n",
    "            lam = 1 - ((bbx2 - bbx1) * (bby2 - bby1) / (img.size()[-1] * img.size()[-2]))\n",
    "            \n",
    "            output = model(img)\n",
    "            loss = criterion(output, target_a) * lam + criterion(output, target_b) * (1. - lam)\n",
    "            \n",
    "#             output = model(img, csv_feature)\n",
    "#             loss = criterion(output, label)\n",
    "        loss.backward()\n",
    "        optimizer.step()\n",
    "        score = accuracy_function(label, output)\n",
    "        return loss, score\n",
    "    else:\n",
    "        model.eval()\n",
    "        with torch.no_grad():\n",
    "            output = model(img)\n",
    "            loss = criterion(output, label)\n",
    "        score = accuracy_function(label, output)\n",
    "        return loss, score"
   ]
  },
  {
   "cell_type": "markdown",
   "id": "8f664a3a",
   "metadata": {},
   "source": [
    "# Model, Loss, Optim"
   ]
  },
  {
   "cell_type": "code",
   "execution_count": 11,
   "id": "6195cd78",
   "metadata": {},
   "outputs": [],
   "source": [
    "# model = ViT()\n",
    "# model = Deit(model_path)\n",
    "model = EffiV2S(model_path)\n",
    "model = model.to(device)\n",
    "optimizer = torch.optim.Adam(model.parameters(), lr=learning_rate)\n",
    "\n",
    "# optimizer = AdamW(model.parameters(), lr=learning_rate)\n",
    "# scheduler = CosineAnnealingLR(optimizer, T_max=5, eta_min=1e-5)\n",
    "\n",
    "criterion = nn.CrossEntropyLoss()\n",
    "\n"
   ]
  },
  {
   "cell_type": "markdown",
   "id": "23ecd81d",
   "metadata": {},
   "source": [
    "# Label"
   ]
  },
  {
   "cell_type": "code",
   "execution_count": 12,
   "id": "7104b88b",
   "metadata": {},
   "outputs": [
    {
     "name": "stderr",
     "output_type": "stream",
     "text": [
      "100%|████████████████████████████████████████████████████████████████████████████| 5767/5767 [00:01<00:00, 3203.78it/s]\n"
     ]
    }
   ],
   "source": [
    "json_path = glob('./data/train/*/*.json')\n",
    "\n",
    "labels = []\n",
    "for path in tqdm(json_path) :\n",
    "    json_file = json.load(open(path, 'r'))\n",
    "    \n",
    "    crop = json_file['annotations']['crop']\n",
    "    disease = json_file['annotations']['disease']\n",
    "    risk = json_file['annotations']['risk']\n",
    "    \n",
    "    label = f'{crop}_{disease}_{risk}'\n",
    "    labels.append(train_label_encoder[label])"
   ]
  },
  {
   "cell_type": "code",
   "execution_count": 13,
   "id": "9fc9dcbd",
   "metadata": {},
   "outputs": [],
   "source": [
    "data_list = glob('./data/train/*')\n",
    "label_list = labels\n",
    "\n",
    "kfold = StratifiedKFold(n_splits=fold_n, random_state=13, shuffle=True)"
   ]
  },
  {
   "cell_type": "code",
   "execution_count": 14,
   "id": "28abf800",
   "metadata": {
    "scrolled": false
   },
   "outputs": [
    {
     "name": "stdout",
     "output_type": "stream",
     "text": [
      "\n",
      "\n",
      "\n",
      "===== k_fold : 1 / 4 =====\n"
     ]
    },
    {
     "name": "stderr",
     "output_type": "stream",
     "text": [
      "271it [01:27,  3.09it/s, Epoch=1, Loss=0.804075, Mean Loss=1.677853, Mean F-1=0.369979]\n",
      "91it [00:14,  6.15it/s, Epoch=1, Val Loss=1.314974, Mean Val Loss=0.438278, Mean Val F-1=0.732929]\n",
      "271it [01:17,  3.49it/s, Epoch=2, Loss=0.988896, Mean Loss=1.111408, Mean F-1=0.544319]\n",
      "91it [00:14,  6.46it/s, Epoch=2, Val Loss=0.768418, Mean Val Loss=0.275964, Mean Val F-1=0.796893]\n",
      "271it [01:17,  3.48it/s, Epoch=3, Loss=0.579127, Mean Loss=0.913739, Mean F-1=0.622131]\n",
      "91it [00:14,  6.44it/s, Epoch=3, Val Loss=0.068206, Mean Val Loss=0.184273, Mean Val F-1=0.861327]\n",
      "271it [01:18,  3.45it/s, Epoch=4, Loss=1.809118, Mean Loss=0.861891, Mean F-1=0.653837]\n",
      "91it [00:14,  6.26it/s, Epoch=4, Val Loss=0.092474, Mean Val Loss=0.166060, Mean Val F-1=0.871685]\n",
      "271it [01:18,  3.47it/s, Epoch=5, Loss=1.318645, Mean Loss=0.804152, Mean F-1=0.665156]\n",
      "91it [00:14,  6.36it/s, Epoch=5, Val Loss=0.680315, Mean Val Loss=0.129209, Mean Val F-1=0.901637]\n",
      "271it [01:18,  3.45it/s, Epoch=6, Loss=0.795356, Mean Loss=0.735148, Mean F-1=0.716329]\n",
      "91it [00:14,  6.32it/s, Epoch=6, Val Loss=0.395450, Mean Val Loss=0.120567, Mean Val F-1=0.904178]\n",
      "271it [01:18,  3.44it/s, Epoch=7, Loss=0.889685, Mean Loss=0.714526, Mean F-1=0.731187]\n",
      "91it [00:14,  6.40it/s, Epoch=7, Val Loss=0.428930, Mean Val Loss=0.114783, Mean Val F-1=0.910816]\n",
      "271it [01:19,  3.41it/s, Epoch=8, Loss=0.994652, Mean Loss=0.698247, Mean F-1=0.705241]\n",
      "91it [00:14,  6.29it/s, Epoch=8, Val Loss=0.327776, Mean Val Loss=0.120082, Mean Val F-1=0.892420]\n"
     ]
    },
    {
     "name": "stdout",
     "output_type": "stream",
     "text": [
      "Early Stopping Step : [1 / 4]\n"
     ]
    },
    {
     "name": "stderr",
     "output_type": "stream",
     "text": [
      "271it [01:19,  3.39it/s, Epoch=9, Loss=0.089352, Mean Loss=0.673345, Mean F-1=0.714119]\n",
      "91it [00:15,  5.82it/s, Epoch=9, Val Loss=0.329453, Mean Val Loss=0.110396, Mean Val F-1=0.922270]\n",
      "271it [01:22,  3.28it/s, Epoch=10, Loss=0.496772, Mean Loss=0.639193, Mean F-1=0.741691]\n",
      "91it [00:15,  5.90it/s, Epoch=10, Val Loss=0.311799, Mean Val Loss=0.103343, Mean Val F-1=0.919953]\n"
     ]
    },
    {
     "name": "stdout",
     "output_type": "stream",
     "text": [
      "Early Stopping Step : [1 / 4]\n"
     ]
    },
    {
     "name": "stderr",
     "output_type": "stream",
     "text": [
      "271it [01:23,  3.24it/s, Epoch=11, Loss=0.012121, Mean Loss=0.633289, Mean F-1=0.734288]\n",
      "91it [00:15,  5.95it/s, Epoch=11, Val Loss=0.199023, Mean Val Loss=0.108897, Mean Val F-1=0.913563]\n"
     ]
    },
    {
     "name": "stdout",
     "output_type": "stream",
     "text": [
      "Early Stopping Step : [2 / 4]\n"
     ]
    },
    {
     "name": "stderr",
     "output_type": "stream",
     "text": [
      "271it [01:21,  3.34it/s, Epoch=12, Loss=0.801773, Mean Loss=0.632119, Mean F-1=0.737113]\n",
      "91it [00:15,  5.98it/s, Epoch=12, Val Loss=0.030612, Mean Val Loss=0.108765, Mean Val F-1=0.910453]\n"
     ]
    },
    {
     "name": "stdout",
     "output_type": "stream",
     "text": [
      "Early Stopping Step : [3 / 4]\n"
     ]
    },
    {
     "name": "stderr",
     "output_type": "stream",
     "text": [
      "271it [01:24,  3.20it/s, Epoch=13, Loss=0.134042, Mean Loss=0.625165, Mean F-1=0.768076]\n",
      "91it [00:14,  6.24it/s, Epoch=13, Val Loss=0.022321, Mean Val Loss=0.106883, Mean Val F-1=0.917779]\n"
     ]
    },
    {
     "name": "stdout",
     "output_type": "stream",
     "text": [
      "Early Stopping Step : [4 / 4]\n",
      "== Early Stop ==\n",
      "\n",
      "\n",
      "\n",
      "===== k_fold : 2 / 4 =====\n"
     ]
    },
    {
     "name": "stderr",
     "output_type": "stream",
     "text": [
      "271it [01:31,  2.96it/s, Epoch=1, Loss=1.225283, Mean Loss=1.693697, Mean F-1=0.379213]\n",
      "91it [00:18,  4.81it/s, Epoch=1, Val Loss=0.031583, Mean Val Loss=0.394494, Mean Val F-1=0.713862]\n",
      "271it [01:51,  2.44it/s, Epoch=2, Loss=1.232882, Mean Loss=1.083000, Mean F-1=0.564297]\n",
      "91it [00:19,  4.74it/s, Epoch=2, Val Loss=0.016777, Mean Val Loss=0.226159, Mean Val F-1=0.820550]\n",
      "271it [01:53,  2.39it/s, Epoch=3, Loss=1.152612, Mean Loss=0.913702, Mean F-1=0.644067]\n",
      "91it [00:19,  4.70it/s, Epoch=3, Val Loss=0.051086, Mean Val Loss=0.180343, Mean Val F-1=0.834899]\n",
      "271it [01:53,  2.40it/s, Epoch=4, Loss=1.220828, Mean Loss=0.857106, Mean F-1=0.659287]\n",
      "91it [00:20,  4.38it/s, Epoch=4, Val Loss=0.037679, Mean Val Loss=0.135222, Mean Val F-1=0.865573]\n",
      "271it [01:53,  2.40it/s, Epoch=5, Loss=0.836320, Mean Loss=0.786836, Mean F-1=0.698160]\n",
      "91it [00:19,  4.55it/s, Epoch=5, Val Loss=0.007841, Mean Val Loss=0.126056, Mean Val F-1=0.879428]\n",
      "271it [01:51,  2.42it/s, Epoch=6, Loss=0.647211, Mean Loss=0.777320, Mean F-1=0.683759]\n",
      "91it [00:19,  4.62it/s, Epoch=6, Val Loss=0.032542, Mean Val Loss=0.120344, Mean Val F-1=0.894200]\n",
      "271it [01:52,  2.41it/s, Epoch=7, Loss=0.947274, Mean Loss=0.706947, Mean F-1=0.721925]\n",
      "91it [00:19,  4.64it/s, Epoch=7, Val Loss=0.024294, Mean Val Loss=0.104010, Mean Val F-1=0.908450]\n",
      "271it [01:53,  2.38it/s, Epoch=8, Loss=0.296106, Mean Loss=0.711977, Mean F-1=0.709368]\n",
      "91it [00:19,  4.60it/s, Epoch=8, Val Loss=0.002228, Mean Val Loss=0.133499, Mean Val F-1=0.893339]\n"
     ]
    },
    {
     "name": "stdout",
     "output_type": "stream",
     "text": [
      "Early Stopping Step : [1 / 4]\n"
     ]
    },
    {
     "name": "stderr",
     "output_type": "stream",
     "text": [
      "271it [01:51,  2.44it/s, Epoch=9, Loss=1.400767, Mean Loss=0.672738, Mean F-1=0.729225]\n",
      "91it [00:18,  4.97it/s, Epoch=9, Val Loss=0.008409, Mean Val Loss=0.113159, Mean Val F-1=0.895276]\n"
     ]
    },
    {
     "name": "stdout",
     "output_type": "stream",
     "text": [
      "Early Stopping Step : [2 / 4]\n"
     ]
    },
    {
     "name": "stderr",
     "output_type": "stream",
     "text": [
      "271it [01:50,  2.46it/s, Epoch=10, Loss=0.967383, Mean Loss=0.664506, Mean F-1=0.734934]\n",
      "91it [00:20,  4.50it/s, Epoch=10, Val Loss=0.007202, Mean Val Loss=0.100574, Mean Val F-1=0.902389]\n"
     ]
    },
    {
     "name": "stdout",
     "output_type": "stream",
     "text": [
      "Early Stopping Step : [3 / 4]\n"
     ]
    },
    {
     "name": "stderr",
     "output_type": "stream",
     "text": [
      "271it [01:50,  2.45it/s, Epoch=11, Loss=0.725322, Mean Loss=0.634470, Mean F-1=0.744025]\n",
      "91it [00:19,  4.68it/s, Epoch=11, Val Loss=0.017253, Mean Val Loss=0.096681, Mean Val F-1=0.913723]\n",
      "271it [01:50,  2.45it/s, Epoch=12, Loss=0.605183, Mean Loss=0.635436, Mean F-1=0.742115]\n",
      "91it [00:19,  4.59it/s, Epoch=12, Val Loss=0.001832, Mean Val Loss=0.101218, Mean Val F-1=0.900427]\n"
     ]
    },
    {
     "name": "stdout",
     "output_type": "stream",
     "text": [
      "Early Stopping Step : [1 / 4]\n"
     ]
    },
    {
     "name": "stderr",
     "output_type": "stream",
     "text": [
      "271it [01:49,  2.47it/s, Epoch=13, Loss=0.305578, Mean Loss=0.622060, Mean F-1=0.736418]\n",
      "91it [00:19,  4.59it/s, Epoch=13, Val Loss=0.007612, Mean Val Loss=0.104752, Mean Val F-1=0.899455]\n"
     ]
    },
    {
     "name": "stdout",
     "output_type": "stream",
     "text": [
      "Early Stopping Step : [2 / 4]\n"
     ]
    },
    {
     "name": "stderr",
     "output_type": "stream",
     "text": [
      "271it [01:50,  2.45it/s, Epoch=14, Loss=0.351146, Mean Loss=0.594902, Mean F-1=0.748063]\n",
      "91it [00:19,  4.68it/s, Epoch=14, Val Loss=0.004920, Mean Val Loss=0.100028, Mean Val F-1=0.913462]\n"
     ]
    },
    {
     "name": "stdout",
     "output_type": "stream",
     "text": [
      "Early Stopping Step : [3 / 4]\n"
     ]
    },
    {
     "name": "stderr",
     "output_type": "stream",
     "text": [
      "271it [01:58,  2.29it/s, Epoch=15, Loss=0.848826, Mean Loss=0.615197, Mean F-1=0.747687]\n",
      "91it [00:20,  4.40it/s, Epoch=15, Val Loss=0.002473, Mean Val Loss=0.124914, Mean Val F-1=0.897177]\n"
     ]
    },
    {
     "name": "stdout",
     "output_type": "stream",
     "text": [
      "Early Stopping Step : [4 / 4]\n",
      "== Early Stop ==\n",
      "\n",
      "\n",
      "\n",
      "===== k_fold : 3 / 4 =====\n"
     ]
    },
    {
     "name": "stderr",
     "output_type": "stream",
     "text": [
      "271it [01:48,  2.49it/s, Epoch=1, Loss=1.468287, Mean Loss=1.650671, Mean F-1=0.395001]\n",
      "91it [00:19,  4.65it/s, Epoch=1, Val Loss=0.021636, Mean Val Loss=0.422597, Mean Val F-1=0.701791]\n",
      "271it [01:47,  2.52it/s, Epoch=2, Loss=0.867486, Mean Loss=1.066316, Mean F-1=0.570899]\n",
      "91it [00:19,  4.70it/s, Epoch=2, Val Loss=0.002884, Mean Val Loss=0.250251, Mean Val F-1=0.803504]\n",
      "271it [01:53,  2.39it/s, Epoch=3, Loss=2.379129, Mean Loss=0.938864, Mean F-1=0.608227]\n",
      "91it [00:19,  4.73it/s, Epoch=3, Val Loss=0.004217, Mean Val Loss=0.171539, Mean Val F-1=0.837035]\n",
      "271it [01:52,  2.42it/s, Epoch=4, Loss=0.836531, Mean Loss=0.832370, Mean F-1=0.660144]\n",
      "91it [00:19,  4.55it/s, Epoch=4, Val Loss=0.001860, Mean Val Loss=0.176234, Mean Val F-1=0.838226]\n",
      "271it [01:52,  2.40it/s, Epoch=5, Loss=0.630051, Mean Loss=0.786104, Mean F-1=0.654017]\n",
      "91it [00:19,  4.78it/s, Epoch=5, Val Loss=0.002559, Mean Val Loss=0.140790, Mean Val F-1=0.876518]\n",
      "271it [01:52,  2.41it/s, Epoch=6, Loss=0.719413, Mean Loss=0.760671, Mean F-1=0.664779]\n",
      "91it [00:19,  4.70it/s, Epoch=6, Val Loss=0.000646, Mean Val Loss=0.130342, Mean Val F-1=0.869368]\n"
     ]
    },
    {
     "name": "stdout",
     "output_type": "stream",
     "text": [
      "Early Stopping Step : [1 / 4]\n"
     ]
    },
    {
     "name": "stderr",
     "output_type": "stream",
     "text": [
      "271it [01:52,  2.41it/s, Epoch=7, Loss=1.117637, Mean Loss=0.690841, Mean F-1=0.730795]\n",
      "91it [00:19,  4.76it/s, Epoch=7, Val Loss=0.000859, Mean Val Loss=0.127805, Mean Val F-1=0.887779]\n",
      "271it [01:51,  2.42it/s, Epoch=8, Loss=0.393819, Mean Loss=0.683833, Mean F-1=0.722971]\n",
      "91it [00:19,  4.55it/s, Epoch=8, Val Loss=0.000558, Mean Val Loss=0.119964, Mean Val F-1=0.898295]\n",
      "271it [01:52,  2.42it/s, Epoch=9, Loss=0.644382, Mean Loss=0.681524, Mean F-1=0.700989]\n",
      "91it [00:18,  4.80it/s, Epoch=9, Val Loss=0.000878, Mean Val Loss=0.122939, Mean Val F-1=0.888937]\n"
     ]
    },
    {
     "name": "stdout",
     "output_type": "stream",
     "text": [
      "Early Stopping Step : [1 / 4]\n"
     ]
    },
    {
     "name": "stderr",
     "output_type": "stream",
     "text": [
      "271it [01:51,  2.44it/s, Epoch=10, Loss=0.615926, Mean Loss=0.664278, Mean F-1=0.739045]\n",
      "91it [00:19,  4.75it/s, Epoch=10, Val Loss=0.001320, Mean Val Loss=0.105599, Mean Val F-1=0.898671]\n",
      "271it [01:51,  2.44it/s, Epoch=11, Loss=0.794746, Mean Loss=0.614294, Mean F-1=0.777568]\n",
      "91it [00:19,  4.58it/s, Epoch=11, Val Loss=0.001401, Mean Val Loss=0.111274, Mean Val F-1=0.896384]\n"
     ]
    },
    {
     "name": "stdout",
     "output_type": "stream",
     "text": [
      "Early Stopping Step : [1 / 4]\n"
     ]
    },
    {
     "name": "stderr",
     "output_type": "stream",
     "text": [
      "271it [01:50,  2.45it/s, Epoch=12, Loss=0.573213, Mean Loss=0.628253, Mean F-1=0.772315]\n",
      "91it [00:19,  4.67it/s, Epoch=12, Val Loss=0.002035, Mean Val Loss=0.124014, Mean Val F-1=0.902966]\n",
      "271it [01:50,  2.45it/s, Epoch=13, Loss=0.321399, Mean Loss=0.616795, Mean F-1=0.745260]\n",
      "91it [00:19,  4.72it/s, Epoch=13, Val Loss=0.001392, Mean Val Loss=0.114512, Mean Val F-1=0.906789]\n",
      "271it [01:50,  2.45it/s, Epoch=14, Loss=1.018391, Mean Loss=0.602788, Mean F-1=0.759403]\n",
      "91it [00:19,  4.78it/s, Epoch=14, Val Loss=0.000845, Mean Val Loss=0.123039, Mean Val F-1=0.885430]\n"
     ]
    },
    {
     "name": "stdout",
     "output_type": "stream",
     "text": [
      "Early Stopping Step : [1 / 4]\n"
     ]
    },
    {
     "name": "stderr",
     "output_type": "stream",
     "text": [
      "271it [01:47,  2.52it/s, Epoch=15, Loss=0.993141, Mean Loss=0.599534, Mean F-1=0.773368]\n",
      "91it [00:18,  4.95it/s, Epoch=15, Val Loss=0.002899, Mean Val Loss=0.126076, Mean Val F-1=0.897989]\n"
     ]
    },
    {
     "name": "stdout",
     "output_type": "stream",
     "text": [
      "Early Stopping Step : [2 / 4]\n"
     ]
    },
    {
     "name": "stderr",
     "output_type": "stream",
     "text": [
      "271it [01:50,  2.45it/s, Epoch=16, Loss=0.515203, Mean Loss=0.602724, Mean F-1=0.766107]\n",
      "91it [00:19,  4.66it/s, Epoch=16, Val Loss=0.003829, Mean Val Loss=0.113668, Mean Val F-1=0.895421]\n"
     ]
    },
    {
     "name": "stdout",
     "output_type": "stream",
     "text": [
      "Early Stopping Step : [3 / 4]\n"
     ]
    },
    {
     "name": "stderr",
     "output_type": "stream",
     "text": [
      "271it [01:51,  2.44it/s, Epoch=17, Loss=0.590184, Mean Loss=0.579370, Mean F-1=0.752410]\n",
      "91it [00:19,  4.67it/s, Epoch=17, Val Loss=0.001531, Mean Val Loss=0.111288, Mean Val F-1=0.912818]\n",
      "271it [01:50,  2.45it/s, Epoch=18, Loss=0.346253, Mean Loss=0.578147, Mean F-1=0.763222]\n",
      "91it [00:19,  4.67it/s, Epoch=18, Val Loss=0.000920, Mean Val Loss=0.112554, Mean Val F-1=0.895338]\n"
     ]
    },
    {
     "name": "stdout",
     "output_type": "stream",
     "text": [
      "Early Stopping Step : [1 / 4]\n"
     ]
    },
    {
     "name": "stderr",
     "output_type": "stream",
     "text": [
      "271it [01:51,  2.43it/s, Epoch=19, Loss=0.421021, Mean Loss=0.567868, Mean F-1=0.768439]\n",
      "91it [00:19,  4.64it/s, Epoch=19, Val Loss=0.001180, Mean Val Loss=0.141327, Mean Val F-1=0.890482]\n"
     ]
    },
    {
     "name": "stdout",
     "output_type": "stream",
     "text": [
      "Early Stopping Step : [2 / 4]\n"
     ]
    },
    {
     "name": "stderr",
     "output_type": "stream",
     "text": [
      "271it [01:50,  2.45it/s, Epoch=20, Loss=1.011828, Mean Loss=0.562037, Mean F-1=0.779976]\n",
      "91it [00:19,  4.63it/s, Epoch=20, Val Loss=0.000945, Mean Val Loss=0.153820, Mean Val F-1=0.875606]\n"
     ]
    },
    {
     "name": "stdout",
     "output_type": "stream",
     "text": [
      "Early Stopping Step : [3 / 4]\n"
     ]
    },
    {
     "name": "stderr",
     "output_type": "stream",
     "text": [
      "271it [01:50,  2.46it/s, Epoch=21, Loss=1.648791, Mean Loss=0.578999, Mean F-1=0.747439]\n",
      "91it [00:19,  4.63it/s, Epoch=21, Val Loss=0.000974, Mean Val Loss=0.123919, Mean Val F-1=0.905324]\n"
     ]
    },
    {
     "name": "stdout",
     "output_type": "stream",
     "text": [
      "Early Stopping Step : [4 / 4]\n",
      "== Early Stop ==\n",
      "\n",
      "\n",
      "\n",
      "===== k_fold : 4 / 4 =====\n"
     ]
    },
    {
     "name": "stderr",
     "output_type": "stream",
     "text": [
      "271it [01:48,  2.50it/s, Epoch=1, Loss=1.668802, Mean Loss=1.746974, Mean F-1=0.352312]\n",
      "91it [00:19,  4.72it/s, Epoch=1, Val Loss=0.355550, Mean Val Loss=0.466963, Mean Val F-1=0.733296]\n",
      "271it [01:46,  2.54it/s, Epoch=2, Loss=1.116798, Mean Loss=1.129820, Mean F-1=0.543996]\n",
      "91it [00:19,  4.79it/s, Epoch=2, Val Loss=0.273426, Mean Val Loss=0.223190, Mean Val F-1=0.854753]\n",
      "271it [01:45,  2.57it/s, Epoch=3, Loss=0.846488, Mean Loss=0.950254, Mean F-1=0.601916]\n",
      "91it [00:19,  4.77it/s, Epoch=3, Val Loss=0.076765, Mean Val Loss=0.174332, Mean Val F-1=0.855948]\n",
      "271it [01:45,  2.58it/s, Epoch=4, Loss=0.574357, Mean Loss=0.843724, Mean F-1=0.683287]\n",
      "91it [00:18,  4.83it/s, Epoch=4, Val Loss=0.240138, Mean Val Loss=0.142241, Mean Val F-1=0.863115]\n",
      "271it [01:44,  2.60it/s, Epoch=5, Loss=0.530602, Mean Loss=0.801409, Mean F-1=0.658283]\n",
      "91it [00:18,  4.85it/s, Epoch=5, Val Loss=0.278809, Mean Val Loss=0.112819, Mean Val F-1=0.922523]\n",
      "271it [01:44,  2.60it/s, Epoch=6, Loss=0.854770, Mean Loss=0.749015, Mean F-1=0.698427]\n",
      "91it [00:18,  4.90it/s, Epoch=6, Val Loss=0.104785, Mean Val Loss=0.102838, Mean Val F-1=0.909351]\n"
     ]
    },
    {
     "name": "stdout",
     "output_type": "stream",
     "text": [
      "Early Stopping Step : [1 / 4]\n"
     ]
    },
    {
     "name": "stderr",
     "output_type": "stream",
     "text": [
      "271it [01:43,  2.62it/s, Epoch=7, Loss=0.326428, Mean Loss=0.718176, Mean F-1=0.706945]\n",
      "91it [00:18,  4.94it/s, Epoch=7, Val Loss=0.024114, Mean Val Loss=0.096527, Mean Val F-1=0.926878]\n",
      "271it [01:46,  2.55it/s, Epoch=8, Loss=0.857164, Mean Loss=0.711858, Mean F-1=0.706845]\n",
      "91it [00:19,  4.76it/s, Epoch=8, Val Loss=0.042755, Mean Val Loss=0.095802, Mean Val F-1=0.924603]\n"
     ]
    },
    {
     "name": "stdout",
     "output_type": "stream",
     "text": [
      "Early Stopping Step : [1 / 4]\n"
     ]
    },
    {
     "name": "stderr",
     "output_type": "stream",
     "text": [
      "271it [01:48,  2.50it/s, Epoch=9, Loss=1.045975, Mean Loss=0.701086, Mean F-1=0.693745]\n",
      "91it [00:18,  4.82it/s, Epoch=9, Val Loss=0.161823, Mean Val Loss=0.098005, Mean Val F-1=0.926866]\n"
     ]
    },
    {
     "name": "stdout",
     "output_type": "stream",
     "text": [
      "Early Stopping Step : [2 / 4]\n"
     ]
    },
    {
     "name": "stderr",
     "output_type": "stream",
     "text": [
      "271it [01:47,  2.53it/s, Epoch=10, Loss=0.747967, Mean Loss=0.703581, Mean F-1=0.685415]\n",
      "91it [00:18,  4.79it/s, Epoch=10, Val Loss=0.006748, Mean Val Loss=0.091584, Mean Val F-1=0.919411]\n"
     ]
    },
    {
     "name": "stdout",
     "output_type": "stream",
     "text": [
      "Early Stopping Step : [3 / 4]\n"
     ]
    },
    {
     "name": "stderr",
     "output_type": "stream",
     "text": [
      "271it [01:48,  2.50it/s, Epoch=11, Loss=0.404788, Mean Loss=0.645423, Mean F-1=0.748783]\n",
      "91it [00:19,  4.74it/s, Epoch=11, Val Loss=0.013075, Mean Val Loss=0.071507, Mean Val F-1=0.936631]\n",
      "271it [01:47,  2.52it/s, Epoch=12, Loss=0.431883, Mean Loss=0.650843, Mean F-1=0.708688]\n",
      "91it [00:19,  4.76it/s, Epoch=12, Val Loss=0.031413, Mean Val Loss=0.079488, Mean Val F-1=0.932919]\n"
     ]
    },
    {
     "name": "stdout",
     "output_type": "stream",
     "text": [
      "Early Stopping Step : [1 / 4]\n"
     ]
    },
    {
     "name": "stderr",
     "output_type": "stream",
     "text": [
      "271it [01:48,  2.51it/s, Epoch=13, Loss=0.312908, Mean Loss=0.638839, Mean F-1=0.746245]\n",
      "91it [00:19,  4.71it/s, Epoch=13, Val Loss=0.011425, Mean Val Loss=0.090478, Mean Val F-1=0.924476]\n"
     ]
    },
    {
     "name": "stdout",
     "output_type": "stream",
     "text": [
      "Early Stopping Step : [2 / 4]\n"
     ]
    },
    {
     "name": "stderr",
     "output_type": "stream",
     "text": [
      "271it [01:48,  2.51it/s, Epoch=14, Loss=0.840501, Mean Loss=0.618646, Mean F-1=0.742769]\n",
      "91it [00:19,  4.76it/s, Epoch=14, Val Loss=0.002991, Mean Val Loss=0.073173, Mean Val F-1=0.938973]\n",
      "271it [01:47,  2.53it/s, Epoch=15, Loss=0.992052, Mean Loss=0.602435, Mean F-1=0.761280]\n",
      "91it [00:19,  4.76it/s, Epoch=15, Val Loss=0.026081, Mean Val Loss=0.083879, Mean Val F-1=0.931222]\n"
     ]
    },
    {
     "name": "stdout",
     "output_type": "stream",
     "text": [
      "Early Stopping Step : [1 / 4]\n"
     ]
    },
    {
     "name": "stderr",
     "output_type": "stream",
     "text": [
      "271it [01:47,  2.52it/s, Epoch=16, Loss=1.293683, Mean Loss=0.599790, Mean F-1=0.755814]\n",
      "91it [00:19,  4.66it/s, Epoch=16, Val Loss=0.032197, Mean Val Loss=0.079591, Mean Val F-1=0.933549]\n"
     ]
    },
    {
     "name": "stdout",
     "output_type": "stream",
     "text": [
      "Early Stopping Step : [2 / 4]\n"
     ]
    },
    {
     "name": "stderr",
     "output_type": "stream",
     "text": [
      "271it [01:47,  2.53it/s, Epoch=17, Loss=0.455050, Mean Loss=0.608468, Mean F-1=0.736276]\n",
      "91it [00:19,  4.75it/s, Epoch=17, Val Loss=0.015450, Mean Val Loss=0.079026, Mean Val F-1=0.948048]\n",
      "271it [01:46,  2.53it/s, Epoch=18, Loss=0.478197, Mean Loss=0.574148, Mean F-1=0.761016]\n",
      "91it [00:19,  4.65it/s, Epoch=18, Val Loss=0.002184, Mean Val Loss=0.070679, Mean Val F-1=0.943030]\n"
     ]
    },
    {
     "name": "stdout",
     "output_type": "stream",
     "text": [
      "Early Stopping Step : [1 / 4]\n"
     ]
    },
    {
     "name": "stderr",
     "output_type": "stream",
     "text": [
      "271it [01:46,  2.53it/s, Epoch=19, Loss=0.248254, Mean Loss=0.574607, Mean F-1=0.775798]\n",
      "91it [00:19,  4.63it/s, Epoch=19, Val Loss=0.008269, Mean Val Loss=0.075887, Mean Val F-1=0.935181]\n"
     ]
    },
    {
     "name": "stdout",
     "output_type": "stream",
     "text": [
      "Early Stopping Step : [2 / 4]\n"
     ]
    },
    {
     "name": "stderr",
     "output_type": "stream",
     "text": [
      "271it [01:46,  2.55it/s, Epoch=20, Loss=0.623681, Mean Loss=0.573283, Mean F-1=0.787354]\n",
      "91it [00:19,  4.66it/s, Epoch=20, Val Loss=0.006245, Mean Val Loss=0.074594, Mean Val F-1=0.946234]\n"
     ]
    },
    {
     "name": "stdout",
     "output_type": "stream",
     "text": [
      "Early Stopping Step : [3 / 4]\n"
     ]
    },
    {
     "name": "stderr",
     "output_type": "stream",
     "text": [
      "271it [01:46,  2.55it/s, Epoch=21, Loss=1.040471, Mean Loss=0.597112, Mean F-1=0.756606]\n",
      "91it [00:19,  4.62it/s, Epoch=21, Val Loss=0.006797, Mean Val Loss=0.070778, Mean Val F-1=0.933427]"
     ]
    },
    {
     "name": "stdout",
     "output_type": "stream",
     "text": [
      "Early Stopping Step : [4 / 4]\n",
      "== Early Stop ==\n"
     ]
    },
    {
     "name": "stderr",
     "output_type": "stream",
     "text": [
      "\n"
     ]
    }
   ],
   "source": [
    "for k, (fold_train, fold_val) in enumerate(kfold.split(data_list, label_list), 1) :\n",
    "    model = EffiV2S(model_path)\n",
    "    model = model.to(device)\n",
    "    optimizer = torch.optim.Adam(model.parameters(), lr=learning_rate)\n",
    "#     scheduler = CosineAnnealingLR(optimizer, T_max=5, eta_min=1e-5)\n",
    "    criterion = nn.CrossEntropyLoss()\n",
    "    \n",
    "    train_data_list = []\n",
    "    val_data_list = []\n",
    "    \n",
    "    for k_train in fold_train :\n",
    "        train_data_list.append(data_list[k_train])\n",
    "    \n",
    "    for k_val in fold_val :\n",
    "        val_data_list.append(data_list[k_val])\n",
    "    \n",
    "    print(f\"\\n\\n\\n===== k_fold : {k} / {fold_n} =====\")\n",
    "    train_dataset = CustomDataset(train_data_list, train_transforms)\n",
    "    val_dataset = CustomDataset(val_data_list, val_transforms)\n",
    "    \n",
    "    train_dataloader = torch.utils.data.DataLoader(train_dataset, batch_size=batch_size, shuffle=True)\n",
    "    val_dataloader = torch.utils.data.DataLoader(val_dataset, batch_size=batch_size, shuffle=False)\n",
    "    \n",
    "    loss_plot, val_loss_plot = [], []\n",
    "    metric_plot, val_metric_plot = [], []\n",
    "    \n",
    "    early_stopping = 0\n",
    "    for epoch in range(epochs):\n",
    "        total_loss, total_val_loss = 0, 0\n",
    "        total_acc, total_val_acc = 0, 0\n",
    "\n",
    "        tqdm_dataset = tqdm(enumerate(train_dataloader))\n",
    "        training = True\n",
    "        for batch, batch_item in tqdm_dataset:\n",
    "            batch_loss, batch_acc = train_step(batch_item, training)\n",
    "            total_loss += batch_loss\n",
    "            total_acc += batch_acc\n",
    "\n",
    "            tqdm_dataset.set_postfix({\n",
    "                'Epoch': epoch + 1,\n",
    "                'Loss': '{:06f}'.format(batch_loss.item()),\n",
    "                'Mean Loss' : '{:06f}'.format(total_loss/(batch+1)),\n",
    "                'Mean F-1' : '{:06f}'.format(total_acc/(batch+1))\n",
    "            })\n",
    "        loss_plot.append(total_loss/(batch+1))\n",
    "        metric_plot.append(total_acc/(batch+1))\n",
    "\n",
    "        tqdm_dataset = tqdm(enumerate(val_dataloader))\n",
    "        training = False\n",
    "        for batch, batch_item in tqdm_dataset:\n",
    "            batch_loss, batch_acc = train_step(batch_item, training)\n",
    "            total_val_loss += batch_loss\n",
    "            total_val_acc += batch_acc\n",
    "\n",
    "            tqdm_dataset.set_postfix({\n",
    "                'Epoch': epoch + 1,\n",
    "                'Val Loss': '{:06f}'.format(batch_loss.item()),\n",
    "                'Mean Val Loss' : '{:06f}'.format(total_val_loss/(batch+1)),\n",
    "                'Mean Val F-1' : '{:06f}'.format(total_val_acc/(batch+1))\n",
    "            })\n",
    "        val_loss_plot.append(total_val_loss/(batch+1))\n",
    "        val_metric_plot.append(total_val_acc/(batch+1))\n",
    "        \n",
    "        # scheduler\n",
    "#         scheduler.step()\n",
    "        \n",
    "        if np.max(val_metric_plot) == val_metric_plot[-1]:\n",
    "            torch.save(model.state_dict(), f'{k}_{save_path}')\n",
    "            early_stopping = 0\n",
    "    \n",
    "        elif np.max(val_metric_plot) > val_metric_plot[-1]: \n",
    "            early_stopping += 1\n",
    "            print(f\"Early Stopping Step : [{early_stopping} / 4]\")\n",
    "\n",
    "        if early_stopping == early_stopping_cnt :\n",
    "            print(\"== Early Stop ==\")\n",
    "            break"
   ]
  },
  {
   "cell_type": "code",
   "execution_count": 15,
   "id": "5528526c",
   "metadata": {},
   "outputs": [
    {
     "data": {
      "image/png": "[encoded data removed]",
      "text/plain": [
       "<Figure size 720x504 with 1 Axes>"
      ]
     },
     "metadata": {
      "needs_background": "light"
     },
     "output_type": "display_data"
    }
   ],
   "source": [
    "plt.figure(figsize=(10,7))\n",
    "plt.grid()\n",
    "plt.plot(loss_plot, label='train_loss')\n",
    "plt.plot(val_loss_plot, label='val_loss')\n",
    "plt.xlabel('epoch')\n",
    "plt.ylabel('loss')\n",
    "plt.title('loss', fontsize=25)\n",
    "plt.legend()\n",
    "plt.show()"
   ]
  },
  {
   "cell_type": "code",
   "execution_count": 16,
   "id": "31873a79",
   "metadata": {},
   "outputs": [
    {
     "data": {
      "image/png": "[encoded data removed]",
      "text/plain": [
       "<Figure size 720x504 with 1 Axes>"
      ]
     },
     "metadata": {
      "needs_background": "light"
     },
     "output_type": "display_data"
    }
   ],
   "source": [
    "plt.figure(figsize=(10, 7))\n",
    "plt.grid()\n",
    "plt.plot(metric_plot, label='train_metric')\n",
    "plt.plot(val_metric_plot, label='val_metric')\n",
    "plt.xlabel('epoch')\n",
    "plt.ylabel('metric')\n",
    "plt.title(\"F-1\", fontsize=25)\n",
    "plt.legend()\n",
    "plt.show()"
   ]
  },
  {
   "cell_type": "markdown",
   "id": "4ca2267f",
   "metadata": {},
   "source": [
    "# test Dataset 정의"
   ]
  },
  {
   "cell_type": "code",
   "execution_count": 21,
   "id": "a606d669",
   "metadata": {},
   "outputs": [],
   "source": [
    "val_transforms = A.Compose([\n",
    "    A.Resize(288, 288)\n",
    "])\n",
    "\n",
    "test = sorted(glob('data/test/*'))\n",
    "test_dataset = CustomDataset(test, val_transforms, mode = 'test')\n",
    "test_dataloader = torch.utils.data.DataLoader(test_dataset, batch_size=batch_size, shuffle=False)"
   ]
  },
  {
   "cell_type": "code",
   "execution_count": 22,
   "id": "df2b66b8",
   "metadata": {},
   "outputs": [],
   "source": [
    "import torch.nn.functional as F\n",
    "\n",
    "def softvoting(models, img, n_classes=25) :\n",
    "\n",
    "    predicts = torch.zeros(img.size(0), n_classes)\n",
    "    with torch.no_grad() :\n",
    "        for model in models :\n",
    "            output = model(img)\n",
    "            output = F.softmax(output.cpu(), dim=1)\n",
    "            predicts += output\n",
    "\n",
    "    # 둘다 값은 똑같이 나옴.\n",
    "    # pred_avg = predicts / len(models)\n",
    "    # answer = pred_avg.argmax(dim=-1)\n",
    "    # _, answer2 = torch.max(pred_avg, 1)\n",
    "\n",
    "    return predicts.detach().cpu() / len(models)"
   ]
  },
  {
   "cell_type": "code",
   "execution_count": 23,
   "id": "d30f0686",
   "metadata": {
    "scrolled": true
   },
   "outputs": [
    {
     "name": "stderr",
     "output_type": "stream",
     "text": [
      "3245it [23:37,  2.29it/s]\n"
     ]
    }
   ],
   "source": [
    "def predict(dataset, models) :\n",
    "    tqdm_dataset = tqdm(enumerate(dataset))\n",
    "    results = []\n",
    "    for batch, batch_item in tqdm_dataset :\n",
    "        img = batch_item['img'].to(device)\n",
    "#         print(img.shape)\n",
    "        predictions = softvoting(models, img)\n",
    "        batch_result = [int(torch.argmax(prediction)) for prediction in predictions]\n",
    "#         print(batch_result)\n",
    "#         for prediction in predictions :\n",
    "            \n",
    "#         results.append(int(torch.argmax(predictions[0])))\n",
    "#             output = model(img)\n",
    "#         output = torch.tensor(torch.argmax(output, dim=1), dtype=torch.int32).cpu().numpy()\n",
    "        results.extend(batch_result)\n",
    "    return results\n",
    "\n",
    "kfold_models_path = glob('./model/k_foldl_50k_pretrained_effiv2S/*.pt')\n",
    "models = []\n",
    "for kfold_model_path in kfold_models_path :\n",
    "#     model = Deit(model_path)\n",
    "    model = EffiV2S(model_path)\n",
    "    model.load_state_dict(torch.load(kfold_model_path, map_location=device))\n",
    "    model.to(device).eval()\n",
    "    models.append(model)\n",
    "\n",
    "    \n",
    "preds = predict(test_dataloader, models)\n",
    "\n",
    "\n"
   ]
  },
  {
   "cell_type": "code",
   "execution_count": 24,
   "id": "013b4d4b",
   "metadata": {},
   "outputs": [],
   "source": [
    "preds_cp = preds"
   ]
  },
  {
   "cell_type": "markdown",
   "id": "73beb987",
   "metadata": {},
   "source": [
    "# Submission 만들기"
   ]
  },
  {
   "cell_type": "code",
   "execution_count": 25,
   "id": "ca9cafd8",
   "metadata": {},
   "outputs": [],
   "source": [
    "preds_cp = np.array([train_label_decoder[int(val)] for val in preds_cp])\n",
    "submission_csv = pd.read_csv('./data/sample_submission.csv')\n",
    "submission_csv['label'] = preds_cp\n",
    "submission_csv.to_csv('./data/4fold_public_vill_50k_pretrain_efficientnetv2S.csv', index=False)\n"
   ]
  },
  {
   "cell_type": "code",
   "execution_count": null,
   "id": "b44412f5",
   "metadata": {},
   "outputs": [],
   "source": [
    "\n",
    "optimizer = torch.optim.Adam(model.parameters(), lr=learning_rate)\n",
    "criterion = nn.CrossEntropyLoss()"
   ]
  }
 ],
 "metadata": {
  "kernelspec": {
   "display_name": "Python 3",
   "language": "python",
   "name": "python3"
  },
  "language_info": {
   "codemirror_mode": {
    "name": "ipython",
    "version": 3
   },
   "file_extension": ".py",
   "mimetype": "text/x-python",
   "name": "python",
   "nbconvert_exporter": "python",
   "pygments_lexer": "ipython3",
   "version": "3.6.13"
  }
 },
 "nbformat": 4,
 "nbformat_minor": 5
}

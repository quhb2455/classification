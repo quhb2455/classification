{
 "cells": [
  {
   "cell_type": "markdown",
   "id": "55b4a5a2",
   "metadata": {},
   "source": [
    "## sub-task 2 제출 스크립트\n",
    "ETRI FASHION-HOW Season 4 task2 제출코드입니다.\n",
    "#### 주의: 반드시 본 파일을 이용하여 제출을 수행해야 하며 파일의 이름은 task.ipynb로 유지되어야 합니다.\n",
    "- 작성하신 추론용 코드(예: test.py)를 본 스크립트 내의 etri_task2_submit() 함수로 작동되게끔 삽입하는 것으로 결과 제출을 수행할 수 있습니다.\n",
    "코드는 크게 4가지 파트로 구성되며, 해당 파트의 특성을 지켜서 내용을 편집하시면 되겠습니다.\n",
    "1. 제출용 aifactory 라이브러리 설치\n",
    "2. etri_task2_submit() 함수 편집 (추론 스크립트)\n",
    "3. submit() 함수로 wrapping\n",
    "4. if __name__ == \"__main__\" 조건문을 이용한 제출 수행\n",
    "\n",
    "※ 가능하면 제출시에는 포함되어 있는 train data를 폴더에서 제외하고 제출하시는 편이 좋습니다.\n",
    "- 파일 크기 감소 → 업로드 시간 감소 → 전체 추론 수행 시간 감소"
   ]
  },
  {
   "cell_type": "markdown",
   "id": "59a3ab06",
   "metadata": {},
   "source": [
    "### 1. 제출용 aifactory 라이브러리 설치\n",
    "#### 결과 전송에 필요하므로 아래와 같이 aifactory 라이브러리가 반드시 최신버전으로 설치될 수 있게끔 합니다"
   ]
  },
  {
   "cell_type": "code",
   "execution_count": 33,
   "id": "ac389d1e",
   "metadata": {},
   "outputs": [
    {
     "name": "stdout",
     "output_type": "stream",
     "text": [
      "^C\n"
     ]
    }
   ],
   "source": [
    "!pip uninstall aifactory"
   ]
  },
  {
   "cell_type": "code",
   "execution_count": 34,
   "id": "d7f3f0fa",
   "metadata": {
    "scrolled": true
   },
   "outputs": [
    {
     "name": "stdout",
     "output_type": "stream",
     "text": [
      "Collecting aifactory\n",
      "  Using cached aifactory-1.8.7-py3-none-any.whl (9.2 kB)\n",
      "Requirement already satisfied: gdown in c:\\users\\quhb2\\anaconda3\\envs\\torch-1.11\\lib\\site-packages (from aifactory) (4.7.1)\n",
      "Requirement already satisfied: requests in c:\\users\\quhb2\\anaconda3\\envs\\torch-1.11\\lib\\site-packages (from aifactory) (2.31.0)\n",
      "Requirement already satisfied: ipynbname in c:\\users\\quhb2\\anaconda3\\envs\\torch-1.11\\lib\\site-packages (from aifactory) (2023.2.0.0)\n",
      "Requirement already satisfied: IPython in c:\\users\\quhb2\\anaconda3\\envs\\torch-1.11\\lib\\site-packages (from aifactory) (8.4.0)\n",
      "Requirement already satisfied: pipreqs in c:\\users\\quhb2\\anaconda3\\envs\\torch-1.11\\lib\\site-packages (from aifactory) (0.4.13)\n",
      "Requirement already satisfied: beautifulsoup4 in c:\\users\\quhb2\\anaconda3\\envs\\torch-1.11\\lib\\site-packages (from gdown->aifactory) (4.11.1)\n",
      "Requirement already satisfied: six in c:\\users\\quhb2\\anaconda3\\envs\\torch-1.11\\lib\\site-packages (from gdown->aifactory) (1.16.0)\n",
      "Requirement already satisfied: filelock in c:\\users\\quhb2\\anaconda3\\envs\\torch-1.11\\lib\\site-packages (from gdown->aifactory) (3.12.0)\n",
      "Requirement already satisfied: tqdm in c:\\users\\quhb2\\anaconda3\\envs\\torch-1.11\\lib\\site-packages (from gdown->aifactory) (4.65.0)\n",
      "Requirement already satisfied: soupsieve>1.2 in c:\\users\\quhb2\\anaconda3\\envs\\torch-1.11\\lib\\site-packages (from beautifulsoup4->gdown->aifactory) (2.3.2.post1)\n",
      "Requirement already satisfied: ipykernel in c:\\users\\quhb2\\anaconda3\\envs\\torch-1.11\\lib\\site-packages (from ipynbname->aifactory) (6.13.0)\n",
      "Requirement already satisfied: packaging in c:\\users\\quhb2\\anaconda3\\envs\\torch-1.11\\lib\\site-packages (from ipykernel->ipynbname->aifactory) (21.3)\n",
      "Requirement already satisfied: jupyter-client>=6.1.12 in c:\\users\\quhb2\\anaconda3\\envs\\torch-1.11\\lib\\site-packages (from ipykernel->ipynbname->aifactory) (7.3.1)\n",
      "Requirement already satisfied: debugpy>=1.0 in c:\\users\\quhb2\\anaconda3\\envs\\torch-1.11\\lib\\site-packages (from ipykernel->ipynbname->aifactory) (1.6.0)\n",
      "Requirement already satisfied: nest-asyncio in c:\\users\\quhb2\\anaconda3\\envs\\torch-1.11\\lib\\site-packages (from ipykernel->ipynbname->aifactory) (1.5.5)\n",
      "Requirement already satisfied: traitlets>=5.1.0 in c:\\users\\quhb2\\anaconda3\\envs\\torch-1.11\\lib\\site-packages (from ipykernel->ipynbname->aifactory) (5.2.2.post1)\n",
      "Requirement already satisfied: psutil in c:\\users\\quhb2\\anaconda3\\envs\\torch-1.11\\lib\\site-packages (from ipykernel->ipynbname->aifactory) (5.9.1)\n",
      "Requirement already satisfied: matplotlib-inline>=0.1 in c:\\users\\quhb2\\anaconda3\\envs\\torch-1.11\\lib\\site-packages (from ipykernel->ipynbname->aifactory) (0.1.3)\n",
      "Requirement already satisfied: tornado>=6.1 in c:\\users\\quhb2\\anaconda3\\envs\\torch-1.11\\lib\\site-packages (from ipykernel->ipynbname->aifactory) (6.1)\n",
      "Requirement already satisfied: decorator in c:\\users\\quhb2\\anaconda3\\envs\\torch-1.11\\lib\\site-packages (from IPython->aifactory) (5.1.1)\n",
      "Requirement already satisfied: pygments>=2.4.0 in c:\\users\\quhb2\\anaconda3\\envs\\torch-1.11\\lib\\site-packages (from IPython->aifactory) (2.12.0)\n",
      "Requirement already satisfied: stack-data in c:\\users\\quhb2\\anaconda3\\envs\\torch-1.11\\lib\\site-packages (from IPython->aifactory) (0.2.0)\n",
      "Requirement already satisfied: pickleshare in c:\\users\\quhb2\\anaconda3\\envs\\torch-1.11\\lib\\site-packages (from IPython->aifactory) (0.7.5)\n",
      "Requirement already satisfied: setuptools>=18.5 in c:\\users\\quhb2\\anaconda3\\envs\\torch-1.11\\lib\\site-packages (from IPython->aifactory) (61.2.0)\n",
      "Requirement already satisfied: prompt-toolkit!=3.0.0,!=3.0.1,<3.1.0,>=2.0.0 in c:\\users\\quhb2\\anaconda3\\envs\\torch-1.11\\lib\\site-packages (from IPython->aifactory) (3.0.29)\n",
      "Requirement already satisfied: jedi>=0.16 in c:\\users\\quhb2\\anaconda3\\envs\\torch-1.11\\lib\\site-packages (from IPython->aifactory) (0.18.1)\n",
      "Requirement already satisfied: backcall in c:\\users\\quhb2\\anaconda3\\envs\\torch-1.11\\lib\\site-packages (from IPython->aifactory) (0.2.0)\n",
      "Requirement already satisfied: colorama in c:\\users\\quhb2\\anaconda3\\envs\\torch-1.11\\lib\\site-packages (from IPython->aifactory) (0.4.4)\n",
      "Requirement already satisfied: parso<0.9.0,>=0.8.0 in c:\\users\\quhb2\\anaconda3\\envs\\torch-1.11\\lib\\site-packages (from jedi>=0.16->IPython->aifactory) (0.8.3)\n",
      "Requirement already satisfied: entrypoints in c:\\users\\quhb2\\anaconda3\\envs\\torch-1.11\\lib\\site-packages (from jupyter-client>=6.1.12->ipykernel->ipynbname->aifactory) (0.4)\n",
      "Requirement already satisfied: python-dateutil>=2.8.2 in c:\\users\\quhb2\\anaconda3\\envs\\torch-1.11\\lib\\site-packages (from jupyter-client>=6.1.12->ipykernel->ipynbname->aifactory) (2.8.2)\n",
      "Requirement already satisfied: jupyter-core>=4.9.2 in c:\\users\\quhb2\\anaconda3\\envs\\torch-1.11\\lib\\site-packages (from jupyter-client>=6.1.12->ipykernel->ipynbname->aifactory) (4.10.0)\n",
      "Requirement already satisfied: pyzmq>=22.3 in c:\\users\\quhb2\\anaconda3\\envs\\torch-1.11\\lib\\site-packages (from jupyter-client>=6.1.12->ipykernel->ipynbname->aifactory) (23.1.0)\n",
      "Requirement already satisfied: pywin32>=1.0 in c:\\users\\quhb2\\anaconda3\\envs\\torch-1.11\\lib\\site-packages (from jupyter-core>=4.9.2->jupyter-client>=6.1.12->ipykernel->ipynbname->aifactory) (304)\n",
      "Requirement already satisfied: wcwidth in c:\\users\\quhb2\\anaconda3\\envs\\torch-1.11\\lib\\site-packages (from prompt-toolkit!=3.0.0,!=3.0.1,<3.1.0,>=2.0.0->IPython->aifactory) (0.2.5)\n",
      "Requirement already satisfied: pyparsing!=3.0.5,>=2.0.2 in c:\\users\\quhb2\\anaconda3\\envs\\torch-1.11\\lib\\site-packages (from packaging->ipykernel->ipynbname->aifactory) (3.0.9)\n",
      "Requirement already satisfied: docopt in c:\\users\\quhb2\\anaconda3\\envs\\torch-1.11\\lib\\site-packages (from pipreqs->aifactory) (0.6.2)\n",
      "Requirement already satisfied: yarg in c:\\users\\quhb2\\anaconda3\\envs\\torch-1.11\\lib\\site-packages (from pipreqs->aifactory) (0.1.9)\n",
      "Requirement already satisfied: certifi>=2017.4.17 in c:\\users\\quhb2\\anaconda3\\envs\\torch-1.11\\lib\\site-packages (from requests->aifactory) (2022.12.7)\n",
      "Requirement already satisfied: idna<4,>=2.5 in c:\\users\\quhb2\\anaconda3\\envs\\torch-1.11\\lib\\site-packages (from requests->aifactory) (3.3)\n",
      "Requirement already satisfied: urllib3<3,>=1.21.1 in c:\\users\\quhb2\\anaconda3\\envs\\torch-1.11\\lib\\site-packages (from requests->aifactory) (1.26.9)\n",
      "Requirement already satisfied: charset-normalizer<4,>=2 in c:\\users\\quhb2\\anaconda3\\envs\\torch-1.11\\lib\\site-packages (from requests->aifactory) (2.0.12)\n",
      "Requirement already satisfied: PySocks!=1.5.7,>=1.5.6 in c:\\users\\quhb2\\anaconda3\\envs\\torch-1.11\\lib\\site-packages (from requests->aifactory) (1.7.1)\n",
      "Requirement already satisfied: pure-eval in c:\\users\\quhb2\\anaconda3\\envs\\torch-1.11\\lib\\site-packages (from stack-data->IPython->aifactory) (0.2.2)\n",
      "Requirement already satisfied: executing in c:\\users\\quhb2\\anaconda3\\envs\\torch-1.11\\lib\\site-packages (from stack-data->IPython->aifactory) (0.8.3)\n",
      "Requirement already satisfied: asttokens in c:\\users\\quhb2\\anaconda3\\envs\\torch-1.11\\lib\\site-packages (from stack-data->IPython->aifactory) (2.0.5)\n",
      "Installing collected packages: aifactory\n",
      "Successfully installed aifactory-1.8.7\n"
     ]
    }
   ],
   "source": [
    "!pip install -U aifactory"
   ]
  },
  {
   "cell_type": "markdown",
   "id": "0292adea",
   "metadata": {},
   "source": [
    "### 2. etri_task2_submit() 함수 편집 (추론 스크립트)\n",
    "#### etri_task2_submit() 편집 시 주의사항\n",
    "\n",
    "1. 아래 etri_task2_submit() 함수 내에 전체 추론 실행 코드를 삽입하고 결과를 dataframe으로 return하게끔 구성\n",
    "   - Baseline이 아닌 다른 모델을 사용하는 경우에도 동일\n",
    "2. 함수 내에서는 import * 가 적용되지 않으므로 필요한 import object를 직접 입력\n",
    "   - 반드시 함수 내에서 import가 이루어져야 합니다.\n",
    "3. argparse 사용시 args, _ = parser.parse_known_args()로 인자 지정\n",
    "   args = parser.parse_args()는 jupyter에서 오류가 발생합니다!!!\n",
    "4. 모델 내부의 경로는 ./ 으로 경로를 지정합니다. (예: weight 파일 경로)\n",
    "5. 데이터는 /aif/Dataset/ 경로 아래에 있습니다. (코드 내용 참조) \n",
    "6. return할 결과물과 양식에 유의합니다."
   ]
  },
  {
   "cell_type": "code",
   "execution_count": 1,
   "id": "77d05b4d",
   "metadata": {},
   "outputs": [],
   "source": [
    "def etri_task2_submit():\n",
    "    import subprocess\n",
    "    import sys\n",
    "    \n",
    "    subprocess.check_call([sys.executable, \"-m\", \"pip\", \"install\", \"timm==0.8.21.dev0\"])\n",
    "    subprocess.check_call([sys.executable, \"-m\", \"pip\", \"install\", \"pytorch-metric-learning==2.1.0\"])\n",
    "    subprocess.check_call([sys.executable, \"-m\", \"pip\", \"install\", \"chardet==5.2.0\"])\n",
    "    \n",
    "    from _18color_classification import BaseMain\n",
    "\n",
    "    cfg = {\n",
    "            \"mode\" : \"infer\", #train, #infer\n",
    "            \n",
    "            \"model_name\" : \"tf_efficientnetv2_s.in21k\", #\"tf_efficientnetv2_m.in21k\", #\"swinv2_base_window12to16_192to256_22kft1k\",\n",
    "            #\"tf_efficientnetv2_s.in21k\",#\"eva_large_patch14_196.in22k_ft_in1k\",#\"beit_base_patch16_224.in22k_ft_in22k\",\n",
    "            \"num_classes\" : 18,\n",
    "            \n",
    "            \"learning_rate\" : 5e-4,\n",
    "            \"focal_alpha\" : 2,\n",
    "            \"focal_gamma\" : 2,\n",
    "            \"resize\" : 224,\n",
    "            \n",
    "            \"data_train_path\" : \"./sub-task2/Dataset/Train\",\n",
    "            \"data_train_csv_path\" : \"./sub-task2/Dataset/info_etri20_color_train.csv\",\n",
    "            \"data_valid_path\" : \"./sub-task2/Dataset/Validation\",\n",
    "            \"data_valid_csv_path\" : \"./sub-task2/Dataset/info_etri20_color_validation.csv\",\n",
    "            \n",
    "            \"data_infer_path\" : \"/aif/Dataset/Test/\",\n",
    "            \"data_infer_csv_path\" : \"/aif/Dataset/info_etri20_color_test.csv\",\n",
    "            # \"data_infer_path\" : \"../sub-task2/Dataset/Test_sample\",\n",
    "            # \"data_infer_csv_path\" : \"../sub-task2/Dataset/info_etri20_color_test_sample.csv\",\n",
    "            \n",
    "            \"epochs\" : 80,\n",
    "            \"batch_size\" : 64,\n",
    "            \"num_worker\" : 1,\n",
    "            \"early_stop_patient\" : 10,\n",
    "            \n",
    "            \"reuse\" : False, #True, #False\n",
    "            \"weight_path\" : \"./models/scratch_OfflineAug/24E-val0.570923099410909-tf_efficientnetv2_s.in21k.pth\",\n",
    "            \n",
    "            \"save_path\" : \"./sub-task2/ckpt/\",\n",
    "            \"output_path\" : \"./sub-task2/output/\",\n",
    "            \"log_path\" : \"./sub-task2/logging/\",\n",
    "            \"device\" : \"cpu\",#\"cuda\",\n",
    "            \n",
    "            \"binary_mode\" : False,\n",
    "            \n",
    "            \"note\" : \"Cutmix 사용, FocalLoss 사용, Adam Optim 사용\"\n",
    "        } \n",
    "\n",
    "    cfg[\"shuffle\"] = False\n",
    "\n",
    "    base_main = BaseMain(**cfg)\n",
    "\n",
    "    df = base_main.infer(**cfg)\n",
    "   \n",
    "    return df"
   ]
  },
  {
   "cell_type": "markdown",
   "id": "aa3a3a6b",
   "metadata": {},
   "source": [
    "### 3. submit() 함수로 wrapping\n",
    "#### 반드시 아래와 같이 submit() 이라는 함수로 위에 정의된 etri_task2_submit 함수를 wrapping해야 합니다."
   ]
  },
  {
   "cell_type": "code",
   "execution_count": 2,
   "id": "f0c87fb3",
   "metadata": {},
   "outputs": [],
   "source": [
    "def submit():\n",
    "    return etri_task2_submit"
   ]
  },
  {
   "cell_type": "markdown",
   "id": "937d1cdf",
   "metadata": {},
   "source": [
    "### 4. if name == \"main\" 조건문을 이용한 제출 수행\n",
    "#### 아래와 같이 if __name__ == \"__main__\" 구문 내에서 제출 함수가 실행되게끔 합니다.\n",
    "#### ※ task별, 참가자별로 key가 다릅니다. 잘못 입력하지 않도록 유의바랍니다.\n",
    "- key는 각팀 팀장분에게 메일로 할당된 계정을 이용하여 task별로 확인하실 수 있습니다."
   ]
  },
  {
   "cell_type": "code",
   "execution_count": 3,
   "id": "b3468396",
   "metadata": {},
   "outputs": [
    {
     "name": "stdout",
     "output_type": "stream",
     "text": [
      "file : task\n",
      "jupyter notebook\n",
      "파일 전송 완료\n",
      "processing... \r"
     ]
    },
    {
     "ename": "KeyboardInterrupt",
     "evalue": "",
     "output_type": "error",
     "traceback": [
      "\u001b[1;31m---------------------------------------------------------------------------\u001b[0m",
      "\u001b[1;31mKeyboardInterrupt\u001b[0m                         Traceback (most recent call last)",
      "Cell \u001b[1;32mIn[3], line 6\u001b[0m\n\u001b[0;32m      3\u001b[0m t \u001b[38;5;241m=\u001b[39m time\u001b[38;5;241m.\u001b[39mtime()\n\u001b[0;32m      4\u001b[0m \u001b[38;5;28;01mif\u001b[39;00m \u001b[38;5;18m__name__\u001b[39m \u001b[38;5;241m==\u001b[39m \u001b[38;5;124m\"\u001b[39m\u001b[38;5;124m__main__\u001b[39m\u001b[38;5;124m\"\u001b[39m:\n\u001b[0;32m      5\u001b[0m     \u001b[38;5;66;03m#-----------------------------------------------------#\u001b[39;00m\n\u001b[1;32m----> 6\u001b[0m     \u001b[43maif\u001b[49m\u001b[38;5;241;43m.\u001b[39;49m\u001b[43msubmit\u001b[49m\u001b[43m(\u001b[49m\u001b[43mmodel_name\u001b[49m\u001b[38;5;241;43m=\u001b[39;49m\u001b[38;5;124;43m\"\u001b[39;49m\u001b[38;5;124;43mScratchMetricEffi2s\u001b[39;49m\u001b[38;5;124;43m\"\u001b[39;49m\u001b[43m,\u001b[49m\u001b[43m               \u001b[49m\u001b[38;5;66;43;03m# 본인의 모델명 입력(버전 관리에 용이하게끔 편의에 맞게 지정합니다)\u001b[39;49;00m\n\u001b[0;32m      7\u001b[0m \u001b[43m               \u001b[49m\u001b[43mkey\u001b[49m\u001b[38;5;241;43m=\u001b[39;49m\u001b[38;5;124;43m\"\u001b[39;49m\u001b[38;5;124;43ma5267026-3d4d-458a-bda4-fdc880fea39e\u001b[39;49m\u001b[38;5;124;43m\"\u001b[39;49m\u001b[43m,\u001b[49m\u001b[43m                    \u001b[49m\u001b[38;5;66;43;03m# 본인의 task key 입력\u001b[39;49;00m\n\u001b[0;32m      8\u001b[0m \u001b[43m               \u001b[49m\u001b[43mfunc\u001b[49m\u001b[38;5;241;43m=\u001b[39;49m\u001b[43msubmit\u001b[49m\u001b[43m                            \u001b[49m\u001b[38;5;66;43;03m# 3.에서 wrapping한 submit function\u001b[39;49;00m\n\u001b[0;32m      9\u001b[0m \u001b[43m               \u001b[49m\u001b[43m)\u001b[49m\n\u001b[0;32m     10\u001b[0m     \u001b[38;5;66;03m#-----------------------------------------------------#\u001b[39;00m\n\u001b[0;32m     11\u001b[0m     \u001b[38;5;28mprint\u001b[39m(time\u001b[38;5;241m.\u001b[39mtime() \u001b[38;5;241m-\u001b[39m t)\n",
      "File \u001b[1;32m~\\Anaconda3\\envs\\submit\\lib\\site-packages\\aifactory\\score.py:165\u001b[0m, in \u001b[0;36msubmit\u001b[1;34m(model_name, key, func)\u001b[0m\n\u001b[0;32m    162\u001b[0m   \u001b[38;5;28;01mif\u001b[39;00m data_json[\u001b[38;5;124m\"\u001b[39m\u001b[38;5;124mct\u001b[39m\u001b[38;5;124m\"\u001b[39m] \u001b[38;5;241m==\u001b[39m \u001b[38;5;241m1\u001b[39m: \n\u001b[0;32m    163\u001b[0m     \u001b[38;5;28mprint\u001b[39m(\u001b[38;5;124m'\u001b[39m\u001b[38;5;132;01m{0}\u001b[39;00m\u001b[38;5;124m \u001b[39m\u001b[38;5;130;01m\\r\u001b[39;00m\u001b[38;5;124m'\u001b[39m\u001b[38;5;241m.\u001b[39mformat(data_json[\u001b[38;5;124m\"\u001b[39m\u001b[38;5;124mmessage\u001b[39m\u001b[38;5;124m\"\u001b[39m]), end\u001b[38;5;241m=\u001b[39m\u001b[38;5;124m\"\u001b[39m\u001b[38;5;124m\"\u001b[39m)\n\u001b[1;32m--> 165\u001b[0m   \u001b[43mtime\u001b[49m\u001b[38;5;241;43m.\u001b[39;49m\u001b[43msleep\u001b[49m\u001b[43m(\u001b[49m\u001b[38;5;241;43m10\u001b[39;49m\u001b[43m)\u001b[49m\n\u001b[0;32m    166\u001b[0m \u001b[38;5;28;01melse\u001b[39;00m:\n\u001b[0;32m    167\u001b[0m   \u001b[38;5;28mprint\u001b[39m(res\u001b[38;5;241m.\u001b[39mstatus_code)  \n",
      "\u001b[1;31mKeyboardInterrupt\u001b[0m: "
     ]
    }
   ],
   "source": [
    "import aifactory.score as aif\n",
    "import time\n",
    "t = time.time()\n",
    "if __name__ == \"__main__\":\n",
    "    #-----------------------------------------------------#\n",
    "    aif.submit(model_name=\"ScratchMetricEffi2s\",               # 본인의 모델명 입력(버전 관리에 용이하게끔 편의에 맞게 지정합니다)\n",
    "               key=\"a5267026-3d4d-458a-bda4-fdc880fea39e\",                    # 본인의 task key 입력\n",
    "               func=submit                            # 3.에서 wrapping한 submit function\n",
    "               )\n",
    "    #-----------------------------------------------------#\n",
    "    print(time.time() - t)"
   ]
  },
  {
   "cell_type": "code",
   "execution_count": null,
   "id": "42c0e2da-e341-4a92-8b56-26fa20992499",
   "metadata": {},
   "outputs": [],
   "source": []
  }
 ],
 "metadata": {
  "kernelspec": {
   "display_name": "Python 3 (ipykernel)",
   "language": "python",
   "name": "python3"
  },
  "language_info": {
   "codemirror_mode": {
    "name": "ipython",
    "version": 3
   },
   "file_extension": ".py",
   "mimetype": "text/x-python",
   "name": "python",
   "nbconvert_exporter": "python",
   "pygments_lexer": "ipython3",
   "version": "3.8.17"
  }
 },
 "nbformat": 4,
 "nbformat_minor": 5
}

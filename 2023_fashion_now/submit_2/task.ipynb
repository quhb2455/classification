{
 "cells": [
  {
   "cell_type": "markdown",
   "id": "55b4a5a2",
   "metadata": {},
   "source": [
    "## sub-task 2 제출 스크립트\n",
    "ETRI FASHION-HOW Season 4 task2 제출코드입니다.\n",
    "#### 주의: 반드시 본 파일을 이용하여 제출을 수행해야 하며 파일의 이름은 task.ipynb로 유지되어야 합니다.\n",
    "- 작성하신 추론용 코드(예: test.py)를 본 스크립트 내의 etri_task2_submit() 함수로 작동되게끔 삽입하는 것으로 결과 제출을 수행할 수 있습니다.\n",
    "코드는 크게 4가지 파트로 구성되며, 해당 파트의 특성을 지켜서 내용을 편집하시면 되겠습니다.\n",
    "1. 제출용 aifactory 라이브러리 설치\n",
    "2. etri_task2_submit() 함수 편집 (추론 스크립트)\n",
    "3. submit() 함수로 wrapping\n",
    "4. if __name__ == \"__main__\" 조건문을 이용한 제출 수행\n",
    "\n",
    "※ 가능하면 제출시에는 포함되어 있는 train data를 폴더에서 제외하고 제출하시는 편이 좋습니다.\n",
    "- 파일 크기 감소 → 업로드 시간 감소 → 전체 추론 수행 시간 감소"
   ]
  },
  {
   "cell_type": "markdown",
   "id": "59a3ab06",
   "metadata": {},
   "source": [
    "### 1. 제출용 aifactory 라이브러리 설치\n",
    "#### 결과 전송에 필요하므로 아래와 같이 aifactory 라이브러리가 반드시 최신버전으로 설치될 수 있게끔 합니다"
   ]
  },
  {
   "cell_type": "markdown",
   "id": "0292adea",
   "metadata": {},
   "source": [
    "### 2. etri_task2_submit() 함수 편집 (추론 스크립트)\n",
    "#### etri_task2_submit() 편집 시 주의사항\n",
    "\n",
    "1. 아래 etri_task2_submit() 함수 내에 전체 추론 실행 코드를 삽입하고 결과를 dataframe으로 return하게끔 구성\n",
    "   - Baseline이 아닌 다른 모델을 사용하는 경우에도 동일\n",
    "2. 함수 내에서는 import * 가 적용되지 않으므로 필요한 import object를 직접 입력\n",
    "   - 반드시 함수 내에서 import가 이루어져야 합니다.\n",
    "3. argparse 사용시 args, _ = parser.parse_known_args()로 인자 지정\n",
    "   args = parser.parse_args()는 jupyter에서 오류가 발생합니다!!!\n",
    "4. 모델 내부의 경로는 ./ 으로 경로를 지정합니다. (예: weight 파일 경로)\n",
    "5. 데이터는 /aif/Dataset/ 경로 아래에 있습니다. (코드 내용 참조) \n",
    "6. return할 결과물과 양식에 유의합니다."
   ]
  },
  {
   "cell_type": "code",
   "execution_count": 1,
   "id": "77d05b4d",
   "metadata": {},
   "outputs": [],
   "source": [
    "def etri_task2_submit():\n",
    "    import subprocess\n",
    "    import sys\n",
    "    from copy import deepcopy\n",
    "    \n",
    "    subprocess.check_call([sys.executable, \"-m\", \"pip\", \"install\", \"timm==0.8.21.dev0\"])\n",
    "    subprocess.check_call([sys.executable, \"-m\", \"pip\", \"install\", \"pytorch-metric-learning==2.1.0\"])\n",
    "    subprocess.check_call([sys.executable, \"-m\", \"pip\", \"install\", \"chardet==5.2.0\"])\n",
    "    subprocess.check_call([sys.executable, \"-m\", \"pip\", \"install\", \"numpy==1.22.4\"])\n",
    "    subprocess.check_call([sys.executable, \"-m\", \"pip\", \"install\", \"albumentations==1.3.1\"])\n",
    "\n",
    "    from _18color_classification import BaseMain\n",
    "    # from _18color_multi_model import BaseMain\n",
    "    \n",
    "    cfg = {\n",
    "            \"mode\" : \"infer\", #train, #infer\n",
    "            \n",
    "            \"model_name\" : \"seresnext50_32x4d\",#\"resnetv2_101x1_bit\", #\"tf_efficientnetv2_m.in21k\", #\"swinv2_base_window12to16_192to256_22kft1k\",\n",
    "            #\"tf_efficientnetv2_s.in21k\",#\"eva_large_patch14_196.in22k_ft_in1k\",#\"beit_base_patch16_224.in22k_ft_in22k\",\n",
    "            \"num_classes\" : 18,\n",
    "            \n",
    "            \"learning_rate\" : 5e-4,\n",
    "            \"focal_alpha\" : 2,\n",
    "            \"focal_gamma\" : 2,\n",
    "            \"resize\" : 224,\n",
    "            \n",
    "            \"data_train_path\" : \"./sub-task2/Dataset/Train\",\n",
    "            \"data_train_csv_path\" : \"./sub-task2/Dataset/info_etri20_color_train.csv\",\n",
    "            \"data_valid_path\" : \"./sub-task2/Dataset/Validation\",\n",
    "            \"data_valid_csv_path\" : \"./sub-task2/Dataset/info_etri20_color_validation.csv\",\n",
    "            \n",
    "            \"data_infer_path\" : \"/aif/Dataset/Test/\",\n",
    "            \"data_infer_csv_path\" : \"/aif/Dataset/info_etri20_color_test.csv\",\n",
    "            # \"data_infer_path\" : \"../sub-task2/Dataset/Test_sample\",\n",
    "            # \"data_infer_csv_path\" : \"../sub-task2/Dataset/info_etri20_color_test_sample.csv\",\n",
    "            \n",
    "            \"epochs\" : 80,\n",
    "            \"batch_size\" : 4,\n",
    "            \"num_worker\" : 1,\n",
    "            \"early_stop_patient\" : 10,\n",
    "            \n",
    "            \"reuse\" : False, #True, #False\n",
    "            \"weight_path\" : \"./models/YCrCb_CustomAug_SpatialAug/63E-val0.6227062319989951-seresnext50_32x4d.pth\",\n",
    "            \n",
    "            \"save_path\" : \"./sub-task2/ckpt/\",\n",
    "            \"output_path\" : \"./sub-task2/output/\",\n",
    "            \"log_path\" : \"./sub-task2/logging/\",\n",
    "            \"device\" : \"cpu\",#\"cuda\",\n",
    "            \n",
    "            \"binary_mode\" : False,\n",
    "            \n",
    "            \"note\" : \"Cutmix 사용, FocalLoss 사용, Adam Optim 사용\"\n",
    "        } \n",
    "\n",
    "    cfg[\"shuffle\"] = False\n",
    "\n",
    "    base_main = BaseMain(**cfg)\n",
    "\n",
    "    df = base_main.infer(**cfg)\n",
    "    # cfg_1 = deepcopy(cfg)\n",
    "    # cfg_1[\"num_classes\"] = 7\n",
    "    # cfg_1[\"weight_path\"] = \"./models/YCrCb_1_group/7E-val0.8495624725570149-seresnext50_32x4d.pth\"\n",
    "    # cfg_1[\"output_path\"] = \"./sub-task2/output/seresnext50_32x4d/YCrCb_group/result_1.csv\"\n",
    "    # cfg_1[\"group\"] = 1\n",
    "    # base_main = BaseMain(**cfg_1)\n",
    "    # base_main.infer(**cfg_1)\n",
    "    \n",
    "    # cfg_2 = deepcopy(cfg)\n",
    "    # cfg_2[\"num_classes\"] = 6\n",
    "    # cfg_2[\"weight_path\"] = \"./models/YCrCb_2_group/7E-val0.8260962968913973-seresnext50_32x4d.pth\"\n",
    "    # cfg_2[\"output_path\"] = \"./sub-task2/output/seresnext50_32x4d/YCrCb_group/result_2.csv\"\n",
    "    # cfg_2[\"group\"] = 2\n",
    "    # base_main = BaseMain(**cfg_2)\n",
    "    # base_main.infer(**cfg_2)\n",
    "    \n",
    "    # cfg_3 = deepcopy(cfg)\n",
    "    # cfg_3[\"num_classes\"] = 5\n",
    "    # cfg_3[\"weight_path\"] = \"./models/YCrCb_3_group/13E-val0.8702208287760302-seresnext50_32x4d.pth\"\n",
    "    # cfg_3[\"output_path\"] = \"./sub-task2/output/seresnext50_32x4d/YCrCb_group/result_3.csv\"\n",
    "    # cfg_3[\"group\"] = 3\n",
    "    # base_main = BaseMain(**cfg_3)\n",
    "    # base_main.infer(**cfg_3)\n",
    "\n",
    "    # cfg_merge = deepcopy(cfg)\n",
    "    # cfg_merge[\"group1_path\"] = \"./sub-task2/output/seresnext50_32x4d/YCrCb_group/result_1.csv\"\n",
    "    # cfg_merge[\"group2_path\"] = \"./sub-task2/output/seresnext50_32x4d/YCrCb_group/result_2.csv\"\n",
    "    # cfg_merge[\"group3_path\"] = \"./sub-task2/output/seresnext50_32x4d/YCrCb_group/result_3.csv\"\n",
    "    # cfg_merge[\"output_path\"] = \"./sub-task2/output/seresnext50_32x4d/YCrCb_group/result.csv\"\n",
    "    # base_main = BaseMain(**cfg_merge)\n",
    "    # df = base_main.merge_csv(**cfg_merge)\n",
    "   \n",
    "    return df"
   ]
  },
  {
   "cell_type": "markdown",
   "id": "aa3a3a6b",
   "metadata": {},
   "source": [
    "### 3. submit() 함수로 wrapping\n",
    "#### 반드시 아래와 같이 submit() 이라는 함수로 위에 정의된 etri_task2_submit 함수를 wrapping해야 합니다."
   ]
  },
  {
   "cell_type": "code",
   "execution_count": 2,
   "id": "f0c87fb3",
   "metadata": {},
   "outputs": [],
   "source": [
    "def submit():\n",
    "    return etri_task2_submit"
   ]
  },
  {
   "cell_type": "markdown",
   "id": "937d1cdf",
   "metadata": {},
   "source": [
    "### 4. if name == \"main\" 조건문을 이용한 제출 수행\n",
    "#### 아래와 같이 if __name__ == \"__main__\" 구문 내에서 제출 함수가 실행되게끔 합니다.\n",
    "#### ※ task별, 참가자별로 key가 다릅니다. 잘못 입력하지 않도록 유의바랍니다.\n",
    "- key는 각팀 팀장분에게 메일로 할당된 계정을 이용하여 task별로 확인하실 수 있습니다."
   ]
  },
  {
   "cell_type": "code",
   "execution_count": 3,
   "id": "b3468396",
   "metadata": {},
   "outputs": [
    {
     "name": "stdout",
     "output_type": "stream",
     "text": [
      "file : task.py\n",
      "python\n",
      "파일 전송 완료\n",
      "score = 0.8288888889\n",
      "374.1515986919403\n"
     ]
    }
   ],
   "source": [
    "import aifactory.score as aif\n",
    "import time\n",
    "t = time.time()\n",
    "if __name__ == \"__main__\":\n",
    "    #-----------------------------------------------------#\n",
    "    aif.submit(model_name=\"YCrCb_seresnext50_32x4d\",               # 본인의 모델명 입력(버전 관리에 용이하게끔 편의에 맞게 지정합니다)\n",
    "               key=\"a5267026-3d4d-458a-bda4-fdc880fea39e\",                    # 본인의 task key 입력\n",
    "               func=submit                            # 3.에서 wrapping한 submit function\n",
    "               )\n",
    "    #-----------------------------------------------------#\n",
    "    print(time.time() - t)"
   ]
  },
  {
   "cell_type": "code",
   "execution_count": null,
   "id": "bffec7a2",
   "metadata": {},
   "outputs": [],
   "source": []
  }
 ],
 "metadata": {
  "kernelspec": {
   "display_name": "Python 3 (ipykernel)",
   "language": "python",
   "name": "python3"
  },
  "language_info": {
   "codemirror_mode": {
    "name": "ipython",
    "version": 3
   },
   "file_extension": ".py",
   "mimetype": "text/x-python",
   "name": "python",
   "nbconvert_exporter": "python",
   "pygments_lexer": "ipython3",
   "version": "3.8.13"
  }
 },
 "nbformat": 4,
 "nbformat_minor": 5
}

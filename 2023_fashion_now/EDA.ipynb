{
 "cells": [
  {
   "cell_type": "code",
   "execution_count": 1,
   "metadata": {},
   "outputs": [],
   "source": [
    "import os\n",
    "from tqdm import tqdm\n",
    "from glob import glob"
   ]
  },
  {
   "cell_type": "markdown",
   "metadata": {},
   "source": [
    "## task 1 데이터 개수"
   ]
  },
  {
   "cell_type": "code",
   "execution_count": null,
   "metadata": {},
   "outputs": [],
   "source": [
    "p = \"./sub-task1/Dataset/Train/*/*\"\n",
    "img_list = glob(p)\n",
    "\n",
    "class_num_dict = {}\n",
    "for path in img_list : \n",
    "    class_name = path.split(\"\\\\\")[1]\n",
    "    \n",
    "    if class_name in class_num_dict.keys() :\n",
    "        class_num_dict[class_name] += 1\n",
    "    else :\n",
    "        class_num_dict[class_name] = 1\n",
    "display(class_num_dict)\n",
    "print(\"total : \" , sum(list(class_num_dict.values())))"
   ]
  },
  {
   "cell_type": "markdown",
   "metadata": {},
   "source": [
    "## task 2 데이터 개수"
   ]
  },
  {
   "cell_type": "code",
   "execution_count": null,
   "metadata": {},
   "outputs": [],
   "source": [
    "p = \"./sub-task2/Dataset/Train/*/*\"\n",
    "img_list = glob(p)\n",
    "\n",
    "class_num_dict = {}\n",
    "for path in img_list : \n",
    "    class_name = path.split(\"\\\\\")[1]\n",
    "    \n",
    "    if class_name in class_num_dict.keys() :\n",
    "        class_num_dict[class_name] += 1\n",
    "    else :\n",
    "        class_num_dict[class_name] = 1\n",
    "display(class_num_dict)\n",
    "print(\"total : \" , sum(list(class_num_dict.values())))"
   ]
  },
  {
   "cell_type": "markdown",
   "metadata": {},
   "source": [
    "## task 1 클래스 종류 및 개수"
   ]
  },
  {
   "cell_type": "code",
   "execution_count": null,
   "metadata": {},
   "outputs": [],
   "source": [
    "import pandas as pd \n",
    "p = \"./sub-task1/Dataset/info_etri20_emotion_train.csv\"\n",
    "df = pd.read_csv(p)\n",
    "print(\"daliy\\n\")\n",
    "print(df['Daily'].value_counts().sort_values())\n",
    "print(\"Gender\\n\")\n",
    "print(df['Gender'].value_counts().sort_values())\n",
    "print(\"Embellishment\\n\")\n",
    "print(df['Embellishment'].value_counts().sort_values())\n",
    "\n",
    "# df.head"
   ]
  },
  {
   "cell_type": "markdown",
   "metadata": {},
   "source": [
    "## task 2 클래스 종류 및 개수"
   ]
  },
  {
   "cell_type": "code",
   "execution_count": null,
   "metadata": {},
   "outputs": [],
   "source": [
    "import pandas as pd \n",
    "p = \"./sub-task2/Dataset/info_etri20_color_train.csv\"\n",
    "df = pd.read_csv(p)\n",
    "print(\"Color\\n\")\n",
    "print(df['Color'].value_counts().sort_values())\n",
    "print(sorted(list(df['Color'].value_counts().keys())))"
   ]
  },
  {
   "cell_type": "markdown",
   "metadata": {},
   "source": [
    "## 태그, 컬러 별 이미지 시각화"
   ]
  },
  {
   "cell_type": "code",
   "execution_count": null,
   "metadata": {},
   "outputs": [],
   "source": [
    "import pandas as pd \n",
    "import cv2\n",
    "import matplotlib.pyplot as plt\n",
    "import random\n",
    "\n",
    "# root_path = \"./sub-task1/Dataset/Train\"\n",
    "root_path = \"./sub-task2/Dataset/Train\"\n",
    "# p = \"./sub-task1/Dataset/info_etri20_emotion_train.csv\"\n",
    "p = \"./sub-task2/Dataset/info_etri20_color_train.csv\"\n",
    "df = pd.read_csv(p)\n",
    "w, h = 6, 6\n",
    "f, axs = plt.subplots(h, w, figsize=(20, 20))\n",
    "\n",
    "tag='Color'\n",
    "level = 16\n",
    "\n",
    "ax = axs.flatten()\n",
    "\n",
    "for i in range(w*h) :\n",
    "    idx = random.randint(0, len(df['image_name'][df[tag] == level]) - 1)\n",
    "    ax[i].imshow(cv2.cvtColor(cv2.imread(os.path.join(root_path, df['image_name'][df[tag] == level].iloc[idx])), cv2.COLOR_BGR2RGB))\n",
    "\n",
    "plt.show()"
   ]
  },
  {
   "cell_type": "markdown",
   "metadata": {},
   "source": [
    "## task 2 bbox 크기 분포 확인"
   ]
  },
  {
   "cell_type": "code",
   "execution_count": null,
   "metadata": {},
   "outputs": [],
   "source": [
    "import pandas as pd\n",
    "import os\n",
    "import cv2\n",
    "from PIL import Image\n",
    "import matplotlib.pyplot as plt\n",
    "\n",
    "p = \"./sub-task2/Dataset/info_etri20_color_train.csv\"\n",
    "df = pd.read_csv(p)\n",
    "bbox_w = list(map(lambda x: x['BBox_xmax'] - x['BBox_xmin'], df.iloc))\n",
    "bbox_h = list(map(lambda x: x['BBox_ymax'] - x['BBox_ymin'], df.iloc))\n",
    "\n",
    "f, axs = plt.subplots(1, 2, figsize=(40, 10))\n",
    "ax = axs.flatten()\n",
    "\n",
    "ax[0].hist(bbox_w, bins=int(len(bbox_w)/10))\n",
    "ax[0].set_title(\"bbox width\")\n",
    "ax[1].hist(bbox_h, bins=int(len(bbox_h)/10))\n",
    "ax[1].set_title(\"bbox height\")\n",
    "\n",
    "plt.show()\n",
    "\n",
    "print(\"bbox width 총 개수 : \", len(bbox_w))\n",
    "print(\"bbox width 중복 제거 개수 : \", len(list(set(bbox_w))))\n",
    "print(\"bbox width 최대 길이 : \", max(bbox_w))\n",
    "print(\"bbox width 최소 길이 : \", min(bbox_w))\n",
    "\n",
    "print(\"\\nbbox height 총 개수 : \", len(bbox_h))\n",
    "print(\"bbox height 중복 제거 개수 : \", len(list(set(bbox_h))))\n",
    "print(\"bbox height 최대 길이 : \", max(bbox_h))\n",
    "print(\"bbox height 최소 길이 : \", min(bbox_w))"
   ]
  },
  {
   "cell_type": "markdown",
   "metadata": {},
   "source": [
    "## task 2 bbox 100px ~ 2000px 시각화"
   ]
  },
  {
   "cell_type": "code",
   "execution_count": null,
   "metadata": {},
   "outputs": [],
   "source": [
    "import pandas as pd\n",
    "import os\n",
    "import cv2\n",
    "from PIL import Image\n",
    "import matplotlib.pyplot as plt\n",
    "\n",
    "root_path = \"./sub-task2/Dataset/train\"\n",
    "p = \"./sub-task2/Dataset/info_etri20_color_train.csv\"\n",
    "df = pd.read_csv(p)\n",
    "\n",
    "size_dict = {}\n",
    "for df_item in df.iloc :\n",
    "    w = df_item['BBox_xmax'] - df_item[\"BBox_xmin\"]\n",
    "    h = df_item['BBox_ymax'] - df_item[\"BBox_ymin\"]\n",
    "        \n",
    "    for i in range(100, 2000, 100):\n",
    "        if (w > i and i+100 > w) or (h > i and i+100 > h) :\n",
    "            if f\"{i}_{i+100}\" not in size_dict.keys():\n",
    "                size_dict[f\"{i}_{i+100}\"] = dict(df_item)\n",
    "                break\n",
    "\n",
    "size_dict = {k : v for k, v in sorted(size_dict.items(), key=lambda x: int(x[0].split(\"_\")[0]))}\n",
    "f, axs = plt.subplots(5, 4, figsize=(20, 35))\n",
    "ax = axs.flatten()\n",
    "\n",
    "for idx, (size, vs) in enumerate(size_dict.items()) :\n",
    "    img = Image.open(os.path.join(root_path, vs['image_name']))\n",
    "    cropped_img = img.crop((vs[\"BBox_xmin\"], vs[\"BBox_ymin\"], vs[\"BBox_xmax\"], vs[\"BBox_ymax\"]))\n",
    "    w = vs[\"BBox_xmax\"] - vs[\"BBox_xmin\"]\n",
    "    h = vs[\"BBox_ymax\"] - vs[\"BBox_ymin\"]\n",
    "    fn = vs['image_name']\n",
    "    title = f\"Size : {size}\\nWdith : {w} - Height : {h}\\nOri : {img.size}\\nName : {fn}\"\n",
    "    \n",
    "    ax[idx].set_title(title)\n",
    "    ax[idx].imshow(cropped_img)\n",
    "        \n"
   ]
  },
  {
   "cell_type": "markdown",
   "metadata": {},
   "source": [
    "## Class 별 컬러 히스토그램"
   ]
  },
  {
   "cell_type": "code",
   "execution_count": null,
   "metadata": {},
   "outputs": [],
   "source": [
    "import pandas as pd\n",
    "import os\n",
    "import cv2\n",
    "from PIL import Image\n",
    "import matplotlib.pyplot as plt\n",
    "from tqdm import tqdm\n",
    "\n",
    "root_path = \"./sub-task2/Dataset/train\"\n",
    "p = \"./sub-task2/Dataset/info_etri20_color_train.csv\"\n",
    "df = pd.read_csv(p)\n",
    "\n",
    "class_num = len(set(df['Color']))\n",
    "f, ax = plt.subplots(class_num, 2, figsize=(30, 80))\n",
    "# ax = axs.flatten()\n",
    "# color_dict = {}\n",
    "for i in range(class_num) :\n",
    "    color_df =df[df['Color'] == i]\n",
    "    total_r, total_g, total_b = [0]*256, [0]*256, [0]*256\n",
    "    for cdf in tqdm(color_df.iloc) :\n",
    "        \n",
    "        img = Image.open(os.path.join(root_path, cdf[\"image_name\"])).convert(\"RGB\")\n",
    "        cropped_img = img.crop((cdf[\"BBox_xmin\"], cdf[\"BBox_ymin\"], cdf[\"BBox_xmax\"], cdf[\"BBox_ymax\"]))\n",
    "        try: \n",
    "            rs, gs, bs = cropped_img.split()\n",
    "        except :\n",
    "            print(cropped_img)\n",
    "            continue\n",
    "        \n",
    "        for idx, (r, g, b) in enumerate(zip(rs.histogram(), gs.histogram(), bs.histogram())) :\n",
    "            total_r[idx] += r\n",
    "            total_g[idx] += g\n",
    "            total_b[idx] += b\n",
    "            \n",
    "    ax[i][0].plot(total_r, color=\"r\")\n",
    "    ax[i][0].plot(total_g, color=\"g\")\n",
    "    ax[i][0].plot(total_b, color=\"b\")\n",
    "    ax[i][0].set_title(f\"Label = {i}\")\n",
    "    ax[i][1].imshow(cropped_img)\n",
    "    \n",
    "#     total_rc, total_gc, total_bc = 0, 0, 0\n",
    "#     for idx, (rc, gc, bc) in enumerate(zip(total_r, total_g, total_b)) :\n",
    "#         total_rc += idx * (rc )#/ max(total_r))\n",
    "#         total_gc += idx * (gc )#/ max(total_g))\n",
    "#         total_bc += idx * (bc )#/ max(total_b))\n",
    "    \n",
    "#     color_dict[str(i)] = {\n",
    "#         \"r\" : total_rc/sum(total_r)/255,\n",
    "#         \"g\" : total_gc/sum(total_g)/255,\n",
    "#         \"b\" : total_bc/sum(total_b)/255\n",
    "#     }\n",
    "# display(color_dict)\n",
    "plt.show()\n"
   ]
  },
  {
   "cell_type": "markdown",
   "metadata": {},
   "source": [
    "## 색상 별 Mean, Std 값"
   ]
  },
  {
   "cell_type": "code",
   "execution_count": null,
   "metadata": {},
   "outputs": [],
   "source": [
    "import pandas as pd\n",
    "import os\n",
    "import cv2\n",
    "from PIL import Image\n",
    "import matplotlib.pyplot as plt\n",
    "from tqdm import tqdm\n",
    "import numpy as np\n",
    "from copy import deepcopy\n",
    "\n",
    "root_path = \"./sub-task2/Dataset/train\"\n",
    "p = \"./sub-task2/Dataset/info_etri20_color_train.csv\"\n",
    "df = pd.read_csv(p)\n",
    "mean_dict = {\n",
    "    \"class\" : [], \n",
    "    \"r\" : [],\n",
    "    \"g\" : [],\n",
    "    \"b\" : []}\n",
    "std_dict = deepcopy(mean_dict)\n",
    "\n",
    "for i in range(class_num) :\n",
    "    color_df =df[df['Color'] == i]\n",
    "    color_mean, color_std = np.zeros(3), np.zeros(3)\n",
    "    for cdf in tqdm(color_df.iloc) :\n",
    "        img = cv2.imread(os.path.join(root_path, cdf[\"image_name\"]))\n",
    "        img = cv2.cvtColor(img, cv2.COLOR_BGR2RGB)\n",
    "        img = img[cdf[\"BBox_ymin\"]:cdf[\"BBox_ymax\"], cdf[\"BBox_xmin\"]:cdf[\"BBox_xmax\"], :]\n",
    "        \n",
    "        for idx in range(3) :\n",
    "            color_mean[idx] += img[:, :, idx].mean()\n",
    "            color_std[idx] += img[:, :, idx].std()\n",
    "    \n",
    "    mean_dict[\"class\"].append(i)\n",
    "    mean_dict[\"r\"].append(color_mean[0].tolist() / len(color_df) / 255)\n",
    "    mean_dict[\"g\"].append(color_mean[1].tolist() / len(color_df) / 255)\n",
    "    mean_dict[\"b\"].append(color_mean[2].tolist() / len(color_df) / 255)\n",
    "    \n",
    "    std_dict[\"class\"].append(i)\n",
    "    std_dict[\"r\"].append(color_std[0].tolist() / len(color_df) / 255)\n",
    "    std_dict[\"g\"].append(color_std[1].tolist() / len(color_df) / 255)\n",
    "    std_dict[\"b\"].append(color_std[2].tolist() / len(color_df) / 255)\n",
    "    \n",
    "mean_df = pd.DataFrame(mean_dict)\n",
    "std_df = pd.DataFrame(std_dict)\n",
    "\n",
    "mean_df.to_csv(\"./sub-task2/color_mean.csv\", index=False)\n",
    "std_df.to_csv(\"./sub-task2/color_std.csv\", index=False)"
   ]
  },
  {
   "cell_type": "markdown",
   "metadata": {},
   "source": [
    "## Center crop - 색상 별 RGB 분포\n",
    "- bbox crop 후 width 의 0.25 ~ 0.75 지점\n",
    "- bbox crop 후 height 의 0.25 ~ 0.75 지점"
   ]
  },
  {
   "cell_type": "code",
   "execution_count": null,
   "metadata": {},
   "outputs": [],
   "source": [
    "import pandas as pd\n",
    "import os\n",
    "import cv2\n",
    "from PIL import Image\n",
    "import matplotlib.pyplot as plt\n",
    "from tqdm import tqdm\n",
    "\n",
    "root_path = \"./sub-task2/Dataset/train\"\n",
    "p = \"./sub-task2/Dataset/info_etri20_color_train.csv\"\n",
    "df = pd.read_csv(p)\n",
    "\n",
    "class_num = len(set(df['Color']))\n",
    "f, ax = plt.subplots(class_num, 2, figsize=(30, 80))\n",
    "# ax = axs.flatten()\n",
    "# color_dict = {}\n",
    "\n",
    "for i in range(class_num) :\n",
    "    color_df =df[df['Color'] == i]\n",
    "    total_r, total_g, total_b = [0]*256, [0]*256, [0]*256\n",
    "    for cdf in tqdm(color_df.iloc) :\n",
    "        \n",
    "        img = Image.open(os.path.join(root_path, cdf[\"image_name\"])).convert(\"RGB\")\n",
    "        img = img.crop((cdf[\"BBox_xmin\"], cdf[\"BBox_ymin\"], cdf[\"BBox_xmax\"], cdf[\"BBox_ymax\"]))\n",
    "        h, w = img.size\n",
    "        cropped_img = img.crop((int(w*0.25), int(h*0.25), int(w*0.75), int(h*0.75)))\n",
    "        try: \n",
    "            rs, gs, bs = cropped_img.split()\n",
    "        except :\n",
    "            print(cropped_img)\n",
    "            continue\n",
    "        \n",
    "        for idx, (r, g, b) in enumerate(zip(rs.histogram(), gs.histogram(), bs.histogram())) :\n",
    "            total_r[idx] += r\n",
    "            total_g[idx] += g\n",
    "            total_b[idx] += b\n",
    "            \n",
    "    ax[i][0].plot(total_r, color=\"r\")\n",
    "    ax[i][0].plot(total_g, color=\"g\")\n",
    "    ax[i][0].plot(total_b, color=\"b\")\n",
    "    ax[i][0].set_title(f\"Label = {i}\")\n",
    "    ax[i][1].imshow(cropped_img)\n",
    "    \n",
    "#     total_rc, total_gc, total_bc = 0, 0, 0\n",
    "#     for idx, (rc, gc, bc) in enumerate(zip(total_r, total_g, total_b)) :\n",
    "#         total_rc += idx * (rc )#/ max(total_r))\n",
    "#         total_gc += idx * (gc )#/ max(total_g))\n",
    "#         total_bc += idx * (bc )#/ max(total_b))\n",
    "    \n",
    "#     color_dict[str(i)] = {\n",
    "#         \"r\" : total_rc/sum(total_r)/255,\n",
    "#         \"g\" : total_gc/sum(total_g)/255,\n",
    "#         \"b\" : total_bc/sum(total_b)/255\n",
    "#     }\n",
    "# display(color_dict)\n",
    "plt.show()\n"
   ]
  },
  {
   "cell_type": "markdown",
   "metadata": {},
   "source": [
    "## Center crop - 색상 별 Mena, Std 값"
   ]
  },
  {
   "cell_type": "code",
   "execution_count": null,
   "metadata": {},
   "outputs": [],
   "source": [
    "import pandas as pd\n",
    "import os\n",
    "import cv2\n",
    "from PIL import Image\n",
    "import matplotlib.pyplot as plt\n",
    "from tqdm import tqdm\n",
    "import numpy as np\n",
    "from copy import deepcopy\n",
    "\n",
    "root_path = \"./sub-task2/Dataset/train\"\n",
    "p = \"./sub-task2/Dataset/info_etri20_color_train.csv\"\n",
    "df = pd.read_csv(p)\n",
    "mean_dict = {\n",
    "    \"class\" : [], \n",
    "    \"r\" : [],\n",
    "    \"g\" : [],\n",
    "    \"b\" : []}\n",
    "std_dict = deepcopy(mean_dict)\n",
    "\n",
    "for i in range(class_num) :\n",
    "    color_df =df[df['Color'] == i]\n",
    "    color_mean, color_std = np.zeros(3), np.zeros(3)\n",
    "    for cdf in tqdm(color_df.iloc) :\n",
    "        img = cv2.imread(os.path.join(root_path, cdf[\"image_name\"]))\n",
    "        img = cv2.cvtColor(img, cv2.COLOR_BGR2RGB)\n",
    "        img = img[cdf[\"BBox_ymin\"]:cdf[\"BBox_ymax\"], cdf[\"BBox_xmin\"]:cdf[\"BBox_xmax\"], :]\n",
    "        h, w = img.shape[:2]\n",
    "        img = img[int(h*0.25):int(h*0.75), int(w*0.25):int(w*0.75), :]\n",
    "        \n",
    "        for idx in range(3) :\n",
    "            color_mean[idx] += img[:, :, idx].mean()\n",
    "            color_std[idx] += img[:, :, idx].std()\n",
    "    \n",
    "    mean_dict[\"class\"].append(i)\n",
    "    mean_dict[\"r\"].append(color_mean[0].tolist() / len(color_df) / 255)\n",
    "    mean_dict[\"g\"].append(color_mean[1].tolist() / len(color_df) / 255)\n",
    "    mean_dict[\"b\"].append(color_mean[2].tolist() / len(color_df) / 255)\n",
    "    \n",
    "    std_dict[\"class\"].append(i)\n",
    "    std_dict[\"r\"].append(color_std[0].tolist() / len(color_df) / 255)\n",
    "    std_dict[\"g\"].append(color_std[1].tolist() / len(color_df) / 255)\n",
    "    std_dict[\"b\"].append(color_std[2].tolist() / len(color_df) / 255)\n",
    "    \n",
    "mean_df = pd.DataFrame(mean_dict)\n",
    "std_df = pd.DataFrame(std_dict)\n",
    "\n",
    "mean_df.to_csv(\"./sub-task2/centercrop_color_mean.csv\", index=False)\n",
    "std_df.to_csv(\"./sub-task2/centercrop_color_std.csv\", index=False)"
   ]
  },
  {
   "cell_type": "markdown",
   "metadata": {},
   "source": [
    "## code test"
   ]
  },
  {
   "cell_type": "code",
   "execution_count": null,
   "metadata": {},
   "outputs": [],
   "source": [
    "import pandas as pd\n",
    "import os\n",
    "import cv2\n",
    "from PIL import Image\n",
    "import matplotlib.pyplot as plt\n",
    "from tqdm import tqdm\n",
    "\n",
    "root_path = \"./sub-task2/Dataset/train\"\n",
    "p = \"./sub-task2/Dataset/info_etri20_color_train.csv\"\n",
    "df = pd.read_csv(p)\n",
    "cdf = df.iloc[2255]\n",
    "\n",
    "img = Image.open(os.path.join(root_path, cdf['image_name'])).convert('RGB')\n",
    "label = cdf['Color']\n",
    "img = img.crop((cdf[\"BBox_xmin\"], cdf[\"BBox_ymin\"], cdf[\"BBox_xmax\"], cdf[\"BBox_ymax\"]))\n",
    "w, h = img.size\n",
    "cropped_img = img.crop((int(w*0.25), int(h*0.25), int(w*0.75), int(h*0.75)))\n",
    "display(img)\n",
    "display(cropped_img)\n",
    "print(label)"
   ]
  },
  {
   "cell_type": "code",
   "execution_count": 3,
   "metadata": {},
   "outputs": [
    {
     "data": {
      "text/plain": [
       "numpy.int64"
      ]
     },
     "execution_count": 3,
     "metadata": {},
     "output_type": "execute_result"
    }
   ],
   "source": [
    "import pandas as pd\n",
    "import os\n",
    "import cv2\n",
    "from PIL import Image\n",
    "import matplotlib.pyplot as plt\n",
    "\n",
    "root_path = \"./sub-task2/Dataset/train\"\n",
    "p = \"./sub-task2/Dataset/info_etri20_color_train.csv\"\n",
    "df = pd.read_csv(p)\n",
    "cdf = df.iloc[2255]\n",
    "\n",
    "type(cdf['Color'])\n",
    "# img = cv2.imread(os.path.join(root_path, cdf['image_name']))\n",
    "# print(img.shape)\n",
    "# plt.imshow(img)"
   ]
  },
  {
   "cell_type": "code",
   "execution_count": 6,
   "metadata": {},
   "outputs": [
    {
     "data": {
      "text/plain": [
       "'20230806_23_00_11'"
      ]
     },
     "execution_count": 6,
     "metadata": {},
     "output_type": "execute_result"
    }
   ],
   "source": [
    "import time\n",
    "time.strftime('%Y%m%d_%H_%M_%S', time.localtime())"
   ]
  }
 ],
 "metadata": {
  "kernelspec": {
   "display_name": "torch-1.11",
   "language": "python",
   "name": "python3"
  },
  "language_info": {
   "codemirror_mode": {
    "name": "ipython",
    "version": 3
   },
   "file_extension": ".py",
   "mimetype": "text/x-python",
   "name": "python",
   "nbconvert_exporter": "python",
   "pygments_lexer": "ipython3",
   "version": "3.8.13"
  },
  "orig_nbformat": 4
 },
 "nbformat": 4,
 "nbformat_minor": 2
}

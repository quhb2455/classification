{
 "cells": [
  {
   "cell_type": "code",
   "execution_count": 2,
   "id": "5cc418a4",
   "metadata": {},
   "outputs": [],
   "source": [
    "import h5py\n",
    "import numpy as np\n",
    "import pandas as pd"
   ]
  },
  {
   "cell_type": "code",
   "execution_count": 3,
   "id": "518e560f",
   "metadata": {},
   "outputs": [],
   "source": [
    "# all_points = h5py.File('./data/train.h5', 'r')\n"
   ]
  },
  {
   "cell_type": "code",
   "execution_count": 4,
   "id": "00c6ca76",
   "metadata": {},
   "outputs": [],
   "source": [
    "# all_points = np.array([np.array(all_points[str(i)]) for i in range(50000)])"
   ]
  },
  {
   "cell_type": "code",
   "execution_count": 4,
   "id": "a345f785",
   "metadata": {},
   "outputs": [],
   "source": [
    "# np.save('./data/train.npy',all_points)"
   ]
  },
  {
   "cell_type": "code",
   "execution_count": 5,
   "id": "38291d5b",
   "metadata": {
    "scrolled": true
   },
   "outputs": [],
   "source": [
    "best = pd.read_csv('./submission/bomin.csv')\n",
    "my = pd.read_csv('./submission/5E-val0.9794-6ch_img-effi_b0.csv')"
   ]
  },
  {
   "cell_type": "code",
   "execution_count": 6,
   "id": "068ce7ee",
   "metadata": {},
   "outputs": [
    {
     "data": {
      "text/plain": [
       "26.035000000000004"
      ]
     },
     "execution_count": 6,
     "metadata": {},
     "output_type": "execute_result"
    }
   ],
   "source": [
    "my[my['label'] == best['label']].shape[0] / len(my) * 100"
   ]
  },
  {
   "cell_type": "code",
   "execution_count": null,
   "id": "aa8ff6f9",
   "metadata": {},
   "outputs": [],
   "source": []
  }
 ],
 "metadata": {
  "kernelspec": {
   "display_name": "Python 3 (ipykernel)",
   "language": "python",
   "name": "python3"
  },
  "language_info": {
   "codemirror_mode": {
    "name": "ipython",
    "version": 3
   },
   "file_extension": ".py",
   "mimetype": "text/x-python",
   "name": "python",
   "nbconvert_exporter": "python",
   "pygments_lexer": "ipython3",
   "version": "3.8.13"
  }
 },
 "nbformat": 4,
 "nbformat_minor": 5
}

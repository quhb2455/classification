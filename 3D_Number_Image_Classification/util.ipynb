{
 "cells": [
  {
   "cell_type": "code",
   "execution_count": 1,
   "id": "5cc418a4",
   "metadata": {},
   "outputs": [],
   "source": [
    "import h5py\n",
    "import numpy as np\n",
    "import pandas as pd"
   ]
  },
  {
   "cell_type": "code",
   "execution_count": 3,
   "id": "518e560f",
   "metadata": {},
   "outputs": [],
   "source": [
    "# all_points = h5py.File('./data/train.h5', 'r')\n"
   ]
  },
  {
   "cell_type": "code",
   "execution_count": 4,
   "id": "00c6ca76",
   "metadata": {},
   "outputs": [],
   "source": [
    "# all_points = np.array([np.array(all_points[str(i)]) for i in range(50000)])"
   ]
  },
  {
   "cell_type": "code",
   "execution_count": 5,
   "id": "a345f785",
   "metadata": {},
   "outputs": [],
   "source": [
    "# np.save('./data/train.npy',all_points)"
   ]
  },
  {
   "cell_type": "code",
   "execution_count": 19,
   "id": "38291d5b",
   "metadata": {
    "scrolled": true
   },
   "outputs": [],
   "source": [
    "best = pd.read_csv('./submission/bomin.csv')\n",
    "my = pd.read_csv('./submission/20E-val0.9419-lr_1e21e3-xaxis_reg-voxelnet.csv')"
   ]
  },
  {
   "cell_type": "code",
   "execution_count": 20,
   "id": "068ce7ee",
   "metadata": {},
   "outputs": [
    {
     "data": {
      "text/plain": [
       "0.6737"
      ]
     },
     "execution_count": 20,
     "metadata": {},
     "output_type": "execute_result"
    }
   ],
   "source": [
    "my[my['label'] == best['label']].shape[0] / len(my) "
   ]
  },
  {
   "cell_type": "code",
   "execution_count": 48,
   "id": "aa8ff6f9",
   "metadata": {},
   "outputs": [
    {
     "data": {
      "text/plain": [
       "array([[ 0.15      ,  0.02270992,  0.52146947],\n",
       "       [ 0.15      ,  0.03520992,  0.52146947],\n",
       "       [ 0.15      ,  0.04770992,  0.52146947],\n",
       "       ...,\n",
       "       [ 0.15      , -0.02729008, -0.45353053],\n",
       "       [ 0.15      , -0.02729008, -0.46603053],\n",
       "       [ 0.15      , -0.02729008, -0.47853053]])"
      ]
     },
     "metadata": {},
     "output_type": "display_data"
    },
    {
     "data": {
      "text/plain": [
       "array([[ 0.15100889,  0.02907892,  0.52383322],\n",
       "       [ 0.16809987,  0.03750904,  0.53490574],\n",
       "       [ 0.15930187,  0.05817811,  0.52261523],\n",
       "       ...,\n",
       "       [ 0.16520677, -0.00814242, -0.44570339],\n",
       "       [ 0.15343427, -0.02197854, -0.45711571],\n",
       "       [ 0.15655503, -0.02320857, -0.46566946]])"
      ]
     },
     "metadata": {},
     "output_type": "display_data"
    }
   ],
   "source": [
    "all_points = h5py.File('./data/train.h5', 'r')\n",
    "points = all_points['1']\n",
    "\n",
    "display(np.array(points))\n",
    "points += np.random.uniform(0, 0.02, size=points.shape)\n",
    "display(points)"
   ]
  },
  {
   "cell_type": "code",
   "execution_count": null,
   "id": "df0d8a59",
   "metadata": {},
   "outputs": [],
   "source": []
  }
 ],
 "metadata": {
  "kernelspec": {
   "display_name": "Python 3 (ipykernel)",
   "language": "python",
   "name": "python3"
  },
  "language_info": {
   "codemirror_mode": {
    "name": "ipython",
    "version": 3
   },
   "file_extension": ".py",
   "mimetype": "text/x-python",
   "name": "python",
   "nbconvert_exporter": "python",
   "pygments_lexer": "ipython3",
   "version": "3.8.13"
  }
 },
 "nbformat": 4,
 "nbformat_minor": 5
}

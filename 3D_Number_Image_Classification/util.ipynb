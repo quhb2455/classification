{
 "cells": [
  {
   "cell_type": "code",
   "execution_count": 1,
   "id": "5cc418a4",
   "metadata": {},
   "outputs": [],
   "source": [
    "import h5py\n",
    "import numpy as np\n",
    "import pandas as pd"
   ]
  },
  {
   "cell_type": "code",
   "execution_count": 3,
   "id": "518e560f",
   "metadata": {},
   "outputs": [],
   "source": [
    "# all_points = h5py.File('./data/train.h5', 'r')\n"
   ]
  },
  {
   "cell_type": "code",
   "execution_count": 4,
   "id": "00c6ca76",
   "metadata": {},
   "outputs": [],
   "source": [
    "# all_points = np.array([np.array(all_points[str(i)]) for i in range(50000)])"
   ]
  },
  {
   "cell_type": "code",
   "execution_count": 5,
   "id": "a345f785",
   "metadata": {},
   "outputs": [],
   "source": [
    "# np.save('./data/train.npy',all_points)"
   ]
  },
  {
   "cell_type": "code",
   "execution_count": 6,
   "id": "38291d5b",
   "metadata": {
    "scrolled": true
   },
   "outputs": [],
   "source": [
    "best = pd.read_csv('./submission/bomin.csv')\n",
    "my = pd.read_csv('./submission/3E-val0.9539-voxelnet.csv')"
   ]
  },
  {
   "cell_type": "code",
   "execution_count": 8,
   "id": "068ce7ee",
   "metadata": {},
   "outputs": [
    {
     "data": {
      "text/plain": [
       "0.099225"
      ]
     },
     "execution_count": 8,
     "metadata": {},
     "output_type": "execute_result"
    }
   ],
   "source": [
    "my[my['label'] == best['label']].shape[0] / len(my) "
   ]
  },
  {
   "cell_type": "code",
   "execution_count": 3,
   "id": "aa8ff6f9",
   "metadata": {},
   "outputs": [
    {
     "data": {
      "text/plain": [
       "5"
      ]
     },
     "execution_count": 3,
     "metadata": {},
     "output_type": "execute_result"
    }
   ],
   "source": [
    "np.max(np.array([1,5,3]))"
   ]
  },
  {
   "cell_type": "code",
   "execution_count": null,
   "id": "2cfeff2d",
   "metadata": {},
   "outputs": [],
   "source": []
  }
 ],
 "metadata": {
  "kernelspec": {
   "display_name": "Python 3 (ipykernel)",
   "language": "python",
   "name": "python3"
  },
  "language_info": {
   "codemirror_mode": {
    "name": "ipython",
    "version": 3
   },
   "file_extension": ".py",
   "mimetype": "text/x-python",
   "name": "python",
   "nbconvert_exporter": "python",
   "pygments_lexer": "ipython3",
   "version": "3.8.13"
  }
 },
 "nbformat": 4,
 "nbformat_minor": 5
}

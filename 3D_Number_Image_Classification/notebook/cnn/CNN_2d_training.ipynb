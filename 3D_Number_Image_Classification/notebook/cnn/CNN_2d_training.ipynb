{
 "cells": [
  {
   "cell_type": "code",
   "execution_count": 1,
   "id": "2cac8300",
   "metadata": {},
   "outputs": [],
   "source": [
    "import cv2\n",
    "import os\n",
    "import timm\n",
    "import numpy as np\n",
    "import pandas as pd\n",
    "import albumentations as A\n",
    "import logging\n",
    "import json\n",
    "from datetime import datetime\n",
    "\n",
    "from glob import glob\n",
    "from tqdm import tqdm\n",
    "from easydict import EasyDict\n",
    "from albumentations.pytorch import ToTensorV2\n",
    "from sklearn.model_selection import train_test_split, StratifiedKFold\n",
    "from sklearn.metrics import f1_score, accuracy_score\n",
    "from torch.utils.tensorboard import SummaryWriter\n",
    "\n",
    "import torch\n",
    "from torch import nn\n",
    "import torch.nn.functional as F\n",
    "from torch.utils.data import Dataset, DataLoader\n",
    "from torch.optim.lr_scheduler import CosineAnnealingLR"
   ]
  },
  {
   "cell_type": "markdown",
   "id": "82b76aab",
   "metadata": {},
   "source": [
    "# Dataset"
   ]
  },
  {
   "cell_type": "code",
   "execution_count": 2,
   "id": "90a45b72",
   "metadata": {},
   "outputs": [],
   "source": [
    "class CustomDataset(Dataset):\n",
    "    def __init__(self, img_list, label_list=None, transforms=None) :\n",
    "        self.img_list = img_list\n",
    "        self.label_list = label_list\n",
    "        self.transforms = transforms\n",
    "        \n",
    "    def __len__(self):\n",
    "        return len(self.img_list)\n",
    "    \n",
    "    def __getitem__(self, idx):\n",
    "        img_path = self.img_list[idx]\n",
    "        \n",
    "        img = cv2.imread(img_path)\n",
    "        img = cv2.cvtColor(img, cv2.COLOR_BGR2RGB)\n",
    "            \n",
    "        if self.transforms:            \n",
    "            img = self.transforms(image=img)['image']\n",
    "        \n",
    "        # training\n",
    "        if self.label_list is not None :\n",
    "            label = self.label_list[idx]\n",
    "            return img, torch.tensor(label)\n",
    "        \n",
    "        # test\n",
    "        else :\n",
    "            return img"
   ]
  },
  {
   "cell_type": "markdown",
   "id": "0e06b210",
   "metadata": {},
   "source": [
    "# Focal Loss"
   ]
  },
  {
   "cell_type": "code",
   "execution_count": 3,
   "id": "bd5bb8aa",
   "metadata": {},
   "outputs": [],
   "source": [
    "class FocalLoss(nn.Module) :\n",
    "    def __init__(self, alpha=2, gamma=2, logits=False, reduction='none') :\n",
    "        super(FocalLoss, self).__init__()\n",
    "        self.alpha = alpha\n",
    "        self.gamma = gamma\n",
    "        self.logits = logits\n",
    "        self.reduction = reduction\n",
    "\n",
    "    def forward(self, inputs, targets) :\n",
    "        ce_loss = nn.CrossEntropyLoss(reduction=self.reduction)(inputs, targets)\n",
    "        pt = torch.exp(-ce_loss)\n",
    "        F_loss = self.alpha * (1-pt)**self.gamma * ce_loss\n",
    "\n",
    "        if self.reduction :\n",
    "            return torch.mean(F_loss)\n",
    "        else :\n",
    "            return F_loss"
   ]
  },
  {
   "cell_type": "markdown",
   "id": "461b1ceb",
   "metadata": {},
   "source": [
    "# MODEL"
   ]
  },
  {
   "cell_type": "code",
   "execution_count": 4,
   "id": "2ff230a0",
   "metadata": {},
   "outputs": [],
   "source": [
    "class CNN(nn.Module):\n",
    "    def __init__(self, model_name) :\n",
    "        super().__init__()\n",
    "        self.model = timm.create_model(model_name=model_name, num_classes=10, pretrained=True)\n",
    "        \n",
    "    def forward(self, x) :\n",
    "        x = self.model(x)            \n",
    "        return x"
   ]
  },
  {
   "cell_type": "markdown",
   "id": "d68fcbe7",
   "metadata": {},
   "source": [
    "# Augmentation"
   ]
  },
  {
   "cell_type": "code",
   "execution_count": 5,
   "id": "3c76ed7a",
   "metadata": {},
   "outputs": [],
   "source": [
    "def rand_bbox(size, lam):\n",
    "    W = size[2]\n",
    "    H = size[3]\n",
    "    cut_rat = np.sqrt(1. - lam)\n",
    "    cut_w = np.int32(W * cut_rat)\n",
    "    cut_h = np.int32(H * cut_rat)\n",
    "\n",
    "    # uniform\n",
    "    cx = np.random.randint(W)\n",
    "    cy = np.random.randint(H)\n",
    "\n",
    "    bbx1 = np.clip(cx - cut_w // 2, 0, W)\n",
    "    bby1 = np.clip(cy - cut_h // 2, 0, H)\n",
    "    bbx2 = np.clip(cx + cut_w // 2, 0, W)\n",
    "    bby2 = np.clip(cy + cut_h // 2, 0, H)\n",
    "\n",
    "    return bbx1, bby1, bbx2, bby2\n",
    "\n",
    "def cutmix(imgs, labels):\n",
    "    lam = np.random.beta(1.0, 1.0)\n",
    "    rand_index = torch.randperm(imgs.size()[0]).cuda()\n",
    "    target_a = labels\n",
    "    target_b = labels[rand_index]\n",
    "    bbx1, bby1, bbx2, bby2 = rand_bbox(imgs.size(), lam)\n",
    "    imgs[:, :, bbx1:bbx2, bby1:bby2] = imgs[rand_index, :, bbx1:bbx2, bby1:bby2]\n",
    "\n",
    "    lam = 1 - ((bbx2 - bbx1) * (bby2 - bby1) / (imgs.size()[-1] * imgs.size()[-2]))\n",
    "\n",
    "    return imgs, lam, target_a, target_b\n",
    "\n",
    "def mixup(imgs, labels) :\n",
    "    lam = np.random.beta(1.0, 1.0)\n",
    "    rand_index = torch.randperm(imgs.size()[0]).cuda()\n",
    "    mixed_imgs = lam * imgs + (1 - lam) * imgs[rand_index, :]\n",
    "    target_a, target_b = labels, labels[rand_index]\n",
    "    \n",
    "    return mixed_imgs, lam, target_a, target_b"
   ]
  },
  {
   "cell_type": "markdown",
   "id": "66a43ceb",
   "metadata": {},
   "source": [
    "# Training"
   ]
  },
  {
   "cell_type": "code",
   "execution_count": 6,
   "id": "58e34a77",
   "metadata": {},
   "outputs": [],
   "source": [
    "def weight_freeze(model) :\n",
    "    for i, child in enumerate(model.children()) :\n",
    "        for n, p in child.named_modules() :\n",
    "            if n != 'classifier' :\n",
    "                for param in p.parameters():\n",
    "                    param.requires_grad = False    \n",
    "            elif n == 'classifier' : \n",
    "                for param in p.parameters():\n",
    "                    param.requires_grad = True\n",
    "    return model"
   ]
  },
  {
   "cell_type": "code",
   "execution_count": 7,
   "id": "abfc1bd1",
   "metadata": {},
   "outputs": [],
   "source": [
    "def weight_load(model, optimizer, ckpt):\n",
    "    checkpoint = torch.load(ckpt)\n",
    "    \n",
    "    model.load_state_dict(checkpoint['model_state_dict'])\n",
    "    optimizer.load_state_dict(checkpoint['optimizer_state_dict'])\n",
    "    \n",
    "    if CFG['clssifier_freeze'] :\n",
    "        model = weight_freeze(model)\n",
    "        \n",
    "    return model, optimizer, checkpoint['epoch']"
   ]
  },
  {
   "cell_type": "code",
   "execution_count": 8,
   "id": "4e86f890",
   "metadata": {},
   "outputs": [],
   "source": [
    "def score(true_labels, model_preds) :\n",
    "    model_preds = model_preds.argmax(1).detach().cpu().numpy().tolist()\n",
    "    true_labels = true_labels.detach().cpu().numpy().tolist()\n",
    "    return accuracy_score(true_labels, model_preds)"
   ]
  },
  {
   "cell_type": "code",
   "execution_count": 9,
   "id": "61977941",
   "metadata": {},
   "outputs": [],
   "source": [
    "def logging(logger, data, step) :\n",
    "    for i, (k,v) in enumerate(data.items()) :\n",
    "        logger.add_scalar(k, v, step)\n",
    "    #return logger"
   ]
  },
  {
   "cell_type": "code",
   "execution_count": 10,
   "id": "b3f587bf",
   "metadata": {},
   "outputs": [],
   "source": [
    "def img_parser(data_path, div, training=True) :\n",
    "    path = sorted(glob(data_path), key = lambda x : int(x.split('\\\\')[-1].split('.')[0]))   \n",
    "    \n",
    "    if training:    \n",
    "        return path[:div], path[div:]    \n",
    "    else :\n",
    "        return path"
   ]
  },
  {
   "cell_type": "code",
   "execution_count": 11,
   "id": "e96175a1",
   "metadata": {},
   "outputs": [],
   "source": [
    "def transform_parser(grid_shuffle_p=0.8) :\n",
    "    return A.Compose([\n",
    "        A.Rotate(limit=(45), p=1),\n",
    "        A.RandomGridShuffle(p=grid_shuffle_p, grid=(2,2)),\n",
    "        A.Normalize(),\n",
    "        ToTensorV2()\n",
    "    ])"
   ]
  },
  {
   "cell_type": "code",
   "execution_count": 12,
   "id": "2500b75e",
   "metadata": {},
   "outputs": [],
   "source": [
    "def image_label_dataset(df_path, div=0.8, grid_shuffle_p=0.8, training=True) :\n",
    "    all_df = pd.read_csv(df_path)\n",
    "    transform = transform_parser(grid_shuffle_p=grid_shuffle_p)\n",
    "    \n",
    "    if training :\n",
    "        train_df = all_df.iloc[:int(len(all_df)*div)]\n",
    "        val_df = all_df.iloc[int(len(all_df)*div):]\n",
    "        \n",
    "        train_img, valid_img = img_parser(CFG['DATA_PATH'], int(len(all_df)*div), training)\n",
    "        return (train_img, valid_img), (train_df['label'].values, val_df['label'].values), transform\n",
    "    \n",
    "    else :\n",
    "        img = img_parser(CFG['DATA_PATH'], div=None, training=training)\n",
    "        return np.array(img), all_df['label'].values, transform   "
   ]
  },
  {
   "cell_type": "code",
   "execution_count": 13,
   "id": "65390f8c",
   "metadata": {},
   "outputs": [],
   "source": [
    "# def custom_dataload(df_path='./data/train.csv', div=0.8, grid_shuffle_p=0.8):\n",
    "#     all_df = pd.read_csv(df_path)\n",
    "\n",
    "#     train_df = all_df.iloc[:int(len(all_df)*div)]\n",
    "#     val_df = all_df.iloc[int(len(all_df)*div):]\n",
    "\n",
    "#     train_img, valid_img = img_parser(CFG['DATA_PATH'], int(len(all_df)*div))\n",
    "\n",
    "#     transform = transform_parser(grid_shuffle_p=grid_shuffle_p)\n",
    "\n",
    "#     train_dataset = CustomDataset(train_img, train_df['label'].values, transform)\n",
    "#     train_loader = DataLoader(train_dataset, batch_size = CFG['BATCH_SIZE'], shuffle=True, num_workers=0)\n",
    "\n",
    "#     val_dataset = CustomDataset(valid_img, val_df['label'].values, transform)\n",
    "#     val_loader = DataLoader(val_dataset, batch_size=CFG['BATCH_SIZE'], shuffle=False, num_workers=0)\n",
    "    \n",
    "#     return train_loader, val_loader"
   ]
  },
  {
   "cell_type": "code",
   "execution_count": 14,
   "id": "d6e6544f",
   "metadata": {},
   "outputs": [],
   "source": [
    "def custom_dataload(img_set, label_set, transform, shuffle) :\n",
    "    ds = CustomDataset(img_set, label_set, transform)\n",
    "    dl = DataLoader(ds, batch_size = CFG['BATCH_SIZE'], shuffle=shuffle, num_workers=0)    \n",
    "    return dl"
   ]
  },
  {
   "cell_type": "code",
   "execution_count": 15,
   "id": "cd2e865c",
   "metadata": {},
   "outputs": [],
   "source": [
    "def train_and_valid_dataload(img_set, label_set, transform) :   \n",
    "    train_loader = custom_dataload(img_set[0], label_set[0], transform, True)\n",
    "    val_loader = custom_dataload(img_set[1], label_set[1], transform, False)\n",
    "    return train_loader, val_loader"
   ]
  },
  {
   "cell_type": "code",
   "execution_count": 16,
   "id": "f2966e52",
   "metadata": {},
   "outputs": [],
   "source": [
    "def validation(model, criterion, val_loader, device, log_writter):\n",
    "    model.eval()\n",
    "    true_labels = []\n",
    "    model_preds = []\n",
    "    val_loss = []\n",
    "    with torch.no_grad():\n",
    "        for img, label in tqdm(iter(val_loader)):\n",
    "            img = img.to(device)\n",
    "            label = label.to(device)\n",
    "\n",
    "            model_pred = model(img)\n",
    "            loss = criterion(model_pred, label)\n",
    "\n",
    "            val_loss.append(loss.item())\n",
    "\n",
    "            model_preds += model_pred.argmax(1).detach().cpu().numpy().tolist()\n",
    "            true_labels += label.detach().cpu().numpy().tolist()            \n",
    "            \n",
    "    return np.mean(val_loss), accuracy_score(true_labels, model_preds)"
   ]
  },
  {
   "cell_type": "code",
   "execution_count": 17,
   "id": "183c7802",
   "metadata": {},
   "outputs": [],
   "source": [
    "def training(model, optimizer, criterion, data_set, device) :\n",
    "    \n",
    "    train_loader ,val_loader = train_and_valid_dataload(data_set[0], data_set[1], transform)\n",
    "        \n",
    "    if CFG['reuse'] : \n",
    "        model, optimizer, start_epoch = weight_load(model, optimizer, CFG['checkpoint'])\n",
    "    else : \n",
    "        start_epoch = 0\n",
    "        \n",
    "    # tensorboard\n",
    "    log_writter = SummaryWriter(CFG['LOG'])\n",
    "    best_score = 0\n",
    "    apply_mixup = False\n",
    "    for epoch in range(start_epoch + 1, CFG['EPOCHS'] + 1) :\n",
    "        \n",
    "        if epoch == CFG['reg_step'][0] :\n",
    "            train_loader, val_loader = train_and_valid_dataload(data_set[0], \n",
    "                                                                data_set[1], \n",
    "                                                                transform_parser(grid_shuffle_p=0))\n",
    "            apply_mixup = True\n",
    "            \n",
    "        elif epoch == CFG['reg_step'][1] :\n",
    "            apply_mixup = False\n",
    "            model = weight_freeze(model)\n",
    "        \n",
    "        tqdm_train = tqdm(train_loader)\n",
    "        train_acc, train_loss = [], []\n",
    "        \n",
    "        for batch, (img, label) in enumerate(tqdm_train, start=1) :\n",
    "            model.train()\n",
    "            optimizer.zero_grad()\n",
    "            \n",
    "            img = img.to(device)\n",
    "            label = label.to(device)\n",
    "            \n",
    "            if apply_mixup :\n",
    "                img, lam, label_a, label_b = mixup(img, label)\n",
    "                output = model(img)\n",
    "                loss = lam * criterion(output, label_a) + (1-lam) * criterion(output, label_b)\n",
    "            else :\n",
    "                output = model(img)\n",
    "                loss = criterion(output, label)\n",
    "            \n",
    "            loss.backward()\n",
    "            optimizer.step()\n",
    "            \n",
    "            acc = score(label, output)\n",
    "            train_acc.append(acc)\n",
    "            train_loss.append(loss.item())\n",
    "            \n",
    "            tqdm_train.set_postfix({\n",
    "                'Training Acc' : np.mean(train_acc),\n",
    "                'Training Loss' : np.mean(train_loss)\n",
    "            })\n",
    "            \n",
    "            data = {\n",
    "                'training loss' : loss.item(),\n",
    "                'training acc' : acc\n",
    "            }\n",
    "            logging(log_writter, data, epoch * len(train_loader) + batch)\n",
    "        \n",
    "        # validation\n",
    "        val_loss, val_acc = validation(model, criterion, val_loader, device, log_writter)\n",
    "        \n",
    "        data = {\n",
    "            'validation loss' : val_loss,\n",
    "            'validation acc' : val_acc\n",
    "        }\n",
    "        logging(log_writter, data, epoch)\n",
    "        print(f'Epoch : [{epoch}] Val Loss : [{val_loss}] Val ACC : [{val_acc}]')\n",
    "        \n",
    "        if best_score < val_acc:\n",
    "            best_score = val_acc\n",
    "            torch.save({\n",
    "                    \"epoch\" : epoch,\n",
    "                    \"model_state_dict\" : model.state_dict(),\n",
    "                    \"optimizer_state_dict\" : optimizer.state_dict()\n",
    "                }, './ckpt/'+str(epoch)+'E-val'+str(best_score)+'-'+CFG['output'])"
   ]
  },
  {
   "cell_type": "code",
   "execution_count": 18,
   "id": "04ec37c6",
   "metadata": {},
   "outputs": [],
   "source": [
    "device = torch.device('cuda') if torch.cuda.is_available() else torch.device('cpu')\n",
    "\n",
    "CFG = {\n",
    "    'EPOCHS':70,\n",
    "    'LEARNING_RATE':1e-4,\n",
    "    'BATCH_SIZE':64,\n",
    "    'DATA_PATH' : './data/img/224img_train/*',\n",
    "    \n",
    "    'output' : 'scratch-weigt_freeze10E-mixup25E-grid_shuffle35E-focal-effib0.pth',\n",
    "    'LOG' : \"./tensorboard/PCA_img/weigt_freeze10E-mixup25E-grid_shuffle35E\",   \n",
    "    'reg_step' : [36, 61],\n",
    "    'focal_gamma' : 2,\n",
    "    'focal_alpha' : 2,\n",
    "    \n",
    "    'kfold' : 5,\n",
    "    \n",
    "    'model_name' : 'efficientnet_b0',\n",
    "    \n",
    "    'reuse': False,\n",
    "    'clssifier_freeze' : False,\n",
    "    'checkpoint' : './ckpt/23E-val0.9369-scratch-weigt_freeze5E-mixup15E-grid_shuffle25E-focal-effib0.pth',\n",
    "\n",
    "}\n"
   ]
  },
  {
   "cell_type": "code",
   "execution_count": 19,
   "id": "c09ceb1a",
   "metadata": {},
   "outputs": [],
   "source": [
    "cfg_save_name = datetime.now().strftime('%Y_%m_%d-%H_%M_%S') + '_' +CFG['output'].split('.')[0]\n",
    "with open(f\"./ckpt/{cfg_save_name}.json\", 'w') as f :\n",
    "    json.dump(CFG, f, indent=\"\\t\")"
   ]
  },
  {
   "cell_type": "code",
   "execution_count": 20,
   "id": "16b64811",
   "metadata": {
    "scrolled": true
   },
   "outputs": [
    {
     "name": "stdout",
     "output_type": "stream",
     "text": [
      "======== 0fold Training ========\n"
     ]
    },
    {
     "name": "stderr",
     "output_type": "stream",
     "text": [
      "100%|█████████████████████████████████████████| 625/625 [03:50<00:00,  2.71it/s, Training Acc=0.638, Training Loss=1.5]\n",
      "100%|████████████████████████████████████████████████████████████████████████████████| 157/157 [00:36<00:00,  4.34it/s]\n"
     ]
    },
    {
     "name": "stdout",
     "output_type": "stream",
     "text": [
      "Epoch : [1] Val Loss : [0.7431151882098739] Val ACC : [0.7835]\n"
     ]
    },
    {
     "name": "stderr",
     "output_type": "stream",
     "text": [
      "100%|████████████████████████████████████████| 625/625 [03:28<00:00,  2.99it/s, Training Acc=0.811, Training Loss=0.63]\n",
      "100%|████████████████████████████████████████████████████████████████████████████████| 157/157 [00:31<00:00,  4.96it/s]\n"
     ]
    },
    {
     "name": "stdout",
     "output_type": "stream",
     "text": [
      "Epoch : [2] Val Loss : [0.48840411102316184] Val ACC : [0.8455]\n"
     ]
    },
    {
     "name": "stderr",
     "output_type": "stream",
     "text": [
      "100%|███████████████████████████████████████| 625/625 [03:26<00:00,  3.03it/s, Training Acc=0.856, Training Loss=0.467]\n",
      "100%|████████████████████████████████████████████████████████████████████████████████| 157/157 [00:31<00:00,  4.97it/s]\n"
     ]
    },
    {
     "name": "stdout",
     "output_type": "stream",
     "text": [
      "Epoch : [3] Val Loss : [0.3814560642382901] Val ACC : [0.8752]\n"
     ]
    },
    {
     "name": "stderr",
     "output_type": "stream",
     "text": [
      "100%|███████████████████████████████████████| 625/625 [03:26<00:00,  3.03it/s, Training Acc=0.877, Training Loss=0.382]\n",
      "100%|████████████████████████████████████████████████████████████████████████████████| 157/157 [00:31<00:00,  4.97it/s]\n"
     ]
    },
    {
     "name": "stdout",
     "output_type": "stream",
     "text": [
      "Epoch : [4] Val Loss : [0.3330651060411125] Val ACC : [0.8936]\n"
     ]
    },
    {
     "name": "stderr",
     "output_type": "stream",
     "text": [
      "100%|███████████████████████████████████████| 625/625 [03:26<00:00,  3.03it/s, Training Acc=0.891, Training Loss=0.331]\n",
      "100%|████████████████████████████████████████████████████████████████████████████████| 157/157 [00:31<00:00,  4.92it/s]\n"
     ]
    },
    {
     "name": "stdout",
     "output_type": "stream",
     "text": [
      "Epoch : [5] Val Loss : [0.2990516240050079] Val ACC : [0.901]\n"
     ]
    },
    {
     "name": "stderr",
     "output_type": "stream",
     "text": [
      "100%|███████████████████████████████████████| 625/625 [03:26<00:00,  3.03it/s, Training Acc=0.897, Training Loss=0.298]\n",
      "100%|████████████████████████████████████████████████████████████████████████████████| 157/157 [00:31<00:00,  4.99it/s]\n"
     ]
    },
    {
     "name": "stdout",
     "output_type": "stream",
     "text": [
      "Epoch : [6] Val Loss : [0.2704401851934233] Val ACC : [0.9075]\n"
     ]
    },
    {
     "name": "stderr",
     "output_type": "stream",
     "text": [
      "100%|███████████████████████████████████████| 625/625 [03:26<00:00,  3.03it/s, Training Acc=0.907, Training Loss=0.271]\n",
      "100%|████████████████████████████████████████████████████████████████████████████████| 157/157 [00:31<00:00,  4.95it/s]\n"
     ]
    },
    {
     "name": "stdout",
     "output_type": "stream",
     "text": [
      "Epoch : [7] Val Loss : [0.26027842487689035] Val ACC : [0.9119]\n"
     ]
    },
    {
     "name": "stderr",
     "output_type": "stream",
     "text": [
      "100%|███████████████████████████████████████| 625/625 [03:26<00:00,  3.03it/s, Training Acc=0.912, Training Loss=0.251]\n",
      "100%|████████████████████████████████████████████████████████████████████████████████| 157/157 [00:31<00:00,  4.95it/s]\n"
     ]
    },
    {
     "name": "stdout",
     "output_type": "stream",
     "text": [
      "Epoch : [8] Val Loss : [0.22693932367263325] Val ACC : [0.9186]\n"
     ]
    },
    {
     "name": "stderr",
     "output_type": "stream",
     "text": [
      "100%|███████████████████████████████████████| 625/625 [03:26<00:00,  3.03it/s, Training Acc=0.918, Training Loss=0.228]\n",
      "100%|████████████████████████████████████████████████████████████████████████████████| 157/157 [00:31<00:00,  4.92it/s]\n"
     ]
    },
    {
     "name": "stdout",
     "output_type": "stream",
     "text": [
      "Epoch : [9] Val Loss : [0.21865802610613358] Val ACC : [0.9177]\n"
     ]
    },
    {
     "name": "stderr",
     "output_type": "stream",
     "text": [
      "100%|███████████████████████████████████████| 625/625 [03:26<00:00,  3.03it/s, Training Acc=0.921, Training Loss=0.217]\n",
      "100%|████████████████████████████████████████████████████████████████████████████████| 157/157 [00:31<00:00,  4.96it/s]\n"
     ]
    },
    {
     "name": "stdout",
     "output_type": "stream",
     "text": [
      "Epoch : [10] Val Loss : [0.21285718681800897] Val ACC : [0.9238]\n"
     ]
    },
    {
     "name": "stderr",
     "output_type": "stream",
     "text": [
      "100%|███████████████████████████████████████| 625/625 [03:26<00:00,  3.03it/s, Training Acc=0.928, Training Loss=0.195]\n",
      "100%|████████████████████████████████████████████████████████████████████████████████| 157/157 [00:32<00:00,  4.86it/s]\n"
     ]
    },
    {
     "name": "stdout",
     "output_type": "stream",
     "text": [
      "Epoch : [11] Val Loss : [0.20897540585345523] Val ACC : [0.9218]\n"
     ]
    },
    {
     "name": "stderr",
     "output_type": "stream",
     "text": [
      "100%|████████████████████████████████████████| 625/625 [03:30<00:00,  2.97it/s, Training Acc=0.927, Training Loss=0.19]\n",
      "100%|████████████████████████████████████████████████████████████████████████████████| 157/157 [00:32<00:00,  4.89it/s]\n"
     ]
    },
    {
     "name": "stdout",
     "output_type": "stream",
     "text": [
      "Epoch : [12] Val Loss : [0.2103172699879309] Val ACC : [0.922]\n"
     ]
    },
    {
     "name": "stderr",
     "output_type": "stream",
     "text": [
      "100%|███████████████████████████████████████| 625/625 [03:26<00:00,  3.03it/s, Training Acc=0.931, Training Loss=0.179]\n",
      "100%|████████████████████████████████████████████████████████████████████████████████| 157/157 [00:31<00:00,  4.92it/s]\n"
     ]
    },
    {
     "name": "stdout",
     "output_type": "stream",
     "text": [
      "Epoch : [13] Val Loss : [0.19212034075360768] Val ACC : [0.9273]\n"
     ]
    },
    {
     "name": "stderr",
     "output_type": "stream",
     "text": [
      "100%|████████████████████████████████████████| 625/625 [03:26<00:00,  3.03it/s, Training Acc=0.935, Training Loss=0.17]\n",
      "100%|████████████████████████████████████████████████████████████████████████████████| 157/157 [00:31<00:00,  5.02it/s]\n"
     ]
    },
    {
     "name": "stdout",
     "output_type": "stream",
     "text": [
      "Epoch : [14] Val Loss : [0.20026582542356033] Val ACC : [0.9293]\n"
     ]
    },
    {
     "name": "stderr",
     "output_type": "stream",
     "text": [
      "100%|███████████████████████████████████████| 625/625 [03:26<00:00,  3.03it/s, Training Acc=0.938, Training Loss=0.161]\n",
      "100%|████████████████████████████████████████████████████████████████████████████████| 157/157 [00:31<00:00,  4.94it/s]\n"
     ]
    },
    {
     "name": "stdout",
     "output_type": "stream",
     "text": [
      "Epoch : [15] Val Loss : [0.19685476671928054] Val ACC : [0.9285]\n"
     ]
    },
    {
     "name": "stderr",
     "output_type": "stream",
     "text": [
      "100%|█████████████████████████████████████████| 625/625 [03:26<00:00,  3.03it/s, Training Acc=0.94, Training Loss=0.15]\n",
      "100%|████████████████████████████████████████████████████████████████████████████████| 157/157 [00:32<00:00,  4.90it/s]\n"
     ]
    },
    {
     "name": "stdout",
     "output_type": "stream",
     "text": [
      "Epoch : [16] Val Loss : [0.1932094081002436] Val ACC : [0.9328]\n"
     ]
    },
    {
     "name": "stderr",
     "output_type": "stream",
     "text": [
      "100%|████████████████████████████████████████| 625/625 [03:30<00:00,  2.97it/s, Training Acc=0.94, Training Loss=0.145]\n",
      "100%|████████████████████████████████████████████████████████████████████████████████| 157/157 [00:32<00:00,  4.77it/s]\n"
     ]
    },
    {
     "name": "stdout",
     "output_type": "stream",
     "text": [
      "Epoch : [17] Val Loss : [0.18797853350591887] Val ACC : [0.929]\n"
     ]
    },
    {
     "name": "stderr",
     "output_type": "stream",
     "text": [
      "100%|████████████████████████████████████████| 625/625 [03:27<00:00,  3.01it/s, Training Acc=0.944, Training Loss=0.14]\n",
      "100%|████████████████████████████████████████████████████████████████████████████████| 157/157 [00:31<00:00,  4.97it/s]\n"
     ]
    },
    {
     "name": "stdout",
     "output_type": "stream",
     "text": [
      "Epoch : [18] Val Loss : [0.18182095937478315] Val ACC : [0.9318]\n"
     ]
    },
    {
     "name": "stderr",
     "output_type": "stream",
     "text": [
      "100%|███████████████████████████████████████| 625/625 [03:26<00:00,  3.03it/s, Training Acc=0.944, Training Loss=0.133]\n",
      "100%|████████████████████████████████████████████████████████████████████████████████| 157/157 [00:31<00:00,  4.93it/s]\n"
     ]
    },
    {
     "name": "stdout",
     "output_type": "stream",
     "text": [
      "Epoch : [19] Val Loss : [0.18836774935672998] Val ACC : [0.9314]\n"
     ]
    },
    {
     "name": "stderr",
     "output_type": "stream",
     "text": [
      "100%|███████████████████████████████████████| 625/625 [03:27<00:00,  3.02it/s, Training Acc=0.948, Training Loss=0.122]\n",
      "100%|████████████████████████████████████████████████████████████████████████████████| 157/157 [00:32<00:00,  4.87it/s]\n"
     ]
    },
    {
     "name": "stdout",
     "output_type": "stream",
     "text": [
      "Epoch : [20] Val Loss : [0.18132107835381653] Val ACC : [0.934]\n"
     ]
    },
    {
     "name": "stderr",
     "output_type": "stream",
     "text": [
      "100%|███████████████████████████████████████| 625/625 [03:27<00:00,  3.02it/s, Training Acc=0.948, Training Loss=0.122]\n",
      "100%|████████████████████████████████████████████████████████████████████████████████| 157/157 [00:31<00:00,  4.94it/s]\n"
     ]
    },
    {
     "name": "stdout",
     "output_type": "stream",
     "text": [
      "Epoch : [21] Val Loss : [0.1828727674356122] Val ACC : [0.9315]\n"
     ]
    },
    {
     "name": "stderr",
     "output_type": "stream",
     "text": [
      "100%|████████████████████████████████████████| 625/625 [03:26<00:00,  3.03it/s, Training Acc=0.95, Training Loss=0.112]\n",
      "100%|████████████████████████████████████████████████████████████████████████████████| 157/157 [00:31<00:00,  4.93it/s]\n"
     ]
    },
    {
     "name": "stdout",
     "output_type": "stream",
     "text": [
      "Epoch : [22] Val Loss : [0.18399005289527642] Val ACC : [0.933]\n"
     ]
    },
    {
     "name": "stderr",
     "output_type": "stream",
     "text": [
      "100%|███████████████████████████████████████| 625/625 [03:26<00:00,  3.03it/s, Training Acc=0.952, Training Loss=0.109]\n",
      "100%|████████████████████████████████████████████████████████████████████████████████| 157/157 [00:31<00:00,  4.95it/s]\n"
     ]
    },
    {
     "name": "stdout",
     "output_type": "stream",
     "text": [
      "Epoch : [23] Val Loss : [0.18191371825197414] Val ACC : [0.9359]\n"
     ]
    },
    {
     "name": "stderr",
     "output_type": "stream",
     "text": [
      "100%|████████████████████████████████████████| 625/625 [03:26<00:00,  3.03it/s, Training Acc=0.952, Training Loss=0.11]\n",
      "100%|████████████████████████████████████████████████████████████████████████████████| 157/157 [00:31<00:00,  4.93it/s]\n"
     ]
    },
    {
     "name": "stdout",
     "output_type": "stream",
     "text": [
      "Epoch : [24] Val Loss : [0.16815276012109343] Val ACC : [0.9336]\n"
     ]
    },
    {
     "name": "stderr",
     "output_type": "stream",
     "text": [
      "100%|█████████████████████████████████████████| 625/625 [03:26<00:00,  3.03it/s, Training Acc=0.955, Training Loss=0.1]\n",
      "100%|████████████████████████████████████████████████████████████████████████████████| 157/157 [00:31<00:00,  4.92it/s]\n"
     ]
    },
    {
     "name": "stdout",
     "output_type": "stream",
     "text": [
      "Epoch : [25] Val Loss : [0.17493589329207018] Val ACC : [0.9371]\n"
     ]
    },
    {
     "name": "stderr",
     "output_type": "stream",
     "text": [
      "100%|██████████████████████████████████████| 625/625 [03:26<00:00,  3.03it/s, Training Acc=0.956, Training Loss=0.0969]\n",
      "100%|████████████████████████████████████████████████████████████████████████████████| 157/157 [00:32<00:00,  4.88it/s]\n"
     ]
    },
    {
     "name": "stdout",
     "output_type": "stream",
     "text": [
      "Epoch : [26] Val Loss : [0.18119816983320342] Val ACC : [0.935]\n"
     ]
    },
    {
     "name": "stderr",
     "output_type": "stream",
     "text": [
      "100%|██████████████████████████████████████| 625/625 [03:26<00:00,  3.03it/s, Training Acc=0.958, Training Loss=0.0955]\n",
      "100%|████████████████████████████████████████████████████████████████████████████████| 157/157 [00:31<00:00,  4.95it/s]\n"
     ]
    },
    {
     "name": "stdout",
     "output_type": "stream",
     "text": [
      "Epoch : [27] Val Loss : [0.1608355902194692] Val ACC : [0.939]\n"
     ]
    },
    {
     "name": "stderr",
     "output_type": "stream",
     "text": [
      "100%|██████████████████████████████████████| 625/625 [03:26<00:00,  3.03it/s, Training Acc=0.959, Training Loss=0.0925]\n",
      "100%|████████████████████████████████████████████████████████████████████████████████| 157/157 [00:31<00:00,  4.96it/s]\n"
     ]
    },
    {
     "name": "stdout",
     "output_type": "stream",
     "text": [
      "Epoch : [28] Val Loss : [0.16467438803712844] Val ACC : [0.9385]\n"
     ]
    },
    {
     "name": "stderr",
     "output_type": "stream",
     "text": [
      "100%|██████████████████████████████████████| 625/625 [03:26<00:00,  3.03it/s, Training Acc=0.961, Training Loss=0.0836]\n",
      "100%|████████████████████████████████████████████████████████████████████████████████| 157/157 [00:31<00:00,  4.95it/s]\n"
     ]
    },
    {
     "name": "stdout",
     "output_type": "stream",
     "text": [
      "Epoch : [29] Val Loss : [0.17531470500027677] Val ACC : [0.9371]\n"
     ]
    },
    {
     "name": "stderr",
     "output_type": "stream",
     "text": [
      "100%|██████████████████████████████████████| 625/625 [03:26<00:00,  3.03it/s, Training Acc=0.959, Training Loss=0.0864]\n",
      "100%|████████████████████████████████████████████████████████████████████████████████| 157/157 [00:31<00:00,  4.95it/s]\n"
     ]
    },
    {
     "name": "stdout",
     "output_type": "stream",
     "text": [
      "Epoch : [30] Val Loss : [0.17966515542405426] Val ACC : [0.935]\n"
     ]
    },
    {
     "name": "stderr",
     "output_type": "stream",
     "text": [
      "100%|██████████████████████████████████████| 625/625 [03:26<00:00,  3.03it/s, Training Acc=0.962, Training Loss=0.0779]\n",
      "100%|████████████████████████████████████████████████████████████████████████████████| 157/157 [00:31<00:00,  4.98it/s]\n"
     ]
    },
    {
     "name": "stdout",
     "output_type": "stream",
     "text": [
      "Epoch : [31] Val Loss : [0.17951332122846775] Val ACC : [0.9391]\n"
     ]
    },
    {
     "name": "stderr",
     "output_type": "stream",
     "text": [
      "100%|██████████████████████████████████████| 625/625 [03:26<00:00,  3.03it/s, Training Acc=0.962, Training Loss=0.0786]\n",
      "100%|████████████████████████████████████████████████████████████████████████████████| 157/157 [00:31<00:00,  4.91it/s]\n"
     ]
    },
    {
     "name": "stdout",
     "output_type": "stream",
     "text": [
      "Epoch : [32] Val Loss : [0.16778335506155803] Val ACC : [0.9381]\n"
     ]
    },
    {
     "name": "stderr",
     "output_type": "stream",
     "text": [
      "100%|██████████████████████████████████████| 625/625 [03:26<00:00,  3.03it/s, Training Acc=0.963, Training Loss=0.0735]\n",
      "100%|████████████████████████████████████████████████████████████████████████████████| 157/157 [00:31<00:00,  4.92it/s]\n"
     ]
    },
    {
     "name": "stdout",
     "output_type": "stream",
     "text": [
      "Epoch : [33] Val Loss : [0.17241350673495015] Val ACC : [0.9382]\n"
     ]
    },
    {
     "name": "stderr",
     "output_type": "stream",
     "text": [
      "100%|██████████████████████████████████████| 625/625 [03:27<00:00,  3.02it/s, Training Acc=0.964, Training Loss=0.0732]\n",
      "100%|████████████████████████████████████████████████████████████████████████████████| 157/157 [00:31<00:00,  4.96it/s]\n"
     ]
    },
    {
     "name": "stdout",
     "output_type": "stream",
     "text": [
      "Epoch : [34] Val Loss : [0.17267223550777905] Val ACC : [0.9401]\n"
     ]
    },
    {
     "name": "stderr",
     "output_type": "stream",
     "text": [
      "100%|██████████████████████████████████████| 625/625 [03:26<00:00,  3.03it/s, Training Acc=0.965, Training Loss=0.0695]\n",
      "100%|████████████████████████████████████████████████████████████████████████████████| 157/157 [00:32<00:00,  4.88it/s]\n"
     ]
    },
    {
     "name": "stdout",
     "output_type": "stream",
     "text": [
      "Epoch : [35] Val Loss : [0.16104217507775612] Val ACC : [0.9387]\n"
     ]
    },
    {
     "name": "stderr",
     "output_type": "stream",
     "text": [
      "100%|████████████████████████████████████████| 625/625 [03:13<00:00,  3.24it/s, Training Acc=0.495, Training Loss=1.23]\n",
      "100%|████████████████████████████████████████████████████████████████████████████████| 157/157 [00:24<00:00,  6.42it/s]\n"
     ]
    },
    {
     "name": "stdout",
     "output_type": "stream",
     "text": [
      "Epoch : [36] Val Loss : [0.17914221924581344] Val ACC : [0.9432]\n"
     ]
    },
    {
     "name": "stderr",
     "output_type": "stream",
     "text": [
      "100%|███████████████████████████████████████| 625/625 [03:13<00:00,  3.24it/s, Training Acc=0.527, Training Loss=0.994]\n",
      "100%|████████████████████████████████████████████████████████████████████████████████| 157/157 [00:24<00:00,  6.43it/s]\n"
     ]
    },
    {
     "name": "stdout",
     "output_type": "stream",
     "text": [
      "Epoch : [37] Val Loss : [0.1635259163987105] Val ACC : [0.9477]\n"
     ]
    },
    {
     "name": "stderr",
     "output_type": "stream",
     "text": [
      "100%|███████████████████████████████████████| 625/625 [03:13<00:00,  3.24it/s, Training Acc=0.521, Training Loss=0.909]\n",
      "100%|████████████████████████████████████████████████████████████████████████████████| 157/157 [00:24<00:00,  6.40it/s]\n"
     ]
    },
    {
     "name": "stdout",
     "output_type": "stream",
     "text": [
      "Epoch : [38] Val Loss : [0.15351364640578344] Val ACC : [0.949]\n"
     ]
    },
    {
     "name": "stderr",
     "output_type": "stream",
     "text": [
      "100%|███████████████████████████████████████| 625/625 [03:13<00:00,  3.24it/s, Training Acc=0.544, Training Loss=0.883]\n",
      "100%|████████████████████████████████████████████████████████████████████████████████| 157/157 [00:24<00:00,  6.51it/s]\n"
     ]
    },
    {
     "name": "stdout",
     "output_type": "stream",
     "text": [
      "Epoch : [39] Val Loss : [0.14400089952121875] Val ACC : [0.9508]\n"
     ]
    },
    {
     "name": "stderr",
     "output_type": "stream",
     "text": [
      "100%|███████████████████████████████████████| 625/625 [03:13<00:00,  3.24it/s, Training Acc=0.516, Training Loss=0.843]\n",
      "100%|████████████████████████████████████████████████████████████████████████████████| 157/157 [00:24<00:00,  6.38it/s]\n"
     ]
    },
    {
     "name": "stdout",
     "output_type": "stream",
     "text": [
      "Epoch : [40] Val Loss : [0.13873304071937018] Val ACC : [0.9517]\n"
     ]
    },
    {
     "name": "stderr",
     "output_type": "stream",
     "text": [
      "100%|████████████████████████████████████████| 625/625 [03:13<00:00,  3.24it/s, Training Acc=0.543, Training Loss=0.83]\n",
      "100%|████████████████████████████████████████████████████████████████████████████████| 157/157 [00:24<00:00,  6.42it/s]\n"
     ]
    },
    {
     "name": "stdout",
     "output_type": "stream",
     "text": [
      "Epoch : [41] Val Loss : [0.13642149273851875] Val ACC : [0.9518]\n"
     ]
    },
    {
     "name": "stderr",
     "output_type": "stream",
     "text": [
      "100%|███████████████████████████████████████| 625/625 [03:13<00:00,  3.24it/s, Training Acc=0.533, Training Loss=0.787]\n",
      "100%|████████████████████████████████████████████████████████████████████████████████| 157/157 [00:24<00:00,  6.46it/s]\n"
     ]
    },
    {
     "name": "stdout",
     "output_type": "stream",
     "text": [
      "Epoch : [42] Val Loss : [0.13591226539129664] Val ACC : [0.9513]\n"
     ]
    },
    {
     "name": "stderr",
     "output_type": "stream",
     "text": [
      "100%|███████████████████████████████████████| 625/625 [03:13<00:00,  3.24it/s, Training Acc=0.546, Training Loss=0.753]\n",
      "100%|████████████████████████████████████████████████████████████████████████████████| 157/157 [00:24<00:00,  6.46it/s]\n"
     ]
    },
    {
     "name": "stdout",
     "output_type": "stream",
     "text": [
      "Epoch : [43] Val Loss : [0.12727860413539183] Val ACC : [0.9542]\n"
     ]
    },
    {
     "name": "stderr",
     "output_type": "stream",
     "text": [
      "100%|███████████████████████████████████████| 625/625 [03:13<00:00,  3.24it/s, Training Acc=0.503, Training Loss=0.755]\n",
      "100%|████████████████████████████████████████████████████████████████████████████████| 157/157 [00:24<00:00,  6.46it/s]\n"
     ]
    },
    {
     "name": "stdout",
     "output_type": "stream",
     "text": [
      "Epoch : [44] Val Loss : [0.12630352583138427] Val ACC : [0.952]\n"
     ]
    },
    {
     "name": "stderr",
     "output_type": "stream",
     "text": [
      "100%|███████████████████████████████████████| 625/625 [03:13<00:00,  3.24it/s, Training Acc=0.527, Training Loss=0.726]\n",
      "100%|████████████████████████████████████████████████████████████████████████████████| 157/157 [00:25<00:00,  6.24it/s]\n"
     ]
    },
    {
     "name": "stdout",
     "output_type": "stream",
     "text": [
      "Epoch : [45] Val Loss : [0.117299410200138] Val ACC : [0.9549]\n"
     ]
    },
    {
     "name": "stderr",
     "output_type": "stream",
     "text": [
      "100%|████████████████████████████████████████| 625/625 [03:14<00:00,  3.22it/s, Training Acc=0.538, Training Loss=0.71]\n",
      "100%|████████████████████████████████████████████████████████████████████████████████| 157/157 [00:24<00:00,  6.31it/s]\n"
     ]
    },
    {
     "name": "stdout",
     "output_type": "stream",
     "text": [
      "Epoch : [46] Val Loss : [0.11911996719753666] Val ACC : [0.9551]\n"
     ]
    },
    {
     "name": "stderr",
     "output_type": "stream",
     "text": [
      "100%|███████████████████████████████████████| 625/625 [03:14<00:00,  3.22it/s, Training Acc=0.532, Training Loss=0.711]\n",
      "100%|████████████████████████████████████████████████████████████████████████████████| 157/157 [00:24<00:00,  6.32it/s]\n"
     ]
    },
    {
     "name": "stdout",
     "output_type": "stream",
     "text": [
      "Epoch : [47] Val Loss : [0.1179598588259167] Val ACC : [0.9547]\n"
     ]
    },
    {
     "name": "stderr",
     "output_type": "stream",
     "text": [
      "100%|███████████████████████████████████████| 625/625 [03:14<00:00,  3.22it/s, Training Acc=0.531, Training Loss=0.678]\n",
      "100%|████████████████████████████████████████████████████████████████████████████████| 157/157 [00:24<00:00,  6.36it/s]\n"
     ]
    },
    {
     "name": "stdout",
     "output_type": "stream",
     "text": [
      "Epoch : [48] Val Loss : [0.12576714145007786] Val ACC : [0.9528]\n"
     ]
    },
    {
     "name": "stderr",
     "output_type": "stream",
     "text": [
      "100%|███████████████████████████████████████| 625/625 [03:14<00:00,  3.22it/s, Training Acc=0.546, Training Loss=0.686]\n",
      "100%|████████████████████████████████████████████████████████████████████████████████| 157/157 [00:24<00:00,  6.32it/s]\n"
     ]
    },
    {
     "name": "stdout",
     "output_type": "stream",
     "text": [
      "Epoch : [49] Val Loss : [0.1193161510215823] Val ACC : [0.9543]\n"
     ]
    },
    {
     "name": "stderr",
     "output_type": "stream",
     "text": [
      "100%|███████████████████████████████████████| 625/625 [03:14<00:00,  3.22it/s, Training Acc=0.542, Training Loss=0.659]\n",
      "100%|████████████████████████████████████████████████████████████████████████████████| 157/157 [00:24<00:00,  6.34it/s]\n"
     ]
    },
    {
     "name": "stdout",
     "output_type": "stream",
     "text": [
      "Epoch : [50] Val Loss : [0.10925323698835768] Val ACC : [0.9589]\n"
     ]
    },
    {
     "name": "stderr",
     "output_type": "stream",
     "text": [
      "100%|███████████████████████████████████████| 625/625 [03:14<00:00,  3.22it/s, Training Acc=0.545, Training Loss=0.668]\n",
      "100%|████████████████████████████████████████████████████████████████████████████████| 157/157 [00:24<00:00,  6.37it/s]\n"
     ]
    },
    {
     "name": "stdout",
     "output_type": "stream",
     "text": [
      "Epoch : [51] Val Loss : [0.11613392317371005] Val ACC : [0.9551]\n"
     ]
    },
    {
     "name": "stderr",
     "output_type": "stream",
     "text": [
      "100%|███████████████████████████████████████| 625/625 [03:14<00:00,  3.22it/s, Training Acc=0.542, Training Loss=0.633]\n",
      "100%|████████████████████████████████████████████████████████████████████████████████| 157/157 [00:25<00:00,  6.28it/s]\n"
     ]
    },
    {
     "name": "stdout",
     "output_type": "stream",
     "text": [
      "Epoch : [52] Val Loss : [0.11074141537545214] Val ACC : [0.952]\n"
     ]
    },
    {
     "name": "stderr",
     "output_type": "stream",
     "text": [
      "100%|███████████████████████████████████████| 625/625 [03:14<00:00,  3.22it/s, Training Acc=0.528, Training Loss=0.639]\n",
      "100%|████████████████████████████████████████████████████████████████████████████████| 157/157 [00:25<00:00,  6.27it/s]\n"
     ]
    },
    {
     "name": "stdout",
     "output_type": "stream",
     "text": [
      "Epoch : [53] Val Loss : [0.11071689139790596] Val ACC : [0.9582]\n"
     ]
    },
    {
     "name": "stderr",
     "output_type": "stream",
     "text": [
      "100%|███████████████████████████████████████| 625/625 [03:14<00:00,  3.21it/s, Training Acc=0.544, Training Loss=0.638]\n",
      "100%|████████████████████████████████████████████████████████████████████████████████| 157/157 [00:24<00:00,  6.30it/s]\n"
     ]
    },
    {
     "name": "stdout",
     "output_type": "stream",
     "text": [
      "Epoch : [54] Val Loss : [0.10384413138459063] Val ACC : [0.9604]\n"
     ]
    },
    {
     "name": "stderr",
     "output_type": "stream",
     "text": [
      "100%|████████████████████████████████████████| 625/625 [03:14<00:00,  3.21it/s, Training Acc=0.54, Training Loss=0.633]\n",
      "100%|████████████████████████████████████████████████████████████████████████████████| 157/157 [00:24<00:00,  6.35it/s]\n"
     ]
    },
    {
     "name": "stdout",
     "output_type": "stream",
     "text": [
      "Epoch : [55] Val Loss : [0.11161442173372028] Val ACC : [0.9561]\n"
     ]
    },
    {
     "name": "stderr",
     "output_type": "stream",
     "text": [
      "100%|███████████████████████████████████████| 625/625 [03:14<00:00,  3.22it/s, Training Acc=0.549, Training Loss=0.604]\n",
      "100%|████████████████████████████████████████████████████████████████████████████████| 157/157 [00:25<00:00,  6.22it/s]\n"
     ]
    },
    {
     "name": "stdout",
     "output_type": "stream",
     "text": [
      "Epoch : [56] Val Loss : [0.1067783026867042] Val ACC : [0.9596]\n"
     ]
    },
    {
     "name": "stderr",
     "output_type": "stream",
     "text": [
      "100%|████████████████████████████████████████| 625/625 [03:14<00:00,  3.22it/s, Training Acc=0.553, Training Loss=0.62]\n",
      "100%|████████████████████████████████████████████████████████████████████████████████| 157/157 [00:25<00:00,  6.25it/s]\n"
     ]
    },
    {
     "name": "stdout",
     "output_type": "stream",
     "text": [
      "Epoch : [57] Val Loss : [0.1114961101323556] Val ACC : [0.9563]\n"
     ]
    },
    {
     "name": "stderr",
     "output_type": "stream",
     "text": [
      "100%|███████████████████████████████████████| 625/625 [03:14<00:00,  3.22it/s, Training Acc=0.525, Training Loss=0.599]\n",
      "100%|████████████████████████████████████████████████████████████████████████████████| 157/157 [00:25<00:00,  6.25it/s]\n"
     ]
    },
    {
     "name": "stdout",
     "output_type": "stream",
     "text": [
      "Epoch : [58] Val Loss : [0.11049523704038684] Val ACC : [0.9568]\n"
     ]
    },
    {
     "name": "stderr",
     "output_type": "stream",
     "text": [
      "100%|█████████████████████████████████████████| 625/625 [03:14<00:00,  3.22it/s, Training Acc=0.541, Training Loss=0.6]\n",
      "100%|████████████████████████████████████████████████████████████████████████████████| 157/157 [00:24<00:00,  6.28it/s]\n"
     ]
    },
    {
     "name": "stdout",
     "output_type": "stream",
     "text": [
      "Epoch : [59] Val Loss : [0.10331304255089942] Val ACC : [0.9608]\n"
     ]
    },
    {
     "name": "stderr",
     "output_type": "stream",
     "text": [
      "100%|███████████████████████████████████████| 625/625 [03:20<00:00,  3.12it/s, Training Acc=0.554, Training Loss=0.596]\n",
      "100%|████████████████████████████████████████████████████████████████████████████████| 157/157 [00:33<00:00,  4.70it/s]\n"
     ]
    },
    {
     "name": "stdout",
     "output_type": "stream",
     "text": [
      "Epoch : [60] Val Loss : [0.10184306578983547] Val ACC : [0.9579]\n"
     ]
    },
    {
     "name": "stderr",
     "output_type": "stream",
     "text": [
      "100%|██████████████████████████████████████| 625/625 [02:06<00:00,  4.94it/s, Training Acc=0.975, Training Loss=0.0571]\n",
      "100%|████████████████████████████████████████████████████████████████████████████████| 157/157 [00:24<00:00,  6.49it/s]\n"
     ]
    },
    {
     "name": "stdout",
     "output_type": "stream",
     "text": [
      "Epoch : [61] Val Loss : [0.10175905421755876] Val ACC : [0.9586]\n"
     ]
    },
    {
     "name": "stderr",
     "output_type": "stream",
     "text": [
      "100%|██████████████████████████████████████| 625/625 [01:44<00:00,  5.97it/s, Training Acc=0.976, Training Loss=0.0538]\n",
      "100%|████████████████████████████████████████████████████████████████████████████████| 157/157 [00:24<00:00,  6.47it/s]\n"
     ]
    },
    {
     "name": "stdout",
     "output_type": "stream",
     "text": [
      "Epoch : [62] Val Loss : [0.09916370802790306] Val ACC : [0.959]\n"
     ]
    },
    {
     "name": "stderr",
     "output_type": "stream",
     "text": [
      "100%|██████████████████████████████████████| 625/625 [01:44<00:00,  5.96it/s, Training Acc=0.976, Training Loss=0.0522]\n",
      "100%|████████████████████████████████████████████████████████████████████████████████| 157/157 [00:24<00:00,  6.49it/s]\n"
     ]
    },
    {
     "name": "stdout",
     "output_type": "stream",
     "text": [
      "Epoch : [63] Val Loss : [0.09570283252911962] Val ACC : [0.9598]\n"
     ]
    },
    {
     "name": "stderr",
     "output_type": "stream",
     "text": [
      "100%|██████████████████████████████████████| 625/625 [01:44<00:00,  5.96it/s, Training Acc=0.976, Training Loss=0.0513]\n",
      "100%|████████████████████████████████████████████████████████████████████████████████| 157/157 [00:24<00:00,  6.47it/s]\n"
     ]
    },
    {
     "name": "stdout",
     "output_type": "stream",
     "text": [
      "Epoch : [64] Val Loss : [0.09446735137326133] Val ACC : [0.9614]\n"
     ]
    },
    {
     "name": "stderr",
     "output_type": "stream",
     "text": [
      "100%|██████████████████████████████████████| 625/625 [01:44<00:00,  5.97it/s, Training Acc=0.977, Training Loss=0.0503]\n",
      "100%|████████████████████████████████████████████████████████████████████████████████| 157/157 [00:24<00:00,  6.45it/s]\n"
     ]
    },
    {
     "name": "stdout",
     "output_type": "stream",
     "text": [
      "Epoch : [65] Val Loss : [0.09782978512085737] Val ACC : [0.9591]\n"
     ]
    },
    {
     "name": "stderr",
     "output_type": "stream",
     "text": [
      "100%|██████████████████████████████████████| 625/625 [01:44<00:00,  5.97it/s, Training Acc=0.976, Training Loss=0.0484]\n",
      "100%|████████████████████████████████████████████████████████████████████████████████| 157/157 [00:24<00:00,  6.44it/s]\n"
     ]
    },
    {
     "name": "stdout",
     "output_type": "stream",
     "text": [
      "Epoch : [66] Val Loss : [0.09385319500212456] Val ACC : [0.9609]\n"
     ]
    },
    {
     "name": "stderr",
     "output_type": "stream",
     "text": [
      "100%|██████████████████████████████████████| 625/625 [01:46<00:00,  5.89it/s, Training Acc=0.976, Training Loss=0.0482]\n",
      "100%|████████████████████████████████████████████████████████████████████████████████| 157/157 [00:24<00:00,  6.38it/s]\n"
     ]
    },
    {
     "name": "stdout",
     "output_type": "stream",
     "text": [
      "Epoch : [67] Val Loss : [0.09569398591971132] Val ACC : [0.9615]\n"
     ]
    },
    {
     "name": "stderr",
     "output_type": "stream",
     "text": [
      "100%|██████████████████████████████████████| 625/625 [01:46<00:00,  5.89it/s, Training Acc=0.977, Training Loss=0.0473]\n",
      "100%|████████████████████████████████████████████████████████████████████████████████| 157/157 [00:24<00:00,  6.40it/s]\n"
     ]
    },
    {
     "name": "stdout",
     "output_type": "stream",
     "text": [
      "Epoch : [68] Val Loss : [0.09652664514472055] Val ACC : [0.9611]\n"
     ]
    },
    {
     "name": "stderr",
     "output_type": "stream",
     "text": [
      "100%|██████████████████████████████████████| 625/625 [01:46<00:00,  5.89it/s, Training Acc=0.976, Training Loss=0.0479]\n",
      "100%|████████████████████████████████████████████████████████████████████████████████| 157/157 [00:24<00:00,  6.40it/s]\n"
     ]
    },
    {
     "name": "stdout",
     "output_type": "stream",
     "text": [
      "Epoch : [69] Val Loss : [0.0950273983121203] Val ACC : [0.9606]\n"
     ]
    },
    {
     "name": "stderr",
     "output_type": "stream",
     "text": [
      "100%|██████████████████████████████████████| 625/625 [01:45<00:00,  5.91it/s, Training Acc=0.977, Training Loss=0.0473]\n",
      "100%|████████████████████████████████████████████████████████████████████████████████| 157/157 [00:24<00:00,  6.47it/s]\n"
     ]
    },
    {
     "name": "stdout",
     "output_type": "stream",
     "text": [
      "Epoch : [70] Val Loss : [0.09437993033581478] Val ACC : [0.9593]\n",
      "======== 1fold Training ========\n"
     ]
    },
    {
     "name": "stderr",
     "output_type": "stream",
     "text": [
      "100%|████████████████████████████████████████| 625/625 [03:26<00:00,  3.03it/s, Training Acc=0.633, Training Loss=1.54]\n",
      "100%|████████████████████████████████████████████████████████████████████████████████| 157/157 [00:31<00:00,  4.94it/s]\n"
     ]
    },
    {
     "name": "stdout",
     "output_type": "stream",
     "text": [
      "Epoch : [1] Val Loss : [0.7627392804167074] Val ACC : [0.7685]\n"
     ]
    },
    {
     "name": "stderr",
     "output_type": "stream",
     "text": [
      "100%|███████████████████████████████████████| 625/625 [03:26<00:00,  3.03it/s, Training Acc=0.808, Training Loss=0.651]\n",
      "100%|████████████████████████████████████████████████████████████████████████████████| 157/157 [00:31<00:00,  4.94it/s]\n"
     ]
    },
    {
     "name": "stdout",
     "output_type": "stream",
     "text": [
      "Epoch : [2] Val Loss : [0.5331717239823311] Val ACC : [0.8398]\n"
     ]
    },
    {
     "name": "stderr",
     "output_type": "stream",
     "text": [
      "100%|███████████████████████████████████████| 625/625 [03:26<00:00,  3.03it/s, Training Acc=0.848, Training Loss=0.485]\n",
      "100%|████████████████████████████████████████████████████████████████████████████████| 157/157 [00:31<00:00,  4.97it/s]\n"
     ]
    },
    {
     "name": "stdout",
     "output_type": "stream",
     "text": [
      "Epoch : [3] Val Loss : [0.4344523955302633] Val ACC : [0.8638]\n"
     ]
    },
    {
     "name": "stderr",
     "output_type": "stream",
     "text": [
      "100%|███████████████████████████████████████| 625/625 [03:26<00:00,  3.03it/s, Training Acc=0.874, Training Loss=0.396]\n",
      "100%|████████████████████████████████████████████████████████████████████████████████| 157/157 [00:31<00:00,  4.95it/s]\n"
     ]
    },
    {
     "name": "stdout",
     "output_type": "stream",
     "text": [
      "Epoch : [4] Val Loss : [0.3701042209271413] Val ACC : [0.8809]\n"
     ]
    },
    {
     "name": "stderr",
     "output_type": "stream",
     "text": [
      "100%|████████████████████████████████████████| 625/625 [03:26<00:00,  3.03it/s, Training Acc=0.89, Training Loss=0.337]\n",
      "100%|████████████████████████████████████████████████████████████████████████████████| 157/157 [00:31<00:00,  4.96it/s]\n"
     ]
    },
    {
     "name": "stdout",
     "output_type": "stream",
     "text": [
      "Epoch : [5] Val Loss : [0.33908815635071626] Val ACC : [0.8884]\n"
     ]
    },
    {
     "name": "stderr",
     "output_type": "stream",
     "text": [
      "100%|███████████████████████████████████████| 625/625 [03:26<00:00,  3.03it/s, Training Acc=0.899, Training Loss=0.296]\n",
      "100%|████████████████████████████████████████████████████████████████████████████████| 157/157 [00:32<00:00,  4.82it/s]\n"
     ]
    },
    {
     "name": "stdout",
     "output_type": "stream",
     "text": [
      "Epoch : [6] Val Loss : [0.30708999706396634] Val ACC : [0.8991]\n"
     ]
    },
    {
     "name": "stderr",
     "output_type": "stream",
     "text": [
      "100%|███████████████████████████████████████| 625/625 [03:26<00:00,  3.03it/s, Training Acc=0.908, Training Loss=0.269]\n",
      "100%|████████████████████████████████████████████████████████████████████████████████| 157/157 [00:31<00:00,  4.94it/s]\n"
     ]
    },
    {
     "name": "stdout",
     "output_type": "stream",
     "text": [
      "Epoch : [7] Val Loss : [0.2876053052912852] Val ACC : [0.9058]\n"
     ]
    },
    {
     "name": "stderr",
     "output_type": "stream",
     "text": [
      "100%|███████████████████████████████████████| 625/625 [03:26<00:00,  3.03it/s, Training Acc=0.913, Training Loss=0.244]\n",
      "100%|████████████████████████████████████████████████████████████████████████████████| 157/157 [00:31<00:00,  4.97it/s]\n"
     ]
    },
    {
     "name": "stdout",
     "output_type": "stream",
     "text": [
      "Epoch : [8] Val Loss : [0.2805583671055687] Val ACC : [0.9057]\n"
     ]
    },
    {
     "name": "stderr",
     "output_type": "stream",
     "text": [
      "100%|███████████████████████████████████████| 625/625 [03:26<00:00,  3.03it/s, Training Acc=0.915, Training Loss=0.229]\n",
      "100%|████████████████████████████████████████████████████████████████████████████████| 157/157 [00:31<00:00,  4.96it/s]\n"
     ]
    },
    {
     "name": "stdout",
     "output_type": "stream",
     "text": [
      "Epoch : [9] Val Loss : [0.26164389280661654] Val ACC : [0.9129]\n"
     ]
    },
    {
     "name": "stderr",
     "output_type": "stream",
     "text": [
      "100%|███████████████████████████████████████| 625/625 [03:26<00:00,  3.03it/s, Training Acc=0.922, Training Loss=0.211]\n",
      "100%|████████████████████████████████████████████████████████████████████████████████| 157/157 [00:31<00:00,  4.92it/s]\n"
     ]
    },
    {
     "name": "stdout",
     "output_type": "stream",
     "text": [
      "Epoch : [10] Val Loss : [0.2434748988183346] Val ACC : [0.9172]\n"
     ]
    },
    {
     "name": "stderr",
     "output_type": "stream",
     "text": [
      "100%|█████████████████████████████████████████| 625/625 [03:26<00:00,  3.03it/s, Training Acc=0.924, Training Loss=0.2]\n",
      "100%|████████████████████████████████████████████████████████████████████████████████| 157/157 [00:32<00:00,  4.89it/s]\n"
     ]
    },
    {
     "name": "stdout",
     "output_type": "stream",
     "text": [
      "Epoch : [11] Val Loss : [0.23857044423841367] Val ACC : [0.9222]\n"
     ]
    },
    {
     "name": "stderr",
     "output_type": "stream",
     "text": [
      "100%|████████████████████████████████████████| 625/625 [03:26<00:00,  3.03it/s, Training Acc=0.93, Training Loss=0.188]\n",
      "100%|████████████████████████████████████████████████████████████████████████████████| 157/157 [00:31<00:00,  4.92it/s]\n"
     ]
    },
    {
     "name": "stdout",
     "output_type": "stream",
     "text": [
      "Epoch : [12] Val Loss : [0.24156549464389207] Val ACC : [0.9169]\n"
     ]
    },
    {
     "name": "stderr",
     "output_type": "stream",
     "text": [
      "100%|███████████████████████████████████████| 625/625 [03:26<00:00,  3.03it/s, Training Acc=0.932, Training Loss=0.173]\n",
      "100%|████████████████████████████████████████████████████████████████████████████████| 157/157 [00:31<00:00,  4.97it/s]\n"
     ]
    },
    {
     "name": "stdout",
     "output_type": "stream",
     "text": [
      "Epoch : [13] Val Loss : [0.22211956214990206] Val ACC : [0.9205]\n"
     ]
    },
    {
     "name": "stderr",
     "output_type": "stream",
     "text": [
      "100%|███████████████████████████████████████| 625/625 [03:26<00:00,  3.03it/s, Training Acc=0.936, Training Loss=0.165]\n",
      "100%|████████████████████████████████████████████████████████████████████████████████| 157/157 [00:32<00:00,  4.89it/s]\n"
     ]
    },
    {
     "name": "stdout",
     "output_type": "stream",
     "text": [
      "Epoch : [14] Val Loss : [0.22115714379414253] Val ACC : [0.9231]\n"
     ]
    },
    {
     "name": "stderr",
     "output_type": "stream",
     "text": [
      "100%|███████████████████████████████████████| 625/625 [03:26<00:00,  3.03it/s, Training Acc=0.938, Training Loss=0.156]\n",
      "100%|████████████████████████████████████████████████████████████████████████████████| 157/157 [00:31<00:00,  4.95it/s]\n"
     ]
    },
    {
     "name": "stdout",
     "output_type": "stream",
     "text": [
      "Epoch : [15] Val Loss : [0.22569023586429987] Val ACC : [0.9219]\n"
     ]
    },
    {
     "name": "stderr",
     "output_type": "stream",
     "text": [
      "100%|███████████████████████████████████████| 625/625 [03:26<00:00,  3.03it/s, Training Acc=0.941, Training Loss=0.149]\n",
      "100%|████████████████████████████████████████████████████████████████████████████████| 157/157 [00:31<00:00,  4.94it/s]\n"
     ]
    },
    {
     "name": "stdout",
     "output_type": "stream",
     "text": [
      "Epoch : [16] Val Loss : [0.214068063024645] Val ACC : [0.9261]\n"
     ]
    },
    {
     "name": "stderr",
     "output_type": "stream",
     "text": [
      "100%|███████████████████████████████████████| 625/625 [03:26<00:00,  3.03it/s, Training Acc=0.941, Training Loss=0.141]\n",
      "100%|████████████████████████████████████████████████████████████████████████████████| 157/157 [00:31<00:00,  4.92it/s]\n"
     ]
    },
    {
     "name": "stdout",
     "output_type": "stream",
     "text": [
      "Epoch : [17] Val Loss : [0.22666914350572664] Val ACC : [0.9258]\n"
     ]
    },
    {
     "name": "stderr",
     "output_type": "stream",
     "text": [
      "100%|███████████████████████████████████████| 625/625 [03:26<00:00,  3.03it/s, Training Acc=0.944, Training Loss=0.136]\n",
      "100%|████████████████████████████████████████████████████████████████████████████████| 157/157 [00:31<00:00,  4.97it/s]\n"
     ]
    },
    {
     "name": "stdout",
     "output_type": "stream",
     "text": [
      "Epoch : [18] Val Loss : [0.21146925341539607] Val ACC : [0.9287]\n"
     ]
    },
    {
     "name": "stderr",
     "output_type": "stream",
     "text": [
      "100%|████████████████████████████████████████| 625/625 [03:26<00:00,  3.03it/s, Training Acc=0.947, Training Loss=0.13]\n",
      "100%|████████████████████████████████████████████████████████████████████████████████| 157/157 [00:31<00:00,  4.94it/s]\n"
     ]
    },
    {
     "name": "stdout",
     "output_type": "stream",
     "text": [
      "Epoch : [19] Val Loss : [0.20844411432363424] Val ACC : [0.9281]\n"
     ]
    },
    {
     "name": "stderr",
     "output_type": "stream",
     "text": [
      "100%|███████████████████████████████████████| 625/625 [03:26<00:00,  3.03it/s, Training Acc=0.947, Training Loss=0.121]\n",
      "100%|████████████████████████████████████████████████████████████████████████████████| 157/157 [00:31<00:00,  4.93it/s]\n"
     ]
    },
    {
     "name": "stdout",
     "output_type": "stream",
     "text": [
      "Epoch : [20] Val Loss : [0.22032751274075668] Val ACC : [0.9262]\n"
     ]
    },
    {
     "name": "stderr",
     "output_type": "stream",
     "text": [
      "100%|████████████████████████████████████████| 625/625 [03:27<00:00,  3.01it/s, Training Acc=0.95, Training Loss=0.116]\n",
      "100%|████████████████████████████████████████████████████████████████████████████████| 157/157 [00:31<00:00,  4.98it/s]\n"
     ]
    },
    {
     "name": "stdout",
     "output_type": "stream",
     "text": [
      "Epoch : [21] Val Loss : [0.21013003706659197] Val ACC : [0.9262]\n"
     ]
    },
    {
     "name": "stderr",
     "output_type": "stream",
     "text": [
      "100%|███████████████████████████████████████| 625/625 [03:25<00:00,  3.03it/s, Training Acc=0.949, Training Loss=0.114]\n",
      "100%|████████████████████████████████████████████████████████████████████████████████| 157/157 [00:31<00:00,  4.93it/s]\n"
     ]
    },
    {
     "name": "stdout",
     "output_type": "stream",
     "text": [
      "Epoch : [22] Val Loss : [0.20816053883142913] Val ACC : [0.9272]\n"
     ]
    },
    {
     "name": "stderr",
     "output_type": "stream",
     "text": [
      "100%|███████████████████████████████████████| 625/625 [03:25<00:00,  3.04it/s, Training Acc=0.953, Training Loss=0.106]\n",
      "100%|████████████████████████████████████████████████████████████████████████████████| 157/157 [00:32<00:00,  4.84it/s]\n"
     ]
    },
    {
     "name": "stdout",
     "output_type": "stream",
     "text": [
      "Epoch : [23] Val Loss : [0.2259438162978003] Val ACC : [0.9211]\n"
     ]
    },
    {
     "name": "stderr",
     "output_type": "stream",
     "text": [
      "100%|███████████████████████████████████████| 625/625 [03:29<00:00,  2.98it/s, Training Acc=0.952, Training Loss=0.106]\n",
      "100%|████████████████████████████████████████████████████████████████████████████████| 157/157 [00:31<00:00,  4.94it/s]\n"
     ]
    },
    {
     "name": "stdout",
     "output_type": "stream",
     "text": [
      "Epoch : [24] Val Loss : [0.20167181494936443] Val ACC : [0.9328]\n"
     ]
    },
    {
     "name": "stderr",
     "output_type": "stream",
     "text": [
      "100%|███████████████████████████████████████| 625/625 [03:25<00:00,  3.04it/s, Training Acc=0.956, Training Loss=0.098]\n",
      "100%|████████████████████████████████████████████████████████████████████████████████| 157/157 [00:31<00:00,  4.99it/s]\n"
     ]
    },
    {
     "name": "stdout",
     "output_type": "stream",
     "text": [
      "Epoch : [25] Val Loss : [0.21071249963626693] Val ACC : [0.929]\n"
     ]
    },
    {
     "name": "stderr",
     "output_type": "stream",
     "text": [
      "100%|██████████████████████████████████████| 625/625 [03:25<00:00,  3.04it/s, Training Acc=0.956, Training Loss=0.0947]\n",
      "100%|████████████████████████████████████████████████████████████████████████████████| 157/157 [00:31<00:00,  5.04it/s]\n"
     ]
    },
    {
     "name": "stdout",
     "output_type": "stream",
     "text": [
      "Epoch : [26] Val Loss : [0.2227565978007142] Val ACC : [0.9309]\n"
     ]
    },
    {
     "name": "stderr",
     "output_type": "stream",
     "text": [
      "100%|██████████████████████████████████████| 625/625 [03:25<00:00,  3.04it/s, Training Acc=0.957, Training Loss=0.0915]\n",
      "100%|████████████████████████████████████████████████████████████████████████████████| 157/157 [00:31<00:00,  5.02it/s]\n"
     ]
    },
    {
     "name": "stdout",
     "output_type": "stream",
     "text": [
      "Epoch : [27] Val Loss : [0.22381375764443237] Val ACC : [0.9287]\n"
     ]
    },
    {
     "name": "stderr",
     "output_type": "stream",
     "text": [
      "100%|███████████████████████████████████████| 625/625 [03:25<00:00,  3.04it/s, Training Acc=0.96, Training Loss=0.0849]\n",
      "100%|████████████████████████████████████████████████████████████████████████████████| 157/157 [00:31<00:00,  4.97it/s]\n"
     ]
    },
    {
     "name": "stdout",
     "output_type": "stream",
     "text": [
      "Epoch : [28] Val Loss : [0.2018651958572779] Val ACC : [0.9333]\n"
     ]
    },
    {
     "name": "stderr",
     "output_type": "stream",
     "text": [
      "100%|██████████████████████████████████████| 625/625 [03:25<00:00,  3.04it/s, Training Acc=0.961, Training Loss=0.0827]\n",
      "100%|████████████████████████████████████████████████████████████████████████████████| 157/157 [00:31<00:00,  4.95it/s]\n"
     ]
    },
    {
     "name": "stdout",
     "output_type": "stream",
     "text": [
      "Epoch : [29] Val Loss : [0.1999063149397113] Val ACC : [0.9323]\n"
     ]
    },
    {
     "name": "stderr",
     "output_type": "stream",
     "text": [
      "100%|██████████████████████████████████████| 625/625 [03:25<00:00,  3.04it/s, Training Acc=0.961, Training Loss=0.0807]\n",
      "100%|████████████████████████████████████████████████████████████████████████████████| 157/157 [00:31<00:00,  4.92it/s]\n"
     ]
    },
    {
     "name": "stdout",
     "output_type": "stream",
     "text": [
      "Epoch : [30] Val Loss : [0.20060790688463837] Val ACC : [0.9325]\n"
     ]
    },
    {
     "name": "stderr",
     "output_type": "stream",
     "text": [
      "100%|███████████████████████████████████████| 625/625 [03:25<00:00,  3.04it/s, Training Acc=0.96, Training Loss=0.0825]\n",
      "100%|████████████████████████████████████████████████████████████████████████████████| 157/157 [00:31<00:00,  4.98it/s]\n"
     ]
    },
    {
     "name": "stdout",
     "output_type": "stream",
     "text": [
      "Epoch : [31] Val Loss : [0.20743909779977598] Val ACC : [0.9337]\n"
     ]
    },
    {
     "name": "stderr",
     "output_type": "stream",
     "text": [
      "100%|██████████████████████████████████████| 625/625 [03:25<00:00,  3.04it/s, Training Acc=0.963, Training Loss=0.0733]\n",
      "100%|████████████████████████████████████████████████████████████████████████████████| 157/157 [00:31<00:00,  5.02it/s]\n"
     ]
    },
    {
     "name": "stdout",
     "output_type": "stream",
     "text": [
      "Epoch : [32] Val Loss : [0.20185239336050745] Val ACC : [0.9326]\n"
     ]
    },
    {
     "name": "stderr",
     "output_type": "stream",
     "text": [
      "100%|██████████████████████████████████████| 625/625 [03:25<00:00,  3.04it/s, Training Acc=0.963, Training Loss=0.0726]\n",
      "100%|████████████████████████████████████████████████████████████████████████████████| 157/157 [00:32<00:00,  4.88it/s]\n"
     ]
    },
    {
     "name": "stdout",
     "output_type": "stream",
     "text": [
      "Epoch : [33] Val Loss : [0.20410439771878872] Val ACC : [0.9343]\n"
     ]
    },
    {
     "name": "stderr",
     "output_type": "stream",
     "text": [
      "100%|██████████████████████████████████████| 625/625 [03:25<00:00,  3.04it/s, Training Acc=0.965, Training Loss=0.0681]\n",
      "100%|████████████████████████████████████████████████████████████████████████████████| 157/157 [00:31<00:00,  4.98it/s]\n"
     ]
    },
    {
     "name": "stdout",
     "output_type": "stream",
     "text": [
      "Epoch : [34] Val Loss : [0.2054524098554104] Val ACC : [0.9348]\n"
     ]
    },
    {
     "name": "stderr",
     "output_type": "stream",
     "text": [
      "100%|██████████████████████████████████████| 625/625 [03:25<00:00,  3.04it/s, Training Acc=0.967, Training Loss=0.0686]\n",
      "100%|████████████████████████████████████████████████████████████████████████████████| 157/157 [00:31<00:00,  4.94it/s]\n"
     ]
    },
    {
     "name": "stdout",
     "output_type": "stream",
     "text": [
      "Epoch : [35] Val Loss : [0.20136835798991928] Val ACC : [0.9369]\n"
     ]
    },
    {
     "name": "stderr",
     "output_type": "stream",
     "text": [
      "100%|████████████████████████████████████████| 625/625 [03:12<00:00,  3.24it/s, Training Acc=0.488, Training Loss=1.19]\n",
      "100%|████████████████████████████████████████████████████████████████████████████████| 157/157 [00:24<00:00,  6.40it/s]\n"
     ]
    },
    {
     "name": "stdout",
     "output_type": "stream",
     "text": [
      "Epoch : [36] Val Loss : [0.1917062527529753] Val ACC : [0.9456]\n"
     ]
    },
    {
     "name": "stderr",
     "output_type": "stream",
     "text": [
      "100%|███████████████████████████████████████| 625/625 [03:12<00:00,  3.24it/s, Training Acc=0.517, Training Loss=0.984]\n",
      "100%|████████████████████████████████████████████████████████████████████████████████| 157/157 [00:24<00:00,  6.43it/s]\n"
     ]
    },
    {
     "name": "stdout",
     "output_type": "stream",
     "text": [
      "Epoch : [37] Val Loss : [0.17964050660182715] Val ACC : [0.9447]\n"
     ]
    },
    {
     "name": "stderr",
     "output_type": "stream",
     "text": [
      "100%|████████████████████████████████████████| 625/625 [03:12<00:00,  3.24it/s, Training Acc=0.521, Training Loss=0.88]\n",
      "100%|████████████████████████████████████████████████████████████████████████████████| 157/157 [00:24<00:00,  6.47it/s]\n"
     ]
    },
    {
     "name": "stdout",
     "output_type": "stream",
     "text": [
      "Epoch : [38] Val Loss : [0.17463069173038764] Val ACC : [0.945]\n"
     ]
    },
    {
     "name": "stderr",
     "output_type": "stream",
     "text": [
      "100%|████████████████████████████████████████| 625/625 [03:12<00:00,  3.25it/s, Training Acc=0.526, Training Loss=0.87]\n",
      "100%|████████████████████████████████████████████████████████████████████████████████| 157/157 [00:24<00:00,  6.51it/s]\n"
     ]
    },
    {
     "name": "stdout",
     "output_type": "stream",
     "text": [
      "Epoch : [39] Val Loss : [0.17536177540755576] Val ACC : [0.9426]\n"
     ]
    },
    {
     "name": "stderr",
     "output_type": "stream",
     "text": [
      "100%|███████████████████████████████████████| 625/625 [03:12<00:00,  3.25it/s, Training Acc=0.514, Training Loss=0.833]\n",
      "100%|████████████████████████████████████████████████████████████████████████████████| 157/157 [00:26<00:00,  5.92it/s]\n"
     ]
    },
    {
     "name": "stdout",
     "output_type": "stream",
     "text": [
      "Epoch : [40] Val Loss : [0.16341295081433976] Val ACC : [0.9449]\n"
     ]
    },
    {
     "name": "stderr",
     "output_type": "stream",
     "text": [
      "100%|███████████████████████████████████████| 625/625 [03:36<00:00,  2.89it/s, Training Acc=0.524, Training Loss=0.796]\n",
      "100%|████████████████████████████████████████████████████████████████████████████████| 157/157 [00:31<00:00,  5.06it/s]\n"
     ]
    },
    {
     "name": "stdout",
     "output_type": "stream",
     "text": [
      "Epoch : [41] Val Loss : [0.1616353209777053] Val ACC : [0.9445]\n"
     ]
    },
    {
     "name": "stderr",
     "output_type": "stream",
     "text": [
      "100%|███████████████████████████████████████| 625/625 [03:12<00:00,  3.25it/s, Training Acc=0.538, Training Loss=0.786]\n",
      "100%|████████████████████████████████████████████████████████████████████████████████| 157/157 [00:24<00:00,  6.50it/s]\n"
     ]
    },
    {
     "name": "stdout",
     "output_type": "stream",
     "text": [
      "Epoch : [42] Val Loss : [0.15771201435642637] Val ACC : [0.9458]\n"
     ]
    },
    {
     "name": "stderr",
     "output_type": "stream",
     "text": [
      "100%|███████████████████████████████████████| 625/625 [03:12<00:00,  3.25it/s, Training Acc=0.524, Training Loss=0.744]\n",
      "100%|████████████████████████████████████████████████████████████████████████████████| 157/157 [00:24<00:00,  6.53it/s]\n"
     ]
    },
    {
     "name": "stdout",
     "output_type": "stream",
     "text": [
      "Epoch : [43] Val Loss : [0.16050252466682036] Val ACC : [0.9436]\n"
     ]
    },
    {
     "name": "stderr",
     "output_type": "stream",
     "text": [
      "100%|███████████████████████████████████████| 625/625 [03:12<00:00,  3.25it/s, Training Acc=0.535, Training Loss=0.745]\n",
      "100%|████████████████████████████████████████████████████████████████████████████████| 157/157 [00:24<00:00,  6.42it/s]\n"
     ]
    },
    {
     "name": "stdout",
     "output_type": "stream",
     "text": [
      "Epoch : [44] Val Loss : [0.14596543375663695] Val ACC : [0.949]\n"
     ]
    },
    {
     "name": "stderr",
     "output_type": "stream",
     "text": [
      "100%|████████████████████████████████████████| 625/625 [03:12<00:00,  3.24it/s, Training Acc=0.523, Training Loss=0.71]\n",
      "100%|████████████████████████████████████████████████████████████████████████████████| 157/157 [00:24<00:00,  6.48it/s]\n"
     ]
    },
    {
     "name": "stdout",
     "output_type": "stream",
     "text": [
      "Epoch : [45] Val Loss : [0.1519872205699705] Val ACC : [0.948]\n"
     ]
    },
    {
     "name": "stderr",
     "output_type": "stream",
     "text": [
      "100%|███████████████████████████████████████| 625/625 [03:12<00:00,  3.24it/s, Training Acc=0.539, Training Loss=0.699]\n",
      "100%|████████████████████████████████████████████████████████████████████████████████| 157/157 [00:24<00:00,  6.50it/s]\n"
     ]
    },
    {
     "name": "stdout",
     "output_type": "stream",
     "text": [
      "Epoch : [46] Val Loss : [0.15233178568446332] Val ACC : [0.9468]\n"
     ]
    },
    {
     "name": "stderr",
     "output_type": "stream",
     "text": [
      "100%|███████████████████████████████████████| 625/625 [03:12<00:00,  3.25it/s, Training Acc=0.528, Training Loss=0.695]\n",
      "100%|████████████████████████████████████████████████████████████████████████████████| 157/157 [00:24<00:00,  6.47it/s]\n"
     ]
    },
    {
     "name": "stdout",
     "output_type": "stream",
     "text": [
      "Epoch : [47] Val Loss : [0.14641090389341116] Val ACC : [0.9478]\n"
     ]
    },
    {
     "name": "stderr",
     "output_type": "stream",
     "text": [
      "100%|███████████████████████████████████████| 625/625 [03:12<00:00,  3.25it/s, Training Acc=0.523, Training Loss=0.679]\n",
      "100%|████████████████████████████████████████████████████████████████████████████████| 157/157 [00:24<00:00,  6.44it/s]\n"
     ]
    },
    {
     "name": "stdout",
     "output_type": "stream",
     "text": [
      "Epoch : [48] Val Loss : [0.15170975125566788] Val ACC : [0.9464]\n"
     ]
    },
    {
     "name": "stderr",
     "output_type": "stream",
     "text": [
      "100%|████████████████████████████████████████| 625/625 [03:12<00:00,  3.25it/s, Training Acc=0.533, Training Loss=0.66]\n",
      "100%|████████████████████████████████████████████████████████████████████████████████| 157/157 [00:24<00:00,  6.48it/s]\n"
     ]
    },
    {
     "name": "stdout",
     "output_type": "stream",
     "text": [
      "Epoch : [49] Val Loss : [0.14845995648888646] Val ACC : [0.9471]\n"
     ]
    },
    {
     "name": "stderr",
     "output_type": "stream",
     "text": [
      "100%|███████████████████████████████████████| 625/625 [03:12<00:00,  3.25it/s, Training Acc=0.537, Training Loss=0.642]\n",
      "100%|████████████████████████████████████████████████████████████████████████████████| 157/157 [00:24<00:00,  6.45it/s]\n"
     ]
    },
    {
     "name": "stdout",
     "output_type": "stream",
     "text": [
      "Epoch : [50] Val Loss : [0.13657854595903757] Val ACC : [0.9492]\n"
     ]
    },
    {
     "name": "stderr",
     "output_type": "stream",
     "text": [
      "100%|███████████████████████████████████████| 625/625 [03:12<00:00,  3.25it/s, Training Acc=0.555, Training Loss=0.639]\n",
      "100%|████████████████████████████████████████████████████████████████████████████████| 157/157 [00:24<00:00,  6.41it/s]\n"
     ]
    },
    {
     "name": "stdout",
     "output_type": "stream",
     "text": [
      "Epoch : [51] Val Loss : [0.13555594111917316] Val ACC : [0.9537]\n"
     ]
    },
    {
     "name": "stderr",
     "output_type": "stream",
     "text": [
      "100%|███████████████████████████████████████| 625/625 [03:12<00:00,  3.24it/s, Training Acc=0.554, Training Loss=0.639]\n",
      "100%|████████████████████████████████████████████████████████████████████████████████| 157/157 [00:24<00:00,  6.47it/s]\n"
     ]
    },
    {
     "name": "stdout",
     "output_type": "stream",
     "text": [
      "Epoch : [52] Val Loss : [0.1375855894367786] Val ACC : [0.9515]\n"
     ]
    },
    {
     "name": "stderr",
     "output_type": "stream",
     "text": [
      "100%|███████████████████████████████████████| 625/625 [03:12<00:00,  3.24it/s, Training Acc=0.517, Training Loss=0.624]\n",
      "100%|████████████████████████████████████████████████████████████████████████████████| 157/157 [00:24<00:00,  6.47it/s]\n"
     ]
    },
    {
     "name": "stdout",
     "output_type": "stream",
     "text": [
      "Epoch : [53] Val Loss : [0.14576219722248945] Val ACC : [0.9494]\n"
     ]
    },
    {
     "name": "stderr",
     "output_type": "stream",
     "text": [
      "100%|███████████████████████████████████████| 625/625 [03:12<00:00,  3.24it/s, Training Acc=0.545, Training Loss=0.631]\n",
      "100%|████████████████████████████████████████████████████████████████████████████████| 157/157 [00:24<00:00,  6.48it/s]\n"
     ]
    },
    {
     "name": "stdout",
     "output_type": "stream",
     "text": [
      "Epoch : [54] Val Loss : [0.14287997498088012] Val ACC : [0.9483]\n"
     ]
    },
    {
     "name": "stderr",
     "output_type": "stream",
     "text": [
      "100%|███████████████████████████████████████| 625/625 [03:12<00:00,  3.25it/s, Training Acc=0.531, Training Loss=0.629]\n",
      "100%|████████████████████████████████████████████████████████████████████████████████| 157/157 [00:24<00:00,  6.50it/s]\n"
     ]
    },
    {
     "name": "stdout",
     "output_type": "stream",
     "text": [
      "Epoch : [55] Val Loss : [0.13891420963629605] Val ACC : [0.9465]\n"
     ]
    },
    {
     "name": "stderr",
     "output_type": "stream",
     "text": [
      "100%|███████████████████████████████████████| 625/625 [03:12<00:00,  3.25it/s, Training Acc=0.528, Training Loss=0.599]\n",
      "100%|████████████████████████████████████████████████████████████████████████████████| 157/157 [00:24<00:00,  6.46it/s]\n"
     ]
    },
    {
     "name": "stdout",
     "output_type": "stream",
     "text": [
      "Epoch : [56] Val Loss : [0.14051423083017966] Val ACC : [0.9472]\n"
     ]
    },
    {
     "name": "stderr",
     "output_type": "stream",
     "text": [
      "100%|███████████████████████████████████████| 625/625 [03:12<00:00,  3.25it/s, Training Acc=0.551, Training Loss=0.615]\n",
      "100%|████████████████████████████████████████████████████████████████████████████████| 157/157 [00:24<00:00,  6.42it/s]\n"
     ]
    },
    {
     "name": "stdout",
     "output_type": "stream",
     "text": [
      "Epoch : [57] Val Loss : [0.14850456767068926] Val ACC : [0.9482]\n"
     ]
    },
    {
     "name": "stderr",
     "output_type": "stream",
     "text": [
      "100%|███████████████████████████████████████| 625/625 [03:12<00:00,  3.25it/s, Training Acc=0.526, Training Loss=0.599]\n",
      "100%|████████████████████████████████████████████████████████████████████████████████| 157/157 [00:24<00:00,  6.46it/s]\n"
     ]
    },
    {
     "name": "stdout",
     "output_type": "stream",
     "text": [
      "Epoch : [58] Val Loss : [0.13579839070558927] Val ACC : [0.9505]\n"
     ]
    },
    {
     "name": "stderr",
     "output_type": "stream",
     "text": [
      "100%|███████████████████████████████████████| 625/625 [03:12<00:00,  3.25it/s, Training Acc=0.534, Training Loss=0.598]\n",
      "100%|████████████████████████████████████████████████████████████████████████████████| 157/157 [00:24<00:00,  6.47it/s]\n"
     ]
    },
    {
     "name": "stdout",
     "output_type": "stream",
     "text": [
      "Epoch : [59] Val Loss : [0.14026580579507691] Val ACC : [0.9522]\n"
     ]
    },
    {
     "name": "stderr",
     "output_type": "stream",
     "text": [
      "100%|███████████████████████████████████████| 625/625 [03:12<00:00,  3.25it/s, Training Acc=0.526, Training Loss=0.576]\n",
      "100%|████████████████████████████████████████████████████████████████████████████████| 157/157 [00:24<00:00,  6.48it/s]\n"
     ]
    },
    {
     "name": "stdout",
     "output_type": "stream",
     "text": [
      "Epoch : [60] Val Loss : [0.14421928683473806] Val ACC : [0.9493]\n"
     ]
    },
    {
     "name": "stderr",
     "output_type": "stream",
     "text": [
      "100%|██████████████████████████████████████| 625/625 [01:44<00:00,  5.96it/s, Training Acc=0.976, Training Loss=0.0565]\n",
      "100%|████████████████████████████████████████████████████████████████████████████████| 157/157 [00:24<00:00,  6.43it/s]\n"
     ]
    },
    {
     "name": "stdout",
     "output_type": "stream",
     "text": [
      "Epoch : [61] Val Loss : [0.1382840491629615] Val ACC : [0.9516]\n"
     ]
    },
    {
     "name": "stderr",
     "output_type": "stream",
     "text": [
      "100%|██████████████████████████████████████| 625/625 [01:45<00:00,  5.95it/s, Training Acc=0.976, Training Loss=0.0525]\n",
      "100%|████████████████████████████████████████████████████████████████████████████████| 157/157 [00:24<00:00,  6.51it/s]\n"
     ]
    },
    {
     "name": "stdout",
     "output_type": "stream",
     "text": [
      "Epoch : [62] Val Loss : [0.142542016428486] Val ACC : [0.9515]\n"
     ]
    },
    {
     "name": "stderr",
     "output_type": "stream",
     "text": [
      "100%|██████████████████████████████████████| 625/625 [01:45<00:00,  5.94it/s, Training Acc=0.975, Training Loss=0.0504]\n",
      "100%|████████████████████████████████████████████████████████████████████████████████| 157/157 [00:24<00:00,  6.46it/s]\n"
     ]
    },
    {
     "name": "stdout",
     "output_type": "stream",
     "text": [
      "Epoch : [63] Val Loss : [0.13908389603843688] Val ACC : [0.9529]\n"
     ]
    },
    {
     "name": "stderr",
     "output_type": "stream",
     "text": [
      "100%|███████████████████████████████████████| 625/625 [01:45<00:00,  5.94it/s, Training Acc=0.977, Training Loss=0.047]\n",
      "100%|████████████████████████████████████████████████████████████████████████████████| 157/157 [00:24<00:00,  6.47it/s]\n"
     ]
    },
    {
     "name": "stdout",
     "output_type": "stream",
     "text": [
      "Epoch : [64] Val Loss : [0.13945398038359963] Val ACC : [0.9523]\n"
     ]
    },
    {
     "name": "stderr",
     "output_type": "stream",
     "text": [
      "100%|██████████████████████████████████████| 625/625 [01:45<00:00,  5.95it/s, Training Acc=0.976, Training Loss=0.0472]\n",
      "100%|████████████████████████████████████████████████████████████████████████████████| 157/157 [00:24<00:00,  6.47it/s]\n"
     ]
    },
    {
     "name": "stdout",
     "output_type": "stream",
     "text": [
      "Epoch : [65] Val Loss : [0.13403775257497408] Val ACC : [0.9529]\n"
     ]
    },
    {
     "name": "stderr",
     "output_type": "stream",
     "text": [
      "100%|██████████████████████████████████████| 625/625 [01:45<00:00,  5.95it/s, Training Acc=0.977, Training Loss=0.0466]\n",
      "100%|████████████████████████████████████████████████████████████████████████████████| 157/157 [00:24<00:00,  6.47it/s]\n"
     ]
    },
    {
     "name": "stdout",
     "output_type": "stream",
     "text": [
      "Epoch : [66] Val Loss : [0.13673804051711397] Val ACC : [0.9523]\n"
     ]
    },
    {
     "name": "stderr",
     "output_type": "stream",
     "text": [
      "100%|██████████████████████████████████████| 625/625 [01:45<00:00,  5.95it/s, Training Acc=0.977, Training Loss=0.0451]\n",
      "100%|████████████████████████████████████████████████████████████████████████████████| 157/157 [00:24<00:00,  6.50it/s]\n"
     ]
    },
    {
     "name": "stdout",
     "output_type": "stream",
     "text": [
      "Epoch : [67] Val Loss : [0.13805441945571761] Val ACC : [0.951]\n"
     ]
    },
    {
     "name": "stderr",
     "output_type": "stream",
     "text": [
      "100%|██████████████████████████████████████| 625/625 [01:44<00:00,  5.97it/s, Training Acc=0.977, Training Loss=0.0457]\n",
      "100%|████████████████████████████████████████████████████████████████████████████████| 157/157 [00:24<00:00,  6.50it/s]\n"
     ]
    },
    {
     "name": "stdout",
     "output_type": "stream",
     "text": [
      "Epoch : [68] Val Loss : [0.13759359169846316] Val ACC : [0.9533]\n"
     ]
    },
    {
     "name": "stderr",
     "output_type": "stream",
     "text": [
      "100%|██████████████████████████████████████| 625/625 [01:44<00:00,  5.97it/s, Training Acc=0.977, Training Loss=0.0439]\n",
      "100%|████████████████████████████████████████████████████████████████████████████████| 157/157 [00:24<00:00,  6.44it/s]\n"
     ]
    },
    {
     "name": "stdout",
     "output_type": "stream",
     "text": [
      "Epoch : [69] Val Loss : [0.13661545395085908] Val ACC : [0.9545]\n"
     ]
    },
    {
     "name": "stderr",
     "output_type": "stream",
     "text": [
      "100%|██████████████████████████████████████| 625/625 [01:44<00:00,  5.96it/s, Training Acc=0.977, Training Loss=0.0433]\n",
      "100%|████████████████████████████████████████████████████████████████████████████████| 157/157 [00:24<00:00,  6.48it/s]\n"
     ]
    },
    {
     "name": "stdout",
     "output_type": "stream",
     "text": [
      "Epoch : [70] Val Loss : [0.1376612794505444] Val ACC : [0.9537]\n",
      "======== 2fold Training ========\n"
     ]
    },
    {
     "name": "stderr",
     "output_type": "stream",
     "text": [
      "100%|████████████████████████████████████████| 625/625 [03:25<00:00,  3.04it/s, Training Acc=0.632, Training Loss=1.54]\n",
      "100%|████████████████████████████████████████████████████████████████████████████████| 157/157 [00:31<00:00,  4.96it/s]\n"
     ]
    },
    {
     "name": "stdout",
     "output_type": "stream",
     "text": [
      "Epoch : [1] Val Loss : [0.782597999853693] Val ACC : [0.7793]\n"
     ]
    },
    {
     "name": "stderr",
     "output_type": "stream",
     "text": [
      "100%|███████████████████████████████████████| 625/625 [03:25<00:00,  3.04it/s, Training Acc=0.804, Training Loss=0.655]\n",
      "100%|████████████████████████████████████████████████████████████████████████████████| 157/157 [00:31<00:00,  5.00it/s]\n"
     ]
    },
    {
     "name": "stdout",
     "output_type": "stream",
     "text": [
      "Epoch : [2] Val Loss : [0.5407294795201842] Val ACC : [0.8375]\n"
     ]
    },
    {
     "name": "stderr",
     "output_type": "stream",
     "text": [
      "100%|███████████████████████████████████████| 625/625 [03:25<00:00,  3.04it/s, Training Acc=0.847, Training Loss=0.491]\n",
      "100%|████████████████████████████████████████████████████████████████████████████████| 157/157 [00:31<00:00,  4.91it/s]\n"
     ]
    },
    {
     "name": "stdout",
     "output_type": "stream",
     "text": [
      "Epoch : [3] Val Loss : [0.4077852351270663] Val ACC : [0.8709]\n"
     ]
    },
    {
     "name": "stderr",
     "output_type": "stream",
     "text": [
      "100%|███████████████████████████████████████| 625/625 [03:25<00:00,  3.04it/s, Training Acc=0.874, Training Loss=0.401]\n",
      "100%|████████████████████████████████████████████████████████████████████████████████| 157/157 [00:31<00:00,  4.92it/s]\n"
     ]
    },
    {
     "name": "stdout",
     "output_type": "stream",
     "text": [
      "Epoch : [4] Val Loss : [0.36090170345298805] Val ACC : [0.8773]\n"
     ]
    },
    {
     "name": "stderr",
     "output_type": "stream",
     "text": [
      "100%|███████████████████████████████████████| 625/625 [03:25<00:00,  3.04it/s, Training Acc=0.888, Training Loss=0.339]\n",
      "100%|████████████████████████████████████████████████████████████████████████████████| 157/157 [00:31<00:00,  4.98it/s]\n"
     ]
    },
    {
     "name": "stdout",
     "output_type": "stream",
     "text": [
      "Epoch : [5] Val Loss : [0.3115268372900926] Val ACC : [0.8943]\n"
     ]
    },
    {
     "name": "stderr",
     "output_type": "stream",
     "text": [
      "100%|███████████████████████████████████████| 625/625 [03:25<00:00,  3.04it/s, Training Acc=0.899, Training Loss=0.302]\n",
      "100%|████████████████████████████████████████████████████████████████████████████████| 157/157 [00:31<00:00,  4.96it/s]\n"
     ]
    },
    {
     "name": "stdout",
     "output_type": "stream",
     "text": [
      "Epoch : [6] Val Loss : [0.28241991232724706] Val ACC : [0.9053]\n"
     ]
    },
    {
     "name": "stderr",
     "output_type": "stream",
     "text": [
      "100%|███████████████████████████████████████| 625/625 [03:25<00:00,  3.04it/s, Training Acc=0.907, Training Loss=0.274]\n",
      "100%|████████████████████████████████████████████████████████████████████████████████| 157/157 [00:31<00:00,  5.06it/s]\n"
     ]
    },
    {
     "name": "stdout",
     "output_type": "stream",
     "text": [
      "Epoch : [7] Val Loss : [0.26576831694811015] Val ACC : [0.9083]\n"
     ]
    },
    {
     "name": "stderr",
     "output_type": "stream",
     "text": [
      "100%|███████████████████████████████████████| 625/625 [03:25<00:00,  3.04it/s, Training Acc=0.912, Training Loss=0.249]\n",
      "100%|████████████████████████████████████████████████████████████████████████████████| 157/157 [00:31<00:00,  4.91it/s]\n"
     ]
    },
    {
     "name": "stdout",
     "output_type": "stream",
     "text": [
      "Epoch : [8] Val Loss : [0.2551570295765521] Val ACC : [0.9135]\n"
     ]
    },
    {
     "name": "stderr",
     "output_type": "stream",
     "text": [
      "100%|███████████████████████████████████████| 625/625 [03:25<00:00,  3.04it/s, Training Acc=0.919, Training Loss=0.224]\n",
      "100%|████████████████████████████████████████████████████████████████████████████████| 157/157 [00:31<00:00,  4.97it/s]\n"
     ]
    },
    {
     "name": "stdout",
     "output_type": "stream",
     "text": [
      "Epoch : [9] Val Loss : [0.240023000913251] Val ACC : [0.9154]\n"
     ]
    },
    {
     "name": "stderr",
     "output_type": "stream",
     "text": [
      "100%|███████████████████████████████████████| 625/625 [03:25<00:00,  3.04it/s, Training Acc=0.921, Training Loss=0.214]\n",
      "100%|████████████████████████████████████████████████████████████████████████████████| 157/157 [00:31<00:00,  4.93it/s]\n"
     ]
    },
    {
     "name": "stdout",
     "output_type": "stream",
     "text": [
      "Epoch : [10] Val Loss : [0.22152517883071474] Val ACC : [0.9245]\n"
     ]
    },
    {
     "name": "stderr",
     "output_type": "stream",
     "text": [
      "100%|█████████████████████████████████████████| 625/625 [03:25<00:00,  3.04it/s, Training Acc=0.926, Training Loss=0.2]\n",
      "100%|████████████████████████████████████████████████████████████████████████████████| 157/157 [00:31<00:00,  4.91it/s]\n"
     ]
    },
    {
     "name": "stdout",
     "output_type": "stream",
     "text": [
      "Epoch : [11] Val Loss : [0.21522605041884313] Val ACC : [0.9246]\n"
     ]
    },
    {
     "name": "stderr",
     "output_type": "stream",
     "text": [
      "100%|███████████████████████████████████████| 625/625 [03:26<00:00,  3.03it/s, Training Acc=0.929, Training Loss=0.185]\n",
      "100%|████████████████████████████████████████████████████████████████████████████████| 157/157 [00:31<00:00,  4.95it/s]\n"
     ]
    },
    {
     "name": "stdout",
     "output_type": "stream",
     "text": [
      "Epoch : [12] Val Loss : [0.2119098615589415] Val ACC : [0.924]\n"
     ]
    },
    {
     "name": "stderr",
     "output_type": "stream",
     "text": [
      "100%|███████████████████████████████████████| 625/625 [03:25<00:00,  3.04it/s, Training Acc=0.931, Training Loss=0.176]\n",
      "100%|████████████████████████████████████████████████████████████████████████████████| 157/157 [00:31<00:00,  4.94it/s]\n"
     ]
    },
    {
     "name": "stdout",
     "output_type": "stream",
     "text": [
      "Epoch : [13] Val Loss : [0.2080619267668504] Val ACC : [0.9249]\n"
     ]
    },
    {
     "name": "stderr",
     "output_type": "stream",
     "text": [
      "100%|███████████████████████████████████████| 625/625 [03:25<00:00,  3.04it/s, Training Acc=0.934, Training Loss=0.169]\n",
      "100%|████████████████████████████████████████████████████████████████████████████████| 157/157 [00:31<00:00,  5.04it/s]\n"
     ]
    },
    {
     "name": "stdout",
     "output_type": "stream",
     "text": [
      "Epoch : [14] Val Loss : [0.20951024391896025] Val ACC : [0.9242]\n"
     ]
    },
    {
     "name": "stderr",
     "output_type": "stream",
     "text": [
      "100%|███████████████████████████████████████| 625/625 [03:25<00:00,  3.04it/s, Training Acc=0.937, Training Loss=0.158]\n",
      "100%|████████████████████████████████████████████████████████████████████████████████| 157/157 [00:30<00:00,  5.07it/s]\n"
     ]
    },
    {
     "name": "stdout",
     "output_type": "stream",
     "text": [
      "Epoch : [15] Val Loss : [0.19981636098663139] Val ACC : [0.9292]\n"
     ]
    },
    {
     "name": "stderr",
     "output_type": "stream",
     "text": [
      "100%|███████████████████████████████████████| 625/625 [03:25<00:00,  3.04it/s, Training Acc=0.939, Training Loss=0.152]\n",
      "100%|████████████████████████████████████████████████████████████████████████████████| 157/157 [00:31<00:00,  4.96it/s]\n"
     ]
    },
    {
     "name": "stdout",
     "output_type": "stream",
     "text": [
      "Epoch : [16] Val Loss : [0.19905281413916] Val ACC : [0.9298]\n"
     ]
    },
    {
     "name": "stderr",
     "output_type": "stream",
     "text": [
      "100%|███████████████████████████████████████| 625/625 [03:25<00:00,  3.04it/s, Training Acc=0.941, Training Loss=0.143]\n",
      "100%|████████████████████████████████████████████████████████████████████████████████| 157/157 [00:31<00:00,  4.92it/s]\n"
     ]
    },
    {
     "name": "stdout",
     "output_type": "stream",
     "text": [
      "Epoch : [17] Val Loss : [0.1994665719770417] Val ACC : [0.9291]\n"
     ]
    },
    {
     "name": "stderr",
     "output_type": "stream",
     "text": [
      "100%|███████████████████████████████████████| 625/625 [03:25<00:00,  3.04it/s, Training Acc=0.944, Training Loss=0.137]\n",
      "100%|████████████████████████████████████████████████████████████████████████████████| 157/157 [00:31<00:00,  4.91it/s]\n"
     ]
    },
    {
     "name": "stdout",
     "output_type": "stream",
     "text": [
      "Epoch : [18] Val Loss : [0.19841968227818513] Val ACC : [0.93]\n"
     ]
    },
    {
     "name": "stderr",
     "output_type": "stream",
     "text": [
      "100%|███████████████████████████████████████| 625/625 [03:25<00:00,  3.04it/s, Training Acc=0.945, Training Loss=0.132]\n",
      "100%|████████████████████████████████████████████████████████████████████████████████| 157/157 [00:31<00:00,  4.93it/s]\n"
     ]
    },
    {
     "name": "stdout",
     "output_type": "stream",
     "text": [
      "Epoch : [19] Val Loss : [0.1876777023860034] Val ACC : [0.9307]\n"
     ]
    },
    {
     "name": "stderr",
     "output_type": "stream",
     "text": [
      "100%|███████████████████████████████████████| 625/625 [03:26<00:00,  3.03it/s, Training Acc=0.948, Training Loss=0.123]\n",
      "100%|████████████████████████████████████████████████████████████████████████████████| 157/157 [00:31<00:00,  4.92it/s]\n"
     ]
    },
    {
     "name": "stdout",
     "output_type": "stream",
     "text": [
      "Epoch : [20] Val Loss : [0.18772403995512396] Val ACC : [0.9328]\n"
     ]
    },
    {
     "name": "stderr",
     "output_type": "stream",
     "text": [
      "100%|███████████████████████████████████████| 625/625 [03:25<00:00,  3.04it/s, Training Acc=0.947, Training Loss=0.117]\n",
      "100%|████████████████████████████████████████████████████████████████████████████████| 157/157 [00:31<00:00,  4.98it/s]\n"
     ]
    },
    {
     "name": "stdout",
     "output_type": "stream",
     "text": [
      "Epoch : [21] Val Loss : [0.1901539805446081] Val ACC : [0.9299]\n"
     ]
    },
    {
     "name": "stderr",
     "output_type": "stream",
     "text": [
      "100%|████████████████████████████████████████| 625/625 [03:25<00:00,  3.04it/s, Training Acc=0.95, Training Loss=0.114]\n",
      "100%|████████████████████████████████████████████████████████████████████████████████| 157/157 [00:31<00:00,  4.92it/s]\n"
     ]
    },
    {
     "name": "stdout",
     "output_type": "stream",
     "text": [
      "Epoch : [22] Val Loss : [0.17926927775464904] Val ACC : [0.9332]\n"
     ]
    },
    {
     "name": "stderr",
     "output_type": "stream",
     "text": [
      "100%|███████████████████████████████████████| 625/625 [03:25<00:00,  3.04it/s, Training Acc=0.951, Training Loss=0.109]\n",
      "100%|████████████████████████████████████████████████████████████████████████████████| 157/157 [00:31<00:00,  5.00it/s]\n"
     ]
    },
    {
     "name": "stdout",
     "output_type": "stream",
     "text": [
      "Epoch : [23] Val Loss : [0.17515827579850887] Val ACC : [0.9326]\n"
     ]
    },
    {
     "name": "stderr",
     "output_type": "stream",
     "text": [
      "100%|███████████████████████████████████████| 625/625 [03:25<00:00,  3.04it/s, Training Acc=0.953, Training Loss=0.106]\n",
      "100%|████████████████████████████████████████████████████████████████████████████████| 157/157 [00:31<00:00,  4.92it/s]\n"
     ]
    },
    {
     "name": "stdout",
     "output_type": "stream",
     "text": [
      "Epoch : [24] Val Loss : [0.18055483138716666] Val ACC : [0.9347]\n"
     ]
    },
    {
     "name": "stderr",
     "output_type": "stream",
     "text": [
      "100%|██████████████████████████████████████| 625/625 [03:25<00:00,  3.04it/s, Training Acc=0.955, Training Loss=0.0997]\n",
      "100%|████████████████████████████████████████████████████████████████████████████████| 157/157 [00:31<00:00,  4.95it/s]\n"
     ]
    },
    {
     "name": "stdout",
     "output_type": "stream",
     "text": [
      "Epoch : [25] Val Loss : [0.18688519181576885] Val ACC : [0.932]\n"
     ]
    },
    {
     "name": "stderr",
     "output_type": "stream",
     "text": [
      "100%|███████████████████████████████████████| 625/625 [03:25<00:00,  3.04it/s, Training Acc=0.956, Training Loss=0.094]\n",
      "100%|████████████████████████████████████████████████████████████████████████████████| 157/157 [00:32<00:00,  4.88it/s]\n"
     ]
    },
    {
     "name": "stdout",
     "output_type": "stream",
     "text": [
      "Epoch : [26] Val Loss : [0.18836241392240782] Val ACC : [0.935]\n"
     ]
    },
    {
     "name": "stderr",
     "output_type": "stream",
     "text": [
      "100%|██████████████████████████████████████| 625/625 [03:25<00:00,  3.04it/s, Training Acc=0.957, Training Loss=0.0902]\n",
      "100%|████████████████████████████████████████████████████████████████████████████████| 157/157 [00:31<00:00,  4.95it/s]\n"
     ]
    },
    {
     "name": "stdout",
     "output_type": "stream",
     "text": [
      "Epoch : [27] Val Loss : [0.19683635822693063] Val ACC : [0.9309]\n"
     ]
    },
    {
     "name": "stderr",
     "output_type": "stream",
     "text": [
      "100%|██████████████████████████████████████| 625/625 [03:25<00:00,  3.04it/s, Training Acc=0.959, Training Loss=0.0891]\n",
      "100%|████████████████████████████████████████████████████████████████████████████████| 157/157 [00:31<00:00,  4.92it/s]\n"
     ]
    },
    {
     "name": "stdout",
     "output_type": "stream",
     "text": [
      "Epoch : [28] Val Loss : [0.1761036640638189] Val ACC : [0.9371]\n"
     ]
    },
    {
     "name": "stderr",
     "output_type": "stream",
     "text": [
      "100%|██████████████████████████████████████| 625/625 [03:25<00:00,  3.04it/s, Training Acc=0.959, Training Loss=0.0845]\n",
      "100%|████████████████████████████████████████████████████████████████████████████████| 157/157 [00:31<00:00,  4.95it/s]\n"
     ]
    },
    {
     "name": "stdout",
     "output_type": "stream",
     "text": [
      "Epoch : [29] Val Loss : [0.18256362308125207] Val ACC : [0.9359]\n"
     ]
    },
    {
     "name": "stderr",
     "output_type": "stream",
     "text": [
      "100%|███████████████████████████████████████| 625/625 [03:25<00:00,  3.04it/s, Training Acc=0.96, Training Loss=0.0813]\n",
      "100%|████████████████████████████████████████████████████████████████████████████████| 157/157 [00:31<00:00,  4.93it/s]\n"
     ]
    },
    {
     "name": "stdout",
     "output_type": "stream",
     "text": [
      "Epoch : [30] Val Loss : [0.17401388612024155] Val ACC : [0.9356]\n"
     ]
    },
    {
     "name": "stderr",
     "output_type": "stream",
     "text": [
      "100%|██████████████████████████████████████| 625/625 [03:25<00:00,  3.04it/s, Training Acc=0.961, Training Loss=0.0805]\n",
      "100%|████████████████████████████████████████████████████████████████████████████████| 157/157 [00:31<00:00,  4.91it/s]\n"
     ]
    },
    {
     "name": "stdout",
     "output_type": "stream",
     "text": [
      "Epoch : [31] Val Loss : [0.18138951796350206] Val ACC : [0.9364]\n"
     ]
    },
    {
     "name": "stderr",
     "output_type": "stream",
     "text": [
      "100%|██████████████████████████████████████| 625/625 [03:25<00:00,  3.04it/s, Training Acc=0.961, Training Loss=0.0771]\n",
      "100%|████████████████████████████████████████████████████████████████████████████████| 157/157 [00:31<00:00,  5.01it/s]\n"
     ]
    },
    {
     "name": "stdout",
     "output_type": "stream",
     "text": [
      "Epoch : [32] Val Loss : [0.18472457280868937] Val ACC : [0.9371]\n"
     ]
    },
    {
     "name": "stderr",
     "output_type": "stream",
     "text": [
      "100%|██████████████████████████████████████| 625/625 [03:25<00:00,  3.04it/s, Training Acc=0.964, Training Loss=0.0707]\n",
      "100%|████████████████████████████████████████████████████████████████████████████████| 157/157 [00:31<00:00,  4.97it/s]\n"
     ]
    },
    {
     "name": "stdout",
     "output_type": "stream",
     "text": [
      "Epoch : [33] Val Loss : [0.19941675139792786] Val ACC : [0.931]\n"
     ]
    },
    {
     "name": "stderr",
     "output_type": "stream",
     "text": [
      "100%|██████████████████████████████████████| 625/625 [03:25<00:00,  3.04it/s, Training Acc=0.963, Training Loss=0.0729]\n",
      "100%|████████████████████████████████████████████████████████████████████████████████| 157/157 [00:31<00:00,  4.99it/s]\n"
     ]
    },
    {
     "name": "stdout",
     "output_type": "stream",
     "text": [
      "Epoch : [34] Val Loss : [0.17462542735093575] Val ACC : [0.9373]\n"
     ]
    },
    {
     "name": "stderr",
     "output_type": "stream",
     "text": [
      "100%|██████████████████████████████████████| 625/625 [03:25<00:00,  3.04it/s, Training Acc=0.965, Training Loss=0.0703]\n",
      "100%|████████████████████████████████████████████████████████████████████████████████| 157/157 [00:31<00:00,  4.92it/s]\n"
     ]
    },
    {
     "name": "stdout",
     "output_type": "stream",
     "text": [
      "Epoch : [35] Val Loss : [0.16940558459728386] Val ACC : [0.9396]\n"
     ]
    },
    {
     "name": "stderr",
     "output_type": "stream",
     "text": [
      "100%|████████████████████████████████████████| 625/625 [03:15<00:00,  3.19it/s, Training Acc=0.516, Training Loss=1.19]\n",
      "100%|████████████████████████████████████████████████████████████████████████████████| 157/157 [00:25<00:00,  6.24it/s]\n"
     ]
    },
    {
     "name": "stdout",
     "output_type": "stream",
     "text": [
      "Epoch : [36] Val Loss : [0.1864842450020799] Val ACC : [0.9435]\n"
     ]
    },
    {
     "name": "stderr",
     "output_type": "stream",
     "text": [
      "100%|███████████████████████████████████████| 625/625 [03:14<00:00,  3.22it/s, Training Acc=0.523, Training Loss=0.989]\n",
      "100%|████████████████████████████████████████████████████████████████████████████████| 157/157 [00:24<00:00,  6.35it/s]\n"
     ]
    },
    {
     "name": "stdout",
     "output_type": "stream",
     "text": [
      "Epoch : [37] Val Loss : [0.17456270324861167] Val ACC : [0.9429]\n"
     ]
    },
    {
     "name": "stderr",
     "output_type": "stream",
     "text": [
      "100%|███████████████████████████████████████| 625/625 [03:12<00:00,  3.24it/s, Training Acc=0.532, Training Loss=0.916]\n",
      "100%|████████████████████████████████████████████████████████████████████████████████| 157/157 [00:24<00:00,  6.40it/s]\n"
     ]
    },
    {
     "name": "stdout",
     "output_type": "stream",
     "text": [
      "Epoch : [38] Val Loss : [0.1594084968707364] Val ACC : [0.9481]\n"
     ]
    },
    {
     "name": "stderr",
     "output_type": "stream",
     "text": [
      "100%|███████████████████████████████████████| 625/625 [03:12<00:00,  3.24it/s, Training Acc=0.513, Training Loss=0.859]\n",
      "100%|████████████████████████████████████████████████████████████████████████████████| 157/157 [00:24<00:00,  6.38it/s]\n"
     ]
    },
    {
     "name": "stdout",
     "output_type": "stream",
     "text": [
      "Epoch : [39] Val Loss : [0.1484706178544813] Val ACC : [0.9497]\n"
     ]
    },
    {
     "name": "stderr",
     "output_type": "stream",
     "text": [
      "100%|████████████████████████████████████████| 625/625 [03:13<00:00,  3.24it/s, Training Acc=0.51, Training Loss=0.836]\n",
      "100%|████████████████████████████████████████████████████████████████████████████████| 157/157 [00:24<00:00,  6.44it/s]\n"
     ]
    },
    {
     "name": "stdout",
     "output_type": "stream",
     "text": [
      "Epoch : [40] Val Loss : [0.14526933922794213] Val ACC : [0.9485]\n"
     ]
    },
    {
     "name": "stderr",
     "output_type": "stream",
     "text": [
      "100%|███████████████████████████████████████| 625/625 [03:15<00:00,  3.20it/s, Training Acc=0.554, Training Loss=0.809]\n",
      "100%|████████████████████████████████████████████████████████████████████████████████| 157/157 [00:24<00:00,  6.39it/s]\n"
     ]
    },
    {
     "name": "stdout",
     "output_type": "stream",
     "text": [
      "Epoch : [41] Val Loss : [0.144245807057733] Val ACC : [0.9519]\n"
     ]
    },
    {
     "name": "stderr",
     "output_type": "stream",
     "text": [
      "100%|████████████████████████████████████████| 625/625 [03:13<00:00,  3.23it/s, Training Acc=0.53, Training Loss=0.779]\n",
      "100%|████████████████████████████████████████████████████████████████████████████████| 157/157 [00:24<00:00,  6.39it/s]\n"
     ]
    },
    {
     "name": "stdout",
     "output_type": "stream",
     "text": [
      "Epoch : [42] Val Loss : [0.14441656321287155] Val ACC : [0.9512]\n"
     ]
    },
    {
     "name": "stderr",
     "output_type": "stream",
     "text": [
      "100%|███████████████████████████████████████| 625/625 [03:12<00:00,  3.24it/s, Training Acc=0.546, Training Loss=0.751]\n",
      "100%|████████████████████████████████████████████████████████████████████████████████| 157/157 [00:24<00:00,  6.46it/s]\n"
     ]
    },
    {
     "name": "stdout",
     "output_type": "stream",
     "text": [
      "Epoch : [43] Val Loss : [0.1359459534050173] Val ACC : [0.9529]\n"
     ]
    },
    {
     "name": "stderr",
     "output_type": "stream",
     "text": [
      "100%|███████████████████████████████████████| 625/625 [03:13<00:00,  3.24it/s, Training Acc=0.562, Training Loss=0.747]\n",
      "100%|████████████████████████████████████████████████████████████████████████████████| 157/157 [00:24<00:00,  6.45it/s]\n"
     ]
    },
    {
     "name": "stdout",
     "output_type": "stream",
     "text": [
      "Epoch : [44] Val Loss : [0.1311599640828219] Val ACC : [0.9518]\n"
     ]
    },
    {
     "name": "stderr",
     "output_type": "stream",
     "text": [
      "100%|███████████████████████████████████████| 625/625 [03:13<00:00,  3.24it/s, Training Acc=0.545, Training Loss=0.728]\n",
      "100%|████████████████████████████████████████████████████████████████████████████████| 157/157 [00:24<00:00,  6.45it/s]\n"
     ]
    },
    {
     "name": "stdout",
     "output_type": "stream",
     "text": [
      "Epoch : [45] Val Loss : [0.1263156908380378] Val ACC : [0.9522]\n"
     ]
    },
    {
     "name": "stderr",
     "output_type": "stream",
     "text": [
      "100%|███████████████████████████████████████| 625/625 [03:12<00:00,  3.24it/s, Training Acc=0.567, Training Loss=0.709]\n",
      "100%|████████████████████████████████████████████████████████████████████████████████| 157/157 [00:24<00:00,  6.46it/s]\n"
     ]
    },
    {
     "name": "stdout",
     "output_type": "stream",
     "text": [
      "Epoch : [46] Val Loss : [0.12024570773741242] Val ACC : [0.9515]\n"
     ]
    },
    {
     "name": "stderr",
     "output_type": "stream",
     "text": [
      "100%|███████████████████████████████████████| 625/625 [03:13<00:00,  3.24it/s, Training Acc=0.524, Training Loss=0.691]\n",
      "100%|████████████████████████████████████████████████████████████████████████████████| 157/157 [00:24<00:00,  6.41it/s]\n"
     ]
    },
    {
     "name": "stdout",
     "output_type": "stream",
     "text": [
      "Epoch : [47] Val Loss : [0.1215996246452734] Val ACC : [0.9531]\n"
     ]
    },
    {
     "name": "stderr",
     "output_type": "stream",
     "text": [
      "100%|███████████████████████████████████████| 625/625 [03:13<00:00,  3.24it/s, Training Acc=0.538, Training Loss=0.682]\n",
      "100%|████████████████████████████████████████████████████████████████████████████████| 157/157 [00:24<00:00,  6.37it/s]\n"
     ]
    },
    {
     "name": "stdout",
     "output_type": "stream",
     "text": [
      "Epoch : [48] Val Loss : [0.11674584042589375] Val ACC : [0.9538]\n"
     ]
    },
    {
     "name": "stderr",
     "output_type": "stream",
     "text": [
      "100%|███████████████████████████████████████| 625/625 [03:13<00:00,  3.23it/s, Training Acc=0.536, Training Loss=0.688]\n",
      "100%|████████████████████████████████████████████████████████████████████████████████| 157/157 [00:24<00:00,  6.43it/s]\n"
     ]
    },
    {
     "name": "stdout",
     "output_type": "stream",
     "text": [
      "Epoch : [49] Val Loss : [0.12305734616816993] Val ACC : [0.9526]\n"
     ]
    },
    {
     "name": "stderr",
     "output_type": "stream",
     "text": [
      "100%|███████████████████████████████████████| 625/625 [03:13<00:00,  3.24it/s, Training Acc=0.536, Training Loss=0.653]\n",
      "100%|████████████████████████████████████████████████████████████████████████████████| 157/157 [00:24<00:00,  6.46it/s]\n"
     ]
    },
    {
     "name": "stdout",
     "output_type": "stream",
     "text": [
      "Epoch : [50] Val Loss : [0.11798160574784514] Val ACC : [0.9543]\n"
     ]
    },
    {
     "name": "stderr",
     "output_type": "stream",
     "text": [
      "100%|████████████████████████████████████████| 625/625 [03:13<00:00,  3.23it/s, Training Acc=0.555, Training Loss=0.66]\n",
      "100%|████████████████████████████████████████████████████████████████████████████████| 157/157 [00:24<00:00,  6.41it/s]\n"
     ]
    },
    {
     "name": "stdout",
     "output_type": "stream",
     "text": [
      "Epoch : [51] Val Loss : [0.12935778298148304] Val ACC : [0.9513]\n"
     ]
    },
    {
     "name": "stderr",
     "output_type": "stream",
     "text": [
      "100%|███████████████████████████████████████| 625/625 [03:13<00:00,  3.23it/s, Training Acc=0.548, Training Loss=0.642]\n",
      "100%|████████████████████████████████████████████████████████████████████████████████| 157/157 [00:24<00:00,  6.44it/s]\n"
     ]
    },
    {
     "name": "stdout",
     "output_type": "stream",
     "text": [
      "Epoch : [52] Val Loss : [0.12092148440231563] Val ACC : [0.9549]\n"
     ]
    },
    {
     "name": "stderr",
     "output_type": "stream",
     "text": [
      "100%|████████████████████████████████████████| 625/625 [03:13<00:00,  3.24it/s, Training Acc=0.52, Training Loss=0.632]\n",
      "100%|████████████████████████████████████████████████████████████████████████████████| 157/157 [00:24<00:00,  6.34it/s]\n"
     ]
    },
    {
     "name": "stdout",
     "output_type": "stream",
     "text": [
      "Epoch : [53] Val Loss : [0.11529553413486025] Val ACC : [0.9537]\n"
     ]
    },
    {
     "name": "stderr",
     "output_type": "stream",
     "text": [
      "100%|████████████████████████████████████████| 625/625 [03:13<00:00,  3.24it/s, Training Acc=0.565, Training Loss=0.62]\n",
      "100%|████████████████████████████████████████████████████████████████████████████████| 157/157 [00:24<00:00,  6.45it/s]\n"
     ]
    },
    {
     "name": "stdout",
     "output_type": "stream",
     "text": [
      "Epoch : [54] Val Loss : [0.12060271946796376] Val ACC : [0.9524]\n"
     ]
    },
    {
     "name": "stderr",
     "output_type": "stream",
     "text": [
      "100%|████████████████████████████████████████| 625/625 [03:13<00:00,  3.24it/s, Training Acc=0.54, Training Loss=0.628]\n",
      "100%|████████████████████████████████████████████████████████████████████████████████| 157/157 [00:24<00:00,  6.42it/s]\n"
     ]
    },
    {
     "name": "stdout",
     "output_type": "stream",
     "text": [
      "Epoch : [55] Val Loss : [0.11464924438838746] Val ACC : [0.9556]\n"
     ]
    },
    {
     "name": "stderr",
     "output_type": "stream",
     "text": [
      "100%|███████████████████████████████████████| 625/625 [03:13<00:00,  3.23it/s, Training Acc=0.547, Training Loss=0.611]\n",
      "100%|████████████████████████████████████████████████████████████████████████████████| 157/157 [00:24<00:00,  6.46it/s]\n"
     ]
    },
    {
     "name": "stdout",
     "output_type": "stream",
     "text": [
      "Epoch : [56] Val Loss : [0.11895065258144383] Val ACC : [0.9528]\n"
     ]
    },
    {
     "name": "stderr",
     "output_type": "stream",
     "text": [
      "100%|███████████████████████████████████████| 625/625 [03:13<00:00,  3.24it/s, Training Acc=0.538, Training Loss=0.624]\n",
      "100%|████████████████████████████████████████████████████████████████████████████████| 157/157 [00:24<00:00,  6.44it/s]\n"
     ]
    },
    {
     "name": "stdout",
     "output_type": "stream",
     "text": [
      "Epoch : [57] Val Loss : [0.1205008228066241] Val ACC : [0.9559]\n"
     ]
    },
    {
     "name": "stderr",
     "output_type": "stream",
     "text": [
      "100%|███████████████████████████████████████| 625/625 [03:13<00:00,  3.23it/s, Training Acc=0.522, Training Loss=0.604]\n",
      "100%|████████████████████████████████████████████████████████████████████████████████| 157/157 [00:24<00:00,  6.37it/s]\n"
     ]
    },
    {
     "name": "stdout",
     "output_type": "stream",
     "text": [
      "Epoch : [58] Val Loss : [0.1176993599647929] Val ACC : [0.9552]\n"
     ]
    },
    {
     "name": "stderr",
     "output_type": "stream",
     "text": [
      "100%|████████████████████████████████████████| 625/625 [03:13<00:00,  3.24it/s, Training Acc=0.536, Training Loss=0.59]\n",
      "100%|████████████████████████████████████████████████████████████████████████████████| 157/157 [00:24<00:00,  6.43it/s]\n"
     ]
    },
    {
     "name": "stdout",
     "output_type": "stream",
     "text": [
      "Epoch : [59] Val Loss : [0.11786840738621866] Val ACC : [0.9554]\n"
     ]
    },
    {
     "name": "stderr",
     "output_type": "stream",
     "text": [
      "100%|███████████████████████████████████████| 625/625 [03:13<00:00,  3.24it/s, Training Acc=0.552, Training Loss=0.575]\n",
      "100%|████████████████████████████████████████████████████████████████████████████████| 157/157 [00:24<00:00,  6.39it/s]\n"
     ]
    },
    {
     "name": "stdout",
     "output_type": "stream",
     "text": [
      "Epoch : [60] Val Loss : [0.1130260292345741] Val ACC : [0.9539]\n"
     ]
    },
    {
     "name": "stderr",
     "output_type": "stream",
     "text": [
      "100%|██████████████████████████████████████| 625/625 [01:45<00:00,  5.90it/s, Training Acc=0.976, Training Loss=0.0548]\n",
      "100%|████████████████████████████████████████████████████████████████████████████████| 157/157 [00:24<00:00,  6.37it/s]\n"
     ]
    },
    {
     "name": "stdout",
     "output_type": "stream",
     "text": [
      "Epoch : [61] Val Loss : [0.11142716977958846] Val ACC : [0.9554]\n"
     ]
    },
    {
     "name": "stderr",
     "output_type": "stream",
     "text": [
      "100%|██████████████████████████████████████| 625/625 [01:45<00:00,  5.91it/s, Training Acc=0.975, Training Loss=0.0519]\n",
      "100%|████████████████████████████████████████████████████████████████████████████████| 157/157 [00:24<00:00,  6.40it/s]\n"
     ]
    },
    {
     "name": "stdout",
     "output_type": "stream",
     "text": [
      "Epoch : [62] Val Loss : [0.1053742533193747] Val ACC : [0.9562]\n"
     ]
    },
    {
     "name": "stderr",
     "output_type": "stream",
     "text": [
      "100%|██████████████████████████████████████| 625/625 [01:46<00:00,  5.89it/s, Training Acc=0.976, Training Loss=0.0498]\n",
      "100%|████████████████████████████████████████████████████████████████████████████████| 157/157 [00:24<00:00,  6.35it/s]\n"
     ]
    },
    {
     "name": "stdout",
     "output_type": "stream",
     "text": [
      "Epoch : [63] Val Loss : [0.10733822567957886] Val ACC : [0.957]\n"
     ]
    },
    {
     "name": "stderr",
     "output_type": "stream",
     "text": [
      "100%|██████████████████████████████████████| 625/625 [01:46<00:00,  5.87it/s, Training Acc=0.976, Training Loss=0.0498]\n",
      "100%|████████████████████████████████████████████████████████████████████████████████| 157/157 [00:24<00:00,  6.34it/s]\n"
     ]
    },
    {
     "name": "stdout",
     "output_type": "stream",
     "text": [
      "Epoch : [64] Val Loss : [0.1033417752997321] Val ACC : [0.9582]\n"
     ]
    },
    {
     "name": "stderr",
     "output_type": "stream",
     "text": [
      "100%|██████████████████████████████████████| 625/625 [01:46<00:00,  5.88it/s, Training Acc=0.977, Training Loss=0.0471]\n",
      "100%|████████████████████████████████████████████████████████████████████████████████| 157/157 [00:24<00:00,  6.41it/s]\n"
     ]
    },
    {
     "name": "stdout",
     "output_type": "stream",
     "text": [
      "Epoch : [65] Val Loss : [0.10401845660808075] Val ACC : [0.9589]\n"
     ]
    },
    {
     "name": "stderr",
     "output_type": "stream",
     "text": [
      "100%|██████████████████████████████████████| 625/625 [01:46<00:00,  5.89it/s, Training Acc=0.976, Training Loss=0.0477]\n",
      "100%|████████████████████████████████████████████████████████████████████████████████| 157/157 [00:24<00:00,  6.44it/s]\n"
     ]
    },
    {
     "name": "stdout",
     "output_type": "stream",
     "text": [
      "Epoch : [66] Val Loss : [0.10208350325679513] Val ACC : [0.9572]\n"
     ]
    },
    {
     "name": "stderr",
     "output_type": "stream",
     "text": [
      "100%|██████████████████████████████████████| 625/625 [01:45<00:00,  5.92it/s, Training Acc=0.976, Training Loss=0.0471]\n",
      "100%|████████████████████████████████████████████████████████████████████████████████| 157/157 [00:24<00:00,  6.47it/s]\n"
     ]
    },
    {
     "name": "stdout",
     "output_type": "stream",
     "text": [
      "Epoch : [67] Val Loss : [0.10402702791082441] Val ACC : [0.956]\n"
     ]
    },
    {
     "name": "stderr",
     "output_type": "stream",
     "text": [
      "100%|██████████████████████████████████████| 625/625 [01:49<00:00,  5.71it/s, Training Acc=0.977, Training Loss=0.0446]\n",
      "100%|████████████████████████████████████████████████████████████████████████████████| 157/157 [00:26<00:00,  5.93it/s]\n"
     ]
    },
    {
     "name": "stdout",
     "output_type": "stream",
     "text": [
      "Epoch : [68] Val Loss : [0.10378335136030416] Val ACC : [0.9586]\n"
     ]
    },
    {
     "name": "stderr",
     "output_type": "stream",
     "text": [
      "100%|██████████████████████████████████████| 625/625 [01:49<00:00,  5.70it/s, Training Acc=0.977, Training Loss=0.0456]\n",
      "100%|████████████████████████████████████████████████████████████████████████████████| 157/157 [00:25<00:00,  6.19it/s]\n"
     ]
    },
    {
     "name": "stdout",
     "output_type": "stream",
     "text": [
      "Epoch : [69] Val Loss : [0.1016194476496879] Val ACC : [0.9583]\n"
     ]
    },
    {
     "name": "stderr",
     "output_type": "stream",
     "text": [
      "100%|██████████████████████████████████████| 625/625 [01:46<00:00,  5.87it/s, Training Acc=0.977, Training Loss=0.0452]\n",
      "100%|████████████████████████████████████████████████████████████████████████████████| 157/157 [00:24<00:00,  6.45it/s]\n"
     ]
    },
    {
     "name": "stdout",
     "output_type": "stream",
     "text": [
      "Epoch : [70] Val Loss : [0.10714793954471684] Val ACC : [0.9565]\n",
      "======== 3fold Training ========\n"
     ]
    },
    {
     "name": "stderr",
     "output_type": "stream",
     "text": [
      "100%|████████████████████████████████████████| 625/625 [03:26<00:00,  3.03it/s, Training Acc=0.635, Training Loss=1.53]\n",
      "100%|████████████████████████████████████████████████████████████████████████████████| 157/157 [00:31<00:00,  4.92it/s]\n"
     ]
    },
    {
     "name": "stdout",
     "output_type": "stream",
     "text": [
      "Epoch : [1] Val Loss : [0.7906557265550468] Val ACC : [0.7731]\n"
     ]
    },
    {
     "name": "stderr",
     "output_type": "stream",
     "text": [
      "100%|███████████████████████████████████████| 625/625 [03:26<00:00,  3.03it/s, Training Acc=0.807, Training Loss=0.639]\n",
      "100%|████████████████████████████████████████████████████████████████████████████████| 157/157 [00:31<00:00,  4.94it/s]\n"
     ]
    },
    {
     "name": "stdout",
     "output_type": "stream",
     "text": [
      "Epoch : [2] Val Loss : [0.5457496810111271] Val ACC : [0.8336]\n"
     ]
    },
    {
     "name": "stderr",
     "output_type": "stream",
     "text": [
      "100%|███████████████████████████████████████| 625/625 [03:26<00:00,  3.03it/s, Training Acc=0.852, Training Loss=0.474]\n",
      "100%|████████████████████████████████████████████████████████████████████████████████| 157/157 [00:31<00:00,  4.94it/s]\n"
     ]
    },
    {
     "name": "stdout",
     "output_type": "stream",
     "text": [
      "Epoch : [3] Val Loss : [0.44289053032162845] Val ACC : [0.8603]\n"
     ]
    },
    {
     "name": "stderr",
     "output_type": "stream",
     "text": [
      "100%|███████████████████████████████████████| 625/625 [03:26<00:00,  3.03it/s, Training Acc=0.874, Training Loss=0.394]\n",
      "100%|████████████████████████████████████████████████████████████████████████████████| 157/157 [00:31<00:00,  4.96it/s]\n"
     ]
    },
    {
     "name": "stdout",
     "output_type": "stream",
     "text": [
      "Epoch : [4] Val Loss : [0.3754214407152431] Val ACC : [0.8824]\n"
     ]
    },
    {
     "name": "stderr",
     "output_type": "stream",
     "text": [
      "100%|███████████████████████████████████████| 625/625 [03:26<00:00,  3.03it/s, Training Acc=0.889, Training Loss=0.336]\n",
      "100%|████████████████████████████████████████████████████████████████████████████████| 157/157 [00:31<00:00,  4.97it/s]\n"
     ]
    },
    {
     "name": "stdout",
     "output_type": "stream",
     "text": [
      "Epoch : [5] Val Loss : [0.3335415916458057] Val ACC : [0.8958]\n"
     ]
    },
    {
     "name": "stderr",
     "output_type": "stream",
     "text": [
      "100%|█████████████████████████████████████████| 625/625 [03:26<00:00,  3.03it/s, Training Acc=0.9, Training Loss=0.298]\n",
      "100%|████████████████████████████████████████████████████████████████████████████████| 157/157 [00:31<00:00,  4.98it/s]\n"
     ]
    },
    {
     "name": "stdout",
     "output_type": "stream",
     "text": [
      "Epoch : [6] Val Loss : [0.3092477810183528] Val ACC : [0.9015]\n"
     ]
    },
    {
     "name": "stderr",
     "output_type": "stream",
     "text": [
      "100%|███████████████████████████████████████| 625/625 [03:26<00:00,  3.03it/s, Training Acc=0.908, Training Loss=0.268]\n",
      "100%|████████████████████████████████████████████████████████████████████████████████| 157/157 [00:31<00:00,  4.94it/s]\n"
     ]
    },
    {
     "name": "stdout",
     "output_type": "stream",
     "text": [
      "Epoch : [7] Val Loss : [0.29063347676638396] Val ACC : [0.9018]\n"
     ]
    },
    {
     "name": "stderr",
     "output_type": "stream",
     "text": [
      "100%|███████████████████████████████████████| 625/625 [03:26<00:00,  3.02it/s, Training Acc=0.913, Training Loss=0.247]\n",
      "100%|████████████████████████████████████████████████████████████████████████████████| 157/157 [00:31<00:00,  4.95it/s]\n"
     ]
    },
    {
     "name": "stdout",
     "output_type": "stream",
     "text": [
      "Epoch : [8] Val Loss : [0.2583352435605636] Val ACC : [0.9128]\n"
     ]
    },
    {
     "name": "stderr",
     "output_type": "stream",
     "text": [
      "100%|███████████████████████████████████████| 625/625 [03:26<00:00,  3.02it/s, Training Acc=0.917, Training Loss=0.226]\n",
      "100%|████████████████████████████████████████████████████████████████████████████████| 157/157 [00:31<00:00,  4.93it/s]\n"
     ]
    },
    {
     "name": "stdout",
     "output_type": "stream",
     "text": [
      "Epoch : [9] Val Loss : [0.25512725202615855] Val ACC : [0.9157]\n"
     ]
    },
    {
     "name": "stderr",
     "output_type": "stream",
     "text": [
      "100%|███████████████████████████████████████| 625/625 [03:26<00:00,  3.03it/s, Training Acc=0.923, Training Loss=0.211]\n",
      "100%|████████████████████████████████████████████████████████████████████████████████| 157/157 [00:31<00:00,  4.96it/s]\n"
     ]
    },
    {
     "name": "stdout",
     "output_type": "stream",
     "text": [
      "Epoch : [10] Val Loss : [0.25202533000024263] Val ACC : [0.9144]\n"
     ]
    },
    {
     "name": "stderr",
     "output_type": "stream",
     "text": [
      "100%|███████████████████████████████████████| 625/625 [03:26<00:00,  3.03it/s, Training Acc=0.925, Training Loss=0.197]\n",
      "100%|████████████████████████████████████████████████████████████████████████████████| 157/157 [00:31<00:00,  4.93it/s]\n"
     ]
    },
    {
     "name": "stdout",
     "output_type": "stream",
     "text": [
      "Epoch : [11] Val Loss : [0.2412390535590565] Val ACC : [0.9159]\n"
     ]
    },
    {
     "name": "stderr",
     "output_type": "stream",
     "text": [
      "100%|███████████████████████████████████████| 625/625 [03:26<00:00,  3.02it/s, Training Acc=0.929, Training Loss=0.184]\n",
      "100%|████████████████████████████████████████████████████████████████████████████████| 157/157 [00:31<00:00,  4.91it/s]\n"
     ]
    },
    {
     "name": "stdout",
     "output_type": "stream",
     "text": [
      "Epoch : [12] Val Loss : [0.23664476110297403] Val ACC : [0.9184]\n"
     ]
    },
    {
     "name": "stderr",
     "output_type": "stream",
     "text": [
      "100%|███████████████████████████████████████| 625/625 [03:26<00:00,  3.03it/s, Training Acc=0.933, Training Loss=0.176]\n",
      "100%|████████████████████████████████████████████████████████████████████████████████| 157/157 [00:32<00:00,  4.88it/s]\n"
     ]
    },
    {
     "name": "stdout",
     "output_type": "stream",
     "text": [
      "Epoch : [13] Val Loss : [0.23952230474181996] Val ACC : [0.9183]\n"
     ]
    },
    {
     "name": "stderr",
     "output_type": "stream",
     "text": [
      "100%|███████████████████████████████████████| 625/625 [03:26<00:00,  3.03it/s, Training Acc=0.933, Training Loss=0.166]\n",
      "100%|████████████████████████████████████████████████████████████████████████████████| 157/157 [00:32<00:00,  4.86it/s]\n"
     ]
    },
    {
     "name": "stdout",
     "output_type": "stream",
     "text": [
      "Epoch : [14] Val Loss : [0.22012621310842076] Val ACC : [0.9223]\n"
     ]
    },
    {
     "name": "stderr",
     "output_type": "stream",
     "text": [
      "100%|███████████████████████████████████████| 625/625 [03:26<00:00,  3.03it/s, Training Acc=0.935, Training Loss=0.161]\n",
      "100%|████████████████████████████████████████████████████████████████████████████████| 157/157 [00:31<00:00,  4.91it/s]\n"
     ]
    },
    {
     "name": "stdout",
     "output_type": "stream",
     "text": [
      "Epoch : [15] Val Loss : [0.22162833479144106] Val ACC : [0.9244]\n"
     ]
    },
    {
     "name": "stderr",
     "output_type": "stream",
     "text": [
      "100%|███████████████████████████████████████| 625/625 [03:26<00:00,  3.03it/s, Training Acc=0.939, Training Loss=0.147]\n",
      "100%|████████████████████████████████████████████████████████████████████████████████| 157/157 [00:31<00:00,  4.93it/s]\n"
     ]
    },
    {
     "name": "stdout",
     "output_type": "stream",
     "text": [
      "Epoch : [16] Val Loss : [0.202004541577712] Val ACC : [0.9301]\n"
     ]
    },
    {
     "name": "stderr",
     "output_type": "stream",
     "text": [
      "100%|███████████████████████████████████████| 625/625 [03:26<00:00,  3.02it/s, Training Acc=0.942, Training Loss=0.143]\n",
      "100%|████████████████████████████████████████████████████████████████████████████████| 157/157 [00:32<00:00,  4.86it/s]\n"
     ]
    },
    {
     "name": "stdout",
     "output_type": "stream",
     "text": [
      "Epoch : [17] Val Loss : [0.20048456674939982] Val ACC : [0.929]\n"
     ]
    },
    {
     "name": "stderr",
     "output_type": "stream",
     "text": [
      "100%|███████████████████████████████████████| 625/625 [03:26<00:00,  3.03it/s, Training Acc=0.944, Training Loss=0.137]\n",
      "100%|████████████████████████████████████████████████████████████████████████████████| 157/157 [00:31<00:00,  4.91it/s]\n"
     ]
    },
    {
     "name": "stdout",
     "output_type": "stream",
     "text": [
      "Epoch : [18] Val Loss : [0.21238968070821873] Val ACC : [0.9247]\n"
     ]
    },
    {
     "name": "stderr",
     "output_type": "stream",
     "text": [
      "100%|███████████████████████████████████████| 625/625 [03:26<00:00,  3.03it/s, Training Acc=0.945, Training Loss=0.128]\n",
      "100%|████████████████████████████████████████████████████████████████████████████████| 157/157 [00:31<00:00,  4.94it/s]\n"
     ]
    },
    {
     "name": "stdout",
     "output_type": "stream",
     "text": [
      "Epoch : [19] Val Loss : [0.20052554825569985] Val ACC : [0.9304]\n"
     ]
    },
    {
     "name": "stderr",
     "output_type": "stream",
     "text": [
      "100%|███████████████████████████████████████| 625/625 [03:26<00:00,  3.03it/s, Training Acc=0.948, Training Loss=0.121]\n",
      "100%|████████████████████████████████████████████████████████████████████████████████| 157/157 [00:31<00:00,  4.94it/s]\n"
     ]
    },
    {
     "name": "stdout",
     "output_type": "stream",
     "text": [
      "Epoch : [20] Val Loss : [0.21611398339841018] Val ACC : [0.9264]\n"
     ]
    },
    {
     "name": "stderr",
     "output_type": "stream",
     "text": [
      "100%|███████████████████████████████████████| 625/625 [03:27<00:00,  3.01it/s, Training Acc=0.951, Training Loss=0.116]\n",
      "100%|████████████████████████████████████████████████████████████████████████████████| 157/157 [00:31<00:00,  4.91it/s]\n"
     ]
    },
    {
     "name": "stdout",
     "output_type": "stream",
     "text": [
      "Epoch : [21] Val Loss : [0.20171682762610874] Val ACC : [0.9298]\n"
     ]
    },
    {
     "name": "stderr",
     "output_type": "stream",
     "text": [
      "100%|███████████████████████████████████████| 625/625 [03:26<00:00,  3.02it/s, Training Acc=0.948, Training Loss=0.115]\n",
      "100%|████████████████████████████████████████████████████████████████████████████████| 157/157 [00:31<00:00,  4.92it/s]\n"
     ]
    },
    {
     "name": "stdout",
     "output_type": "stream",
     "text": [
      "Epoch : [22] Val Loss : [0.20848471811931035] Val ACC : [0.9277]\n"
     ]
    },
    {
     "name": "stderr",
     "output_type": "stream",
     "text": [
      "100%|███████████████████████████████████████| 625/625 [03:26<00:00,  3.02it/s, Training Acc=0.952, Training Loss=0.108]\n",
      "100%|████████████████████████████████████████████████████████████████████████████████| 157/157 [00:31<00:00,  4.91it/s]\n"
     ]
    },
    {
     "name": "stdout",
     "output_type": "stream",
     "text": [
      "Epoch : [23] Val Loss : [0.19293817294654764] Val ACC : [0.9327]\n"
     ]
    },
    {
     "name": "stderr",
     "output_type": "stream",
     "text": [
      "100%|███████████████████████████████████████| 625/625 [03:27<00:00,  3.02it/s, Training Acc=0.953, Training Loss=0.103]\n",
      "100%|████████████████████████████████████████████████████████████████████████████████| 157/157 [00:32<00:00,  4.85it/s]\n"
     ]
    },
    {
     "name": "stdout",
     "output_type": "stream",
     "text": [
      "Epoch : [24] Val Loss : [0.19715158133856525] Val ACC : [0.9341]\n"
     ]
    },
    {
     "name": "stderr",
     "output_type": "stream",
     "text": [
      "100%|██████████████████████████████████████| 625/625 [03:27<00:00,  3.02it/s, Training Acc=0.956, Training Loss=0.0982]\n",
      "100%|████████████████████████████████████████████████████████████████████████████████| 157/157 [00:32<00:00,  4.85it/s]\n"
     ]
    },
    {
     "name": "stdout",
     "output_type": "stream",
     "text": [
      "Epoch : [25] Val Loss : [0.18733882991253] Val ACC : [0.9375]\n"
     ]
    },
    {
     "name": "stderr",
     "output_type": "stream",
     "text": [
      "100%|██████████████████████████████████████| 625/625 [03:27<00:00,  3.02it/s, Training Acc=0.956, Training Loss=0.0916]\n",
      "100%|████████████████████████████████████████████████████████████████████████████████| 157/157 [00:32<00:00,  4.85it/s]\n"
     ]
    },
    {
     "name": "stdout",
     "output_type": "stream",
     "text": [
      "Epoch : [26] Val Loss : [0.19380061437708035] Val ACC : [0.9382]\n"
     ]
    },
    {
     "name": "stderr",
     "output_type": "stream",
     "text": [
      "100%|██████████████████████████████████████| 625/625 [03:27<00:00,  3.02it/s, Training Acc=0.956, Training Loss=0.0936]\n",
      "100%|████████████████████████████████████████████████████████████████████████████████| 157/157 [00:32<00:00,  4.89it/s]\n"
     ]
    },
    {
     "name": "stdout",
     "output_type": "stream",
     "text": [
      "Epoch : [27] Val Loss : [0.1898196216607407] Val ACC : [0.9336]\n"
     ]
    },
    {
     "name": "stderr",
     "output_type": "stream",
     "text": [
      "100%|██████████████████████████████████████| 625/625 [03:26<00:00,  3.02it/s, Training Acc=0.959, Training Loss=0.0888]\n",
      "100%|████████████████████████████████████████████████████████████████████████████████| 157/157 [00:32<00:00,  4.90it/s]\n"
     ]
    },
    {
     "name": "stdout",
     "output_type": "stream",
     "text": [
      "Epoch : [28] Val Loss : [0.19998599127065508] Val ACC : [0.9358]\n"
     ]
    },
    {
     "name": "stderr",
     "output_type": "stream",
     "text": [
      "100%|██████████████████████████████████████| 625/625 [03:26<00:00,  3.02it/s, Training Acc=0.959, Training Loss=0.0848]\n",
      "100%|████████████████████████████████████████████████████████████████████████████████| 157/157 [00:32<00:00,  4.88it/s]\n"
     ]
    },
    {
     "name": "stdout",
     "output_type": "stream",
     "text": [
      "Epoch : [29] Val Loss : [0.19528969021953024] Val ACC : [0.9361]\n"
     ]
    },
    {
     "name": "stderr",
     "output_type": "stream",
     "text": [
      "100%|███████████████████████████████████████| 625/625 [03:26<00:00,  3.02it/s, Training Acc=0.96, Training Loss=0.0821]\n",
      "100%|████████████████████████████████████████████████████████████████████████████████| 157/157 [00:32<00:00,  4.87it/s]\n"
     ]
    },
    {
     "name": "stdout",
     "output_type": "stream",
     "text": [
      "Epoch : [30] Val Loss : [0.1962914657690058] Val ACC : [0.9329]\n"
     ]
    },
    {
     "name": "stderr",
     "output_type": "stream",
     "text": [
      "100%|██████████████████████████████████████| 625/625 [03:26<00:00,  3.02it/s, Training Acc=0.962, Training Loss=0.0782]\n",
      "100%|████████████████████████████████████████████████████████████████████████████████| 157/157 [00:32<00:00,  4.91it/s]\n"
     ]
    },
    {
     "name": "stdout",
     "output_type": "stream",
     "text": [
      "Epoch : [31] Val Loss : [0.2017584298233128] Val ACC : [0.9347]\n"
     ]
    },
    {
     "name": "stderr",
     "output_type": "stream",
     "text": [
      "100%|██████████████████████████████████████| 625/625 [03:27<00:00,  3.02it/s, Training Acc=0.962, Training Loss=0.0765]\n",
      "100%|████████████████████████████████████████████████████████████████████████████████| 157/157 [00:31<00:00,  4.94it/s]\n"
     ]
    },
    {
     "name": "stdout",
     "output_type": "stream",
     "text": [
      "Epoch : [32] Val Loss : [0.18719543956196422] Val ACC : [0.9335]\n"
     ]
    },
    {
     "name": "stderr",
     "output_type": "stream",
     "text": [
      "100%|██████████████████████████████████████| 625/625 [03:26<00:00,  3.02it/s, Training Acc=0.965, Training Loss=0.0689]\n",
      "100%|████████████████████████████████████████████████████████████████████████████████| 157/157 [00:32<00:00,  4.84it/s]\n"
     ]
    },
    {
     "name": "stdout",
     "output_type": "stream",
     "text": [
      "Epoch : [33] Val Loss : [0.2175750187390549] Val ACC : [0.9325]\n"
     ]
    },
    {
     "name": "stderr",
     "output_type": "stream",
     "text": [
      "100%|██████████████████████████████████████| 625/625 [03:26<00:00,  3.02it/s, Training Acc=0.965, Training Loss=0.0685]\n",
      "100%|████████████████████████████████████████████████████████████████████████████████| 157/157 [00:32<00:00,  4.87it/s]\n"
     ]
    },
    {
     "name": "stdout",
     "output_type": "stream",
     "text": [
      "Epoch : [34] Val Loss : [0.20523843690634344] Val ACC : [0.9362]\n"
     ]
    },
    {
     "name": "stderr",
     "output_type": "stream",
     "text": [
      "100%|██████████████████████████████████████| 625/625 [03:26<00:00,  3.02it/s, Training Acc=0.965, Training Loss=0.0697]\n",
      "100%|████████████████████████████████████████████████████████████████████████████████| 157/157 [00:32<00:00,  4.90it/s]\n"
     ]
    },
    {
     "name": "stdout",
     "output_type": "stream",
     "text": [
      "Epoch : [35] Val Loss : [0.2222722113565512] Val ACC : [0.9341]\n"
     ]
    },
    {
     "name": "stderr",
     "output_type": "stream",
     "text": [
      "100%|█████████████████████████████████████████| 625/625 [03:13<00:00,  3.23it/s, Training Acc=0.502, Training Loss=1.2]\n",
      "100%|████████████████████████████████████████████████████████████████████████████████| 157/157 [00:24<00:00,  6.34it/s]\n"
     ]
    },
    {
     "name": "stdout",
     "output_type": "stream",
     "text": [
      "Epoch : [36] Val Loss : [0.20934389064171513] Val ACC : [0.94]\n"
     ]
    },
    {
     "name": "stderr",
     "output_type": "stream",
     "text": [
      "100%|███████████████████████████████████████| 625/625 [03:13<00:00,  3.23it/s, Training Acc=0.507, Training Loss=0.967]\n",
      "100%|████████████████████████████████████████████████████████████████████████████████| 157/157 [00:24<00:00,  6.42it/s]\n"
     ]
    },
    {
     "name": "stdout",
     "output_type": "stream",
     "text": [
      "Epoch : [37] Val Loss : [0.1876682334099036] Val ACC : [0.9438]\n"
     ]
    },
    {
     "name": "stderr",
     "output_type": "stream",
     "text": [
      "100%|███████████████████████████████████████| 625/625 [03:13<00:00,  3.23it/s, Training Acc=0.525, Training Loss=0.897]\n",
      "100%|████████████████████████████████████████████████████████████████████████████████| 157/157 [00:24<00:00,  6.32it/s]\n"
     ]
    },
    {
     "name": "stdout",
     "output_type": "stream",
     "text": [
      "Epoch : [38] Val Loss : [0.16484569130572163] Val ACC : [0.9446]\n"
     ]
    },
    {
     "name": "stderr",
     "output_type": "stream",
     "text": [
      "100%|███████████████████████████████████████| 625/625 [03:13<00:00,  3.23it/s, Training Acc=0.541, Training Loss=0.873]\n",
      "100%|████████████████████████████████████████████████████████████████████████████████| 157/157 [00:24<00:00,  6.32it/s]\n"
     ]
    },
    {
     "name": "stdout",
     "output_type": "stream",
     "text": [
      "Epoch : [39] Val Loss : [0.16753045032927943] Val ACC : [0.9461]\n"
     ]
    },
    {
     "name": "stderr",
     "output_type": "stream",
     "text": [
      "100%|███████████████████████████████████████| 625/625 [03:13<00:00,  3.23it/s, Training Acc=0.554, Training Loss=0.826]\n",
      "100%|████████████████████████████████████████████████████████████████████████████████| 157/157 [00:24<00:00,  6.37it/s]\n"
     ]
    },
    {
     "name": "stdout",
     "output_type": "stream",
     "text": [
      "Epoch : [40] Val Loss : [0.15785205107965286] Val ACC : [0.9465]\n"
     ]
    },
    {
     "name": "stderr",
     "output_type": "stream",
     "text": [
      "100%|████████████████████████████████████████| 625/625 [03:13<00:00,  3.23it/s, Training Acc=0.51, Training Loss=0.797]\n",
      "100%|████████████████████████████████████████████████████████████████████████████████| 157/157 [00:24<00:00,  6.33it/s]\n"
     ]
    },
    {
     "name": "stdout",
     "output_type": "stream",
     "text": [
      "Epoch : [41] Val Loss : [0.15173279212870797] Val ACC : [0.9504]\n"
     ]
    },
    {
     "name": "stderr",
     "output_type": "stream",
     "text": [
      "100%|████████████████████████████████████████| 625/625 [03:13<00:00,  3.23it/s, Training Acc=0.528, Training Loss=0.78]\n",
      "100%|████████████████████████████████████████████████████████████████████████████████| 157/157 [00:24<00:00,  6.32it/s]\n"
     ]
    },
    {
     "name": "stdout",
     "output_type": "stream",
     "text": [
      "Epoch : [42] Val Loss : [0.15394967997292425] Val ACC : [0.9497]\n"
     ]
    },
    {
     "name": "stderr",
     "output_type": "stream",
     "text": [
      "100%|███████████████████████████████████████| 625/625 [03:13<00:00,  3.23it/s, Training Acc=0.509, Training Loss=0.753]\n",
      "100%|████████████████████████████████████████████████████████████████████████████████| 157/157 [00:24<00:00,  6.44it/s]\n"
     ]
    },
    {
     "name": "stdout",
     "output_type": "stream",
     "text": [
      "Epoch : [43] Val Loss : [0.15480829737368662] Val ACC : [0.9473]\n"
     ]
    },
    {
     "name": "stderr",
     "output_type": "stream",
     "text": [
      "100%|████████████████████████████████████████| 625/625 [03:13<00:00,  3.23it/s, Training Acc=0.51, Training Loss=0.743]\n",
      "100%|████████████████████████████████████████████████████████████████████████████████| 157/157 [00:24<00:00,  6.39it/s]\n"
     ]
    },
    {
     "name": "stdout",
     "output_type": "stream",
     "text": [
      "Epoch : [44] Val Loss : [0.15165174251813798] Val ACC : [0.9448]\n"
     ]
    },
    {
     "name": "stderr",
     "output_type": "stream",
     "text": [
      "100%|█████████████████████████████████████████| 625/625 [03:13<00:00,  3.23it/s, Training Acc=0.53, Training Loss=0.72]\n",
      "100%|████████████████████████████████████████████████████████████████████████████████| 157/157 [00:24<00:00,  6.37it/s]\n"
     ]
    },
    {
     "name": "stdout",
     "output_type": "stream",
     "text": [
      "Epoch : [45] Val Loss : [0.14286778512511664] Val ACC : [0.9479]\n"
     ]
    },
    {
     "name": "stderr",
     "output_type": "stream",
     "text": [
      "100%|███████████████████████████████████████| 625/625 [03:13<00:00,  3.23it/s, Training Acc=0.537, Training Loss=0.705]\n",
      "100%|████████████████████████████████████████████████████████████████████████████████| 157/157 [00:24<00:00,  6.34it/s]\n"
     ]
    },
    {
     "name": "stdout",
     "output_type": "stream",
     "text": [
      "Epoch : [46] Val Loss : [0.1366934724223272] Val ACC : [0.95]\n"
     ]
    },
    {
     "name": "stderr",
     "output_type": "stream",
     "text": [
      "100%|███████████████████████████████████████| 625/625 [03:13<00:00,  3.23it/s, Training Acc=0.543, Training Loss=0.681]\n",
      "100%|████████████████████████████████████████████████████████████████████████████████| 157/157 [00:24<00:00,  6.33it/s]\n"
     ]
    },
    {
     "name": "stdout",
     "output_type": "stream",
     "text": [
      "Epoch : [47] Val Loss : [0.14235663501794932] Val ACC : [0.9493]\n"
     ]
    },
    {
     "name": "stderr",
     "output_type": "stream",
     "text": [
      "100%|███████████████████████████████████████| 625/625 [03:13<00:00,  3.23it/s, Training Acc=0.529, Training Loss=0.687]\n",
      "100%|████████████████████████████████████████████████████████████████████████████████| 157/157 [00:24<00:00,  6.37it/s]\n"
     ]
    },
    {
     "name": "stdout",
     "output_type": "stream",
     "text": [
      "Epoch : [48] Val Loss : [0.14565384520846567] Val ACC : [0.9499]\n"
     ]
    },
    {
     "name": "stderr",
     "output_type": "stream",
     "text": [
      "100%|███████████████████████████████████████| 625/625 [03:15<00:00,  3.19it/s, Training Acc=0.527, Training Loss=0.675]\n",
      "100%|████████████████████████████████████████████████████████████████████████████████| 157/157 [00:25<00:00,  6.04it/s]\n"
     ]
    },
    {
     "name": "stdout",
     "output_type": "stream",
     "text": [
      "Epoch : [49] Val Loss : [0.13944399412009556] Val ACC : [0.9511]\n"
     ]
    },
    {
     "name": "stderr",
     "output_type": "stream",
     "text": [
      "100%|███████████████████████████████████████| 625/625 [03:15<00:00,  3.19it/s, Training Acc=0.518, Training Loss=0.655]\n",
      "100%|████████████████████████████████████████████████████████████████████████████████| 157/157 [00:24<00:00,  6.37it/s]\n"
     ]
    },
    {
     "name": "stdout",
     "output_type": "stream",
     "text": [
      "Epoch : [50] Val Loss : [0.13672548420964534] Val ACC : [0.9501]\n"
     ]
    },
    {
     "name": "stderr",
     "output_type": "stream",
     "text": [
      "100%|███████████████████████████████████████| 625/625 [03:13<00:00,  3.22it/s, Training Acc=0.541, Training Loss=0.639]\n",
      "100%|████████████████████████████████████████████████████████████████████████████████| 157/157 [00:24<00:00,  6.37it/s]\n"
     ]
    },
    {
     "name": "stdout",
     "output_type": "stream",
     "text": [
      "Epoch : [51] Val Loss : [0.14047023623137717] Val ACC : [0.9503]\n"
     ]
    },
    {
     "name": "stderr",
     "output_type": "stream",
     "text": [
      "100%|███████████████████████████████████████| 625/625 [03:13<00:00,  3.23it/s, Training Acc=0.527, Training Loss=0.628]\n",
      "100%|████████████████████████████████████████████████████████████████████████████████| 157/157 [00:24<00:00,  6.42it/s]\n"
     ]
    },
    {
     "name": "stdout",
     "output_type": "stream",
     "text": [
      "Epoch : [52] Val Loss : [0.13472723077009818] Val ACC : [0.9514]\n"
     ]
    },
    {
     "name": "stderr",
     "output_type": "stream",
     "text": [
      "100%|███████████████████████████████████████| 625/625 [03:13<00:00,  3.23it/s, Training Acc=0.528, Training Loss=0.632]\n",
      "100%|████████████████████████████████████████████████████████████████████████████████| 157/157 [00:24<00:00,  6.34it/s]\n"
     ]
    },
    {
     "name": "stdout",
     "output_type": "stream",
     "text": [
      "Epoch : [53] Val Loss : [0.13573089862467758] Val ACC : [0.9512]\n"
     ]
    },
    {
     "name": "stderr",
     "output_type": "stream",
     "text": [
      "100%|███████████████████████████████████████| 625/625 [03:13<00:00,  3.23it/s, Training Acc=0.539, Training Loss=0.622]\n",
      "100%|████████████████████████████████████████████████████████████████████████████████| 157/157 [00:24<00:00,  6.35it/s]\n"
     ]
    },
    {
     "name": "stdout",
     "output_type": "stream",
     "text": [
      "Epoch : [54] Val Loss : [0.13290399460086397] Val ACC : [0.9507]\n"
     ]
    },
    {
     "name": "stderr",
     "output_type": "stream",
     "text": [
      "100%|███████████████████████████████████████| 625/625 [03:13<00:00,  3.23it/s, Training Acc=0.545, Training Loss=0.611]\n",
      "100%|████████████████████████████████████████████████████████████████████████████████| 157/157 [00:24<00:00,  6.32it/s]\n"
     ]
    },
    {
     "name": "stdout",
     "output_type": "stream",
     "text": [
      "Epoch : [55] Val Loss : [0.1328805195535444] Val ACC : [0.9529]\n"
     ]
    },
    {
     "name": "stderr",
     "output_type": "stream",
     "text": [
      "100%|███████████████████████████████████████| 625/625 [03:13<00:00,  3.23it/s, Training Acc=0.536, Training Loss=0.605]\n",
      "100%|████████████████████████████████████████████████████████████████████████████████| 157/157 [00:24<00:00,  6.37it/s]\n"
     ]
    },
    {
     "name": "stdout",
     "output_type": "stream",
     "text": [
      "Epoch : [56] Val Loss : [0.1308411721401154] Val ACC : [0.953]\n"
     ]
    },
    {
     "name": "stderr",
     "output_type": "stream",
     "text": [
      "100%|████████████████████████████████████████| 625/625 [03:13<00:00,  3.23it/s, Training Acc=0.53, Training Loss=0.594]\n",
      "100%|████████████████████████████████████████████████████████████████████████████████| 157/157 [00:24<00:00,  6.39it/s]\n"
     ]
    },
    {
     "name": "stdout",
     "output_type": "stream",
     "text": [
      "Epoch : [57] Val Loss : [0.12902421297825825] Val ACC : [0.9537]\n"
     ]
    },
    {
     "name": "stderr",
     "output_type": "stream",
     "text": [
      "100%|███████████████████████████████████████| 625/625 [03:13<00:00,  3.23it/s, Training Acc=0.537, Training Loss=0.593]\n",
      "100%|████████████████████████████████████████████████████████████████████████████████| 157/157 [00:24<00:00,  6.38it/s]\n"
     ]
    },
    {
     "name": "stdout",
     "output_type": "stream",
     "text": [
      "Epoch : [58] Val Loss : [0.13053115052141392] Val ACC : [0.9539]\n"
     ]
    },
    {
     "name": "stderr",
     "output_type": "stream",
     "text": [
      "100%|███████████████████████████████████████| 625/625 [03:13<00:00,  3.23it/s, Training Acc=0.532, Training Loss=0.593]\n",
      "100%|████████████████████████████████████████████████████████████████████████████████| 157/157 [00:24<00:00,  6.39it/s]\n"
     ]
    },
    {
     "name": "stdout",
     "output_type": "stream",
     "text": [
      "Epoch : [59] Val Loss : [0.12738813625375747] Val ACC : [0.9533]\n"
     ]
    },
    {
     "name": "stderr",
     "output_type": "stream",
     "text": [
      "100%|███████████████████████████████████████| 625/625 [03:13<00:00,  3.23it/s, Training Acc=0.544, Training Loss=0.581]\n",
      "100%|████████████████████████████████████████████████████████████████████████████████| 157/157 [00:24<00:00,  6.36it/s]\n"
     ]
    },
    {
     "name": "stdout",
     "output_type": "stream",
     "text": [
      "Epoch : [60] Val Loss : [0.12361880384717777] Val ACC : [0.954]\n"
     ]
    },
    {
     "name": "stderr",
     "output_type": "stream",
     "text": [
      "100%|██████████████████████████████████████| 625/625 [01:46<00:00,  5.86it/s, Training Acc=0.975, Training Loss=0.0544]\n",
      "100%|████████████████████████████████████████████████████████████████████████████████| 157/157 [00:24<00:00,  6.39it/s]\n"
     ]
    },
    {
     "name": "stdout",
     "output_type": "stream",
     "text": [
      "Epoch : [61] Val Loss : [0.12268766072121964] Val ACC : [0.9526]\n"
     ]
    },
    {
     "name": "stderr",
     "output_type": "stream",
     "text": [
      "100%|██████████████████████████████████████| 625/625 [01:46<00:00,  5.86it/s, Training Acc=0.975, Training Loss=0.0512]\n",
      "100%|████████████████████████████████████████████████████████████████████████████████| 157/157 [00:24<00:00,  6.37it/s]\n"
     ]
    },
    {
     "name": "stdout",
     "output_type": "stream",
     "text": [
      "Epoch : [62] Val Loss : [0.12838279743008552] Val ACC : [0.9542]\n"
     ]
    },
    {
     "name": "stderr",
     "output_type": "stream",
     "text": [
      "100%|██████████████████████████████████████| 625/625 [01:47<00:00,  5.84it/s, Training Acc=0.976, Training Loss=0.0489]\n",
      "100%|████████████████████████████████████████████████████████████████████████████████| 157/157 [00:24<00:00,  6.34it/s]\n"
     ]
    },
    {
     "name": "stdout",
     "output_type": "stream",
     "text": [
      "Epoch : [63] Val Loss : [0.12197349749647887] Val ACC : [0.9545]\n"
     ]
    },
    {
     "name": "stderr",
     "output_type": "stream",
     "text": [
      "100%|██████████████████████████████████████| 625/625 [01:47<00:00,  5.83it/s, Training Acc=0.976, Training Loss=0.0484]\n",
      "100%|████████████████████████████████████████████████████████████████████████████████| 157/157 [00:24<00:00,  6.33it/s]\n"
     ]
    },
    {
     "name": "stdout",
     "output_type": "stream",
     "text": [
      "Epoch : [64] Val Loss : [0.12888491910045882] Val ACC : [0.9561]\n"
     ]
    },
    {
     "name": "stderr",
     "output_type": "stream",
     "text": [
      "100%|██████████████████████████████████████| 625/625 [01:47<00:00,  5.83it/s, Training Acc=0.976, Training Loss=0.0465]\n",
      "100%|████████████████████████████████████████████████████████████████████████████████| 157/157 [00:24<00:00,  6.38it/s]\n"
     ]
    },
    {
     "name": "stdout",
     "output_type": "stream",
     "text": [
      "Epoch : [65] Val Loss : [0.1261928516742625] Val ACC : [0.9551]\n"
     ]
    },
    {
     "name": "stderr",
     "output_type": "stream",
     "text": [
      "100%|██████████████████████████████████████| 625/625 [01:46<00:00,  5.86it/s, Training Acc=0.976, Training Loss=0.0448]\n",
      "100%|████████████████████████████████████████████████████████████████████████████████| 157/157 [00:24<00:00,  6.40it/s]\n"
     ]
    },
    {
     "name": "stdout",
     "output_type": "stream",
     "text": [
      "Epoch : [66] Val Loss : [0.12349887031195744] Val ACC : [0.956]\n"
     ]
    },
    {
     "name": "stderr",
     "output_type": "stream",
     "text": [
      "100%|██████████████████████████████████████| 625/625 [01:46<00:00,  5.88it/s, Training Acc=0.977, Training Loss=0.0449]\n",
      "100%|████████████████████████████████████████████████████████████████████████████████| 157/157 [00:24<00:00,  6.37it/s]\n"
     ]
    },
    {
     "name": "stdout",
     "output_type": "stream",
     "text": [
      "Epoch : [67] Val Loss : [0.125071576191409] Val ACC : [0.9568]\n"
     ]
    },
    {
     "name": "stderr",
     "output_type": "stream",
     "text": [
      "100%|██████████████████████████████████████| 625/625 [01:46<00:00,  5.85it/s, Training Acc=0.977, Training Loss=0.0438]\n",
      "100%|████████████████████████████████████████████████████████████████████████████████| 157/157 [00:24<00:00,  6.39it/s]\n"
     ]
    },
    {
     "name": "stdout",
     "output_type": "stream",
     "text": [
      "Epoch : [68] Val Loss : [0.1230378206107457] Val ACC : [0.9549]\n"
     ]
    },
    {
     "name": "stderr",
     "output_type": "stream",
     "text": [
      "100%|██████████████████████████████████████| 625/625 [01:47<00:00,  5.84it/s, Training Acc=0.977, Training Loss=0.0431]\n",
      "100%|████████████████████████████████████████████████████████████████████████████████| 157/157 [00:24<00:00,  6.34it/s]\n"
     ]
    },
    {
     "name": "stdout",
     "output_type": "stream",
     "text": [
      "Epoch : [69] Val Loss : [0.1249224509017625] Val ACC : [0.9571]\n"
     ]
    },
    {
     "name": "stderr",
     "output_type": "stream",
     "text": [
      "100%|██████████████████████████████████████| 625/625 [01:46<00:00,  5.84it/s, Training Acc=0.977, Training Loss=0.0441]\n",
      "100%|████████████████████████████████████████████████████████████████████████████████| 157/157 [00:24<00:00,  6.36it/s]\n"
     ]
    },
    {
     "name": "stdout",
     "output_type": "stream",
     "text": [
      "Epoch : [70] Val Loss : [0.12553838095598066] Val ACC : [0.9565]\n",
      "======== 4fold Training ========\n"
     ]
    },
    {
     "name": "stderr",
     "output_type": "stream",
     "text": [
      "100%|████████████████████████████████████████| 625/625 [03:26<00:00,  3.02it/s, Training Acc=0.638, Training Loss=1.53]\n",
      "100%|████████████████████████████████████████████████████████████████████████████████| 157/157 [00:31<00:00,  4.92it/s]\n"
     ]
    },
    {
     "name": "stdout",
     "output_type": "stream",
     "text": [
      "Epoch : [1] Val Loss : [0.7361588755230994] Val ACC : [0.7797]\n"
     ]
    },
    {
     "name": "stderr",
     "output_type": "stream",
     "text": [
      "100%|███████████████████████████████████████| 625/625 [03:27<00:00,  3.01it/s, Training Acc=0.809, Training Loss=0.645]\n",
      "100%|████████████████████████████████████████████████████████████████████████████████| 157/157 [00:31<00:00,  4.93it/s]\n"
     ]
    },
    {
     "name": "stdout",
     "output_type": "stream",
     "text": [
      "Epoch : [2] Val Loss : [0.49973088194420384] Val ACC : [0.8453]\n"
     ]
    },
    {
     "name": "stderr",
     "output_type": "stream",
     "text": [
      "100%|███████████████████████████████████████| 625/625 [03:27<00:00,  3.02it/s, Training Acc=0.851, Training Loss=0.482]\n",
      "100%|████████████████████████████████████████████████████████████████████████████████| 157/157 [00:32<00:00,  4.90it/s]\n"
     ]
    },
    {
     "name": "stdout",
     "output_type": "stream",
     "text": [
      "Epoch : [3] Val Loss : [0.38719756474160844] Val ACC : [0.8769]\n"
     ]
    },
    {
     "name": "stderr",
     "output_type": "stream",
     "text": [
      "100%|████████████████████████████████████████| 625/625 [03:27<00:00,  3.02it/s, Training Acc=0.875, Training Loss=0.39]\n",
      "100%|████████████████████████████████████████████████████████████████████████████████| 157/157 [00:32<00:00,  4.90it/s]\n"
     ]
    },
    {
     "name": "stdout",
     "output_type": "stream",
     "text": [
      "Epoch : [4] Val Loss : [0.33352048353404756] Val ACC : [0.8908]\n"
     ]
    },
    {
     "name": "stderr",
     "output_type": "stream",
     "text": [
      "100%|███████████████████████████████████████| 625/625 [03:27<00:00,  3.01it/s, Training Acc=0.889, Training Loss=0.335]\n",
      "100%|████████████████████████████████████████████████████████████████████████████████| 157/157 [00:31<00:00,  4.94it/s]\n"
     ]
    },
    {
     "name": "stdout",
     "output_type": "stream",
     "text": [
      "Epoch : [5] Val Loss : [0.2971512438242982] Val ACC : [0.9058]\n"
     ]
    },
    {
     "name": "stderr",
     "output_type": "stream",
     "text": [
      "100%|█████████████████████████████████████████| 625/625 [03:27<00:00,  3.02it/s, Training Acc=0.9, Training Loss=0.296]\n",
      "100%|████████████████████████████████████████████████████████████████████████████████| 157/157 [00:32<00:00,  4.88it/s]\n"
     ]
    },
    {
     "name": "stdout",
     "output_type": "stream",
     "text": [
      "Epoch : [6] Val Loss : [0.2750966810876397] Val ACC : [0.906]\n"
     ]
    },
    {
     "name": "stderr",
     "output_type": "stream",
     "text": [
      "100%|███████████████████████████████████████| 625/625 [03:27<00:00,  3.02it/s, Training Acc=0.906, Training Loss=0.271]\n",
      "100%|████████████████████████████████████████████████████████████████████████████████| 157/157 [00:32<00:00,  4.88it/s]\n"
     ]
    },
    {
     "name": "stdout",
     "output_type": "stream",
     "text": [
      "Epoch : [7] Val Loss : [0.2697980912390408] Val ACC : [0.9114]\n"
     ]
    },
    {
     "name": "stderr",
     "output_type": "stream",
     "text": [
      "100%|███████████████████████████████████████| 625/625 [03:26<00:00,  3.02it/s, Training Acc=0.914, Training Loss=0.246]\n",
      "100%|████████████████████████████████████████████████████████████████████████████████| 157/157 [00:32<00:00,  4.83it/s]\n"
     ]
    },
    {
     "name": "stdout",
     "output_type": "stream",
     "text": [
      "Epoch : [8] Val Loss : [0.2465562723861758] Val ACC : [0.9164]\n"
     ]
    },
    {
     "name": "stderr",
     "output_type": "stream",
     "text": [
      "100%|███████████████████████████████████████| 625/625 [03:27<00:00,  3.02it/s, Training Acc=0.918, Training Loss=0.231]\n",
      "100%|████████████████████████████████████████████████████████████████████████████████| 157/157 [00:31<00:00,  4.96it/s]\n"
     ]
    },
    {
     "name": "stdout",
     "output_type": "stream",
     "text": [
      "Epoch : [9] Val Loss : [0.22881387259550157] Val ACC : [0.9246]\n"
     ]
    },
    {
     "name": "stderr",
     "output_type": "stream",
     "text": [
      "100%|███████████████████████████████████████| 625/625 [03:27<00:00,  3.02it/s, Training Acc=0.924, Training Loss=0.205]\n",
      "100%|████████████████████████████████████████████████████████████████████████████████| 157/157 [00:31<00:00,  4.93it/s]\n"
     ]
    },
    {
     "name": "stdout",
     "output_type": "stream",
     "text": [
      "Epoch : [10] Val Loss : [0.2228724416226718] Val ACC : [0.9241]\n"
     ]
    },
    {
     "name": "stderr",
     "output_type": "stream",
     "text": [
      "100%|███████████████████████████████████████| 625/625 [03:26<00:00,  3.02it/s, Training Acc=0.925, Training Loss=0.203]\n",
      "100%|████████████████████████████████████████████████████████████████████████████████| 157/157 [00:32<00:00,  4.89it/s]\n"
     ]
    },
    {
     "name": "stdout",
     "output_type": "stream",
     "text": [
      "Epoch : [11] Val Loss : [0.2149068904910118] Val ACC : [0.9261]\n"
     ]
    },
    {
     "name": "stderr",
     "output_type": "stream",
     "text": [
      "100%|███████████████████████████████████████| 625/625 [03:27<00:00,  3.02it/s, Training Acc=0.928, Training Loss=0.188]\n",
      "100%|████████████████████████████████████████████████████████████████████████████████| 157/157 [00:32<00:00,  4.87it/s]\n"
     ]
    },
    {
     "name": "stdout",
     "output_type": "stream",
     "text": [
      "Epoch : [12] Val Loss : [0.21627658036104433] Val ACC : [0.9258]\n"
     ]
    },
    {
     "name": "stderr",
     "output_type": "stream",
     "text": [
      "100%|████████████████████████████████████████| 625/625 [03:27<00:00,  3.02it/s, Training Acc=0.93, Training Loss=0.178]\n",
      "100%|████████████████████████████████████████████████████████████████████████████████| 157/157 [00:32<00:00,  4.89it/s]\n"
     ]
    },
    {
     "name": "stdout",
     "output_type": "stream",
     "text": [
      "Epoch : [13] Val Loss : [0.20717451375001555] Val ACC : [0.9293]\n"
     ]
    },
    {
     "name": "stderr",
     "output_type": "stream",
     "text": [
      "100%|███████████████████████████████████████| 625/625 [03:27<00:00,  3.02it/s, Training Acc=0.934, Training Loss=0.166]\n",
      "100%|████████████████████████████████████████████████████████████████████████████████| 157/157 [00:32<00:00,  4.85it/s]\n"
     ]
    },
    {
     "name": "stdout",
     "output_type": "stream",
     "text": [
      "Epoch : [14] Val Loss : [0.1990152385180733] Val ACC : [0.931]\n"
     ]
    },
    {
     "name": "stderr",
     "output_type": "stream",
     "text": [
      "100%|███████████████████████████████████████| 625/625 [03:27<00:00,  3.02it/s, Training Acc=0.937, Training Loss=0.155]\n",
      "100%|████████████████████████████████████████████████████████████████████████████████| 157/157 [00:32<00:00,  4.88it/s]\n"
     ]
    },
    {
     "name": "stdout",
     "output_type": "stream",
     "text": [
      "Epoch : [15] Val Loss : [0.2028628166551423] Val ACC : [0.9305]\n"
     ]
    },
    {
     "name": "stderr",
     "output_type": "stream",
     "text": [
      "100%|███████████████████████████████████████| 625/625 [03:26<00:00,  3.02it/s, Training Acc=0.938, Training Loss=0.152]\n",
      "100%|████████████████████████████████████████████████████████████████████████████████| 157/157 [00:31<00:00,  4.93it/s]\n"
     ]
    },
    {
     "name": "stdout",
     "output_type": "stream",
     "text": [
      "Epoch : [16] Val Loss : [0.20038014325271747] Val ACC : [0.934]\n"
     ]
    },
    {
     "name": "stderr",
     "output_type": "stream",
     "text": [
      "100%|████████████████████████████████████████| 625/625 [03:27<00:00,  3.02it/s, Training Acc=0.94, Training Loss=0.144]\n",
      "100%|████████████████████████████████████████████████████████████████████████████████| 157/157 [00:32<00:00,  4.88it/s]\n"
     ]
    },
    {
     "name": "stdout",
     "output_type": "stream",
     "text": [
      "Epoch : [17] Val Loss : [0.19359204488076792] Val ACC : [0.9319]\n"
     ]
    },
    {
     "name": "stderr",
     "output_type": "stream",
     "text": [
      "100%|████████████████████████████████████████| 625/625 [03:27<00:00,  3.02it/s, Training Acc=0.943, Training Loss=0.14]\n",
      "100%|████████████████████████████████████████████████████████████████████████████████| 157/157 [00:32<00:00,  4.90it/s]\n"
     ]
    },
    {
     "name": "stdout",
     "output_type": "stream",
     "text": [
      "Epoch : [18] Val Loss : [0.18814565887923834] Val ACC : [0.9355]\n"
     ]
    },
    {
     "name": "stderr",
     "output_type": "stream",
     "text": [
      "100%|███████████████████████████████████████| 625/625 [03:27<00:00,  3.01it/s, Training Acc=0.944, Training Loss=0.131]\n",
      "100%|████████████████████████████████████████████████████████████████████████████████| 157/157 [00:32<00:00,  4.87it/s]\n"
     ]
    },
    {
     "name": "stdout",
     "output_type": "stream",
     "text": [
      "Epoch : [19] Val Loss : [0.1852340672971906] Val ACC : [0.9374]\n"
     ]
    },
    {
     "name": "stderr",
     "output_type": "stream",
     "text": [
      "100%|███████████████████████████████████████| 625/625 [03:27<00:00,  3.02it/s, Training Acc=0.946, Training Loss=0.129]\n",
      "100%|████████████████████████████████████████████████████████████████████████████████| 157/157 [00:31<00:00,  4.91it/s]\n"
     ]
    },
    {
     "name": "stdout",
     "output_type": "stream",
     "text": [
      "Epoch : [20] Val Loss : [0.1917601661032932] Val ACC : [0.9354]\n"
     ]
    },
    {
     "name": "stderr",
     "output_type": "stream",
     "text": [
      "100%|███████████████████████████████████████| 625/625 [03:27<00:00,  3.02it/s, Training Acc=0.948, Training Loss=0.118]\n",
      "100%|████████████████████████████████████████████████████████████████████████████████| 157/157 [00:32<00:00,  4.86it/s]\n"
     ]
    },
    {
     "name": "stdout",
     "output_type": "stream",
     "text": [
      "Epoch : [21] Val Loss : [0.1943207225364864] Val ACC : [0.9332]\n"
     ]
    },
    {
     "name": "stderr",
     "output_type": "stream",
     "text": [
      "100%|███████████████████████████████████████| 625/625 [03:27<00:00,  3.02it/s, Training Acc=0.949, Training Loss=0.118]\n",
      "100%|████████████████████████████████████████████████████████████████████████████████| 157/157 [00:32<00:00,  4.88it/s]\n"
     ]
    },
    {
     "name": "stdout",
     "output_type": "stream",
     "text": [
      "Epoch : [22] Val Loss : [0.1817767762335812] Val ACC : [0.936]\n"
     ]
    },
    {
     "name": "stderr",
     "output_type": "stream",
     "text": [
      "100%|████████████████████████████████████████| 625/625 [03:27<00:00,  3.02it/s, Training Acc=0.951, Training Loss=0.11]\n",
      "100%|████████████████████████████████████████████████████████████████████████████████| 157/157 [00:32<00:00,  4.88it/s]\n"
     ]
    },
    {
     "name": "stdout",
     "output_type": "stream",
     "text": [
      "Epoch : [23] Val Loss : [0.1776972609767868] Val ACC : [0.9356]\n"
     ]
    },
    {
     "name": "stderr",
     "output_type": "stream",
     "text": [
      "100%|███████████████████████████████████████| 625/625 [03:27<00:00,  3.02it/s, Training Acc=0.953, Training Loss=0.104]\n",
      "100%|████████████████████████████████████████████████████████████████████████████████| 157/157 [00:31<00:00,  4.91it/s]\n"
     ]
    },
    {
     "name": "stdout",
     "output_type": "stream",
     "text": [
      "Epoch : [24] Val Loss : [0.17639465268203028] Val ACC : [0.9391]\n"
     ]
    },
    {
     "name": "stderr",
     "output_type": "stream",
     "text": [
      "100%|██████████████████████████████████████| 625/625 [03:27<00:00,  3.01it/s, Training Acc=0.955, Training Loss=0.0991]\n",
      "100%|████████████████████████████████████████████████████████████████████████████████| 157/157 [00:32<00:00,  4.83it/s]\n"
     ]
    },
    {
     "name": "stdout",
     "output_type": "stream",
     "text": [
      "Epoch : [25] Val Loss : [0.1885727949108288] Val ACC : [0.9372]\n"
     ]
    },
    {
     "name": "stderr",
     "output_type": "stream",
     "text": [
      "100%|███████████████████████████████████████| 625/625 [03:26<00:00,  3.02it/s, Training Acc=0.954, Training Loss=0.101]\n",
      "100%|████████████████████████████████████████████████████████████████████████████████| 157/157 [00:32<00:00,  4.85it/s]\n"
     ]
    },
    {
     "name": "stdout",
     "output_type": "stream",
     "text": [
      "Epoch : [26] Val Loss : [0.1801580174523554] Val ACC : [0.9398]\n"
     ]
    },
    {
     "name": "stderr",
     "output_type": "stream",
     "text": [
      "100%|██████████████████████████████████████| 625/625 [03:27<00:00,  3.02it/s, Training Acc=0.955, Training Loss=0.0988]\n",
      "100%|████████████████████████████████████████████████████████████████████████████████| 157/157 [00:32<00:00,  4.88it/s]\n"
     ]
    },
    {
     "name": "stdout",
     "output_type": "stream",
     "text": [
      "Epoch : [27] Val Loss : [0.17139128062897807] Val ACC : [0.9393]\n"
     ]
    },
    {
     "name": "stderr",
     "output_type": "stream",
     "text": [
      "100%|██████████████████████████████████████| 625/625 [03:27<00:00,  3.01it/s, Training Acc=0.958, Training Loss=0.0898]\n",
      "100%|████████████████████████████████████████████████████████████████████████████████| 157/157 [00:32<00:00,  4.86it/s]\n"
     ]
    },
    {
     "name": "stdout",
     "output_type": "stream",
     "text": [
      "Epoch : [28] Val Loss : [0.17168562244742538] Val ACC : [0.9366]\n"
     ]
    },
    {
     "name": "stderr",
     "output_type": "stream",
     "text": [
      "100%|███████████████████████████████████████| 625/625 [03:27<00:00,  3.01it/s, Training Acc=0.96, Training Loss=0.0844]\n",
      "100%|████████████████████████████████████████████████████████████████████████████████| 157/157 [00:32<00:00,  4.85it/s]\n"
     ]
    },
    {
     "name": "stdout",
     "output_type": "stream",
     "text": [
      "Epoch : [29] Val Loss : [0.17637652946505578] Val ACC : [0.9428]\n"
     ]
    },
    {
     "name": "stderr",
     "output_type": "stream",
     "text": [
      "100%|██████████████████████████████████████| 625/625 [03:27<00:00,  3.01it/s, Training Acc=0.961, Training Loss=0.0797]\n",
      "100%|████████████████████████████████████████████████████████████████████████████████| 157/157 [00:32<00:00,  4.89it/s]\n"
     ]
    },
    {
     "name": "stdout",
     "output_type": "stream",
     "text": [
      "Epoch : [30] Val Loss : [0.1886218387609834] Val ACC : [0.9357]\n"
     ]
    },
    {
     "name": "stderr",
     "output_type": "stream",
     "text": [
      "100%|██████████████████████████████████████| 625/625 [03:27<00:00,  3.01it/s, Training Acc=0.961, Training Loss=0.0815]\n",
      "100%|████████████████████████████████████████████████████████████████████████████████| 157/157 [00:32<00:00,  4.84it/s]\n"
     ]
    },
    {
     "name": "stdout",
     "output_type": "stream",
     "text": [
      "Epoch : [31] Val Loss : [0.18706998079540624] Val ACC : [0.9401]\n"
     ]
    },
    {
     "name": "stderr",
     "output_type": "stream",
     "text": [
      "100%|██████████████████████████████████████| 625/625 [03:27<00:00,  3.02it/s, Training Acc=0.961, Training Loss=0.0771]\n",
      "100%|████████████████████████████████████████████████████████████████████████████████| 157/157 [00:32<00:00,  4.87it/s]\n"
     ]
    },
    {
     "name": "stdout",
     "output_type": "stream",
     "text": [
      "Epoch : [32] Val Loss : [0.17824975576156835] Val ACC : [0.9442]\n"
     ]
    },
    {
     "name": "stderr",
     "output_type": "stream",
     "text": [
      "100%|██████████████████████████████████████| 625/625 [03:26<00:00,  3.02it/s, Training Acc=0.963, Training Loss=0.0754]\n",
      "100%|████████████████████████████████████████████████████████████████████████████████| 157/157 [00:32<00:00,  4.89it/s]\n"
     ]
    },
    {
     "name": "stdout",
     "output_type": "stream",
     "text": [
      "Epoch : [33] Val Loss : [0.18803064385725624] Val ACC : [0.9361]\n"
     ]
    },
    {
     "name": "stderr",
     "output_type": "stream",
     "text": [
      "100%|██████████████████████████████████████| 625/625 [03:26<00:00,  3.02it/s, Training Acc=0.963, Training Loss=0.0741]\n",
      "100%|████████████████████████████████████████████████████████████████████████████████| 157/157 [00:32<00:00,  4.89it/s]\n"
     ]
    },
    {
     "name": "stdout",
     "output_type": "stream",
     "text": [
      "Epoch : [34] Val Loss : [0.18774514849398546] Val ACC : [0.9421]\n"
     ]
    },
    {
     "name": "stderr",
     "output_type": "stream",
     "text": [
      "100%|██████████████████████████████████████| 625/625 [03:26<00:00,  3.02it/s, Training Acc=0.965, Training Loss=0.0686]\n",
      "100%|████████████████████████████████████████████████████████████████████████████████| 157/157 [00:32<00:00,  4.91it/s]\n"
     ]
    },
    {
     "name": "stdout",
     "output_type": "stream",
     "text": [
      "Epoch : [35] Val Loss : [0.1948926210000067] Val ACC : [0.9395]\n"
     ]
    },
    {
     "name": "stderr",
     "output_type": "stream",
     "text": [
      "100%|████████████████████████████████████████| 625/625 [03:13<00:00,  3.23it/s, Training Acc=0.509, Training Loss=1.22]\n",
      "100%|████████████████████████████████████████████████████████████████████████████████| 157/157 [00:24<00:00,  6.37it/s]\n"
     ]
    },
    {
     "name": "stdout",
     "output_type": "stream",
     "text": [
      "Epoch : [36] Val Loss : [0.18180700669148167] Val ACC : [0.9453]\n"
     ]
    },
    {
     "name": "stderr",
     "output_type": "stream",
     "text": [
      "100%|████████████████████████████████████████| 625/625 [03:13<00:00,  3.23it/s, Training Acc=0.513, Training Loss=1.01]\n",
      "100%|████████████████████████████████████████████████████████████████████████████████| 157/157 [00:24<00:00,  6.35it/s]\n"
     ]
    },
    {
     "name": "stdout",
     "output_type": "stream",
     "text": [
      "Epoch : [37] Val Loss : [0.16319229631761836] Val ACC : [0.9475]\n"
     ]
    },
    {
     "name": "stderr",
     "output_type": "stream",
     "text": [
      "100%|███████████████████████████████████████| 625/625 [03:13<00:00,  3.23it/s, Training Acc=0.519, Training Loss=0.939]\n",
      "100%|████████████████████████████████████████████████████████████████████████████████| 157/157 [00:24<00:00,  6.41it/s]\n"
     ]
    },
    {
     "name": "stdout",
     "output_type": "stream",
     "text": [
      "Epoch : [38] Val Loss : [0.16406801079583774] Val ACC : [0.9465]\n"
     ]
    },
    {
     "name": "stderr",
     "output_type": "stream",
     "text": [
      "100%|███████████████████████████████████████| 625/625 [03:13<00:00,  3.23it/s, Training Acc=0.532, Training Loss=0.876]\n",
      "100%|████████████████████████████████████████████████████████████████████████████████| 157/157 [00:24<00:00,  6.40it/s]\n"
     ]
    },
    {
     "name": "stdout",
     "output_type": "stream",
     "text": [
      "Epoch : [39] Val Loss : [0.14172661306846673] Val ACC : [0.9509]\n"
     ]
    },
    {
     "name": "stderr",
     "output_type": "stream",
     "text": [
      "100%|████████████████████████████████████████| 625/625 [03:13<00:00,  3.23it/s, Training Acc=0.55, Training Loss=0.834]\n",
      "100%|████████████████████████████████████████████████████████████████████████████████| 157/157 [00:24<00:00,  6.38it/s]\n"
     ]
    },
    {
     "name": "stdout",
     "output_type": "stream",
     "text": [
      "Epoch : [40] Val Loss : [0.14781465915263078] Val ACC : [0.9494]\n"
     ]
    },
    {
     "name": "stderr",
     "output_type": "stream",
     "text": [
      "100%|███████████████████████████████████████| 625/625 [03:13<00:00,  3.23it/s, Training Acc=0.529, Training Loss=0.808]\n",
      "100%|████████████████████████████████████████████████████████████████████████████████| 157/157 [00:24<00:00,  6.36it/s]\n"
     ]
    },
    {
     "name": "stdout",
     "output_type": "stream",
     "text": [
      "Epoch : [41] Val Loss : [0.14352002247551066] Val ACC : [0.9524]\n"
     ]
    },
    {
     "name": "stderr",
     "output_type": "stream",
     "text": [
      "100%|███████████████████████████████████████| 625/625 [03:13<00:00,  3.23it/s, Training Acc=0.524, Training Loss=0.795]\n",
      "100%|████████████████████████████████████████████████████████████████████████████████| 157/157 [00:24<00:00,  6.36it/s]\n"
     ]
    },
    {
     "name": "stdout",
     "output_type": "stream",
     "text": [
      "Epoch : [42] Val Loss : [0.1390284918557117] Val ACC : [0.9501]\n"
     ]
    },
    {
     "name": "stderr",
     "output_type": "stream",
     "text": [
      "100%|███████████████████████████████████████| 625/625 [03:13<00:00,  3.23it/s, Training Acc=0.521, Training Loss=0.761]\n",
      "100%|████████████████████████████████████████████████████████████████████████████████| 157/157 [00:24<00:00,  6.37it/s]\n"
     ]
    },
    {
     "name": "stdout",
     "output_type": "stream",
     "text": [
      "Epoch : [43] Val Loss : [0.130694082077996] Val ACC : [0.95]\n"
     ]
    },
    {
     "name": "stderr",
     "output_type": "stream",
     "text": [
      "100%|███████████████████████████████████████| 625/625 [03:13<00:00,  3.23it/s, Training Acc=0.516, Training Loss=0.731]\n",
      "100%|████████████████████████████████████████████████████████████████████████████████| 157/157 [00:24<00:00,  6.34it/s]\n"
     ]
    },
    {
     "name": "stdout",
     "output_type": "stream",
     "text": [
      "Epoch : [44] Val Loss : [0.13934282779361412] Val ACC : [0.9506]\n"
     ]
    },
    {
     "name": "stderr",
     "output_type": "stream",
     "text": [
      "100%|███████████████████████████████████████| 625/625 [03:13<00:00,  3.23it/s, Training Acc=0.534, Training Loss=0.716]\n",
      "100%|████████████████████████████████████████████████████████████████████████████████| 157/157 [00:24<00:00,  6.35it/s]\n"
     ]
    },
    {
     "name": "stdout",
     "output_type": "stream",
     "text": [
      "Epoch : [45] Val Loss : [0.13642302008381316] Val ACC : [0.953]\n"
     ]
    },
    {
     "name": "stderr",
     "output_type": "stream",
     "text": [
      "100%|█████████████████████████████████████████| 625/625 [03:13<00:00,  3.23it/s, Training Acc=0.507, Training Loss=0.7]\n",
      "100%|████████████████████████████████████████████████████████████████████████████████| 157/157 [00:24<00:00,  6.40it/s]\n"
     ]
    },
    {
     "name": "stdout",
     "output_type": "stream",
     "text": [
      "Epoch : [46] Val Loss : [0.12304684734505833] Val ACC : [0.9549]\n"
     ]
    },
    {
     "name": "stderr",
     "output_type": "stream",
     "text": [
      "100%|███████████████████████████████████████| 625/625 [03:13<00:00,  3.23it/s, Training Acc=0.533, Training Loss=0.715]\n",
      "100%|████████████████████████████████████████████████████████████████████████████████| 157/157 [00:24<00:00,  6.39it/s]\n"
     ]
    },
    {
     "name": "stdout",
     "output_type": "stream",
     "text": [
      "Epoch : [47] Val Loss : [0.125831199062478] Val ACC : [0.9533]\n"
     ]
    },
    {
     "name": "stderr",
     "output_type": "stream",
     "text": [
      "100%|███████████████████████████████████████| 625/625 [03:13<00:00,  3.23it/s, Training Acc=0.526, Training Loss=0.681]\n",
      "100%|████████████████████████████████████████████████████████████████████████████████| 157/157 [00:24<00:00,  6.39it/s]\n"
     ]
    },
    {
     "name": "stdout",
     "output_type": "stream",
     "text": [
      "Epoch : [48] Val Loss : [0.1264065251727203] Val ACC : [0.9527]\n"
     ]
    },
    {
     "name": "stderr",
     "output_type": "stream",
     "text": [
      "100%|███████████████████████████████████████| 625/625 [03:14<00:00,  3.22it/s, Training Acc=0.541, Training Loss=0.672]\n",
      "100%|████████████████████████████████████████████████████████████████████████████████| 157/157 [00:24<00:00,  6.38it/s]\n"
     ]
    },
    {
     "name": "stdout",
     "output_type": "stream",
     "text": [
      "Epoch : [49] Val Loss : [0.12590819942486134] Val ACC : [0.9547]\n"
     ]
    },
    {
     "name": "stderr",
     "output_type": "stream",
     "text": [
      "100%|███████████████████████████████████████| 625/625 [03:13<00:00,  3.23it/s, Training Acc=0.551, Training Loss=0.662]\n",
      "100%|████████████████████████████████████████████████████████████████████████████████| 157/157 [00:24<00:00,  6.35it/s]\n"
     ]
    },
    {
     "name": "stdout",
     "output_type": "stream",
     "text": [
      "Epoch : [50] Val Loss : [0.11884636666839289] Val ACC : [0.9557]\n"
     ]
    },
    {
     "name": "stderr",
     "output_type": "stream",
     "text": [
      "100%|███████████████████████████████████████| 625/625 [03:13<00:00,  3.23it/s, Training Acc=0.549, Training Loss=0.665]\n",
      "100%|████████████████████████████████████████████████████████████████████████████████| 157/157 [00:24<00:00,  6.43it/s]\n"
     ]
    },
    {
     "name": "stdout",
     "output_type": "stream",
     "text": [
      "Epoch : [51] Val Loss : [0.12361169838981265] Val ACC : [0.9558]\n"
     ]
    },
    {
     "name": "stderr",
     "output_type": "stream",
     "text": [
      "100%|████████████████████████████████████████| 625/625 [03:13<00:00,  3.23it/s, Training Acc=0.55, Training Loss=0.651]\n",
      "100%|████████████████████████████████████████████████████████████████████████████████| 157/157 [00:24<00:00,  6.41it/s]\n"
     ]
    },
    {
     "name": "stdout",
     "output_type": "stream",
     "text": [
      "Epoch : [52] Val Loss : [0.1254902012100455] Val ACC : [0.9561]\n"
     ]
    },
    {
     "name": "stderr",
     "output_type": "stream",
     "text": [
      "100%|███████████████████████████████████████| 625/625 [03:13<00:00,  3.23it/s, Training Acc=0.543, Training Loss=0.632]\n",
      "100%|████████████████████████████████████████████████████████████████████████████████| 157/157 [00:24<00:00,  6.37it/s]\n"
     ]
    },
    {
     "name": "stdout",
     "output_type": "stream",
     "text": [
      "Epoch : [53] Val Loss : [0.12418252990171788] Val ACC : [0.9558]\n"
     ]
    },
    {
     "name": "stderr",
     "output_type": "stream",
     "text": [
      "100%|███████████████████████████████████████| 625/625 [03:13<00:00,  3.23it/s, Training Acc=0.514, Training Loss=0.635]\n",
      "100%|████████████████████████████████████████████████████████████████████████████████| 157/157 [00:24<00:00,  6.38it/s]\n"
     ]
    },
    {
     "name": "stdout",
     "output_type": "stream",
     "text": [
      "Epoch : [54] Val Loss : [0.1251217474105062] Val ACC : [0.9531]\n"
     ]
    },
    {
     "name": "stderr",
     "output_type": "stream",
     "text": [
      "100%|███████████████████████████████████████| 625/625 [03:13<00:00,  3.23it/s, Training Acc=0.544, Training Loss=0.631]\n",
      "100%|████████████████████████████████████████████████████████████████████████████████| 157/157 [00:24<00:00,  6.39it/s]\n"
     ]
    },
    {
     "name": "stdout",
     "output_type": "stream",
     "text": [
      "Epoch : [55] Val Loss : [0.12100018056667154] Val ACC : [0.9511]\n"
     ]
    },
    {
     "name": "stderr",
     "output_type": "stream",
     "text": [
      "100%|███████████████████████████████████████| 625/625 [03:13<00:00,  3.23it/s, Training Acc=0.553, Training Loss=0.604]\n",
      "100%|████████████████████████████████████████████████████████████████████████████████| 157/157 [00:24<00:00,  6.36it/s]\n"
     ]
    },
    {
     "name": "stdout",
     "output_type": "stream",
     "text": [
      "Epoch : [56] Val Loss : [0.11789840437282043] Val ACC : [0.9551]\n"
     ]
    },
    {
     "name": "stderr",
     "output_type": "stream",
     "text": [
      "100%|████████████████████████████████████████| 625/625 [03:13<00:00,  3.23it/s, Training Acc=0.527, Training Loss=0.62]\n",
      "100%|████████████████████████████████████████████████████████████████████████████████| 157/157 [00:24<00:00,  6.34it/s]\n"
     ]
    },
    {
     "name": "stdout",
     "output_type": "stream",
     "text": [
      "Epoch : [57] Val Loss : [0.1233791220150176] Val ACC : [0.956]\n"
     ]
    },
    {
     "name": "stderr",
     "output_type": "stream",
     "text": [
      "100%|███████████████████████████████████████| 625/625 [03:13<00:00,  3.23it/s, Training Acc=0.553, Training Loss=0.609]\n",
      "100%|████████████████████████████████████████████████████████████████████████████████| 157/157 [00:24<00:00,  6.38it/s]\n"
     ]
    },
    {
     "name": "stdout",
     "output_type": "stream",
     "text": [
      "Epoch : [58] Val Loss : [0.11551283188401514] Val ACC : [0.9559]\n"
     ]
    },
    {
     "name": "stderr",
     "output_type": "stream",
     "text": [
      "100%|████████████████████████████████████████| 625/625 [03:13<00:00,  3.23it/s, Training Acc=0.56, Training Loss=0.604]\n",
      "100%|████████████████████████████████████████████████████████████████████████████████| 157/157 [00:24<00:00,  6.35it/s]\n"
     ]
    },
    {
     "name": "stdout",
     "output_type": "stream",
     "text": [
      "Epoch : [59] Val Loss : [0.11652326163877348] Val ACC : [0.9548]\n"
     ]
    },
    {
     "name": "stderr",
     "output_type": "stream",
     "text": [
      "100%|███████████████████████████████████████| 625/625 [03:13<00:00,  3.23it/s, Training Acc=0.535, Training Loss=0.588]\n",
      "100%|████████████████████████████████████████████████████████████████████████████████| 157/157 [00:24<00:00,  6.38it/s]\n"
     ]
    },
    {
     "name": "stdout",
     "output_type": "stream",
     "text": [
      "Epoch : [60] Val Loss : [0.10884455322127813] Val ACC : [0.9569]\n"
     ]
    },
    {
     "name": "stderr",
     "output_type": "stream",
     "text": [
      "100%|██████████████████████████████████████| 625/625 [01:46<00:00,  5.86it/s, Training Acc=0.973, Training Loss=0.0595]\n",
      "100%|████████████████████████████████████████████████████████████████████████████████| 157/157 [00:24<00:00,  6.37it/s]\n"
     ]
    },
    {
     "name": "stdout",
     "output_type": "stream",
     "text": [
      "Epoch : [61] Val Loss : [0.10446791085088329] Val ACC : [0.9582]\n"
     ]
    },
    {
     "name": "stderr",
     "output_type": "stream",
     "text": [
      "100%|██████████████████████████████████████| 625/625 [01:46<00:00,  5.85it/s, Training Acc=0.975, Training Loss=0.0546]\n",
      "100%|████████████████████████████████████████████████████████████████████████████████| 157/157 [00:24<00:00,  6.34it/s]\n"
     ]
    },
    {
     "name": "stdout",
     "output_type": "stream",
     "text": [
      "Epoch : [62] Val Loss : [0.10411387241214135] Val ACC : [0.9592]\n"
     ]
    },
    {
     "name": "stderr",
     "output_type": "stream",
     "text": [
      "100%|██████████████████████████████████████| 625/625 [01:47<00:00,  5.84it/s, Training Acc=0.975, Training Loss=0.0534]\n",
      "100%|████████████████████████████████████████████████████████████████████████████████| 157/157 [00:24<00:00,  6.33it/s]\n"
     ]
    },
    {
     "name": "stdout",
     "output_type": "stream",
     "text": [
      "Epoch : [63] Val Loss : [0.10027334466576576] Val ACC : [0.9605]\n"
     ]
    },
    {
     "name": "stderr",
     "output_type": "stream",
     "text": [
      "100%|██████████████████████████████████████| 625/625 [01:47<00:00,  5.82it/s, Training Acc=0.976, Training Loss=0.0505]\n",
      "100%|████████████████████████████████████████████████████████████████████████████████| 157/157 [00:24<00:00,  6.37it/s]\n"
     ]
    },
    {
     "name": "stdout",
     "output_type": "stream",
     "text": [
      "Epoch : [64] Val Loss : [0.10223084591495193] Val ACC : [0.9592]\n"
     ]
    },
    {
     "name": "stderr",
     "output_type": "stream",
     "text": [
      "100%|██████████████████████████████████████| 625/625 [01:46<00:00,  5.86it/s, Training Acc=0.976, Training Loss=0.0492]\n",
      "100%|████████████████████████████████████████████████████████████████████████████████| 157/157 [00:24<00:00,  6.37it/s]\n"
     ]
    },
    {
     "name": "stdout",
     "output_type": "stream",
     "text": [
      "Epoch : [65] Val Loss : [0.10304446495286408] Val ACC : [0.9604]\n"
     ]
    },
    {
     "name": "stderr",
     "output_type": "stream",
     "text": [
      "100%|██████████████████████████████████████| 625/625 [01:46<00:00,  5.86it/s, Training Acc=0.975, Training Loss=0.0492]\n",
      "100%|████████████████████████████████████████████████████████████████████████████████| 157/157 [00:24<00:00,  6.36it/s]\n"
     ]
    },
    {
     "name": "stdout",
     "output_type": "stream",
     "text": [
      "Epoch : [66] Val Loss : [0.1018656721148806] Val ACC : [0.9593]\n"
     ]
    },
    {
     "name": "stderr",
     "output_type": "stream",
     "text": [
      "100%|██████████████████████████████████████| 625/625 [01:46<00:00,  5.87it/s, Training Acc=0.976, Training Loss=0.0475]\n",
      "100%|████████████████████████████████████████████████████████████████████████████████| 157/157 [00:24<00:00,  6.38it/s]\n"
     ]
    },
    {
     "name": "stdout",
     "output_type": "stream",
     "text": [
      "Epoch : [67] Val Loss : [0.10000298133084348] Val ACC : [0.9593]\n"
     ]
    },
    {
     "name": "stderr",
     "output_type": "stream",
     "text": [
      "100%|██████████████████████████████████████| 625/625 [01:46<00:00,  5.86it/s, Training Acc=0.976, Training Loss=0.0468]\n",
      "100%|████████████████████████████████████████████████████████████████████████████████| 157/157 [00:24<00:00,  6.38it/s]\n"
     ]
    },
    {
     "name": "stdout",
     "output_type": "stream",
     "text": [
      "Epoch : [68] Val Loss : [0.1055156599231966] Val ACC : [0.9592]\n"
     ]
    },
    {
     "name": "stderr",
     "output_type": "stream",
     "text": [
      "100%|██████████████████████████████████████| 625/625 [01:47<00:00,  5.83it/s, Training Acc=0.975, Training Loss=0.0475]\n",
      "100%|████████████████████████████████████████████████████████████████████████████████| 157/157 [00:24<00:00,  6.36it/s]\n"
     ]
    },
    {
     "name": "stdout",
     "output_type": "stream",
     "text": [
      "Epoch : [69] Val Loss : [0.1042022155538486] Val ACC : [0.9611]\n"
     ]
    },
    {
     "name": "stderr",
     "output_type": "stream",
     "text": [
      "100%|██████████████████████████████████████| 625/625 [01:47<00:00,  5.82it/s, Training Acc=0.976, Training Loss=0.0479]\n",
      "100%|████████████████████████████████████████████████████████████████████████████████| 157/157 [00:24<00:00,  6.37it/s]"
     ]
    },
    {
     "name": "stdout",
     "output_type": "stream",
     "text": [
      "Epoch : [70] Val Loss : [0.10042011639649037] Val ACC : [0.9607]\n"
     ]
    },
    {
     "name": "stderr",
     "output_type": "stream",
     "text": [
      "\n"
     ]
    }
   ],
   "source": [
    "img_set, label_set, transform = image_label_dataset(df_path='./data/train.csv', div=0.8, grid_shuffle_p=0.8, training=False)\n",
    "kfold = StratifiedKFold(n_splits=CFG['kfold'], shuffle=True)\n",
    "for k, (train_ind, valid_ind) in enumerate(kfold.split(img_set, label_set)) :\n",
    "    model = CNN(CFG['model_name']).to(device)\n",
    "    optimizer = torch.optim.Adam(model.parameters(), \n",
    "                                 lr=CFG['LEARNING_RATE'])\n",
    "    criterion = FocalLoss(CFG['focal_alpha'], CFG['focal_gamma'])\n",
    "    \n",
    "    CFG['output'] = str(k) + 'fold_' + CFG['output']\n",
    "    CFG['LOG'] = CFG['LOG'] + '_' + str(k) + 'fold'\n",
    "    \n",
    "    data_set=((img_set[train_ind], img_set[valid_ind]), \n",
    "              (label_set[train_ind], label_set[valid_ind]))\n",
    "    \n",
    "    print(f\"======== {k}fold Training ========\")\n",
    "    training(model, optimizer, criterion, data_set, device)    "
   ]
  },
  {
   "cell_type": "code",
   "execution_count": 21,
   "id": "80faf308",
   "metadata": {},
   "outputs": [],
   "source": [
    "img_set, label_set, transform = image_label_dataset(df_path='./data/train.csv', div=0.8, grid_shuffle_p=0.8, training=True)\n",
    "# train_loader ,val_loader = train_and_valid_dataload(img_set, label_set, transform)"
   ]
  },
  {
   "cell_type": "code",
   "execution_count": 22,
   "id": "cf5f0bc2",
   "metadata": {},
   "outputs": [],
   "source": [
    "model = CNN(CFG['model_name']).to(device)\n",
    "optimizer = torch.optim.Adam(model.parameters(), \n",
    "                             lr=CFG['LEARNING_RATE'])\n",
    "criterion = FocalLoss(CFG['focal_alpha'], CFG['focal_gamma'])"
   ]
  },
  {
   "cell_type": "code",
   "execution_count": 24,
   "id": "372a2e34",
   "metadata": {
    "scrolled": false
   },
   "outputs": [
    {
     "name": "stdout",
     "output_type": "stream",
     "text": [
      "1 E pass \n",
      "2 E pass \n",
      "3 E pass \n",
      "4 E pass \n",
      "5 E pass \n",
      "6 E pass \n",
      "7 E pass \n",
      "8 E pass \n",
      "9 E pass \n",
      "10 E pass \n",
      "11 E pass \n",
      "12 E pass \n",
      "13 E pass \n",
      "14 E pass \n",
      "15 E pass \n",
      "16 E pass \n",
      "17 E pass \n",
      "18 E pass \n",
      "19 E pass \n",
      "20 E pass \n",
      "21 E pass \n",
      "22 E pass \n",
      "23 E pass \n",
      "24 E pass \n",
      "25 E pass \n",
      "26 E pass \n",
      "27 E pass \n",
      "28 E pass \n",
      "29 E pass \n",
      "30 E pass \n",
      "31 E pass \n",
      "32 E pass \n",
      "33 E pass \n",
      "34 E pass \n",
      "35 E pass \n"
     ]
    },
    {
     "name": "stderr",
     "output_type": "stream",
     "text": [
      "  2%|▉                                        | 14/625 [00:05<04:00,  2.54it/s, Training Acc=0.161, Training Loss=6.19]\n"
     ]
    },
    {
     "ename": "KeyboardInterrupt",
     "evalue": "",
     "output_type": "error",
     "traceback": [
      "\u001b[1;31m---------------------------------------------------------------------------\u001b[0m",
      "\u001b[1;31mKeyboardInterrupt\u001b[0m                         Traceback (most recent call last)",
      "Input \u001b[1;32mIn [24]\u001b[0m, in \u001b[0;36m<cell line: 1>\u001b[1;34m()\u001b[0m\n\u001b[1;32m----> 1\u001b[0m \u001b[43mtraining\u001b[49m\u001b[43m(\u001b[49m\u001b[43mmodel\u001b[49m\u001b[43m,\u001b[49m\u001b[43m \u001b[49m\u001b[43moptimizer\u001b[49m\u001b[43m,\u001b[49m\u001b[43m \u001b[49m\u001b[43mcriterion\u001b[49m\u001b[43m,\u001b[49m\u001b[43m \u001b[49m\n\u001b[0;32m      2\u001b[0m \u001b[43m         \u001b[49m\u001b[43m(\u001b[49m\u001b[43m(\u001b[49m\u001b[43mimg_set\u001b[49m\u001b[43m[\u001b[49m\u001b[38;5;241;43m0\u001b[39;49m\u001b[43m]\u001b[49m\u001b[43m,\u001b[49m\u001b[43m \u001b[49m\u001b[43mimg_set\u001b[49m\u001b[43m[\u001b[49m\u001b[38;5;241;43m1\u001b[39;49m\u001b[43m]\u001b[49m\u001b[43m)\u001b[49m\u001b[43m,\u001b[49m\u001b[43m \u001b[49m\u001b[43m(\u001b[49m\u001b[43mlabel_set\u001b[49m\u001b[43m[\u001b[49m\u001b[38;5;241;43m0\u001b[39;49m\u001b[43m]\u001b[49m\u001b[43m,\u001b[49m\u001b[43m \u001b[49m\u001b[43mlabel_set\u001b[49m\u001b[43m[\u001b[49m\u001b[38;5;241;43m1\u001b[39;49m\u001b[43m]\u001b[49m\u001b[43m)\u001b[49m\u001b[43m)\u001b[49m\u001b[43m,\u001b[49m\n\u001b[0;32m      3\u001b[0m \u001b[43m         \u001b[49m\u001b[43mdevice\u001b[49m\n\u001b[0;32m      4\u001b[0m \u001b[43m        \u001b[49m\u001b[43m)\u001b[49m\n",
      "Input \u001b[1;32mIn [17]\u001b[0m, in \u001b[0;36mtraining\u001b[1;34m(model, optimizer, criterion, data_set, device)\u001b[0m\n\u001b[0;32m     47\u001b[0m loss\u001b[38;5;241m.\u001b[39mbackward()\n\u001b[0;32m     48\u001b[0m optimizer\u001b[38;5;241m.\u001b[39mstep()\n\u001b[1;32m---> 50\u001b[0m acc \u001b[38;5;241m=\u001b[39m \u001b[43mscore\u001b[49m\u001b[43m(\u001b[49m\u001b[43mlabel\u001b[49m\u001b[43m,\u001b[49m\u001b[43m \u001b[49m\u001b[43moutput\u001b[49m\u001b[43m)\u001b[49m\n\u001b[0;32m     51\u001b[0m train_acc\u001b[38;5;241m.\u001b[39mappend(acc)\n\u001b[0;32m     52\u001b[0m train_loss\u001b[38;5;241m.\u001b[39mappend(loss\u001b[38;5;241m.\u001b[39mitem())\n",
      "Input \u001b[1;32mIn [8]\u001b[0m, in \u001b[0;36mscore\u001b[1;34m(true_labels, model_preds)\u001b[0m\n\u001b[0;32m      1\u001b[0m \u001b[38;5;28;01mdef\u001b[39;00m \u001b[38;5;21mscore\u001b[39m(true_labels, model_preds) :\n\u001b[1;32m----> 2\u001b[0m     model_preds \u001b[38;5;241m=\u001b[39m \u001b[43mmodel_preds\u001b[49m\u001b[38;5;241;43m.\u001b[39;49m\u001b[43margmax\u001b[49m\u001b[43m(\u001b[49m\u001b[38;5;241;43m1\u001b[39;49m\u001b[43m)\u001b[49m\u001b[38;5;241;43m.\u001b[39;49m\u001b[43mdetach\u001b[49m\u001b[43m(\u001b[49m\u001b[43m)\u001b[49m\u001b[38;5;241;43m.\u001b[39;49m\u001b[43mcpu\u001b[49m\u001b[43m(\u001b[49m\u001b[43m)\u001b[49m\u001b[38;5;241m.\u001b[39mnumpy()\u001b[38;5;241m.\u001b[39mtolist()\n\u001b[0;32m      3\u001b[0m     true_labels \u001b[38;5;241m=\u001b[39m true_labels\u001b[38;5;241m.\u001b[39mdetach()\u001b[38;5;241m.\u001b[39mcpu()\u001b[38;5;241m.\u001b[39mnumpy()\u001b[38;5;241m.\u001b[39mtolist()\n\u001b[0;32m      4\u001b[0m     \u001b[38;5;28;01mreturn\u001b[39;00m accuracy_score(true_labels, model_preds)\n",
      "\u001b[1;31mKeyboardInterrupt\u001b[0m: "
     ]
    }
   ],
   "source": [
    "training(model, optimizer, criterion, \n",
    "         ((img_set[0], img_set[1]), (label_set[0], label_set[1])),\n",
    "         device\n",
    "        )"
   ]
  },
  {
   "cell_type": "markdown",
   "id": "fd24f215",
   "metadata": {},
   "source": [
    "## submission"
   ]
  },
  {
   "cell_type": "code",
   "execution_count": 20,
   "id": "369e1db2",
   "metadata": {},
   "outputs": [
    {
     "data": {
      "text/plain": [
       "<All keys matched successfully>"
      ]
     },
     "execution_count": 20,
     "metadata": {},
     "output_type": "execute_result"
    }
   ],
   "source": [
    "test_df = pd.read_csv('./data/sample_submission.csv')\n",
    "\n",
    "test_img = img_parser('./data/img/224img_test/*', None, training=False)\n",
    "transform = A.Compose([\n",
    "        A.Rotate(limit=(45), p=1),\n",
    "#         A.RandomGridShuffle(p=0.8, grid=(2,2)),\n",
    "        A.Normalize(),\n",
    "        ToTensorV2()\n",
    "    ])\n",
    "\n",
    "test_dataset = CustomDataset(test_img, None, transform)\n",
    "test_loader = DataLoader(test_dataset, batch_size=CFG['BATCH_SIZE'], shuffle=False, num_workers=0)\n",
    "\n",
    "checkpoint = torch.load('./ckpt/64E-val0.9574-scratch-weigt_freeze10E-mixup25E-grid_shuffle35E-focal-effib0.pth')\n",
    "model = CNN(CFG['model_name']).to(device)\n",
    "model.load_state_dict(checkpoint['model_state_dict'])"
   ]
  },
  {
   "cell_type": "code",
   "execution_count": 21,
   "id": "b177a048",
   "metadata": {},
   "outputs": [],
   "source": [
    "def predict(model, test_loader, device):\n",
    "    model.to(device)\n",
    "    model.eval()\n",
    "    model_preds = []\n",
    "    with torch.no_grad():\n",
    "        for img in tqdm(iter(test_loader)):\n",
    "            img = img.to(device)\n",
    "            \n",
    "            batch_pred = model(img)\n",
    "            \n",
    "            model_preds += batch_pred.argmax(1).detach().cpu().numpy().tolist()\n",
    "    \n",
    "    return model_preds"
   ]
  },
  {
   "cell_type": "code",
   "execution_count": 22,
   "id": "e215c4cc",
   "metadata": {},
   "outputs": [
    {
     "name": "stderr",
     "output_type": "stream",
     "text": [
      "100%|████████████████████████████████████████████████████████████████████████████████| 625/625 [02:12<00:00,  4.73it/s]\n"
     ]
    }
   ],
   "source": [
    "preds = predict(model, test_loader, device)"
   ]
  },
  {
   "cell_type": "code",
   "execution_count": 23,
   "id": "ee2507eb",
   "metadata": {},
   "outputs": [],
   "source": [
    "test_df['label'] = preds\n",
    "\n",
    "test_df.to_csv('./submission/64E-val0.9574-scratch-weigt_freeze10E-mixup25E-grid_shuffle35E-focal-effib0.csv', index=False)"
   ]
  },
  {
   "cell_type": "code",
   "execution_count": null,
   "id": "79ef675d",
   "metadata": {},
   "outputs": [],
   "source": []
  }
 ],
 "metadata": {
  "kernelspec": {
   "display_name": "Python 3 (ipykernel)",
   "language": "python",
   "name": "python3"
  },
  "language_info": {
   "codemirror_mode": {
    "name": "ipython",
    "version": 3
   },
   "file_extension": ".py",
   "mimetype": "text/x-python",
   "name": "python",
   "nbconvert_exporter": "python",
   "pygments_lexer": "ipython3",
   "version": "3.8.13"
  }
 },
 "nbformat": 4,
 "nbformat_minor": 5
}

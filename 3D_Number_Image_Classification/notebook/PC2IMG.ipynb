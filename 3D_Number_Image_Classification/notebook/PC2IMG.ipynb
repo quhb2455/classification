{
 "cells": [
  {
   "cell_type": "code",
   "execution_count": 4,
   "id": "9029657c",
   "metadata": {},
   "outputs": [],
   "source": [
    "import h5py\n",
    "import random\n",
    "import pandas as pd\n",
    "import numpy as np\n",
    "import os\n",
    "import glob\n",
    "from tqdm import tqdm\n",
    "import matplotlib\n",
    "import matplotlib.pyplot as plt\n",
    "\n",
    "import cv2\n",
    "from PIL import Image\n",
    "import gc\n",
    "\n",
    "from sklearn.decomposition import PCA\n",
    "\n",
    "matplotlib.use('Agg')"
   ]
  },
  {
   "cell_type": "code",
   "execution_count": 5,
   "id": "74d5a473",
   "metadata": {},
   "outputs": [],
   "source": [
    "def img_save(point, path, size=50) :\n",
    "    fig = plt.figure(figsize=(2, 2))\n",
    "    \n",
    "    x = point[:, 0]\n",
    "    y = point[:, 1]\n",
    "\n",
    "    plt.axis('off')\n",
    "\n",
    "    #산점도의 점크기 -> s=1로 하면 사진이 너무 두꺼워짐\n",
    "    plt.scatter(x, y, s=0.1)\n",
    "\n",
    "    #50*50 size로 저장\n",
    "    plt.savefig(path, dpi=size)\n",
    "    plt.close(fig)\n",
    "#     gc.collect()\n",
    "    \n",
    "def jittering(point, scale_range) :\n",
    "    point += np.random.uniform(*scale_range, size=point.shape) \n",
    "    return point\n",
    "\n",
    "def scaling(point, scale_range) :\n",
    "    point *= np.random.uniform(*scale_range)\n",
    "    return point\n",
    "\n",
    "def rand_sampling(point, rate=0.6) :\n",
    "    point_num = point.shape[0]\n",
    "    sampling_rate=rate\n",
    "    sampling_idx = np.sort(np.random.choice(point_num, int(point_num * sampling_rate) , replace=False))\n",
    "    point = point[sampling_idx, :]\n",
    "    return point"
   ]
  },
  {
   "cell_type": "markdown",
   "id": "feb6d101",
   "metadata": {},
   "source": [
    "# Training set convert to 2d image"
   ]
  },
  {
   "cell_type": "code",
   "execution_count": 6,
   "id": "61426fb6",
   "metadata": {},
   "outputs": [
    {
     "name": "stderr",
     "output_type": "stream",
     "text": [
      "100%|████████████████████████████████████████████████████████████████████████████| 27353/27353 [18:30<00:00, 24.63it/s]\n"
     ]
    }
   ],
   "source": [
    "all_df = pd.read_csv('./data/train.csv')\n",
    "all_points = h5py.File('./data/train.h5', 'r')\n",
    "\n",
    "pca = PCA(n_components=2)\n",
    "for i in tqdm(range(22647, 50000)) :\n",
    "    point = np.array(all_points[str(i)])\n",
    "#     point = rand_sampling(point, 1)\n",
    "\n",
    "    pt_pca = pca.fit_transform(point)\n",
    "    \n",
    "    img_save(pt_pca, f'./data/img/224img_train/{str(i)}.jpg', size=112)\n",
    "    "
   ]
  },
  {
   "cell_type": "code",
   "execution_count": 7,
   "id": "021e9f25",
   "metadata": {},
   "outputs": [
    {
     "data": {
      "text/plain": [
       "32586"
      ]
     },
     "execution_count": 7,
     "metadata": {},
     "output_type": "execute_result"
    }
   ],
   "source": [
    "gc.collect()"
   ]
  },
  {
   "cell_type": "markdown",
   "id": "f9934f53",
   "metadata": {},
   "source": [
    "# Test set convert to 2d image"
   ]
  },
  {
   "cell_type": "code",
   "execution_count": 8,
   "id": "67a087a6",
   "metadata": {},
   "outputs": [
    {
     "name": "stderr",
     "output_type": "stream",
     "text": [
      "100%|████████████████████████████████████████████████████████████████████████████| 40000/40000 [23:51<00:00, 27.93it/s]\n"
     ]
    }
   ],
   "source": [
    "all_points = h5py.File('./data/test.h5', 'r')\n",
    "\n",
    "pca = PCA(n_components=2)\n",
    "for i in tqdm(range(50000, 90000)) :\n",
    "    point = np.array(all_points[str(i)])\n",
    "#     point = rand_sampling(point, 1)\n",
    "\n",
    "    pt_pca = pca.fit_transform(point)\n",
    "    \n",
    "    img_save(pt_pca, f'./data/img/224img_test/{str(i)}.jpg', size=112)\n",
    "    "
   ]
  },
  {
   "cell_type": "code",
   "execution_count": null,
   "id": "28183a0f",
   "metadata": {},
   "outputs": [],
   "source": []
  }
 ],
 "metadata": {
  "kernelspec": {
   "display_name": "Python 3 (ipykernel)",
   "language": "python",
   "name": "python3"
  },
  "language_info": {
   "codemirror_mode": {
    "name": "ipython",
    "version": 3
   },
   "file_extension": ".py",
   "mimetype": "text/x-python",
   "name": "python",
   "nbconvert_exporter": "python",
   "pygments_lexer": "ipython3",
   "version": "3.8.13"
  }
 },
 "nbformat": 4,
 "nbformat_minor": 5
}

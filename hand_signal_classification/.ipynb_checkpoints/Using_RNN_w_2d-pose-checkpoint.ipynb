{
 "cells": [
  {
   "cell_type": "code",
   "execution_count": 37,
   "id": "93b85f5a",
   "metadata": {},
   "outputs": [
    {
     "name": "stdout",
     "output_type": "stream",
     "text": [
      "(22218, 72)\n",
      "(22218, 6)\n"
     ]
    }
   ],
   "source": [
    "import torch\n",
    "import torch.nn as nn\n",
    "import torch.optim as optim\n",
    "\n",
    "from torch.utils.data import DataLoader, TensorDataset\n",
    "\n",
    "import numpy as np\n",
    "from sklearn.preprocessing import MinMaxScaler\n",
    "\n",
    "import os, shutil\n",
    "from glob import glob\n",
    "import json\n",
    "\n",
    "import numpy as np\n",
    "\n",
    "device = torch.device(\"cuda\" if torch.cuda.is_available() else \"cpu\")\n",
    "\n",
    "\n",
    "def one_hot(labels, n_classes) :\n",
    "    one_hot = [0] * n_classes \n",
    "    one_hot[labels-1] = 1\n",
    "    return one_hot\n",
    "\n",
    "\n",
    "root_p = './data/ori_label'\n",
    "folder_list = glob(root_p+'/*')\n",
    "pos_set = []\n",
    "label_set = []\n",
    "for folder in folder_list : \n",
    "    \n",
    "    json_file = glob(folder + '/*.json')[0]\n",
    "\n",
    "    js = json.load(open(json_file))\n",
    "    name = json_file.split('\\\\')[-1].replace('.json','')\n",
    "    new_dir_path = folder.replace('ori_label','new_label')\n",
    "\n",
    "    pos = np.array(js.get('sequence')['2d_pos'], dtype=np.float64).tolist()\n",
    "    pos_set.extend(pos)\n",
    "    label = [one_hot(int(js.get('action')), n_classes=6)] * len(pos)\n",
    "\n",
    "#     label = [int(js.get('action'))] * len(pos)\n",
    "    label_set.extend(label)\n",
    "print(np.array(pos_set).shape)\n",
    "print(np.array(label_set).shape)"
   ]
  },
  {
   "cell_type": "code",
   "execution_count": 45,
   "id": "4f43b51a",
   "metadata": {},
   "outputs": [],
   "source": [
    "def seq_data(x, y, sequence_length):\n",
    "  \n",
    "    x_seq = []\n",
    "    y_seq = []\n",
    "    for i in range(len(x) - sequence_length):\n",
    "        x_seq.append(x[i: i+sequence_length])\n",
    "        y_seq.append(y[i+sequence_length])\n",
    "\n",
    "    return torch.FloatTensor(x_seq).to(device), torch.FloatTensor(y_seq).to(device)#.view([-1, 1])"
   ]
  },
  {
   "cell_type": "code",
   "execution_count": 46,
   "id": "e64589c2",
   "metadata": {},
   "outputs": [
    {
     "name": "stdout",
     "output_type": "stream",
     "text": [
      "torch.Size([22210, 8, 72])\n",
      "torch.Size([22210, 6])\n"
     ]
    }
   ],
   "source": [
    "sequence_length = 8\n",
    "pos_seq, label_seq = seq_data(pos_set, label_set, sequence_length=sequence_length)\n",
    "\n",
    "print(pos_seq.shape)\n",
    "print(label_seq.shape)\n",
    "\n",
    "split = 20000\n",
    "\n",
    "train_pos = pos_seq[:split]\n",
    "train_label = label_seq[:split]\n",
    "\n",
    "valid_pos = pos_seq[split:]\n",
    "valid_label = label_seq[split:]"
   ]
  },
  {
   "cell_type": "code",
   "execution_count": 47,
   "id": "b09fa8af",
   "metadata": {},
   "outputs": [],
   "source": [
    "train = torch.utils.data.TensorDataset(train_pos, train_label)\n",
    "valid = torch.utils.data.TensorDataset(valid_pos, valid_label)\n",
    "\n",
    "train_set = DataLoader(dataset=train, batch_size=20, shuffle=False)\n",
    "valid_set = DataLoader(dataset=valid, batch_size=20, shuffle=False)"
   ]
  },
  {
   "cell_type": "code",
   "execution_count": 48,
   "id": "ceaa1192",
   "metadata": {},
   "outputs": [],
   "source": [
    "input_size = 72\n",
    "num_layers = 2\n",
    "hidden_layer = 8\n",
    "num_class = 6"
   ]
  },
  {
   "cell_type": "code",
   "execution_count": 52,
   "id": "2c1c483f",
   "metadata": {},
   "outputs": [],
   "source": [
    "class VanillaRNN(nn.Module):\n",
    "    def __init__(self, input_size, hidden_layer, sequence_length, num_class, num_layers, device):\n",
    "        super(VanillaRNN, self).__init__()\n",
    "        self.device = device\n",
    "        self.hidden_layer = hidden_layer\n",
    "        self.num_class = num_class\n",
    "        self.num_layers = num_layers\n",
    "        self.rnn = nn.RNN(input_size, hidden_layer, num_layers, batch_first=True)\n",
    "        self.fc = nn.Sequential(nn.Linear(hidden_layer * sequence_length, self.num_class),nn.Sigmoid())\n",
    "\n",
    "    def forward(self, x):\n",
    "        h0 = torch.zeros(self.num_layers, x.size()[0], self.hidden_layer).to(self.device) # 초기 hidden state 설정하기.\n",
    "        out, _ = self.rnn(x, h0) # out: RNN의 마지막 레이어로부터 나온 output feature 를 반환한다. hn: hidden state를 반환한다.\n",
    "        out = out.reshape(out.shape[0], -1) # many to many 전략\n",
    "        out = self.fc(out)\n",
    "        return out\n",
    "    \n",
    "model = VanillaRNN(input_size=input_size,\n",
    "                   hidden_layer=hidden_layer,\n",
    "                   sequence_length=sequence_length,\n",
    "                   num_class=num_class,\n",
    "                   num_layers=num_layers,\n",
    "                   device=device).to(device)"
   ]
  },
  {
   "cell_type": "code",
   "execution_count": 53,
   "id": "b2001b61",
   "metadata": {},
   "outputs": [],
   "source": [
    "criterion = nn.MSELoss()\n",
    "\n",
    "lr = 1e-3\n",
    "num_epochs = 30\n",
    "optimizer = optim.Adam(model.parameters(), lr=lr)"
   ]
  },
  {
   "cell_type": "code",
   "execution_count": 54,
   "id": "8f4130e7",
   "metadata": {},
   "outputs": [
    {
     "name": "stdout",
     "output_type": "stream",
     "text": [
      "[epoch: 0] loss: 0.1428\n",
      "[epoch: 1] loss: 0.1377\n",
      "[epoch: 2] loss: 0.1389\n",
      "[epoch: 3] loss: 0.1373\n",
      "[epoch: 4] loss: 0.1379\n",
      "[epoch: 5] loss: 0.1381\n",
      "[epoch: 6] loss: 0.1414\n",
      "[epoch: 7] loss: 0.1385\n",
      "[epoch: 8] loss: 0.1375\n",
      "[epoch: 9] loss: 0.1368\n",
      "[epoch: 10] loss: 0.1361\n",
      "[epoch: 11] loss: 0.1363\n",
      "[epoch: 12] loss: 0.1357\n",
      "[epoch: 13] loss: 0.1361\n",
      "[epoch: 14] loss: 0.1365\n",
      "[epoch: 15] loss: 0.1361\n",
      "[epoch: 16] loss: 0.1356\n",
      "[epoch: 17] loss: 0.1354\n",
      "[epoch: 18] loss: 0.1335\n",
      "[epoch: 19] loss: 0.1366\n",
      "[epoch: 20] loss: 0.1370\n",
      "[epoch: 21] loss: 0.1337\n",
      "[epoch: 22] loss: 0.1331\n",
      "[epoch: 23] loss: 0.1366\n",
      "[epoch: 24] loss: 0.1351\n",
      "[epoch: 25] loss: 0.1342\n",
      "[epoch: 26] loss: 0.1365\n",
      "[epoch: 27] loss: 0.1376\n",
      "[epoch: 28] loss: 0.1357\n",
      "[epoch: 29] loss: 0.1365\n"
     ]
    }
   ],
   "source": [
    "loss_graph = [] # 그래프 그릴 목적인 loss.\n",
    "n = len(train_set)\n",
    "\n",
    "for epoch in range(num_epochs):\n",
    "    running_loss = 0.0\n",
    "\n",
    "    for data in train_set:\n",
    "\n",
    "        seq, target = data \n",
    "        out = model(seq)   \n",
    "#         print(out, target)\n",
    "#         print(out.shape, target.shape)\n",
    "        loss = criterion(out, target) \n",
    "\n",
    "        optimizer.zero_grad() \n",
    "        loss.backward() \n",
    "        optimizer.step() \n",
    "        running_loss += loss.item() \n",
    "\n",
    "    loss_graph.append(running_loss / n) \n",
    "#     if epoch % 100 == 0:\n",
    "    print('[epoch: %d] loss: %.4f'%(epoch, running_loss/n))"
   ]
  },
  {
   "cell_type": "code",
   "execution_count": null,
   "id": "de7d7fa3",
   "metadata": {},
   "outputs": [],
   "source": []
  }
 ],
 "metadata": {
  "kernelspec": {
   "display_name": "Python 3",
   "language": "python",
   "name": "python3"
  },
  "language_info": {
   "codemirror_mode": {
    "name": "ipython",
    "version": 3
   },
   "file_extension": ".py",
   "mimetype": "text/x-python",
   "name": "python",
   "nbconvert_exporter": "python",
   "pygments_lexer": "ipython3",
   "version": "3.6.13"
  }
 },
 "nbformat": 4,
 "nbformat_minor": 5
}

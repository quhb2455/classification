{
 "cells": [
  {
   "cell_type": "code",
   "execution_count": 19,
   "id": "39df8c0a",
   "metadata": {},
   "outputs": [],
   "source": [
    "import os, shutil\n",
    "from glob import glob\n",
    "import json\n",
    "\n",
    "import numpy as np"
   ]
  },
  {
   "cell_type": "code",
   "execution_count": 45,
   "id": "041cf78f",
   "metadata": {},
   "outputs": [],
   "source": [
    "root_p = './data/ori_label/file_1/'\n",
    "path = './data/ori_label/file_1/file_1.json'\n",
    "\n",
    "js = json.load(open(path))\n",
    "\n",
    "name = path.split('/')[-1].replace('.json','')\n",
    "new_dir_path = root_p.replace(name,'new_'+name)\n",
    "\n",
    "os.makedirs(new_dir_path,exist_ok=True)\n",
    "\n",
    "pos = js.get('sequence')['2d_pos']\n",
    "label = js.get('action')\n",
    "\n",
    "with open(new_dir_path+'/'+name+'.json', 'w') as j:\n",
    "    json.dump({'label':label, 'pos':pos}, j)\n"
   ]
  },
  {
   "cell_type": "code",
   "execution_count": 95,
   "id": "4dfc5220",
   "metadata": {
    "scrolled": true
   },
   "outputs": [
    {
     "name": "stdout",
     "output_type": "stream",
     "text": [
      "(141, 72)\n",
      "(141, 72)\n",
      "(141, 72)\n"
     ]
    }
   ],
   "source": [
    "root_p = './data/ori_label'\n",
    "folder_list = glob(root_p+'/*')\n",
    "for folder in folder_list : \n",
    "    \n",
    "    json_list = glob(folder + '/*.json')\n",
    "    for json_file in json_list:\n",
    "\n",
    "        js = json.load(open(json_file))\n",
    "        name = json_file.split('\\\\')[-1].replace('.json','')\n",
    "        new_dir_path = folder.replace('ori_label','new_label')\n",
    "        os.makedirs(new_dir_path,exist_ok=True)\n",
    "        \n",
    "        pos = js.get('sequence')['2d_pos']\n",
    "        label = js.get('action')\n",
    "        \n",
    "        with open(new_dir_path+'/'+name+'.json', 'w') as j:\n",
    "            json.dump({'label':label, 'pos':pos}, j)\n",
    "    "
   ]
  },
  {
   "cell_type": "markdown",
   "id": "3866b3a5",
   "metadata": {},
   "source": [
    "# read 2d-pos"
   ]
  },
  {
   "cell_type": "code",
   "execution_count": 59,
   "id": "203bba7d",
   "metadata": {},
   "outputs": [
    {
     "name": "stdout",
     "output_type": "stream",
     "text": [
      "(22218, 72)\n",
      "(22218,)\n"
     ]
    }
   ],
   "source": [
    "import torch\n",
    "import torch.nn as nn\n",
    "import torch.optim as optim\n",
    "\n",
    "from torch.utils.data import DataLoader, TensorDataset\n",
    "\n",
    "import numpy as np\n",
    "from sklearn.preprocessing import MinMaxScaler\n",
    "\n",
    "import os, shutil\n",
    "from glob import glob\n",
    "import json\n",
    "\n",
    "import numpy as np\n",
    "\n",
    "device = torch.device(\"cuda\" if torch.cuda.is_available() else \"cpu\")\n",
    "\n",
    "\n",
    "root_p = './data/ori_label'\n",
    "folder_list = glob(root_p+'/*')\n",
    "pos_set = []\n",
    "label_set = []\n",
    "for folder in folder_list : \n",
    "    \n",
    "    json_file = glob(folder + '/*.json')[0]\n",
    "\n",
    "    js = json.load(open(json_file))\n",
    "    name = json_file.split('\\\\')[-1].replace('.json','')\n",
    "    new_dir_path = folder.replace('ori_label','new_label')\n",
    "\n",
    "    pos = np.array(js.get('sequence')['2d_pos'], dtype=np.float64).tolist()\n",
    "    pos_set.extend(pos)\n",
    "    label = [int(js.get('action'))] * len(pos)\n",
    "    label_set.extend(label)\n",
    "print(np.array(pos_set).shape)\n",
    "print(np.array(label_set).shape)"
   ]
  },
  {
   "cell_type": "code",
   "execution_count": 60,
   "id": "f0003fe4",
   "metadata": {},
   "outputs": [],
   "source": [
    "# split = 20000\n",
    "\n",
    "\n",
    "# train_pos = torch.FloatTensor(pos_set[:split]).to(device)\n",
    "# train_label = torch.FloatTensor(label_set[:split]).to(device)\n",
    "\n",
    "# valid_pos = torch.FloatTensor(pos_set[split:]).to(device)\n",
    "# valid_label = torch.FloatTensor(label_set[split:]).to(device)\n",
    "\n",
    "# print(np.array(train_pos).shape, np.array(train_label).shape)\n",
    "# print(np.array(valid_pos).shape, np.array(valid_label).shape)"
   ]
  },
  {
   "cell_type": "code",
   "execution_count": 68,
   "id": "07a9b18e",
   "metadata": {},
   "outputs": [],
   "source": [
    "def seq_data(x, y, sequence_length):\n",
    "  \n",
    "    x_seq = []\n",
    "    y_seq = []\n",
    "    for i in range(len(x) - sequence_length):\n",
    "        x_seq.append(x[i: i+sequence_length])\n",
    "        y_seq.append(y[i+sequence_length])\n",
    "\n",
    "    return torch.FloatTensor(x_seq).to(device), torch.FloatTensor(y_seq).to(device).view([-1, 1])"
   ]
  },
  {
   "cell_type": "code",
   "execution_count": 69,
   "id": "08b9d341",
   "metadata": {},
   "outputs": [
    {
     "name": "stdout",
     "output_type": "stream",
     "text": [
      "torch.Size([22148, 70, 72])\n",
      "torch.Size([22148, 1])\n"
     ]
    }
   ],
   "source": [
    "pos_seq, label_seq = seq_data(pos_set, label_set, sequence_length=70)\n",
    "\n",
    "print(pos_seq.shape)\n",
    "print(label_seq.shape)\n",
    "\n",
    "split = 20000\n",
    "\n",
    "train_pos = pos_seq[:split]\n",
    "train_label = label_seq[:split]\n",
    "\n",
    "valid_pos = pos_seq[split:]\n",
    "valid_label = label_seq[split:]"
   ]
  },
  {
   "cell_type": "code",
   "execution_count": 70,
   "id": "8bf5f0d0",
   "metadata": {},
   "outputs": [],
   "source": [
    "train = torch.utils.data.TensorDataset(train_pos, train_label)\n",
    "valid = torch.utils.data.TensorDataset(valid_pos, valid_label)\n",
    "\n",
    "train_set = DataLoader(dataset=train, batch_size=20, shuffle=False)\n",
    "valid_set = DataLoader(dataset=valid, batch_size=20, shuffle=False)"
   ]
  },
  {
   "cell_type": "code",
   "execution_count": 71,
   "id": "de3cc905",
   "metadata": {},
   "outputs": [],
   "source": [
    "input_size = 72\n",
    "num_layers = 2\n",
    "hidden_layer = 8\n",
    "num_class = 6\n",
    "sequence_length = 70"
   ]
  },
  {
   "cell_type": "code",
   "execution_count": 72,
   "id": "a84d89a9",
   "metadata": {},
   "outputs": [],
   "source": [
    "class VanillaRNN(nn.Module):\n",
    "    def __init__(self, input_size, hidden_layer, sequence_length, num_class, num_layers, device):\n",
    "        super(VanillaRNN, self).__init__()\n",
    "        self.device = device\n",
    "        self.hidden_layer = hidden_layer\n",
    "        self.num_class = num_class\n",
    "        self.num_layers = num_layers\n",
    "        self.rnn = nn.RNN(input_size, hidden_layer, num_layers, batch_first=True)\n",
    "        self.fc = nn.Sequential(nn.Linear(hidden_layer * sequence_length, self.num_class), nn.Softmax())\n",
    "\n",
    "    def forward(self, x):\n",
    "        h0 = torch.zeros(self.num_layers, x.size()[0], self.hidden_layer).to(self.device) # 초기 hidden state 설정하기.\n",
    "        out, _ = self.rnn(x, h0) # out: RNN의 마지막 레이어로부터 나온 output feature 를 반환한다. hn: hidden state를 반환한다.\n",
    "        out = out.reshape(out.shape[0], -1) # many to many 전략\n",
    "        out = self.fc(out)\n",
    "        return out\n",
    "    \n",
    "model = VanillaRNN(input_size=input_size,\n",
    "                   hidden_layer=hidden_layer,\n",
    "                   sequence_length=sequence_length,\n",
    "                   num_class=num_class,\n",
    "                   num_layers=num_layers,\n",
    "                   device=device).to(device)"
   ]
  },
  {
   "cell_type": "code",
   "execution_count": 73,
   "id": "fe9087a1",
   "metadata": {},
   "outputs": [],
   "source": [
    "criterion = nn.MSELoss()\n",
    "\n",
    "lr = 1e-3\n",
    "num_epochs = 200\n",
    "optimizer = optim.Adam(model.parameters(), lr=lr)"
   ]
  },
  {
   "cell_type": "code",
   "execution_count": 74,
   "id": "8b4361de",
   "metadata": {
    "scrolled": true
   },
   "outputs": [
    {
     "name": "stdout",
     "output_type": "stream",
     "text": [
      "[epoch: 0] loss: 8.1708\n",
      "[epoch: 1] loss: 8.1708\n",
      "[epoch: 2] loss: 8.1708\n",
      "[epoch: 3] loss: 8.1707\n",
      "[epoch: 4] loss: 8.1707\n",
      "[epoch: 5] loss: 8.1707\n",
      "[epoch: 6] loss: 8.1707\n",
      "[epoch: 7] loss: 8.1707\n",
      "[epoch: 8] loss: 8.1707\n",
      "[epoch: 9] loss: 8.1707\n",
      "[epoch: 10] loss: 8.1707\n",
      "[epoch: 11] loss: 8.1707\n",
      "[epoch: 12] loss: 8.1707\n",
      "[epoch: 13] loss: 8.1707\n"
     ]
    },
    {
     "ename": "KeyboardInterrupt",
     "evalue": "",
     "output_type": "error",
     "traceback": [
      "\u001b[1;31m---------------------------------------------------------------------------\u001b[0m",
      "\u001b[1;31mKeyboardInterrupt\u001b[0m                         Traceback (most recent call last)",
      "\u001b[1;32m<ipython-input-74-1da078612e36>\u001b[0m in \u001b[0;36m<module>\u001b[1;34m\u001b[0m\n\u001b[0;32m     12\u001b[0m \u001b[1;33m\u001b[0m\u001b[0m\n\u001b[0;32m     13\u001b[0m         \u001b[0moptimizer\u001b[0m\u001b[1;33m.\u001b[0m\u001b[0mzero_grad\u001b[0m\u001b[1;33m(\u001b[0m\u001b[1;33m)\u001b[0m \u001b[1;31m#\u001b[0m\u001b[1;33m\u001b[0m\u001b[1;33m\u001b[0m\u001b[0m\n\u001b[1;32m---> 14\u001b[1;33m         \u001b[0mloss\u001b[0m\u001b[1;33m.\u001b[0m\u001b[0mbackward\u001b[0m\u001b[1;33m(\u001b[0m\u001b[1;33m)\u001b[0m \u001b[1;31m# loss가 최소가 되게하는\u001b[0m\u001b[1;33m\u001b[0m\u001b[1;33m\u001b[0m\u001b[0m\n\u001b[0m\u001b[0;32m     15\u001b[0m         \u001b[0moptimizer\u001b[0m\u001b[1;33m.\u001b[0m\u001b[0mstep\u001b[0m\u001b[1;33m(\u001b[0m\u001b[1;33m)\u001b[0m \u001b[1;31m# 가중치 업데이트 해주고,\u001b[0m\u001b[1;33m\u001b[0m\u001b[1;33m\u001b[0m\u001b[0m\n\u001b[0;32m     16\u001b[0m         \u001b[0mrunning_loss\u001b[0m \u001b[1;33m+=\u001b[0m \u001b[0mloss\u001b[0m\u001b[1;33m.\u001b[0m\u001b[0mitem\u001b[0m\u001b[1;33m(\u001b[0m\u001b[1;33m)\u001b[0m \u001b[1;31m# 한 배치의 loss 더해주고,\u001b[0m\u001b[1;33m\u001b[0m\u001b[1;33m\u001b[0m\u001b[0m\n",
      "\u001b[1;32mc:\\users\\sub\\anaconda3\\envs\\torch-sub\\lib\\site-packages\\torch\\_tensor.py\u001b[0m in \u001b[0;36mbackward\u001b[1;34m(self, gradient, retain_graph, create_graph, inputs)\u001b[0m\n\u001b[0;32m    253\u001b[0m                 \u001b[0mcreate_graph\u001b[0m\u001b[1;33m=\u001b[0m\u001b[0mcreate_graph\u001b[0m\u001b[1;33m,\u001b[0m\u001b[1;33m\u001b[0m\u001b[1;33m\u001b[0m\u001b[0m\n\u001b[0;32m    254\u001b[0m                 inputs=inputs)\n\u001b[1;32m--> 255\u001b[1;33m         \u001b[0mtorch\u001b[0m\u001b[1;33m.\u001b[0m\u001b[0mautograd\u001b[0m\u001b[1;33m.\u001b[0m\u001b[0mbackward\u001b[0m\u001b[1;33m(\u001b[0m\u001b[0mself\u001b[0m\u001b[1;33m,\u001b[0m \u001b[0mgradient\u001b[0m\u001b[1;33m,\u001b[0m \u001b[0mretain_graph\u001b[0m\u001b[1;33m,\u001b[0m \u001b[0mcreate_graph\u001b[0m\u001b[1;33m,\u001b[0m \u001b[0minputs\u001b[0m\u001b[1;33m=\u001b[0m\u001b[0minputs\u001b[0m\u001b[1;33m)\u001b[0m\u001b[1;33m\u001b[0m\u001b[1;33m\u001b[0m\u001b[0m\n\u001b[0m\u001b[0;32m    256\u001b[0m \u001b[1;33m\u001b[0m\u001b[0m\n\u001b[0;32m    257\u001b[0m     \u001b[1;32mdef\u001b[0m \u001b[0mregister_hook\u001b[0m\u001b[1;33m(\u001b[0m\u001b[0mself\u001b[0m\u001b[1;33m,\u001b[0m \u001b[0mhook\u001b[0m\u001b[1;33m)\u001b[0m\u001b[1;33m:\u001b[0m\u001b[1;33m\u001b[0m\u001b[1;33m\u001b[0m\u001b[0m\n",
      "\u001b[1;32mc:\\users\\sub\\anaconda3\\envs\\torch-sub\\lib\\site-packages\\torch\\autograd\\__init__.py\u001b[0m in \u001b[0;36mbackward\u001b[1;34m(tensors, grad_tensors, retain_graph, create_graph, grad_variables, inputs)\u001b[0m\n\u001b[0;32m    147\u001b[0m     Variable._execution_engine.run_backward(\n\u001b[0;32m    148\u001b[0m         \u001b[0mtensors\u001b[0m\u001b[1;33m,\u001b[0m \u001b[0mgrad_tensors_\u001b[0m\u001b[1;33m,\u001b[0m \u001b[0mretain_graph\u001b[0m\u001b[1;33m,\u001b[0m \u001b[0mcreate_graph\u001b[0m\u001b[1;33m,\u001b[0m \u001b[0minputs\u001b[0m\u001b[1;33m,\u001b[0m\u001b[1;33m\u001b[0m\u001b[1;33m\u001b[0m\u001b[0m\n\u001b[1;32m--> 149\u001b[1;33m         allow_unreachable=True, accumulate_grad=True)  # allow_unreachable flag\n\u001b[0m\u001b[0;32m    150\u001b[0m \u001b[1;33m\u001b[0m\u001b[0m\n\u001b[0;32m    151\u001b[0m \u001b[1;33m\u001b[0m\u001b[0m\n",
      "\u001b[1;31mKeyboardInterrupt\u001b[0m: "
     ]
    }
   ],
   "source": [
    "loss_graph = [] # 그래프 그릴 목적인 loss.\n",
    "n = len(train_set)\n",
    "\n",
    "for epoch in range(num_epochs):\n",
    "    running_loss = 0.0\n",
    "\n",
    "    for data in train_set:\n",
    "\n",
    "        seq, target = data # 배치 데이터.\n",
    "        out = model(seq)   # 모델에 넣고,\n",
    "        loss = criterion(out, target) # output 가지고 loss 구하고,\n",
    "\n",
    "        optimizer.zero_grad() # \n",
    "        loss.backward() # loss가 최소가 되게하는 \n",
    "        optimizer.step() # 가중치 업데이트 해주고,\n",
    "        running_loss += loss.item() # 한 배치의 loss 더해주고,\n",
    "\n",
    "    loss_graph.append(running_loss / n) # 한 epoch에 모든 배치들에 대한 평균 loss 리스트에 담고,\n",
    "#     if epoch % 100 == 0:\n",
    "    print('[epoch: %d] loss: %.4f'%(epoch, running_loss/n))"
   ]
  },
  {
   "cell_type": "code",
   "execution_count": null,
   "id": "66793237",
   "metadata": {},
   "outputs": [],
   "source": []
  },
  {
   "cell_type": "code",
   "execution_count": null,
   "id": "2ccb78a8",
   "metadata": {},
   "outputs": [],
   "source": []
  },
  {
   "cell_type": "code",
   "execution_count": null,
   "id": "7146c26e",
   "metadata": {},
   "outputs": [],
   "source": []
  },
  {
   "cell_type": "code",
   "execution_count": 56,
   "id": "b515a496",
   "metadata": {},
   "outputs": [],
   "source": [
    "import torch\n",
    "import torch.nn as nn\n"
   ]
  },
  {
   "cell_type": "code",
   "execution_count": 73,
   "id": "81e6070d",
   "metadata": {},
   "outputs": [
    {
     "name": "stdout",
     "output_type": "stream",
     "text": [
      "torch.Size([1, 144, 150528])\n"
     ]
    }
   ],
   "source": [
    "input_size = 150528\n",
    "hidden_size = 8\n",
    "\n",
    "# (batch_size, time_steps, input_size)\n",
    "inputs = torch.Tensor(1, 144, 150528)\n",
    "print(inputs.shape)\n",
    "cell = nn.RNN(input_size, hidden_size, batch_first=True)\n",
    "outputs, _status = cell(inputs)"
   ]
  },
  {
   "cell_type": "code",
   "execution_count": 74,
   "id": "9a894a7e",
   "metadata": {},
   "outputs": [
    {
     "name": "stdout",
     "output_type": "stream",
     "text": [
      "torch.Size([1, 144, 8])\n"
     ]
    }
   ],
   "source": [
    "print(outputs.shape)\n",
    "#모든 time-step의 hidden_state"
   ]
  },
  {
   "cell_type": "code",
   "execution_count": 75,
   "id": "187e9fd1",
   "metadata": {},
   "outputs": [
    {
     "name": "stdout",
     "output_type": "stream",
     "text": [
      "torch.Size([1, 1, 8])\n"
     ]
    }
   ],
   "source": [
    "print(_status.shape)\n",
    "# 마지막 시점에서의 상태"
   ]
  },
  {
   "cell_type": "code",
   "execution_count": 81,
   "id": "987b637b",
   "metadata": {},
   "outputs": [],
   "source": [
    "inputs = torch.Tensor(1, 144, 150528)\n",
    "\n",
    "cell = nn.RNN(input_size = 150528, hidden_size = 8, num_layers = 2, batch_first=True)\n",
    "\n",
    "outputs, _status = cell(inputs)"
   ]
  },
  {
   "cell_type": "code",
   "execution_count": 82,
   "id": "02fae355",
   "metadata": {},
   "outputs": [
    {
     "name": "stdout",
     "output_type": "stream",
     "text": [
      "torch.Size([1, 144, 8])\n",
      "torch.Size([2, 1, 8])\n"
     ]
    }
   ],
   "source": [
    "print(outputs.shape)\n",
    "print(_status.shape)"
   ]
  },
  {
   "cell_type": "code",
   "execution_count": 83,
   "id": "b060633e",
   "metadata": {},
   "outputs": [],
   "source": [
    "inputs = torch.Tensor(1, 144, 150528)\n",
    "\n",
    "cell = nn.RNN(input_size = 150528, hidden_size = 8, \n",
    "              num_layers = 2, batch_first=True,\n",
    "             bidirectional = True)\n",
    "\n",
    "outputs, _status = cell(inputs)"
   ]
  },
  {
   "cell_type": "code",
   "execution_count": 84,
   "id": "1f8b90b0",
   "metadata": {},
   "outputs": [
    {
     "name": "stdout",
     "output_type": "stream",
     "text": [
      "torch.Size([1, 144, 16])\n",
      "torch.Size([4, 1, 8])\n"
     ]
    }
   ],
   "source": [
    "print(outputs.shape)\n",
    "print(_status.shape)"
   ]
  },
  {
   "cell_type": "code",
   "execution_count": 85,
   "id": "a0e7a7a1",
   "metadata": {},
   "outputs": [],
   "source": [
    "inputs = torch.Tensor(1, 144, 150528)\n",
    "\n",
    "cell = nn.LSTM(input_size = 150528, hidden_size = 8, \n",
    "              num_layers = 2, batch_first=True,\n",
    "             bidirectional = True)\n",
    "\n",
    "outputs, _status = cell(inputs)"
   ]
  },
  {
   "cell_type": "code",
   "execution_count": 88,
   "id": "b90c67b6",
   "metadata": {},
   "outputs": [
    {
     "name": "stdout",
     "output_type": "stream",
     "text": [
      "torch.Size([1, 144, 16])\n",
      "torch.Size([4, 1, 8])\n"
     ]
    }
   ],
   "source": [
    "print(outputs.shape)\n",
    "print(_status[0].shape)"
   ]
  },
  {
   "cell_type": "code",
   "execution_count": null,
   "id": "35d52543",
   "metadata": {},
   "outputs": [],
   "source": []
  }
 ],
 "metadata": {
  "kernelspec": {
   "display_name": "Python 3",
   "language": "python",
   "name": "python3"
  },
  "language_info": {
   "codemirror_mode": {
    "name": "ipython",
    "version": 3
   },
   "file_extension": ".py",
   "mimetype": "text/x-python",
   "name": "python",
   "nbconvert_exporter": "python",
   "pygments_lexer": "ipython3",
   "version": "3.6.13"
  }
 },
 "nbformat": 4,
 "nbformat_minor": 5
}

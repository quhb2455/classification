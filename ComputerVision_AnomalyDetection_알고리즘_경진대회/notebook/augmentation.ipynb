{
 "cells": [
  {
   "cell_type": "code",
   "execution_count": 27,
   "id": "49fa09d3",
   "metadata": {},
   "outputs": [],
   "source": [
    "import cv2\n",
    "import glob\n",
    "import os\n",
    "import albumentations as A\n",
    "import numpy as np\n",
    "import pandas as pd"
   ]
  },
  {
   "cell_type": "markdown",
   "id": "f48074dc",
   "metadata": {},
   "source": [
    "## 1단계\n",
    "- /data/train/aug 폴더 만들기\n",
    "\n",
    "\n",
    "## 2단계\n",
    "- /data/train/aug 폴더 아래에 class + state 조합 별로 aug할 데이터 폴더 만들기\n",
    "- aug에 사용할 이미지 리스트 만들기\n",
    "\n",
    "\n",
    "## 3단계\n",
    "- 만들어진 경로에 aug 진행\n",
    "\n",
    "\n",
    "## 기준\n",
    "- 'good'을 제외한 모든 class에 대해서 aug 진행\n",
    "- 각 class에 대하여 최대 5배까지 aug 진행\n",
    "- flip, rotation, mixup 쓰면 좋을 듯\n",
    "    - mixup은 cv2에서 제공하는 cv2.addWeighted 쓰면됨\n",
    "- mixup은 'good' + @ 로 진행\n",
    "- https://pyy0715.github.io/Albumentation/ 참고하여 custom aug 만들어보기"
   ]
  },
  {
   "cell_type": "code",
   "execution_count": 6,
   "id": "bf6da62a",
   "metadata": {},
   "outputs": [],
   "source": [
    "train_df = pd.read_csv('../data/train_df.csv')"
   ]
  },
  {
   "cell_type": "markdown",
   "id": "09e15a7b",
   "metadata": {},
   "source": [
    "### 1단계"
   ]
  },
  {
   "cell_type": "code",
   "execution_count": 25,
   "id": "41c392bb",
   "metadata": {},
   "outputs": [],
   "source": [
    "root_path = '../data/train'\n",
    "aut_path = os.path.join(root_path, 'aug')\n",
    "os.makedirs(aut_path, exist_ok=True)"
   ]
  },
  {
   "cell_type": "markdown",
   "id": "b4f500f0",
   "metadata": {},
   "source": [
    "### 2단계"
   ]
  },
  {
   "cell_type": "code",
   "execution_count": 26,
   "id": "14d9f967",
   "metadata": {},
   "outputs": [],
   "source": [
    "label_list = list(train_df['class'].unique())\n",
    "state_list = [list(train_df['state'][train_df['class']==label].unique()) for label in label_list]\n",
    "label_comb_img = {}\n",
    "\n",
    "for idx, label in enumerate(label_list) :\n",
    "    label_comb_img[label] = {}\n",
    "    for state in state_list[idx] :            \n",
    "        \n",
    "        # good 을 제외한 나머지에 대해서 진행\n",
    "        if state != \"good\" :\n",
    "        \n",
    "            # label 별 folder 생성\n",
    "            folder_name = os.path.join(aut_path, label+\"_\"+state)\n",
    "            os.makedirs(folder_name, exist_ok=True)\n",
    "            \n",
    "            # label별 image list 가져오기\n",
    "            label_comb_img[label][state] = list(train_df['file_name'][train_df['class']==label][train_df['state']==state])"
   ]
  },
  {
   "cell_type": "markdown",
   "id": "137157d7",
   "metadata": {},
   "source": [
    "### 3단계"
   ]
  },
  {
   "cell_type": "code",
   "execution_count": null,
   "id": "e14e5a1f",
   "metadata": {},
   "outputs": [],
   "source": [
    "aug_transforms = A.Compose([\n",
    "    A.OneOf([\n",
    "        A.Rotate(),\n",
    "        A.HorizontalFlip(),\n",
    "        A.VerticalFlip(),\n",
    "        A.\n",
    "    ], p=1)\n",
    "])"
   ]
  },
  {
   "cell_type": "code",
   "execution_count": null,
   "id": "ab26897e",
   "metadata": {},
   "outputs": [],
   "source": []
  },
  {
   "cell_type": "code",
   "execution_count": null,
   "id": "d264bdd1",
   "metadata": {},
   "outputs": [],
   "source": []
  }
 ],
 "metadata": {
  "kernelspec": {
   "display_name": "Python 3 (ipykernel)",
   "language": "python",
   "name": "python3"
  },
  "language_info": {
   "codemirror_mode": {
    "name": "ipython",
    "version": 3
   },
   "file_extension": ".py",
   "mimetype": "text/x-python",
   "name": "python",
   "nbconvert_exporter": "python",
   "pygments_lexer": "ipython3",
   "version": "3.8.12"
  }
 },
 "nbformat": 4,
 "nbformat_minor": 5
}

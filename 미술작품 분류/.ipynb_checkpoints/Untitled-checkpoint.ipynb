{
 "cells": [
  {
   "cell_type": "code",
   "execution_count": null,
   "id": "fc32a5b0",
   "metadata": {},
   "outputs": [],
   "source": [
    "import os\n",
    "import matplotlib.pyplot as plt\n",
    "\n",
    "fig = plt.figure()\n",
    "rows = 1\n",
    "cols = 2\n",
    "\n",
    "img1 = cv2.imread('IMG01.jpg')\n",
    "img2 = cv2.imread('IMG03.jpg')\n",
    "\n",
    "ax1 = fig.add_subplot(rows, cols, 1)\n",
    "ax1.imshow(cv2.cvtColor(img1, cv2.COLOR_BGR2RGB))\n",
    "ax1.set_xlabel('(a)')\n",
    "ax1.set_xticks([]), ax1.set_yticks([])\n",
    " \n",
    "ax2 = fig.add_subplot(rows, cols, 2)\n",
    "ax2.imshow(cv2.cvtColor(img2, cv2.COLOR_BGR2RGB))\n",
    "ax2.set_xlabel('(b)')\n",
    "ax2.set_xticks([]), ax2.set_yticks([])\n",
    " \n",
    "plt.show()"
   ]
  }
 ],
 "metadata": {
  "kernelspec": {
   "display_name": "Python 3",
   "language": "python",
   "name": "python3"
  },
  "language_info": {
   "codemirror_mode": {
    "name": "ipython",
    "version": 3
   },
   "file_extension": ".py",
   "mimetype": "text/x-python",
   "name": "python",
   "nbconvert_exporter": "python",
   "pygments_lexer": "ipython3",
   "version": "3.6.13"
  }
 },
 "nbformat": 4,
 "nbformat_minor": 5
}
